{
 "cells": [
  {
   "cell_type": "code",
   "execution_count": 8,
   "metadata": {},
   "outputs": [],
   "source": [
    "from docking.chem import *\n",
    "from docking.rdock import rdock_virtualscreen\n",
    "from docking.gnina import gnina_flexdock\n",
    "import pandas as pd\n",
    "from tqdm import tqdm"
   ]
  },
  {
   "cell_type": "code",
   "execution_count": 17,
   "metadata": {},
   "outputs": [],
   "source": [
    "# method = 'flexgnina', 'rdock', 'ledock'\n",
    "method = 'ledock'\n",
    "task = 'esmfold_time_split' # 'apo_time_split','esmfold_time_split','holo_time_split'\n",
    "\n",
    "data_info = pd.read_csv(f'data/{task}.csv')\n",
    "\n",
    "complex_name = data_info['complex_name'].to_list()\n",
    "protein_path = data_info['protein_path'].to_list()\n",
    "crystal_path = data_info['crystal_path'].to_list()\n",
    "# protein_path = [item.replace('_apo_added.pdb','_apo.pdb') for item in protein_path]\n",
    "ligand_path = data_info['ligand_path'].to_list()\n",
    "save_paths = [item.replace('.sdf', f'_{method}.sdf') for item in ligand_path]\n",
    "\n",
    "\n",
    "dock_info = pd.DataFrame({'complex_name': complex_name, 'protein_path': protein_path, 'crystal_path': crystal_path,'ligand_path': ligand_path, 'save_path': save_paths})"
   ]
  },
  {
   "cell_type": "code",
   "execution_count": 20,
   "metadata": {},
   "outputs": [],
   "source": [
    "docked_summ_file = osp.join('./data/data_files/',f'{task}_{method}.csv')\n",
    "if not osp.exists(docked_summ_file):\n",
    "    dock_info.to_csv(docked_summ_file, index=False)\n",
    "dock_info = pd.read_csv(docked_summ_file)"
   ]
  },
  {
   "cell_type": "code",
   "execution_count": 8,
   "metadata": {},
   "outputs": [],
   "source": [
    "import timeout_decorator\n",
    "@timeout_decorator.timeout(60)\n",
    "def rdock_iteration(protein_path, ligand_path, save_path):\n",
    "    protein_mol2 = pdb2mol2(protein_path)\n",
    "    rdock_virtualscreen(protein_mol2, [ligand_path], ref_ligand=ligand_path, out_file=save_path)\n",
    "\n",
    "@timeout_decorator.timeout(900)\n",
    "def gnina_iteration(protein_path, ligand_path, save_path):\n",
    "    centroid = sdf2centroid(ligand_path)\n",
    "    gnina_flexdock(protein_path, ligand_path, centroid, out_file=save_path)\n",
    "\n",
    "from docking.ledock import lepro, ledock_config_generate, generate_ledock_file, docking_with_ledock, dok2sdf\n",
    "from docking.chem import rmfiles\n",
    "\n",
    "@timeout_decorator.timeout(60)\n",
    "def ledock_iteration(protein_path, ligand_path, save_path):\n",
    "    protein_pro = lepro(protein_path)\n",
    "    ligand_mol2 = sdf2mol2(ligand_path)\n",
    "    center = sdf2centroid(ligand_path)\n",
    "    ligand_list_file, docking_config = ledock_config_generate(protein_pro, ligand_mol2)\n",
    "    docking_config = generate_ledock_file(protein_pro, center, l_list=[ligand_mol2], l_list_outfile=ligand_list_file, out=docking_config)\n",
    "    dok_files = docking_with_ledock(docking_config)\n",
    "    dok_file = dok_files[0]\n",
    "    result_sdf = dok2sdf(dok_file, ligand_path, save_path)\n",
    "    rmfiles(*dok_files, docking_config, ligand_list_file, verbose=False) "
   ]
  },
  {
   "cell_type": "code",
   "execution_count": 9,
   "metadata": {},
   "outputs": [
    {
     "name": "stderr",
     "output_type": "stream",
     "text": [
      "  0%|          | 1/353 [00:12<1:11:25, 12.17s/it]"
     ]
    },
    {
     "name": "stdout",
     "output_type": "stream",
     "text": [
      "LeDock Docking finished\n",
      "Have been converted to mol2 file! /home/haotian/Molecule_Generation/Flexible-docking/data/esmfold_time_split/6mhd/6mhd_ligand.sdf\n"
     ]
    },
    {
     "name": "stderr",
     "output_type": "stream",
     "text": [
      "  1%|          | 2/353 [00:21<1:00:38, 10.37s/it]"
     ]
    },
    {
     "name": "stdout",
     "output_type": "stream",
     "text": [
      "LeDock Docking finished\n",
      "Have been converted to mol2 file! /home/haotian/Molecule_Generation/Flexible-docking/data/esmfold_time_split/6i63/6i63_ligand.sdf\n"
     ]
    },
    {
     "name": "stderr",
     "output_type": "stream",
     "text": [
      "  1%|          | 3/353 [00:26<45:41,  7.83s/it]  "
     ]
    },
    {
     "name": "stdout",
     "output_type": "stream",
     "text": [
      "LeDock Docking finished\n"
     ]
    },
    {
     "name": "stderr",
     "output_type": "stream",
     "text": [
      "RDKit ERROR: Violation occurred on line 60 in file /home/conda/feedstock_root/build_artifacts/rdkit_1614687251479/work/Code/GraphMol/Conformer.cpp\n",
      "RDKit ERROR: Failed Expression: dp_mol->getNumAtoms() == d_positions.size()\n",
      "RDKit ERROR: ****\n",
      "RDKit ERROR: \n",
      "RDKit ERROR: [11:13:31] \n",
      "RDKit ERROR: \n",
      "RDKit ERROR: ****\n",
      "RDKit ERROR: Pre-condition Violation\n",
      "RDKit ERROR: \n",
      "RDKit ERROR: Violation occurred on line 60 in file /home/conda/feedstock_root/build_artifacts/rdkit_1614687251479/work/Code/GraphMol/Conformer.cpp\n",
      "RDKit ERROR: Failed Expression: dp_mol->getNumAtoms() == d_positions.size()\n",
      "RDKit ERROR: ****\n",
      "RDKit ERROR: \n",
      "RDKit ERROR: [11:14:43] \n",
      "RDKit ERROR: \n",
      "RDKit ERROR: ****\n",
      "RDKit ERROR: Pre-condition Violation\n",
      "RDKit ERROR: \n",
      "RDKit ERROR: Violation occurred on line 60 in file /home/conda/feedstock_root/build_artifacts/rdkit_1614687251479/work/Code/GraphMol/Conformer.cpp\n",
      "RDKit ERROR: Failed Expression: dp_mol->getNumAtoms() == d_positions.size()\n",
      "RDKit ERROR: ****\n",
      "RDKit ERROR: \n",
      "RDKit ERROR: [11:14:49] \n",
      "RDKit ERROR: \n",
      "RDKit ERROR: ****\n",
      "RDKit ERROR: Pre-condition Violation\n",
      "RDKit ERROR: \n",
      "RDKit ERROR: Violation occurred on line 60 in file /home/conda/feedstock_root/build_artifacts/rdkit_1614687251479/work/Code/GraphMol/Conformer.cpp\n",
      "RDKit ERROR: Failed Expression: dp_mol->getNumAtoms() == d_positions.size()\n",
      "RDKit ERROR: ****\n",
      "RDKit ERROR: \n",
      "RDKit ERROR: [11:14:49] \n",
      "RDKit ERROR: \n",
      "RDKit ERROR: ****\n",
      "RDKit ERROR: Pre-condition Violation\n",
      "RDKit ERROR: \n",
      "RDKit ERROR: Violation occurred on line 60 in file /home/conda/feedstock_root/build_artifacts/rdkit_1614687251479/work/Code/GraphMol/Conformer.cpp\n",
      "RDKit ERROR: Failed Expression: dp_mol->getNumAtoms() == d_positions.size()\n",
      "RDKit ERROR: ****\n",
      "RDKit ERROR: \n",
      "RDKit ERROR: [11:14:49] \n",
      "RDKit ERROR: \n",
      "RDKit ERROR: ****\n",
      "RDKit ERROR: Pre-condition Violation\n",
      "RDKit ERROR: \n",
      "RDKit ERROR: Violation occurred on line 60 in file /home/conda/feedstock_root/build_artifacts/rdkit_1614687251479/work/Code/GraphMol/Conformer.cpp\n",
      "RDKit ERROR: Failed Expression: dp_mol->getNumAtoms() == d_positions.size()\n",
      "RDKit ERROR: ****\n",
      "RDKit ERROR: \n",
      "RDKit ERROR: [11:33:19] \n",
      "RDKit ERROR: \n",
      "RDKit ERROR: ****\n",
      "RDKit ERROR: Pre-condition Violation\n",
      "RDKit ERROR: \n",
      "RDKit ERROR: Violation occurred on line 60 in file /home/conda/feedstock_root/build_artifacts/rdkit_1614687251479/work/Code/GraphMol/Conformer.cpp\n",
      "RDKit ERROR: Failed Expression: dp_mol->getNumAtoms() == d_positions.size()\n",
      "RDKit ERROR: ****\n",
      "RDKit ERROR: \n",
      "RDKit ERROR: [11:33:19] \n",
      "RDKit ERROR: \n",
      "RDKit ERROR: ****\n",
      "RDKit ERROR: Pre-condition Violation\n",
      "RDKit ERROR: \n",
      "RDKit ERROR: Violation occurred on line 60 in file /home/conda/feedstock_root/build_artifacts/rdkit_1614687251479/work/Code/GraphMol/Conformer.cpp\n",
      "RDKit ERROR: Failed Expression: dp_mol->getNumAtoms() == d_positions.size()\n",
      "RDKit ERROR: ****\n",
      "RDKit ERROR: \n",
      "RDKit ERROR: [11:33:19] \n",
      "RDKit ERROR: \n",
      "RDKit ERROR: ****\n",
      "RDKit ERROR: Pre-condition Violation\n",
      "RDKit ERROR: \n",
      "RDKit ERROR: Violation occurred on line 60 in file /home/conda/feedstock_root/build_artifacts/rdkit_1614687251479/work/Code/GraphMol/Conformer.cpp\n",
      "RDKit ERROR: Failed Expression: dp_mol->getNumAtoms() == d_positions.size()\n",
      "RDKit ERROR: ****\n",
      "RDKit ERROR: \n",
      "RDKit ERROR: [11:33:19] \n",
      "RDKit ERROR: \n",
      "RDKit ERROR: ****\n",
      "RDKit ERROR: Pre-condition Violation\n",
      "RDKit ERROR: \n",
      "RDKit ERROR: Violation occurred on line 60 in file /home/conda/feedstock_root/build_artifacts/rdkit_1614687251479/work/Code/GraphMol/Conformer.cpp\n",
      "RDKit ERROR: Failed Expression: dp_mol->getNumAtoms() == d_positions.size()\n",
      "RDKit ERROR: ****\n",
      "RDKit ERROR: \n",
      "RDKit ERROR: [11:33:19] \n",
      "RDKit ERROR: \n",
      "RDKit ERROR: ****\n",
      "RDKit ERROR: Pre-condition Violation\n",
      "RDKit ERROR: \n",
      "RDKit ERROR: Violation occurred on line 60 in file /home/conda/feedstock_root/build_artifacts/rdkit_1614687251479/work/Code/GraphMol/Conformer.cpp\n",
      "RDKit ERROR: Failed Expression: dp_mol->getNumAtoms() == d_positions.size()\n",
      "RDKit ERROR: ****\n",
      "RDKit ERROR: \n",
      "RDKit ERROR: [11:33:19] \n",
      "RDKit ERROR: \n",
      "RDKit ERROR: ****\n",
      "RDKit ERROR: Pre-condition Violation\n",
      "RDKit ERROR: \n",
      "RDKit ERROR: Violation occurred on line 60 in file /home/conda/feedstock_root/build_artifacts/rdkit_1614687251479/work/Code/GraphMol/Conformer.cpp\n",
      "RDKit ERROR: Failed Expression: dp_mol->getNumAtoms() == d_positions.size()\n",
      "RDKit ERROR: ****\n",
      "RDKit ERROR: \n",
      "RDKit ERROR: [11:33:19] \n",
      "RDKit ERROR: \n",
      "RDKit ERROR: ****\n",
      "RDKit ERROR: Pre-condition Violation\n",
      "RDKit ERROR: \n",
      "RDKit ERROR: Violation occurred on line 60 in file /home/conda/feedstock_root/build_artifacts/rdkit_1614687251479/work/Code/GraphMol/Conformer.cpp\n",
      "RDKit ERROR: Failed Expression: dp_mol->getNumAtoms() == d_positions.size()\n",
      "RDKit ERROR: ****\n",
      "RDKit ERROR: \n",
      "RDKit ERROR: [11:33:19] \n",
      "RDKit ERROR: \n",
      "RDKit ERROR: ****\n",
      "RDKit ERROR: Pre-condition Violation\n",
      "RDKit ERROR: \n",
      "RDKit ERROR: Violation occurred on line 60 in file /home/conda/feedstock_root/build_artifacts/rdkit_1614687251479/work/Code/GraphMol/Conformer.cpp\n",
      "RDKit ERROR: Failed Expression: dp_mol->getNumAtoms() == d_positions.size()\n",
      "RDKit ERROR: ****\n",
      "RDKit ERROR: \n",
      "RDKit ERROR: [11:33:19] \n",
      "RDKit ERROR: \n",
      "RDKit ERROR: ****\n",
      "RDKit ERROR: Pre-condition Violation\n",
      "RDKit ERROR: \n",
      "RDKit ERROR: Violation occurred on line 60 in file /home/conda/feedstock_root/build_artifacts/rdkit_1614687251479/work/Code/GraphMol/Conformer.cpp\n",
      "RDKit ERROR: Failed Expression: dp_mol->getNumAtoms() == d_positions.size()\n",
      "RDKit ERROR: ****\n",
      "RDKit ERROR: \n",
      "RDKit ERROR: [11:33:41] \n",
      "RDKit ERROR: \n",
      "RDKit ERROR: ****\n",
      "RDKit ERROR: Pre-condition Violation\n",
      "RDKit ERROR: \n",
      "RDKit ERROR: Violation occurred on line 60 in file /home/conda/feedstock_root/build_artifacts/rdkit_1614687251479/work/Code/GraphMol/Conformer.cpp\n",
      "RDKit ERROR: Failed Expression: dp_mol->getNumAtoms() == d_positions.size()\n",
      "RDKit ERROR: ****\n",
      "RDKit ERROR: \n",
      "RDKit ERROR: [11:33:41] \n",
      "RDKit ERROR: \n",
      "RDKit ERROR: ****\n",
      "RDKit ERROR: Pre-condition Violation\n",
      "RDKit ERROR: \n",
      "RDKit ERROR: Violation occurred on line 60 in file /home/conda/feedstock_root/build_artifacts/rdkit_1614687251479/work/Code/GraphMol/Conformer.cpp\n",
      "RDKit ERROR: Failed Expression: dp_mol->getNumAtoms() == d_positions.size()\n",
      "RDKit ERROR: ****\n",
      "RDKit ERROR: \n",
      "RDKit ERROR: [11:33:41] \n",
      "RDKit ERROR: \n",
      "RDKit ERROR: ****\n",
      "RDKit ERROR: Pre-condition Violation\n",
      "RDKit ERROR: \n",
      "  1%|          | 4/353 [00:33<45:31,  7.83s/it]"
     ]
    },
    {
     "name": "stdout",
     "output_type": "stream",
     "text": [
      "LeDock Docking finished\n"
     ]
    },
    {
     "name": "stderr",
     "output_type": "stream",
     "text": [
      "pp\n",
      "Failed Expression: dp_mol->getNumAtoms() == d_positions.size()\n",
      "****\n",
      "\n",
      "[11:13:31] \n",
      "\n",
      "****\n",
      "Pre-condition Violation\n",
      "\n",
      "Violation occurred on line 60 in file /home/conda/feedstock_root/build_artifacts/rdkit_1614687251479/work/Code/GraphMol/Conformer.cpp\n",
      "Failed Expression: dp_mol->getNumAtoms() == d_positions.size()\n",
      "****\n",
      "\n",
      "[11:14:43] \n",
      "\n",
      "****\n",
      "Pre-condition Violation\n",
      "\n",
      "Violation occurred on line 60 in file /home/conda/feedstock_root/build_artifacts/rdkit_1614687251479/work/Code/GraphMol/Conformer.cpp\n",
      "Failed Expression: dp_mol->getNumAtoms() == d_positions.size()\n",
      "****\n",
      "\n",
      "[11:14:49] \n",
      "\n",
      "****\n",
      "Pre-condition Violation\n",
      "\n",
      "Violation occurred on line 60 in file /home/conda/feedstock_root/build_artifacts/rdkit_1614687251479/work/Code/GraphMol/Conformer.cpp\n",
      "Failed Expression: dp_mol->getNumAtoms() == d_positions.size()\n",
      "****\n",
      "\n",
      "[11:14:49] \n",
      "\n",
      "****\n",
      "Pre-condition Violation\n",
      "\n",
      "Violation occurred on line 60 in file /home/conda/feedstock_root/build_artifacts/rdkit_1614687251479/work/Code/GraphMol/Conformer.cpp\n",
      "Failed Expression: dp_mol->getNumAtoms() == d_positions.size()\n",
      "****\n",
      "\n",
      "[11:14:49] \n",
      "\n",
      "****\n",
      "Pre-condition Violation\n",
      "\n",
      "Violation occurred on line 60 in file /home/conda/feedstock_root/build_artifacts/rdkit_1614687251479/work/Code/GraphMol/Conformer.cpp\n",
      "Failed Expression: dp_mol->getNumAtoms() == d_positions.size()\n",
      "****\n",
      "\n",
      "[11:33:19] \n",
      "\n",
      "****\n",
      "Pre-condition Violation\n",
      "\n",
      "Violation occurred on line 60 in file /home/conda/feedstock_root/build_artifacts/rdkit_1614687251479/work/Code/GraphMol/Conformer.cpp\n",
      "Failed Expression: dp_mol->getNumAtoms() == d_positions.size()\n",
      "****\n",
      "\n",
      "[11:33:19] \n",
      "\n",
      "****\n",
      "Pre-condition Violation\n",
      "\n",
      "Violation occurred on line 60 in file /home/conda/feedstock_root/build_artifacts/rdkit_1614687251479/work/Code/GraphMol/Conformer.cpp\n",
      "Failed Expression: dp_mol->getNumAtoms() == d_positions.size()\n",
      "****\n",
      "\n",
      "[11:33:19] \n",
      "\n",
      "****\n",
      "Pre-condition Violation\n",
      "\n",
      "Violation occurred on line 60 in file /home/conda/feedstock_root/build_artifacts/rdkit_1614687251479/work/Code/GraphMol/Conformer.cpp\n",
      "Failed Expression: dp_mol->getNumAtoms() == d_positions.size()\n",
      "****\n",
      "\n",
      "[11:33:19] \n",
      "\n",
      "****\n",
      "Pre-condition Violation\n",
      "\n",
      "Violation occurred on line 60 in file /home/conda/feedstock_root/build_artifacts/rdkit_1614687251479/work/Code/GraphMol/Conformer.cpp\n",
      "Failed Expression: dp_mol->getNumAtoms() == d_positions.size()\n",
      "****\n",
      "\n",
      "[11:33:19] \n",
      "\n",
      "****\n",
      "Pre-condition Violation\n",
      "\n",
      "Violation occurred on line 60 in file /home/conda/feedstock_root/build_artifacts/rdkit_1614687251479/work/Code/GraphMol/Conformer.cpp\n",
      "Failed Expression: dp_mol->getNumAtoms() == d_positions.size()\n",
      "****\n",
      "\n",
      "[11:33:19] \n",
      "\n",
      "****\n",
      "Pre-condition Violation\n",
      "\n",
      "Violation occurred on line 60 in file /home/conda/feedstock_root/build_artifacts/rdkit_1614687251479/work/Code/GraphMol/Conformer.cpp\n",
      "Failed Expression: dp_mol->getNumAtoms() == d_positions.size()\n",
      "****\n",
      "\n",
      "[11:33:19] \n",
      "\n",
      "****\n",
      "Pre-condition Violation\n",
      "\n",
      "Violation occurred on line 60 in file /home/conda/feedstock_root/build_artifacts/rdkit_1614687251479/work/Code/GraphMol/Conformer.cpp\n",
      "Failed Expression: dp_mol->getNumAtoms() == d_positions.size()\n",
      "****\n",
      "\n",
      "[11:33:19] \n",
      "\n",
      "****\n",
      "Pre-condition Violation\n",
      "\n",
      "Violation occurred on line 60 in file /home/conda/feedstock_root/build_artifacts/rdkit_1614687251479/work/Code/GraphMol/Conformer.cpp\n",
      "Failed Expression: dp_mol->getNumAtoms() == d_positions.size()\n",
      "****\n",
      "\n",
      "[11:33:19] \n",
      "\n",
      "****\n",
      "Pre-condition Violation\n",
      "\n",
      "Violation occurred on line 60 in file /home/conda/feedstock_root/build_artifacts/rdkit_1614687251479/work/Code/GraphMol/Conformer.cpp\n",
      "Failed Expression: dp_mol->getNumAtoms() == d_positions.size()\n",
      "****\n",
      "\n",
      "[11:33:41] \n",
      "\n",
      "****\n",
      "Pre-condition Violation\n",
      "\n",
      "Violation occurred on line 60 in file /home/conda/feedstock_root/build_artifacts/rdkit_1614687251479/work/Code/GraphMol/Conformer.cpp\n",
      "Failed Expression: dp_mol->getNumAtoms() == d_positions.size()\n",
      "****\n",
      "\n",
      "[11:33:41] \n",
      "\n",
      "****\n",
      "Pre-condition Violation\n",
      "\n",
      "Violation occurred on line 60 in file /home/conda/feedstock_root/build_artifacts/rdkit_1614687251479/work/Code/GraphMol/Conformer.cpp\n",
      "Failed Expression: dp_mol->getNumAtoms() == d_positions.size()\n",
      "****\n",
      "\n",
      "[11:33:41] \n",
      "\n",
      "****\n",
      "Pre-condition Violation\n",
      "\n",
      "  1%|▏         | 5/353 [00:43<49:30,  8.54s/it]"
     ]
    },
    {
     "name": "stdout",
     "output_type": "stream",
     "text": [
      "LeDock Docking finished\n",
      "Have been converted to mol2 file! /home/haotian/Molecule_Generation/Flexible-docking/data/esmfold_time_split/6a73/6a73_ligand.sdf\n"
     ]
    },
    {
     "name": "stderr",
     "output_type": "stream",
     "text": [
      "  2%|▏         | 6/353 [00:57<59:35, 10.31s/it]"
     ]
    },
    {
     "name": "stdout",
     "output_type": "stream",
     "text": [
      "LeDock Docking finished\n",
      "Have been converted to mol2 file! /home/haotian/Molecule_Generation/Flexible-docking/data/esmfold_time_split/6i64/6i64_ligand.sdf\n"
     ]
    },
    {
     "name": "stderr",
     "output_type": "stream",
     "text": [
      "  2%|▏         | 7/353 [01:02<48:53,  8.48s/it]"
     ]
    },
    {
     "name": "stdout",
     "output_type": "stream",
     "text": [
      "LeDock Docking finished\n",
      "could not convert string to float: '-29.334-100.104'\n",
      "Have been converted to mol2 file! /home/haotian/Molecule_Generation/Flexible-docking/data/esmfold_time_split/6nrh/6nrh_ligand.sdf\n"
     ]
    },
    {
     "name": "stderr",
     "output_type": "stream",
     "text": [
      "  2%|▏         | 8/353 [01:14<55:02,  9.57s/it]"
     ]
    },
    {
     "name": "stdout",
     "output_type": "stream",
     "text": [
      "LeDock Docking finished\n",
      "Have been converted to mol2 file! /home/haotian/Molecule_Generation/Flexible-docking/data/esmfold_time_split/6uim/6uim_ligand.sdf\n"
     ]
    },
    {
     "name": "stderr",
     "output_type": "stream",
     "text": [
      "  3%|▎         | 9/353 [01:23<54:10,  9.45s/it]"
     ]
    },
    {
     "name": "stdout",
     "output_type": "stream",
     "text": [
      "LeDock Docking finished\n",
      "Have been converted to mol2 file! /home/haotian/Molecule_Generation/Flexible-docking/data/esmfold_time_split/6g24/6g24_ligand.sdf\n"
     ]
    },
    {
     "name": "stderr",
     "output_type": "stream",
     "text": [
      "  3%|▎         | 10/353 [01:29<48:08,  8.42s/it]"
     ]
    },
    {
     "name": "stdout",
     "output_type": "stream",
     "text": [
      "LeDock Docking finished\n",
      "Have been converted to mol2 file! /home/haotian/Molecule_Generation/Flexible-docking/data/esmfold_time_split/6i8m/6i8m_ligand.sdf\n"
     ]
    },
    {
     "name": "stderr",
     "output_type": "stream",
     "text": [
      "  3%|▎         | 11/353 [01:38<49:15,  8.64s/it]"
     ]
    },
    {
     "name": "stdout",
     "output_type": "stream",
     "text": [
      "LeDock Docking finished\n",
      "Have been converted to mol2 file! /home/haotian/Molecule_Generation/Flexible-docking/data/esmfold_time_split/6izq/6izq_ligand.sdf\n"
     ]
    },
    {
     "name": "stderr",
     "output_type": "stream",
     "text": [
      "  3%|▎         | 12/353 [01:46<47:11,  8.30s/it]"
     ]
    },
    {
     "name": "stdout",
     "output_type": "stream",
     "text": [
      "LeDock Docking finished\n",
      "Have been converted to mol2 file! /home/haotian/Molecule_Generation/Flexible-docking/data/esmfold_time_split/6jse/6jse_ligand.sdf\n"
     ]
    },
    {
     "name": "stderr",
     "output_type": "stream",
     "text": [
      "  4%|▎         | 13/353 [01:57<52:30,  9.27s/it]"
     ]
    },
    {
     "name": "stdout",
     "output_type": "stream",
     "text": [
      "LeDock Docking finished\n",
      "Have been converted to mol2 file! /home/haotian/Molecule_Generation/Flexible-docking/data/esmfold_time_split/6ffe/6ffe_ligand.sdf\n"
     ]
    },
    {
     "name": "stderr",
     "output_type": "stream",
     "text": [
      "  4%|▍         | 14/353 [02:05<49:34,  8.77s/it]"
     ]
    },
    {
     "name": "stdout",
     "output_type": "stream",
     "text": [
      "LeDock Docking finished\n"
     ]
    },
    {
     "name": "stderr",
     "output_type": "stream",
     "text": [
      "  4%|▍         | 15/353 [02:12<47:34,  8.45s/it]"
     ]
    },
    {
     "name": "stdout",
     "output_type": "stream",
     "text": [
      "LeDock Docking finished\n",
      "Have been converted to mol2 file! /home/haotian/Molecule_Generation/Flexible-docking/data/esmfold_time_split/6n93/6n93_ligand.sdf\n"
     ]
    },
    {
     "name": "stderr",
     "output_type": "stream",
     "text": [
      "  5%|▍         | 16/353 [02:41<1:20:49, 14.39s/it]"
     ]
    },
    {
     "name": "stdout",
     "output_type": "stream",
     "text": [
      "LeDock Docking finished\n",
      "Have been converted to mol2 file! /home/haotian/Molecule_Generation/Flexible-docking/data/esmfold_time_split/6n9l/6n9l_ligand.sdf\n"
     ]
    },
    {
     "name": "stderr",
     "output_type": "stream",
     "text": [
      "  5%|▍         | 17/353 [02:53<1:16:34, 13.68s/it]"
     ]
    },
    {
     "name": "stdout",
     "output_type": "stream",
     "text": [
      "LeDock Docking finished\n",
      "Have been converted to mol2 file! /home/haotian/Molecule_Generation/Flexible-docking/data/esmfold_time_split/6qgf/6qgf_ligand.sdf\n"
     ]
    },
    {
     "name": "stderr",
     "output_type": "stream",
     "text": [
      "  5%|▌         | 18/353 [03:09<1:21:16, 14.56s/it]"
     ]
    },
    {
     "name": "stdout",
     "output_type": "stream",
     "text": [
      "LeDock Docking finished\n"
     ]
    },
    {
     "name": "stderr",
     "output_type": "stream",
     "text": [
      "  5%|▌         | 19/353 [03:18<1:11:59, 12.93s/it]"
     ]
    },
    {
     "name": "stdout",
     "output_type": "stream",
     "text": [
      "LeDock Docking finished\n",
      "Have been converted to mol2 file! /home/haotian/Molecule_Generation/Flexible-docking/data/esmfold_time_split/6jam/6jam_ligand.sdf\n"
     ]
    },
    {
     "name": "stderr",
     "output_type": "stream",
     "text": [
      "  6%|▌         | 20/353 [03:26<1:03:31, 11.45s/it]"
     ]
    },
    {
     "name": "stdout",
     "output_type": "stream",
     "text": [
      "LeDock Docking finished\n",
      "Have been converted to mol2 file! /home/haotian/Molecule_Generation/Flexible-docking/data/esmfold_time_split/6te6/6te6_ligand.sdf\n"
     ]
    },
    {
     "name": "stderr",
     "output_type": "stream",
     "text": [
      "  6%|▌         | 21/353 [03:38<1:03:33, 11.49s/it]"
     ]
    },
    {
     "name": "stdout",
     "output_type": "stream",
     "text": [
      "LeDock Docking finished\n"
     ]
    },
    {
     "name": "stderr",
     "output_type": "stream",
     "text": [
      "RDKit ERROR: Violation occurred on line 60 in file /home/conda/feedstock_root/build_artifacts/rdkit_1614687251479/work/Code/GraphMol/Conformer.cpp\n",
      "RDKit ERROR: Failed Expression: dp_mol->getNumAtoms() == d_positions.size()\n",
      "RDKit ERROR: ****\n",
      "RDKit ERROR: \n",
      "RDKit ERROR: [11:33:50] \n",
      "RDKit ERROR: \n",
      "RDKit ERROR: ****\n",
      "RDKit ERROR: Pre-condition Violation\n",
      "RDKit ERROR: \n",
      "RDKit ERROR: Violation occurred on line 60 in file /home/conda/feedstock_root/build_artifacts/rdkit_1614687251479/work/Code/GraphMol/Conformer.cpp\n",
      "RDKit ERROR: Failed Expression: dp_mol->getNumAtoms() == d_positions.size()\n",
      "RDKit ERROR: ****\n",
      "RDKit ERROR: \n",
      "RDKit ERROR: [11:33:50] \n",
      "RDKit ERROR: \n",
      "RDKit ERROR: ****\n",
      "RDKit ERROR: Pre-condition Violation\n",
      "RDKit ERROR: \n",
      "RDKit ERROR: Violation occurred on line 60 in file /home/conda/feedstock_root/build_artifacts/rdkit_1614687251479/work/Code/GraphMol/Conformer.cpp\n",
      "RDKit ERROR: Failed Expression: dp_mol->getNumAtoms() == d_positions.size()\n",
      "RDKit ERROR: ****\n",
      "RDKit ERROR: \n",
      "RDKit ERROR: [11:33:50] \n",
      "RDKit ERROR: \n",
      "RDKit ERROR: ****\n",
      "RDKit ERROR: Pre-condition Violation\n",
      "RDKit ERROR: \n",
      "RDKit ERROR: Violation occurred on line 60 in file /home/conda/feedstock_root/build_artifacts/rdkit_1614687251479/work/Code/GraphMol/Conformer.cpp\n",
      "RDKit ERROR: Failed Expression: dp_mol->getNumAtoms() == d_positions.size()\n",
      "RDKit ERROR: ****\n",
      "RDKit ERROR: \n",
      "RDKit ERROR: [11:33:50] \n",
      "RDKit ERROR: \n",
      "RDKit ERROR: ****\n",
      "RDKit ERROR: Pre-condition Violation\n",
      "RDKit ERROR: \n",
      "RDKit ERROR: Violation occurred on line 60 in file /home/conda/feedstock_root/build_artifacts/rdkit_1614687251479/work/Code/GraphMol/Conformer.cpp\n",
      "RDKit ERROR: Failed Expression: dp_mol->getNumAtoms() == d_positions.size()\n",
      "RDKit ERROR: ****\n",
      "RDKit ERROR: \n",
      "RDKit ERROR: [11:33:50] \n",
      "RDKit ERROR: \n",
      "RDKit ERROR: ****\n",
      "RDKit ERROR: Pre-condition Violation\n",
      "RDKit ERROR: \n",
      "RDKit ERROR: Violation occurred on line 60 in file /home/conda/feedstock_root/build_artifacts/rdkit_1614687251479/work/Code/GraphMol/Conformer.cpp\n",
      "RDKit ERROR: Failed Expression: dp_mol->getNumAtoms() == d_positions.size()\n",
      "RDKit ERROR: ****\n",
      "RDKit ERROR: \n",
      "RDKit ERROR: [11:33:50] \n",
      "RDKit ERROR: \n",
      "RDKit ERROR: ****\n",
      "RDKit ERROR: Pre-condition Violation\n",
      "RDKit ERROR: \n",
      "RDKit ERROR: Violation occurred on line 60 in file /home/conda/feedstock_root/build_artifacts/rdkit_1614687251479/work/Code/GraphMol/Conformer.cpp\n",
      "RDKit ERROR: Failed Expression: dp_mol->getNumAtoms() == d_positions.size()\n",
      "RDKit ERROR: ****\n",
      "RDKit ERROR: \n",
      "RDKit ERROR: [11:33:50] \n",
      "RDKit ERROR: \n",
      "RDKit ERROR: ****\n",
      "RDKit ERROR: Pre-condition Violation\n",
      "RDKit ERROR: \n",
      "RDKit ERROR: Violation occurred on line 60 in file /home/conda/feedstock_root/build_artifacts/rdkit_1614687251479/work/Code/GraphMol/Conformer.cpp\n",
      "RDKit ERROR: Failed Expression: dp_mol->getNumAtoms() == d_positions.size()\n",
      "RDKit ERROR: ****\n",
      "RDKit ERROR: \n",
      "RDKit ERROR: [11:33:50] \n",
      "RDKit ERROR: \n",
      "RDKit ERROR: ****\n",
      "RDKit ERROR: Pre-condition Violation\n",
      "RDKit ERROR: \n",
      "RDKit ERROR: Violation occurred on line 60 in file /home/conda/feedstock_root/build_artifacts/rdkit_1614687251479/work/Code/GraphMol/Conformer.cpp\n",
      "RDKit ERROR: Failed Expression: dp_mol->getNumAtoms() == d_positions.size()\n",
      "RDKit ERROR: ****\n",
      "RDKit ERROR: \n",
      "RDKit ERROR: [11:35:19] \n",
      "RDKit ERROR: \n",
      "RDKit ERROR: ****\n",
      "RDKit ERROR: Pre-condition Violation\n",
      "RDKit ERROR: \n",
      "RDKit ERROR: Violation occurred on line 60 in file /home/conda/feedstock_root/build_artifacts/rdkit_1614687251479/work/Code/GraphMol/Conformer.cpp\n",
      "RDKit ERROR: Failed Expression: dp_mol->getNumAtoms() == d_positions.size()\n",
      "RDKit ERROR: ****\n",
      "RDKit ERROR: \n",
      "RDKit ERROR: [11:35:19] \n",
      "RDKit ERROR: \n",
      "RDKit ERROR: ****\n",
      "RDKit ERROR: Pre-condition Violation\n",
      "RDKit ERROR: \n",
      "RDKit ERROR: Violation occurred on line 60 in file /home/conda/feedstock_root/build_artifacts/rdkit_1614687251479/work/Code/GraphMol/Conformer.cpp\n",
      "RDKit ERROR: Failed Expression: dp_mol->getNumAtoms() == d_positions.size()\n",
      "RDKit ERROR: ****\n",
      "RDKit ERROR: \n",
      "RDKit ERROR: [11:35:19] \n",
      "RDKit ERROR: \n",
      "RDKit ERROR: ****\n",
      "RDKit ERROR: Pre-condition Violation\n",
      "RDKit ERROR: \n",
      "RDKit ERROR: Violation occurred on line 60 in file /home/conda/feedstock_root/build_artifacts/rdkit_1614687251479/work/Code/GraphMol/Conformer.cpp\n",
      "RDKit ERROR: Failed Expression: dp_mol->getNumAtoms() == d_positions.size()\n",
      "RDKit ERROR: ****\n",
      "RDKit ERROR: \n",
      "RDKit ERROR: [11:35:19] \n",
      "RDKit ERROR: \n",
      "RDKit ERROR: ****\n",
      "RDKit ERROR: Pre-condition Violation\n",
      "RDKit ERROR: \n",
      "RDKit ERROR: Violation occurred on line 60 in file /home/conda/feedstock_root/build_artifacts/rdkit_1614687251479/work/Code/GraphMol/Conformer.cpp\n",
      "RDKit ERROR: Failed Expression: dp_mol->getNumAtoms() == d_positions.size()\n",
      "RDKit ERROR: ****\n",
      "RDKit ERROR: \n",
      "RDKit ERROR: [11:35:19] \n",
      "RDKit ERROR: \n",
      "RDKit ERROR: ****\n",
      "RDKit ERROR: Pre-condition Violation\n",
      "RDKit ERROR: \n",
      "RDKit ERROR: Violation occurred on line 60 in file /home/conda/feedstock_root/build_artifacts/rdkit_1614687251479/work/Code/GraphMol/Conformer.cpp\n",
      "RDKit ERROR: Failed Expression: dp_mol->getNumAtoms() == d_positions.size()\n",
      "RDKit ERROR: ****\n",
      "RDKit ERROR: \n",
      "RDKit ERROR: [11:35:19] \n",
      "RDKit ERROR: \n",
      "RDKit ERROR: ****\n",
      "RDKit ERROR: Pre-condition Violation\n",
      "RDKit ERROR: \n",
      "RDKit ERROR: Violation occurred on line 60 in file /home/conda/feedstock_root/build_artifacts/rdkit_1614687251479/work/Code/GraphMol/Conformer.cpp\n",
      "RDKit ERROR: Failed Expression: dp_mol->getNumAtoms() == d_positions.size()\n",
      "RDKit ERROR: ****\n",
      "RDKit ERROR: \n",
      "RDKit ERROR: [11:36:25] \n",
      "RDKit ERROR: \n",
      "RDKit ERROR: ****\n",
      "RDKit ERROR: Pre-condition Violation\n",
      "RDKit ERROR: \n",
      "RDKit ERROR: Violation occurred on line 60 in file /home/conda/feedstock_root/build_artifacts/rdkit_1614687251479/work/Code/GraphMol/Conformer.cpp\n",
      "RDKit ERROR: Failed Expression: dp_mol->getNumAtoms() == d_positions.size()\n",
      "RDKit ERROR: ****\n",
      "RDKit ERROR: \n",
      "RDKit ERROR: [11:36:54] \n",
      "RDKit ERROR: \n",
      "RDKit ERROR: ****\n",
      "RDKit ERROR: Pre-condition Violation\n",
      "RDKit ERROR: \n",
      "RDKit ERROR: Violation occurred on line 60 in file /home/conda/feedstock_root/build_artifacts/rdkit_1614687251479/work/Code/GraphMol/Conformer.cpp\n",
      "RDKit ERROR: Failed Expression: dp_mol->getNumAtoms() == d_positions.size()\n",
      "RDKit ERROR: ****\n",
      "RDKit ERROR: \n",
      "  6%|▌         | 22/353 [03:47<59:39, 10.81s/it]  onda/feedstock_root/build_artifacts/rdkit_1614687251479/work/Code/GraphMol/Conformer.cpp\n",
      "Failed Expression: dp_mol->getNumAtoms() == d_positions.size()\n",
      "****\n",
      "\n",
      "[11:33:50] \n",
      "\n",
      "****\n",
      "Pre-condition Violation\n",
      "\n",
      "Violation occurred on line 60 in file /home/conda/feedstock_root/build_artifacts/rdkit_1614687251479/work/Code/GraphMol/Conformer.cpp\n",
      "Failed Expression: dp_mol->getNumAtoms() == d_positions.size()\n",
      "****\n",
      "\n",
      "[11:33:50] \n",
      "\n",
      "****\n",
      "Pre-condition Violation\n",
      "\n",
      "Violation occurred on line 60 in file /home/conda/feedstock_root/build_artifacts/rdkit_1614687251479/work/Code/GraphMol/Conformer.cpp\n",
      "Failed Expression: dp_mol->getNumAtoms() == d_positions.size()\n",
      "****\n",
      "\n",
      "[11:33:50] \n",
      "\n",
      "****\n",
      "Pre-condition Violation\n",
      "\n",
      "Violation occurred on line 60 in file /home/conda/feedstock_root/build_artifacts/rdkit_1614687251479/work/Code/GraphMol/Conformer.cpp\n",
      "Failed Expression: dp_mol->getNumAtoms() == d_positions.size()\n",
      "****\n",
      "\n",
      "[11:33:50] \n",
      "\n",
      "****\n",
      "Pre-condition Violation\n",
      "\n",
      "Violation occurred on line 60 in file /home/conda/feedstock_r"
     ]
    },
    {
     "name": "stdout",
     "output_type": "stream",
     "text": [
      "LeDock Docking finished\n",
      "Have been converted to mol2 file! /home/haotian/Molecule_Generation/Flexible-docking/data/esmfold_time_split/5zr3/5zr3_ligand.sdf\n"
     ]
    },
    {
     "name": "stderr",
     "output_type": "stream",
     "text": [
      "oot/build_artifacts/rdkit_1614687251479/work/Code/GraphMol/Conformer.cpp\n",
      "Failed Expression: dp_mol->getNumAtoms() == d_positions.size()\n",
      "****\n",
      "\n",
      "[11:33:50] \n",
      "\n",
      "****\n",
      "Pre-condition Violation\n",
      "\n",
      "Violation occurred on line 60 in file /home/conda/feedstock_root/build_artifacts/rdkit_1614687251479/work/Code/GraphMol/Conformer.cpp\n",
      "Failed Expression: dp_mol->getNumAtoms() == d_positions.size()\n",
      "****\n",
      "\n",
      "[11:33:50] \n",
      "\n",
      "****\n",
      "Pre-condition Violation\n",
      "\n",
      "Violation occurred on line 60 in file /home/conda/feedstock_root/build_artifacts/rdkit_1614687251479/work/Code/GraphMol/Conformer.cpp\n",
      "Failed Expression: dp_mol->getNumAtoms() == d_positions.size()\n",
      "****\n",
      "\n",
      "[11:33:50] \n",
      "\n",
      "****\n",
      "Pre-condition Violation\n",
      "\n",
      "Violation occurred on line 60 in file /home/conda/feedstock_root/build_artifacts/rdkit_1614687251479/work/Code/GraphMol/Conformer.cpp\n",
      "Failed Expression: dp_mol->getNumAtoms() == d_positions.size()\n",
      "****\n",
      "\n",
      "[11:33:50] \n",
      "\n",
      "****\n",
      "Pre-condition Violation\n",
      "\n",
      "Violation occurred on line 60 in file /home/conda/feedstock_root/build_artifacts/rdkit_1614687251479/work/Code/GraphMol/Conformer.cpp\n",
      "Failed Expression: dp_mol->getNumAtoms() == d_positions.size()\n",
      "****\n",
      "\n",
      "[11:35:19] \n",
      "\n",
      "****\n",
      "Pre-condition Violation\n",
      "\n",
      "Violation occurred on line 60 in file /home/conda/feedstock_root/build_artifacts/rdkit_1614687251479/work/Code/GraphMol/Conformer.cpp\n",
      "Failed Expression: dp_mol->getNumAtoms() == d_positions.size()\n",
      "****\n",
      "\n",
      "[11:35:19] \n",
      "\n",
      "****\n",
      "Pre-condition Violation\n",
      "\n",
      "Violation occurred on line 60 in file /home/conda/feedstock_root/build_artifacts/rdkit_1614687251479/work/Code/GraphMol/Conformer.cpp\n",
      "Failed Expression: dp_mol->getNumAtoms() == d_positions.size()\n",
      "****\n",
      "\n",
      "[11:35:19] \n",
      "\n",
      "****\n",
      "Pre-condition Violation\n",
      "\n",
      "Violation occurred on line 60 in file /home/conda/feedstock_root/build_artifacts/rdkit_1614687251479/work/Code/GraphMol/Conformer.cpp\n",
      "Failed Expression: dp_mol->getNumAtoms() == d_positions.size()\n",
      "****\n",
      "\n",
      "[11:35:19] \n",
      "\n",
      "****\n",
      "Pre-condition Violation\n",
      "\n",
      "Violation occurred on line 60 in file /home/conda/feedstock_root/build_artifacts/rdkit_1614687251479/work/Code/GraphMol/Conformer.cpp\n",
      "Failed Expression: dp_mol->getNumAtoms() == d_positions.size()\n",
      "****\n",
      "\n",
      "[11:35:19] \n",
      "\n",
      "****\n",
      "Pre-condition Violation\n",
      "\n",
      "Violation occurred on line 60 in file /home/conda/feedstock_root/build_artifacts/rdkit_1614687251479/work/Code/GraphMol/Conformer.cpp\n",
      "Failed Expression: dp_mol->getNumAtoms() == d_positions.size()\n",
      "****\n",
      "\n",
      "[11:35:19] \n",
      "\n",
      "****\n",
      "Pre-condition Violation\n",
      "\n",
      "Violation occurred on line 60 in file /home/conda/feedstock_root/build_artifacts/rdkit_1614687251479/work/Code/GraphMol/Conformer.cpp\n",
      "Failed Expression: dp_mol->getNumAtoms() == d_positions.size()\n",
      "****\n",
      "\n",
      "[11:36:25] \n",
      "\n",
      "****\n",
      "Pre-condition Violation\n",
      "\n",
      "Violation occurred on line 60 in file /home/conda/feedstock_root/build_artifacts/rdkit_1614687251479/work/Code/GraphMol/Conformer.cpp\n",
      "Failed Expression: dp_mol->getNumAtoms() == d_positions.size()\n",
      "****\n",
      "\n",
      "[11:36:54] \n",
      "\n",
      "****\n",
      "Pre-condition Violation\n",
      "\n",
      "Violation occurred on line 60 in file /home/conda/feedstock_root/build_artifacts/rdkit_1614687251479/work/Code/GraphMol/Conformer.cpp\n",
      "Failed Expression: dp_mol->getNumAtoms() == d_positions.size()\n",
      "****\n",
      "\n",
      "  7%|▋         | 23/353 [03:57<58:20, 10.61s/it]"
     ]
    },
    {
     "name": "stdout",
     "output_type": "stream",
     "text": [
      "LeDock Docking finished\n",
      "Have been converted to mol2 file! /home/haotian/Molecule_Generation/Flexible-docking/data/esmfold_time_split/6hza/6hza_ligand.sdf\n"
     ]
    },
    {
     "name": "stderr",
     "output_type": "stream",
     "text": [
      "  7%|▋         | 24/353 [04:27<1:29:32, 16.33s/it]"
     ]
    },
    {
     "name": "stdout",
     "output_type": "stream",
     "text": [
      "LeDock Docking finished\n",
      "Have been converted to mol2 file! /home/haotian/Molecule_Generation/Flexible-docking/data/esmfold_time_split/6oy0/6oy0_ligand.sdf\n"
     ]
    },
    {
     "name": "stderr",
     "output_type": "stream",
     "text": [
      "  7%|▋         | 25/353 [04:47<1:34:53, 17.36s/it]"
     ]
    },
    {
     "name": "stdout",
     "output_type": "stream",
     "text": [
      "LeDock Docking finished\n",
      "Have been converted to mol2 file! /home/haotian/Molecule_Generation/Flexible-docking/data/esmfold_time_split/6j06/6j06_ligand.sdf\n"
     ]
    },
    {
     "name": "stderr",
     "output_type": "stream",
     "text": [
      "  7%|▋         | 26/353 [04:57<1:22:43, 15.18s/it]"
     ]
    },
    {
     "name": "stdout",
     "output_type": "stream",
     "text": [
      "LeDock Docking finished\n",
      "Have been converted to mol2 file! /home/haotian/Molecule_Generation/Flexible-docking/data/esmfold_time_split/6uii/6uii_ligand.sdf\n"
     ]
    },
    {
     "name": "stderr",
     "output_type": "stream",
     "text": [
      "  8%|▊         | 27/353 [05:05<1:10:23, 12.96s/it]"
     ]
    },
    {
     "name": "stdout",
     "output_type": "stream",
     "text": [
      "LeDock Docking finished\n"
     ]
    },
    {
     "name": "stderr",
     "output_type": "stream",
     "text": [
      "  8%|▊         | 28/353 [05:22<1:18:06, 14.42s/it]"
     ]
    },
    {
     "name": "stdout",
     "output_type": "stream",
     "text": [
      "LeDock Docking finished\n",
      "Have been converted to mol2 file! /home/haotian/Molecule_Generation/Flexible-docking/data/esmfold_time_split/6i75/6i75_ligand.sdf\n"
     ]
    },
    {
     "name": "stderr",
     "output_type": "stream",
     "text": [
      "  8%|▊         | 29/353 [05:35<1:14:10, 13.74s/it]"
     ]
    },
    {
     "name": "stdout",
     "output_type": "stream",
     "text": [
      "LeDock Docking finished\n",
      "Have been converted to mol2 file! /home/haotian/Molecule_Generation/Flexible-docking/data/esmfold_time_split/6mj4/6mj4_ligand.sdf\n"
     ]
    },
    {
     "name": "stderr",
     "output_type": "stream",
     "text": [
      "  8%|▊         | 30/353 [06:31<2:22:27, 26.46s/it]"
     ]
    },
    {
     "name": "stdout",
     "output_type": "stream",
     "text": [
      "LeDock Docking finished\n",
      "Have been converted to mol2 file! /home/haotian/Molecule_Generation/Flexible-docking/data/esmfold_time_split/6e3o/6e3o_ligand.sdf\n"
     ]
    },
    {
     "name": "stderr",
     "output_type": "stream",
     "text": [
      "  9%|▉         | 31/353 [06:38<1:51:09, 20.71s/it]"
     ]
    },
    {
     "name": "stdout",
     "output_type": "stream",
     "text": [
      "LeDock Docking finished\n",
      "Have been converted to mol2 file! /home/haotian/Molecule_Generation/Flexible-docking/data/esmfold_time_split/6ueg/6ueg_ligand.sdf\n"
     ]
    },
    {
     "name": "stderr",
     "output_type": "stream",
     "text": [
      "  9%|▉         | 32/353 [06:45<1:29:33, 16.74s/it]"
     ]
    },
    {
     "name": "stdout",
     "output_type": "stream",
     "text": [
      "LeDock Docking finished\n"
     ]
    },
    {
     "name": "stderr",
     "output_type": "stream",
     "text": [
      "RDKit ERROR: [11:36:54] \n",
      "RDKit ERROR: \n",
      "RDKit ERROR: ****\n",
      "RDKit ERROR: Pre-condition Violation\n",
      "RDKit ERROR: \n",
      "RDKit ERROR: Violation occurred on line 60 in file /home/conda/feedstock_root/build_artifacts/rdkit_1614687251479/work/Code/GraphMol/Conformer.cpp\n",
      "RDKit ERROR: Failed Expression: dp_mol->getNumAtoms() == d_positions.size()\n",
      "RDKit ERROR: ****\n",
      "RDKit ERROR: \n",
      "RDKit ERROR: [11:36:54] \n",
      "RDKit ERROR: \n",
      "RDKit ERROR: ****\n",
      "RDKit ERROR: Pre-condition Violation\n",
      "RDKit ERROR: \n",
      "RDKit ERROR: Violation occurred on line 60 in file /home/conda/feedstock_root/build_artifacts/rdkit_1614687251479/work/Code/GraphMol/Conformer.cpp\n",
      "RDKit ERROR: Failed Expression: dp_mol->getNumAtoms() == d_positions.size()\n",
      "RDKit ERROR: ****\n",
      "RDKit ERROR: \n",
      "RDKit ERROR: [11:36:54] \n",
      "RDKit ERROR: \n",
      "RDKit ERROR: ****\n",
      "RDKit ERROR: Pre-condition Violation\n",
      "RDKit ERROR: \n",
      "RDKit ERROR: Violation occurred on line 60 in file /home/conda/feedstock_root/build_artifacts/rdkit_1614687251479/work/Code/GraphMol/Conformer.cpp\n",
      "RDKit ERROR: Failed Expression: dp_mol->getNumAtoms() == d_positions.size()\n",
      "RDKit ERROR: ****\n",
      "RDKit ERROR: \n",
      "RDKit ERROR: [11:36:54] \n",
      "RDKit ERROR: \n",
      "RDKit ERROR: ****\n",
      "RDKit ERROR: Pre-condition Violation\n",
      "RDKit ERROR: \n",
      "RDKit ERROR: Violation occurred on line 60 in file /home/conda/feedstock_root/build_artifacts/rdkit_1614687251479/work/Code/GraphMol/Conformer.cpp\n",
      "RDKit ERROR: Failed Expression: dp_mol->getNumAtoms() == d_positions.size()\n",
      "RDKit ERROR: ****\n",
      "RDKit ERROR: \n",
      "RDKit ERROR: [11:36:54] \n",
      "RDKit ERROR: \n",
      "RDKit ERROR: ****\n",
      "RDKit ERROR: Pre-condition Violation\n",
      "RDKit ERROR: \n",
      "RDKit ERROR: Violation occurred on line 60 in file /home/conda/feedstock_root/build_artifacts/rdkit_1614687251479/work/Code/GraphMol/Conformer.cpp\n",
      "RDKit ERROR: Failed Expression: dp_mol->getNumAtoms() == d_positions.size()\n",
      "RDKit ERROR: ****\n",
      "RDKit ERROR: \n",
      "RDKit ERROR: [11:38:29] \n",
      "RDKit ERROR: \n",
      "RDKit ERROR: ****\n",
      "RDKit ERROR: Pre-condition Violation\n",
      "RDKit ERROR: \n",
      "RDKit ERROR: Violation occurred on line 60 in file /home/conda/feedstock_root/build_artifacts/rdkit_1614687251479/work/Code/GraphMol/Conformer.cpp\n",
      "RDKit ERROR: Failed Expression: dp_mol->getNumAtoms() == d_positions.size()\n",
      "RDKit ERROR: ****\n",
      "RDKit ERROR: \n",
      "RDKit ERROR: [11:38:29] \n",
      "RDKit ERROR: \n",
      "RDKit ERROR: ****\n",
      "RDKit ERROR: Pre-condition Violation\n",
      "RDKit ERROR: \n",
      "RDKit ERROR: Violation occurred on line 60 in file /home/conda/feedstock_root/build_artifacts/rdkit_1614687251479/work/Code/GraphMol/Conformer.cpp\n",
      "RDKit ERROR: Failed Expression: dp_mol->getNumAtoms() == d_positions.size()\n",
      "RDKit ERROR: ****\n",
      "RDKit ERROR: \n",
      "RDKit ERROR: [11:38:29] \n",
      "RDKit ERROR: \n",
      "RDKit ERROR: ****\n",
      "RDKit ERROR: Pre-condition Violation\n",
      "RDKit ERROR: \n",
      "RDKit ERROR: Violation occurred on line 60 in file /home/conda/feedstock_root/build_artifacts/rdkit_1614687251479/work/Code/GraphMol/Conformer.cpp\n",
      "RDKit ERROR: Failed Expression: dp_mol->getNumAtoms() == d_positions.size()\n",
      "RDKit ERROR: ****\n",
      "RDKit ERROR: \n",
      "RDKit ERROR: [11:38:29] \n",
      "RDKit ERROR: \n",
      "RDKit ERROR: ****\n",
      "RDKit ERROR: Pre-condition Violation\n",
      "RDKit ERROR: \n",
      "RDKit ERROR: Violation occurred on line 60 in file /home/conda/feedstock_root/build_artifacts/rdkit_1614687251479/work/Code/GraphMol/Conformer.cpp\n",
      "RDKit ERROR: Failed Expression: dp_mol->getNumAtoms() == d_positions.size()\n",
      "RDKit ERROR: ****\n",
      "RDKit ERROR: \n",
      "RDKit ERROR: [11:38:29] \n",
      "RDKit ERROR: \n",
      "RDKit ERROR: ****\n",
      "RDKit ERROR: Pre-condition Violation\n",
      "RDKit ERROR: \n",
      "RDKit ERROR: Violation occurred on line 60 in file /home/conda/feedstock_root/build_artifacts/rdkit_1614687251479/work/Code/GraphMol/Conformer.cpp\n",
      "RDKit ERROR: Failed Expression: dp_mol->getNumAtoms() == d_positions.size()\n",
      "RDKit ERROR: ****\n",
      "RDKit ERROR: \n",
      "RDKit ERROR: [11:38:29] \n",
      "RDKit ERROR: \n",
      "RDKit ERROR: ****\n",
      "RDKit ERROR: Pre-condition Violation\n",
      "RDKit ERROR: \n",
      "RDKit ERROR: Violation occurred on line 60 in file /home/conda/feedstock_root/build_artifacts/rdkit_1614687251479/work/Code/GraphMol/Conformer.cpp\n",
      "RDKit ERROR: Failed Expression: dp_mol->getNumAtoms() == d_positions.size()\n",
      "RDKit ERROR: ****\n",
      "RDKit ERROR: \n",
      "RDKit ERROR: [11:38:29] \n",
      "RDKit ERROR: \n",
      "RDKit ERROR: ****\n",
      "RDKit ERROR: Pre-condition Violation\n",
      "RDKit ERROR: \n",
      "RDKit ERROR: Violation occurred on line 60 in file /home/conda/feedstock_root/build_artifacts/rdkit_1614687251479/work/Code/GraphMol/Conformer.cpp\n",
      "RDKit ERROR: Failed Expression: dp_mol->getNumAtoms() == d_positions.size()\n",
      "RDKit ERROR: ****\n",
      "RDKit ERROR: \n",
      "RDKit ERROR: [11:38:29] \n",
      "RDKit ERROR: \n",
      "RDKit ERROR: ****\n",
      "RDKit ERROR: Pre-condition Violation\n",
      "RDKit ERROR: \n",
      "RDKit ERROR: Violation occurred on line 60 in file /home/conda/feedstock_root/build_artifacts/rdkit_1614687251479/work/Code/GraphMol/Conformer.cpp\n",
      "RDKit ERROR: Failed Expression: dp_mol->getNumAtoms() == d_positions.size()\n",
      "RDKit ERROR: ****\n",
      "RDKit ERROR: \n",
      "RDKit ERROR: [11:38:29] \n",
      "RDKit ERROR: \n",
      "RDKit ERROR: ****\n",
      "RDKit ERROR: Pre-condition Violation\n",
      "RDKit ERROR: \n",
      "RDKit ERROR: Violation occurred on line 60 in file /home/conda/feedstock_root/build_artifacts/rdkit_1614687251479/work/Code/GraphMol/Conformer.cpp\n",
      "RDKit ERROR: Failed Expression: dp_mol->getNumAtoms() == d_positions.size()\n",
      "RDKit ERROR: ****\n",
      "RDKit ERROR: \n",
      "RDKit ERROR: [11:38:29] \n",
      "RDKit ERROR: \n",
      "RDKit ERROR: ****\n",
      "RDKit ERROR: Pre-condition Violation\n",
      "RDKit ERROR: \n",
      "RDKit ERROR: Violation occurred on line 60 in file /home/conda/feedstock_root/build_artifacts/rdkit_1614687251479/work/Code/GraphMol/Conformer.cpp\n",
      "RDKit ERROR: Failed Expression: dp_mol->getNumAtoms() == d_positions.size()\n",
      "RDKit ERROR: ****\n",
      "RDKit ERROR: \n",
      "RDKit ERROR: [11:40:01] \n",
      "RDKit ERROR: \n",
      "RDKit ERROR: ****\n",
      "RDKit ERROR: Pre-condition Violation\n",
      "RDKit ERROR: \n",
      "RDKit ERROR: Violation occurred on line 60 in file /home/conda/feedstock_root/build_artifacts/rdkit_1614687251479/work/Code/GraphMol/Conformer.cpp\n",
      "RDKit ERROR: Failed Expression: dp_mol->getNumAtoms() == d_positions.size()\n",
      "RDKit ERROR: ****\n",
      "RDKit ERROR: \n",
      "RDKit ERROR: [11:40:01] \n",
      "RDKit ERROR: \n",
      "RDKit ERROR: ****\n",
      "RDKit ERROR: Pre-condition Violation\n",
      "RDKit ERROR: \n",
      "  9%|▉         | 33/353 [06:54<1:16:32, 14.35s/it]1:36:54] \n",
      "\n",
      "****\n",
      "Pre-condition Violation\n",
      "\n",
      "Violation occurred on line 60 in file /home/conda/feedstock_root/build_artifacts/rdkit_1614687251479/work/Code/GraphMol/Conformer.cpp\n",
      "Failed Expression: dp_mol->getNumAtoms() == d_positions.size()\n",
      "****\n",
      "\n",
      "[11:36:54] \n",
      "\n",
      "****\n",
      "Pre-condition Violation\n",
      "\n",
      "Violation occurred on line 60 in file /home/conda/feedstock_root/build_artifacts/rdkit_1614687251479/work/Code/GraphMol/Conformer.cpp\n",
      "Failed Expression: dp_mol->getNumAtoms() == d_positions.size()\n",
      "****\n",
      "\n",
      "[11:36:54] \n",
      "\n",
      "****\n",
      "Pre-condition Violation\n",
      "\n",
      "Violation occurred on line 60 in file /home/conda/feedstock_root/build_artifacts/rdkit_1614687251479/work/Code/GraphMol/Conformer.cpp\n",
      "Failed Expression: dp_mol->getNumAtoms() == d_positions.size()\n",
      "****\n",
      "\n",
      "[11:36:54] \n",
      "\n",
      "****\n",
      "Pre-condition Violation\n",
      "\n",
      "Violation occurred on line 60 in file /home/conda/feedstock_root/build_artifacts/rdkit_1614687251479/work/Code/GraphMol/Conformer.cpp\n",
      "Failed Expression: dp_mol->getNumAtoms() == d_positions.size()\n",
      "****\n",
      "\n",
      "[11:36:54] \n",
      "\n",
      "****\n"
     ]
    },
    {
     "name": "stdout",
     "output_type": "stream",
     "text": [
      "LeDock Docking finished\n",
      "Have been converted to mol2 file! /home/haotian/Molecule_Generation/Flexible-docking/data/esmfold_time_split/6npm/6npm_ligand.sdf\n"
     ]
    },
    {
     "name": "stderr",
     "output_type": "stream",
     "text": [
      "Pre-condition Violation\n",
      "\n",
      "Violation occurred on line 60 in file /home/conda/feedstock_root/build_artifacts/rdkit_1614687251479/work/Code/GraphMol/Conformer.cpp\n",
      "Failed Expression: dp_mol->getNumAtoms() == d_positions.size()\n",
      "****\n",
      "\n",
      "[11:38:29] \n",
      "\n",
      "****\n",
      "Pre-condition Violation\n",
      "\n",
      "Violation occurred on line 60 in file /home/conda/feedstock_root/build_artifacts/rdkit_1614687251479/work/Code/GraphMol/Conformer.cpp\n",
      "Failed Expression: dp_mol->getNumAtoms() == d_positions.size()\n",
      "****\n",
      "\n",
      "[11:38:29] \n",
      "\n",
      "****\n",
      "Pre-condition Violation\n",
      "\n",
      "Violation occurred on line 60 in file /home/conda/feedstock_root/build_artifacts/rdkit_1614687251479/work/Code/GraphMol/Conformer.cpp\n",
      "Failed Expression: dp_mol->getNumAtoms() == d_positions.size()\n",
      "****\n",
      "\n",
      "[11:38:29] \n",
      "\n",
      "****\n",
      "Pre-condition Violation\n",
      "\n",
      "Violation occurred on line 60 in file /home/conda/feedstock_root/build_artifacts/rdkit_1614687251479/work/Code/GraphMol/Conformer.cpp\n",
      "Failed Expression: dp_mol->getNumAtoms() == d_positions.size()\n",
      "****\n",
      "\n",
      "[11:38:29] \n",
      "\n",
      "****\n",
      "Pre-condition Violation\n",
      "\n",
      "Violation occurred on line 60 in file /home/conda/feedstock_root/build_artifacts/rdkit_1614687251479/work/Code/GraphMol/Conformer.cpp\n",
      "Failed Expression: dp_mol->getNumAtoms() == d_positions.size()\n",
      "****\n",
      "\n",
      "[11:38:29] \n",
      "\n",
      "****\n",
      "Pre-condition Violation\n",
      "\n",
      "Violation occurred on line 60 in file /home/conda/feedstock_root/build_artifacts/rdkit_1614687251479/work/Code/GraphMol/Conformer.cpp\n",
      "Failed Expression: dp_mol->getNumAtoms() == d_positions.size()\n",
      "****\n",
      "\n",
      "[11:38:29] \n",
      "\n",
      "****\n",
      "Pre-condition Violation\n",
      "\n",
      "Violation occurred on line 60 in file /home/conda/feedstock_root/build_artifacts/rdkit_1614687251479/work/Code/GraphMol/Conformer.cpp\n",
      "Failed Expression: dp_mol->getNumAtoms() == d_positions.size()\n",
      "****\n",
      "\n",
      "[11:38:29] \n",
      "\n",
      "****\n",
      "Pre-condition Violation\n",
      "\n",
      "Violation occurred on line 60 in file /home/conda/feedstock_root/build_artifacts/rdkit_1614687251479/work/Code/GraphMol/Conformer.cpp\n",
      "Failed Expression: dp_mol->getNumAtoms() == d_positions.size()\n",
      "****\n",
      "\n",
      "[11:38:29] \n",
      "\n",
      "****\n",
      "Pre-condition Violation\n",
      "\n",
      "Violation occurred on line 60 in file /home/conda/feedstock_root/build_artifacts/rdkit_1614687251479/work/Code/GraphMol/Conformer.cpp\n",
      "Failed Expression: dp_mol->getNumAtoms() == d_positions.size()\n",
      "****\n",
      "\n",
      "[11:38:29] \n",
      "\n",
      "****\n",
      "Pre-condition Violation\n",
      "\n",
      "Violation occurred on line 60 in file /home/conda/feedstock_root/build_artifacts/rdkit_1614687251479/work/Code/GraphMol/Conformer.cpp\n",
      "Failed Expression: dp_mol->getNumAtoms() == d_positions.size()\n",
      "****\n",
      "\n",
      "[11:38:29] \n",
      "\n",
      "****\n",
      "Pre-condition Violation\n",
      "\n",
      "Violation occurred on line 60 in file /home/conda/feedstock_root/build_artifacts/rdkit_1614687251479/work/Code/GraphMol/Conformer.cpp\n",
      "Failed Expression: dp_mol->getNumAtoms() == d_positions.size()\n",
      "****\n",
      "\n",
      "[11:40:01] \n",
      "\n",
      "****\n",
      "Pre-condition Violation\n",
      "\n",
      "Violation occurred on line 60 in file /home/conda/feedstock_root/build_artifacts/rdkit_1614687251479/work/Code/GraphMol/Conformer.cpp\n",
      "Failed Expression: dp_mol->getNumAtoms() == d_positions.size()\n",
      "****\n",
      "\n",
      "[11:40:01] \n",
      "\n",
      "****\n",
      "Pre-condition Violation\n",
      "\n",
      " 10%|▉         | 34/353 [07:00<1:03:09, 11.88s/it]feedstock_root/build_artifacts/rdkit_1614687251479/work/Code/GraphMol"
     ]
    },
    {
     "name": "stdout",
     "output_type": "stream",
     "text": [
      "LeDock Docking finished\n",
      "Have been converted to mol2 file! /home/haotian/Molecule_Generation/Flexible-docking/data/esmfold_time_split/6d3y/6d3y_ligand.sdf\n"
     ]
    },
    {
     "name": "stderr",
     "output_type": "stream",
     "text": [
      " 10%|▉         | 35/353 [07:40<1:47:43, 20.32s/it]"
     ]
    },
    {
     "name": "stdout",
     "output_type": "stream",
     "text": [
      "LeDock Docking finished\n",
      "Have been converted to mol2 file! /home/haotian/Molecule_Generation/Flexible-docking/data/esmfold_time_split/6i8t/6i8t_ligand.sdf\n"
     ]
    },
    {
     "name": "stderr",
     "output_type": "stream",
     "text": [
      " 10%|█         | 36/353 [07:50<1:30:03, 17.05s/it]"
     ]
    },
    {
     "name": "stdout",
     "output_type": "stream",
     "text": [
      "LeDock Docking finished\n",
      "Have been converted to mol2 file! /home/haotian/Molecule_Generation/Flexible-docking/data/esmfold_time_split/6uwp/6uwp_ligand.sdf\n"
     ]
    },
    {
     "name": "stderr",
     "output_type": "stream",
     "text": [
      " 10%|█         | 37/353 [08:00<1:18:18, 14.87s/it]"
     ]
    },
    {
     "name": "stdout",
     "output_type": "stream",
     "text": [
      "LeDock Docking finished\n",
      "Have been converted to mol2 file! /home/haotian/Molecule_Generation/Flexible-docking/data/esmfold_time_split/6g2e/6g2e_ligand.sdf\n"
     ]
    },
    {
     "name": "stderr",
     "output_type": "stream",
     "text": [
      " 11%|█         | 38/353 [08:07<1:06:37, 12.69s/it]"
     ]
    },
    {
     "name": "stdout",
     "output_type": "stream",
     "text": [
      "LeDock Docking finished\n",
      "Have been converted to mol2 file! /home/haotian/Molecule_Generation/Flexible-docking/data/esmfold_time_split/6qlt/6qlt_ligand.sdf\n"
     ]
    },
    {
     "name": "stderr",
     "output_type": "stream",
     "text": [
      " 11%|█         | 39/353 [08:17<1:02:36, 11.96s/it]"
     ]
    },
    {
     "name": "stdout",
     "output_type": "stream",
     "text": [
      "LeDock Docking finished\n",
      "Have been converted to mol2 file! /home/haotian/Molecule_Generation/Flexible-docking/data/esmfold_time_split/6pka/6pka_ligand.sdf\n"
     ]
    },
    {
     "name": "stderr",
     "output_type": "stream",
     "text": [
      " 11%|█▏        | 40/353 [08:36<1:12:40, 13.93s/it]"
     ]
    },
    {
     "name": "stdout",
     "output_type": "stream",
     "text": [
      "LeDock Docking finished\n",
      "Have been converted to mol2 file! /home/haotian/Molecule_Generation/Flexible-docking/data/esmfold_time_split/6hot/6hot_ligand.sdf\n"
     ]
    },
    {
     "name": "stderr",
     "output_type": "stream",
     "text": [
      " 12%|█▏        | 41/353 [08:42<59:27, 11.43s/it]  "
     ]
    },
    {
     "name": "stdout",
     "output_type": "stream",
     "text": [
      "LeDock Docking finished\n",
      "Have been converted to mol2 file! /home/haotian/Molecule_Generation/Flexible-docking/data/esmfold_time_split/6n4b/6n4b_ligand.sdf\n"
     ]
    },
    {
     "name": "stderr",
     "output_type": "stream",
     "text": [
      " 12%|█▏        | 42/353 [08:53<59:02, 11.39s/it]"
     ]
    },
    {
     "name": "stdout",
     "output_type": "stream",
     "text": [
      "LeDock Docking finished\n",
      "Have been converted to mol2 file! /home/haotian/Molecule_Generation/Flexible-docking/data/esmfold_time_split/6op0/6op0_ligand.sdf\n"
     ]
    },
    {
     "name": "stderr",
     "output_type": "stream",
     "text": [
      " 12%|█▏        | 43/353 [09:01<53:27, 10.35s/it]"
     ]
    },
    {
     "name": "stdout",
     "output_type": "stream",
     "text": [
      "LeDock Docking finished\n",
      "Have been converted to mol2 file! /home/haotian/Molecule_Generation/Flexible-docking/data/esmfold_time_split/6rpg/6rpg_ligand.sdf\n"
     ]
    },
    {
     "name": "stderr",
     "output_type": "stream",
     "text": [
      " 12%|█▏        | 44/353 [09:36<1:31:58, 17.86s/it]"
     ]
    },
    {
     "name": "stdout",
     "output_type": "stream",
     "text": [
      "LeDock Docking finished\n",
      "Have been converted to mol2 file! /home/haotian/Molecule_Generation/Flexible-docking/data/esmfold_time_split/6mji/6mji_ligand.sdf\n"
     ]
    },
    {
     "name": "stderr",
     "output_type": "stream",
     "text": [
      " 13%|█▎        | 45/353 [10:29<2:25:06, 28.27s/it]"
     ]
    },
    {
     "name": "stdout",
     "output_type": "stream",
     "text": [
      "LeDock Docking finished\n",
      "Have been converted to mol2 file! /home/haotian/Molecule_Generation/Flexible-docking/data/esmfold_time_split/6i61/6i61_ligand.sdf\n"
     ]
    },
    {
     "name": "stderr",
     "output_type": "stream",
     "text": [
      " 13%|█▎        | 46/353 [10:34<1:49:13, 21.35s/it]"
     ]
    },
    {
     "name": "stdout",
     "output_type": "stream",
     "text": [
      "LeDock Docking finished\n",
      "Have been converted to mol2 file! /home/haotian/Molecule_Generation/Flexible-docking/data/esmfold_time_split/6k1s/6k1s_ligand.sdf\n"
     ]
    },
    {
     "name": "stderr",
     "output_type": "stream",
     "text": [
      " 13%|█▎        | 47/353 [10:43<1:29:49, 17.61s/it]"
     ]
    },
    {
     "name": "stdout",
     "output_type": "stream",
     "text": [
      "LeDock Docking finished\n",
      "could not convert string to float: '-14.717-102.297'\n",
      "Have been converted to mol2 file! /home/haotian/Molecule_Generation/Flexible-docking/data/esmfold_time_split/6seo/6seo_ligand.sdf\n"
     ]
    },
    {
     "name": "stderr",
     "output_type": "stream",
     "text": [
      " 14%|█▎        | 48/353 [11:43<2:34:10, 30.33s/it]"
     ]
    },
    {
     "name": "stdout",
     "output_type": "stream",
     "text": [
      "timeout\n",
      "Have been converted to mol2 file! /home/haotian/Molecule_Generation/Flexible-docking/data/esmfold_time_split/6ny0/6ny0_ligand.sdf\n"
     ]
    },
    {
     "name": "stderr",
     "output_type": "stream",
     "text": [
      " 14%|█▍        | 49/353 [11:48<1:56:03, 22.91s/it]"
     ]
    },
    {
     "name": "stdout",
     "output_type": "stream",
     "text": [
      "LeDock Docking finished\n"
     ]
    },
    {
     "name": "stderr",
     "output_type": "stream",
     "text": [
      " 14%|█▍        | 50/353 [11:58<1:36:08, 19.04s/it]"
     ]
    },
    {
     "name": "stdout",
     "output_type": "stream",
     "text": [
      "LeDock Docking finished\n",
      "Have been converted to mol2 file! /home/haotian/Molecule_Generation/Flexible-docking/data/esmfold_time_split/6ott/6ott_ligand.sdf\n"
     ]
    },
    {
     "name": "stderr",
     "output_type": "stream",
     "text": [
      " 14%|█▍        | 51/353 [12:16<1:33:08, 18.50s/it]"
     ]
    },
    {
     "name": "stdout",
     "output_type": "stream",
     "text": [
      "LeDock Docking finished\n"
     ]
    },
    {
     "name": "stderr",
     "output_type": "stream",
     "text": [
      " 15%|█▍        | 52/353 [12:25<1:19:18, 15.81s/it]"
     ]
    },
    {
     "name": "stdout",
     "output_type": "stream",
     "text": [
      "LeDock Docking finished\n",
      "Have been converted to mol2 file! /home/haotian/Molecule_Generation/Flexible-docking/data/esmfold_time_split/6qlq/6qlq_ligand.sdf\n"
     ]
    },
    {
     "name": "stderr",
     "output_type": "stream",
     "text": [
      " 15%|█▌        | 53/353 [12:36<1:11:12, 14.24s/it]"
     ]
    },
    {
     "name": "stdout",
     "output_type": "stream",
     "text": [
      "LeDock Docking finished\n",
      "Have been converted to mol2 file! /home/haotian/Molecule_Generation/Flexible-docking/data/esmfold_time_split/6s56/6s56_ligand.sdf\n"
     ]
    },
    {
     "name": "stderr",
     "output_type": "stream",
     "text": [
      " 15%|█▌        | 54/353 [12:47<1:06:42, 13.38s/it]"
     ]
    },
    {
     "name": "stdout",
     "output_type": "stream",
     "text": [
      "LeDock Docking finished\n",
      "Have been converted to mol2 file! /home/haotian/Molecule_Generation/Flexible-docking/data/esmfold_time_split/6n55/6n55_ligand.sdf\n"
     ]
    },
    {
     "name": "stderr",
     "output_type": "stream",
     "text": [
      " 16%|█▌        | 55/353 [12:54<56:13, 11.32s/it]  "
     ]
    },
    {
     "name": "stdout",
     "output_type": "stream",
     "text": [
      "LeDock Docking finished\n",
      "Have been converted to mol2 file! /home/haotian/Molecule_Generation/Flexible-docking/data/esmfold_time_split/6pno/6pno_ligand.sdf\n"
     ]
    },
    {
     "name": "stderr",
     "output_type": "stream",
     "text": [
      " 16%|█▌        | 56/353 [13:01<50:05, 10.12s/it]"
     ]
    },
    {
     "name": "stdout",
     "output_type": "stream",
     "text": [
      "LeDock Docking finished\n",
      "Have been converted to mol2 file! /home/haotian/Molecule_Generation/Flexible-docking/data/esmfold_time_split/6qtm/6qtm_ligand.sdf\n"
     ]
    },
    {
     "name": "stderr",
     "output_type": "stream",
     "text": [
      " 16%|█▌        | 57/353 [13:50<1:46:53, 21.67s/it]"
     ]
    },
    {
     "name": "stdout",
     "output_type": "stream",
     "text": [
      "LeDock Docking finished\n",
      "Have been converted to mol2 file! /home/haotian/Molecule_Generation/Flexible-docking/data/esmfold_time_split/6ggb/6ggb_ligand.sdf\n"
     ]
    },
    {
     "name": "stderr",
     "output_type": "stream",
     "text": [
      " 16%|█▋        | 58/353 [13:56<1:24:26, 17.17s/it]"
     ]
    },
    {
     "name": "stdout",
     "output_type": "stream",
     "text": [
      "LeDock Docking finished\n",
      "Have been converted to mol2 file! /home/haotian/Molecule_Generation/Flexible-docking/data/esmfold_time_split/6h12/6h12_ligand.sdf\n"
     ]
    },
    {
     "name": "stderr",
     "output_type": "stream",
     "text": [
      " 17%|█▋        | 59/353 [14:19<1:32:36, 18.90s/it]"
     ]
    },
    {
     "name": "stdout",
     "output_type": "stream",
     "text": [
      "LeDock Docking finished\n",
      "Have been converted to mol2 file! /home/haotian/Molecule_Generation/Flexible-docking/data/esmfold_time_split/6hle/6hle_ligand.sdf\n"
     ]
    },
    {
     "name": "stderr",
     "output_type": "stream",
     "text": [
      " 17%|█▋        | 60/353 [14:47<1:45:30, 21.61s/it]"
     ]
    },
    {
     "name": "stdout",
     "output_type": "stream",
     "text": [
      "LeDock Docking finished\n",
      "Have been converted to mol2 file! /home/haotian/Molecule_Generation/Flexible-docking/data/esmfold_time_split/6hmy/6hmy_ligand.sdf\n"
     ]
    },
    {
     "name": "stderr",
     "output_type": "stream",
     "text": [
      " 17%|█▋        | 61/353 [15:26<2:10:44, 26.86s/it]"
     ]
    },
    {
     "name": "stdout",
     "output_type": "stream",
     "text": [
      "LeDock Docking finished\n",
      "Have been converted to mol2 file! /home/haotian/Molecule_Generation/Flexible-docking/data/esmfold_time_split/6ooz/6ooz_ligand.sdf\n"
     ]
    },
    {
     "name": "stderr",
     "output_type": "stream",
     "text": [
      " 18%|█▊        | 62/353 [15:33<1:41:00, 20.83s/it]"
     ]
    },
    {
     "name": "stdout",
     "output_type": "stream",
     "text": [
      "LeDock Docking finished\n",
      "Have been converted to mol2 file! /home/haotian/Molecule_Generation/Flexible-docking/data/esmfold_time_split/6jsn/6jsn_ligand.sdf\n"
     ]
    },
    {
     "name": "stderr",
     "output_type": "stream",
     "text": [
      " 18%|█▊        | 63/353 [15:44<1:26:31, 17.90s/it]"
     ]
    },
    {
     "name": "stdout",
     "output_type": "stream",
     "text": [
      "LeDock Docking finished\n",
      "Have been converted to mol2 file! /home/haotian/Molecule_Generation/Flexible-docking/data/esmfold_time_split/6oy2/6oy2_ligand.sdf\n"
     ]
    },
    {
     "name": "stderr",
     "output_type": "stream",
     "text": [
      " 18%|█▊        | 64/353 [16:04<1:29:31, 18.59s/it]"
     ]
    },
    {
     "name": "stdout",
     "output_type": "stream",
     "text": [
      "LeDock Docking finished\n",
      "Have been converted to mol2 file! /home/haotian/Molecule_Generation/Flexible-docking/data/esmfold_time_split/6n97/6n97_ligand.sdf\n"
     ]
    },
    {
     "name": "stderr",
     "output_type": "stream",
     "text": [
      " 18%|█▊        | 65/353 [16:41<1:55:08, 23.99s/it]"
     ]
    },
    {
     "name": "stdout",
     "output_type": "stream",
     "text": [
      "LeDock Docking finished\n"
     ]
    },
    {
     "name": "stderr",
     "output_type": "stream",
     "text": [
      "RDKit ERROR: Violation occurred on line 60 in file /home/conda/feedstock_root/build_artifacts/rdkit_1614687251479/work/Code/GraphMol/Conformer.cpp\n",
      "RDKit ERROR: Failed Expression: dp_mol->getNumAtoms() == d_positions.size()\n",
      "RDKit ERROR: ****\n",
      "RDKit ERROR: \n",
      "RDKit ERROR: [11:40:01] \n",
      "RDKit ERROR: \n",
      "RDKit ERROR: ****\n",
      "RDKit ERROR: Pre-condition Violation\n",
      "RDKit ERROR: \n",
      "RDKit ERROR: Violation occurred on line 60 in file /home/conda/feedstock_root/build_artifacts/rdkit_1614687251479/work/Code/GraphMol/Conformer.cpp\n",
      "RDKit ERROR: Failed Expression: dp_mol->getNumAtoms() == d_positions.size()\n",
      "RDKit ERROR: ****\n",
      "RDKit ERROR: \n",
      "RDKit ERROR: [11:40:01] \n",
      "RDKit ERROR: \n",
      "RDKit ERROR: ****\n",
      "RDKit ERROR: Pre-condition Violation\n",
      "RDKit ERROR: \n",
      "RDKit ERROR: Violation occurred on line 60 in file /home/conda/feedstock_root/build_artifacts/rdkit_1614687251479/work/Code/GraphMol/Conformer.cpp\n",
      "RDKit ERROR: Failed Expression: dp_mol->getNumAtoms() == d_positions.size()\n",
      "RDKit ERROR: ****\n",
      "RDKit ERROR: \n",
      "RDKit ERROR: [11:45:06] \n",
      "RDKit ERROR: \n",
      "RDKit ERROR: ****\n",
      "RDKit ERROR: Pre-condition Violation\n",
      "RDKit ERROR: \n",
      "RDKit ERROR: Violation occurred on line 60 in file /home/conda/feedstock_root/build_artifacts/rdkit_1614687251479/work/Code/GraphMol/Conformer.cpp\n",
      "RDKit ERROR: Failed Expression: dp_mol->getNumAtoms() == d_positions.size()\n",
      "RDKit ERROR: ****\n",
      "RDKit ERROR: \n",
      "RDKit ERROR: [11:45:06] \n",
      "RDKit ERROR: \n",
      "RDKit ERROR: ****\n",
      "RDKit ERROR: Pre-condition Violation\n",
      "RDKit ERROR: \n",
      "RDKit ERROR: Violation occurred on line 60 in file /home/conda/feedstock_root/build_artifacts/rdkit_1614687251479/work/Code/GraphMol/Conformer.cpp\n",
      "RDKit ERROR: Failed Expression: dp_mol->getNumAtoms() == d_positions.size()\n",
      "RDKit ERROR: ****\n",
      "RDKit ERROR: \n",
      "RDKit ERROR: [11:45:06] \n",
      "RDKit ERROR: \n",
      "RDKit ERROR: ****\n",
      "RDKit ERROR: Pre-condition Violation\n",
      "RDKit ERROR: \n",
      "RDKit ERROR: Violation occurred on line 60 in file /home/conda/feedstock_root/build_artifacts/rdkit_1614687251479/work/Code/GraphMol/Conformer.cpp\n",
      "RDKit ERROR: Failed Expression: dp_mol->getNumAtoms() == d_positions.size()\n",
      "RDKit ERROR: ****\n",
      "RDKit ERROR: \n",
      "RDKit ERROR: [11:45:06] \n",
      "RDKit ERROR: \n",
      "RDKit ERROR: ****\n",
      "RDKit ERROR: Pre-condition Violation\n",
      "RDKit ERROR: \n",
      "RDKit ERROR: Violation occurred on line 60 in file /home/conda/feedstock_root/build_artifacts/rdkit_1614687251479/work/Code/GraphMol/Conformer.cpp\n",
      "RDKit ERROR: Failed Expression: dp_mol->getNumAtoms() == d_positions.size()\n",
      "RDKit ERROR: ****\n",
      "RDKit ERROR: \n",
      "RDKit ERROR: [11:45:06] \n",
      "RDKit ERROR: \n",
      "RDKit ERROR: ****\n",
      "RDKit ERROR: Pre-condition Violation\n",
      "RDKit ERROR: \n",
      "RDKit ERROR: Violation occurred on line 60 in file /home/conda/feedstock_root/build_artifacts/rdkit_1614687251479/work/Code/GraphMol/Conformer.cpp\n",
      "RDKit ERROR: Failed Expression: dp_mol->getNumAtoms() == d_positions.size()\n",
      "RDKit ERROR: ****\n",
      "RDKit ERROR: \n",
      "RDKit ERROR: [11:45:32] \n",
      "RDKit ERROR: \n",
      "RDKit ERROR: ****\n",
      "RDKit ERROR: Pre-condition Violation\n",
      "RDKit ERROR: \n",
      "RDKit ERROR: Violation occurred on line 60 in file /home/conda/feedstock_root/build_artifacts/rdkit_1614687251479/work/Code/GraphMol/Conformer.cpp\n",
      "RDKit ERROR: Failed Expression: dp_mol->getNumAtoms() == d_positions.size()\n",
      "RDKit ERROR: ****\n",
      "RDKit ERROR: \n",
      "RDKit ERROR: [11:45:32] \n",
      "RDKit ERROR: \n",
      "RDKit ERROR: ****\n",
      "RDKit ERROR: Pre-condition Violation\n",
      "RDKit ERROR: \n",
      "RDKit ERROR: Violation occurred on line 60 in file /home/conda/feedstock_root/build_artifacts/rdkit_1614687251479/work/Code/GraphMol/Conformer.cpp\n",
      "RDKit ERROR: Failed Expression: dp_mol->getNumAtoms() == d_positions.size()\n",
      "RDKit ERROR: ****\n",
      "RDKit ERROR: \n",
      "RDKit ERROR: [11:45:32] \n",
      "RDKit ERROR: \n",
      "RDKit ERROR: ****\n",
      "RDKit ERROR: Pre-condition Violation\n",
      "RDKit ERROR: \n",
      "RDKit ERROR: Violation occurred on line 60 in file /home/conda/feedstock_root/build_artifacts/rdkit_1614687251479/work/Code/GraphMol/Conformer.cpp\n",
      "RDKit ERROR: Failed Expression: dp_mol->getNumAtoms() == d_positions.size()\n",
      "RDKit ERROR: ****\n",
      "RDKit ERROR: \n",
      "RDKit ERROR: [11:45:32] \n",
      "RDKit ERROR: \n",
      "RDKit ERROR: ****\n",
      "RDKit ERROR: Pre-condition Violation\n",
      "RDKit ERROR: \n",
      "RDKit ERROR: Violation occurred on line 60 in file /home/conda/feedstock_root/build_artifacts/rdkit_1614687251479/work/Code/GraphMol/Conformer.cpp\n",
      "RDKit ERROR: Failed Expression: dp_mol->getNumAtoms() == d_positions.size()\n",
      "RDKit ERROR: ****\n",
      "RDKit ERROR: \n",
      "RDKit ERROR: [11:49:56] \n",
      "RDKit ERROR: \n",
      "RDKit ERROR: ****\n",
      "RDKit ERROR: Pre-condition Violation\n",
      "RDKit ERROR: \n",
      "RDKit ERROR: Violation occurred on line 60 in file /home/conda/feedstock_root/build_artifacts/rdkit_1614687251479/work/Code/GraphMol/Conformer.cpp\n",
      "RDKit ERROR: Failed Expression: dp_mol->getNumAtoms() == d_positions.size()\n",
      "RDKit ERROR: ****\n",
      "RDKit ERROR: \n",
      "RDKit ERROR: [11:49:56] \n",
      "RDKit ERROR: \n",
      "RDKit ERROR: ****\n",
      "RDKit ERROR: Pre-condition Violation\n",
      "RDKit ERROR: \n",
      "RDKit ERROR: Violation occurred on line 60 in file /home/conda/feedstock_root/build_artifacts/rdkit_1614687251479/work/Code/GraphMol/Conformer.cpp\n",
      "RDKit ERROR: Failed Expression: dp_mol->getNumAtoms() == d_positions.size()\n",
      "RDKit ERROR: ****\n",
      "RDKit ERROR: \n",
      "RDKit ERROR: [11:49:56] \n",
      "RDKit ERROR: \n",
      "RDKit ERROR: ****\n",
      "RDKit ERROR: Pre-condition Violation\n",
      "RDKit ERROR: \n",
      "RDKit ERROR: Violation occurred on line 60 in file /home/conda/feedstock_root/build_artifacts/rdkit_1614687251479/work/Code/GraphMol/Conformer.cpp\n",
      "RDKit ERROR: Failed Expression: dp_mol->getNumAtoms() == d_positions.size()\n",
      "RDKit ERROR: ****\n",
      "RDKit ERROR: \n",
      "RDKit ERROR: [11:49:56] \n",
      "RDKit ERROR: \n",
      "RDKit ERROR: ****\n",
      "RDKit ERROR: Pre-condition Violation\n",
      "RDKit ERROR: \n",
      "RDKit ERROR: Violation occurred on line 60 in file /home/conda/feedstock_root/build_artifacts/rdkit_1614687251479/work/Code/GraphMol/Conformer.cpp\n",
      "RDKit ERROR: Failed Expression: dp_mol->getNumAtoms() == d_positions.size()\n",
      "RDKit ERROR: ****\n",
      "RDKit ERROR: \n",
      "RDKit ERROR: [11:49:56] \n",
      "RDKit ERROR: \n",
      "RDKit ERROR: ****\n",
      "RDKit ERROR: Pre-condition Violation\n",
      "RDKit ERROR: \n",
      "RDKit ERROR: Violation occurred on line 60 in file /home/conda/feedstock_root/build_artifacts/rdkit_1614687251479/work/Code/GraphMol/Conformer.cpp\n",
      "RDKit ERROR: Failed Expression: dp_mol->getNumAtoms() == d_positions.size()\n",
      "RDKit ERROR: ****\n",
      "RDKit ERROR: \n",
      "RDKit ERROR: [11:49:56] \n",
      "RDKit ERROR: \n",
      "RDKit ERROR: ****\n",
      "RDKit ERROR: Pre-condition Violation\n",
      "RDKit ERROR: \n",
      "/Conformer.cpp\n",
      "Failed Expression: dp_mol->getNumAtoms() == d_positions.size()\n",
      "****\n",
      "\n",
      "[11:40:01] \n",
      "\n",
      "****\n",
      "Pre-condition Violation\n",
      "\n",
      "Violation occurred on line 60 in file /home/conda/feedstock_root/build_artifacts/rdkit_1614687251479/work/Code/GraphMol/Conformer.cpp\n",
      "Failed Expression: dp_mol->getNumAtoms() == d_positions.size()\n",
      "****\n",
      "\n",
      "[11:40:01] \n",
      "\n",
      "****\n",
      "Pre-condition Violation\n",
      "\n",
      "Violation occurred on line 60 in file /home/conda/feedstock_root/build_artifacts/rdkit_1614687251479/work/Code/GraphMol/Conformer.cpp\n",
      "Failed Expression: dp_mol->getNumAtoms() == d_positions.size()\n",
      "****\n",
      "\n",
      "[11:45:06] \n",
      "\n",
      "****\n",
      "Pre-condition Violation\n",
      "\n",
      "Violation occurred on line 60 in file /home/conda/feedstock_root/build_artifacts/rdkit_1614687251479/work/Code/GraphMol/Conformer.cpp\n",
      "Failed Expression: dp_mol->getNumAtoms() == d_positions.size()\n",
      "****\n",
      "\n",
      "[11:45:06] \n",
      "\n",
      "****\n",
      "Pre-condition Violation\n",
      "\n",
      "Violation occurred on line 60 in file /home/conda/feedstock_root/build_artifacts/rdkit_1614687251479/work/Code/GraphMol/Conformer.cpp\n",
      "Failed Expression: dp_mol->getNumAtoms() == d_positions.size()\n",
      "****\n",
      "\n",
      "[11:45:06] \n",
      "\n",
      "****\n",
      "Pre-condition Violation\n",
      "\n",
      "Violation occurred on line 60 in file /home/conda/feedstock_root/build_artifacts/rdkit_1614687251479/work/Code/GraphMol/Conformer.cpp\n",
      "Failed Expression: dp_mol->getNumAtoms() == d_positions.size()\n",
      "****\n",
      "\n",
      "[11:45:06] \n",
      "\n",
      "****\n",
      "Pre-condition Violation\n",
      "\n",
      "Violation occurred on line 60 in file /home/conda/feedstock_root/build_artifacts/rdkit_1614687251479/work/Code/GraphMol/Conformer.cpp\n",
      "Failed Expression: dp_mol->getNumAtoms() == d_positions.size()\n",
      "****\n",
      "\n",
      "[11:45:06] \n",
      "\n",
      "****\n",
      "Pre-condition Violation\n",
      "\n",
      "Violation occurred on line 60 in file /home/conda/feedstock_root/build_artifacts/rdkit_1614687251479/work/Code/GraphMol/Conformer.cpp\n",
      "Failed Expression: dp_mol->getNumAtoms() == d_positions.size()\n",
      "****\n",
      "\n",
      "[11:45:32] \n",
      "\n",
      "****\n",
      "Pre-condition Violation\n",
      "\n",
      "Violation occurred on line 60 in file /home/conda/feedstock_root/build_artifacts/rdkit_1614687251479/work/Code/GraphMol/Conformer.cpp\n",
      "Failed Expression: dp_mol->getNumAtoms() == d_positions.size()\n",
      "****\n",
      "\n",
      "[11:45:32] \n",
      "\n",
      "****\n",
      "Pre-condition Violation\n",
      "\n",
      "Violation occurred on line 60 in file /home/conda/feedstock_root/build_artifacts/rdkit_1614687251479/work/Code/GraphMol/Conformer.cpp\n",
      "Failed Expression: dp_mol->getNumAtoms() == d_positions.size()\n",
      "****\n",
      "\n",
      "[11:45:32] \n",
      "\n",
      "****\n",
      "Pre-condition Violation\n",
      "\n",
      "Violation occurred on line 60 in file /home/conda/feedstock_root/build_artifacts/rdkit_1614687251479/work/Code/GraphMol/Conformer.cpp\n",
      "Failed Expression: dp_mol->getNumAtoms() == d_positions.size()\n",
      "****\n",
      "\n",
      "[11:45:32] \n",
      "\n",
      "****\n",
      "Pre-condition Violation\n",
      "\n",
      "Violation occurred on line 60 in file /home/conda/feedstock_root/build_artifacts/rdkit_1614687251479/work/Code/GraphMol/Conformer.cpp\n",
      "Failed Expression: dp_mol->getNumAtoms() == d_positions.size()\n",
      "****\n",
      "\n",
      "[11:49:56] \n",
      "\n",
      "****\n",
      "Pre-condition Violation\n",
      "\n",
      "Violation occurred on line 60 in file /home/conda/feedstock_root/build_artifacts/rdkit_1614687251479/work/Code/GraphMol/Conformer.cpp\n",
      "Failed Expression: dp_mol->getNumAtoms() == d_positions.size()\n",
      "****\n",
      "\n",
      "[11:49:56] \n",
      "\n",
      "****\n",
      "Pre-condition Violation\n",
      "\n",
      "Violation occurred on line 60 in file /home/conda/feedstock_root/build_artifacts/rdkit_1614687251479/work/Code/GraphMol/Conformer.cpp\n",
      "Failed Expression: dp_mol->getNumAtoms() == d_positions.size()\n",
      "****\n",
      "\n",
      "[11:49:56] \n",
      "\n",
      "****\n",
      "Pre-condition Violation\n",
      "\n",
      "Violation occurred on line 60 in file /home/conda/feedstock_root/build_artifacts/rdkit_1614687251479/work/Code/GraphMol/Conformer.cpp\n",
      "Failed Expression: dp_mol->getNumAtoms() == d_positions.size()\n",
      "****\n",
      "\n",
      "[11:49:56] \n",
      "\n",
      "****\n",
      "Pre-condition Violation\n",
      "\n",
      "Violation occurred on line 60 in file /home/conda/feedstock_root/build_artifacts/rdkit_1614687251479/work/Code/GraphMol/Conformer.cpp\n",
      "Failed Expression: dp_mol->getNumAtoms() == d_positions.size()\n",
      "****\n",
      "\n",
      "[11:49:56] \n",
      "\n",
      "****\n",
      "Pre-condition Violation\n",
      "\n",
      "Violation occurred on line 60 in file /home/conda/feedstock_root/build_artifacts/rdkit_1614687251479/work/Code/GraphMol/Conformer.cpp\n",
      "Failed Expression: dp_mol->getNumAtoms() == d_positions.size()\n",
      "****\n",
      "\n",
      "[11:49:56] \n",
      "\n",
      "****\n",
      "Pre-condition Violation\n",
      "\n",
      " 19%|█▊        | 66/353 [16:49<1:32:17, 19.29s/it]"
     ]
    },
    {
     "name": "stdout",
     "output_type": "stream",
     "text": [
      "LeDock Docking finished\n"
     ]
    },
    {
     "name": "stderr",
     "output_type": "stream",
     "text": [
      " 19%|█▉        | 67/353 [16:58<1:17:31, 16.26s/it]"
     ]
    },
    {
     "name": "stdout",
     "output_type": "stream",
     "text": [
      "LeDock Docking finished\n",
      "Have been converted to mol2 file! /home/haotian/Molecule_Generation/Flexible-docking/data/esmfold_time_split/6oxs/6oxs_ligand.sdf\n"
     ]
    },
    {
     "name": "stderr",
     "output_type": "stream",
     "text": [
      " 19%|█▉        | 68/353 [17:17<1:20:15, 16.90s/it]"
     ]
    },
    {
     "name": "stdout",
     "output_type": "stream",
     "text": [
      "LeDock Docking finished\n"
     ]
    },
    {
     "name": "stderr",
     "output_type": "stream",
     "text": [
      " 20%|█▉        | 69/353 [17:25<1:08:00, 14.37s/it]"
     ]
    },
    {
     "name": "stdout",
     "output_type": "stream",
     "text": [
      "LeDock Docking finished\n",
      "Have been converted to mol2 file! /home/haotian/Molecule_Generation/Flexible-docking/data/esmfold_time_split/6py0/6py0_ligand.sdf\n"
     ]
    },
    {
     "name": "stderr",
     "output_type": "stream",
     "text": [
      " 20%|█▉        | 70/353 [17:36<1:02:10, 13.18s/it]"
     ]
    },
    {
     "name": "stdout",
     "output_type": "stream",
     "text": [
      "LeDock Docking finished\n",
      "Have been converted to mol2 file! /home/haotian/Molecule_Generation/Flexible-docking/data/esmfold_time_split/6ibz/6ibz_ligand.sdf\n"
     ]
    },
    {
     "name": "stderr",
     "output_type": "stream",
     "text": [
      " 20%|██        | 71/353 [17:50<1:02:59, 13.40s/it]"
     ]
    },
    {
     "name": "stdout",
     "output_type": "stream",
     "text": [
      "LeDock Docking finished\n",
      "Have been converted to mol2 file! /home/haotian/Molecule_Generation/Flexible-docking/data/esmfold_time_split/6oi8/6oi8_ligand.sdf\n"
     ]
    },
    {
     "name": "stderr",
     "output_type": "stream",
     "text": [
      " 20%|██        | 72/353 [18:00<58:29, 12.49s/it]  "
     ]
    },
    {
     "name": "stdout",
     "output_type": "stream",
     "text": [
      "LeDock Docking finished\n",
      "Have been converted to mol2 file! /home/haotian/Molecule_Generation/Flexible-docking/data/esmfold_time_split/6pyb/6pyb_ligand.sdf\n"
     ]
    },
    {
     "name": "stderr",
     "output_type": "stream",
     "text": [
      " 21%|██        | 73/353 [18:09<53:07, 11.38s/it]"
     ]
    },
    {
     "name": "stdout",
     "output_type": "stream",
     "text": [
      "LeDock Docking finished\n",
      "Have been converted to mol2 file! /home/haotian/Molecule_Generation/Flexible-docking/data/esmfold_time_split/5zxk/5zxk_ligand.sdf\n"
     ]
    },
    {
     "name": "stderr",
     "output_type": "stream",
     "text": [
      " 21%|██        | 74/353 [18:16<47:29, 10.21s/it]"
     ]
    },
    {
     "name": "stdout",
     "output_type": "stream",
     "text": [
      "LeDock Docking finished\n"
     ]
    },
    {
     "name": "stderr",
     "output_type": "stream",
     "text": [
      " 21%|██        | 75/353 [19:16<1:56:31, 25.15s/it]"
     ]
    },
    {
     "name": "stdout",
     "output_type": "stream",
     "text": [
      "timeout\n",
      "Have been converted to mol2 file! /home/haotian/Molecule_Generation/Flexible-docking/data/esmfold_time_split/6g9f/6g9f_ligand.sdf\n"
     ]
    },
    {
     "name": "stderr",
     "output_type": "stream",
     "text": [
      " 22%|██▏       | 76/353 [19:24<1:31:25, 19.80s/it]"
     ]
    },
    {
     "name": "stdout",
     "output_type": "stream",
     "text": [
      "LeDock Docking finished\n",
      "Have been converted to mol2 file! /home/haotian/Molecule_Generation/Flexible-docking/data/esmfold_time_split/6i41/6i41_ligand.sdf\n"
     ]
    },
    {
     "name": "stderr",
     "output_type": "stream",
     "text": [
      " 22%|██▏       | 77/353 [19:48<1:36:58, 21.08s/it]"
     ]
    },
    {
     "name": "stdout",
     "output_type": "stream",
     "text": [
      "LeDock Docking finished\n",
      "Have been converted to mol2 file! /home/haotian/Molecule_Generation/Flexible-docking/data/esmfold_time_split/6a6k/6a6k_ligand.sdf\n"
     ]
    },
    {
     "name": "stderr",
     "output_type": "stream",
     "text": [
      " 22%|██▏       | 78/353 [19:57<1:20:38, 17.59s/it]"
     ]
    },
    {
     "name": "stdout",
     "output_type": "stream",
     "text": [
      "LeDock Docking finished\n",
      "Have been converted to mol2 file! /home/haotian/Molecule_Generation/Flexible-docking/data/esmfold_time_split/6hhi/6hhi_ligand.sdf\n"
     ]
    },
    {
     "name": "stderr",
     "output_type": "stream",
     "text": [
      " 22%|██▏       | 79/353 [20:15<1:20:25, 17.61s/it]"
     ]
    },
    {
     "name": "stdout",
     "output_type": "stream",
     "text": [
      "LeDock Docking finished\n",
      "Have been converted to mol2 file! /home/haotian/Molecule_Generation/Flexible-docking/data/esmfold_time_split/6qsz/6qsz_ligand.sdf\n"
     ]
    },
    {
     "name": "stderr",
     "output_type": "stream",
     "text": [
      " 23%|██▎       | 80/353 [20:58<1:55:02, 25.28s/it]"
     ]
    },
    {
     "name": "stdout",
     "output_type": "stream",
     "text": [
      "LeDock Docking finished\n",
      "Have been converted to mol2 file! /home/haotian/Molecule_Generation/Flexible-docking/data/esmfold_time_split/6ovz/6ovz_ligand.sdf\n"
     ]
    },
    {
     "name": "stderr",
     "output_type": "stream",
     "text": [
      " 23%|██▎       | 81/353 [21:07<1:32:33, 20.42s/it]"
     ]
    },
    {
     "name": "stdout",
     "output_type": "stream",
     "text": [
      "LeDock Docking finished\n",
      "Have been converted to mol2 file! /home/haotian/Molecule_Generation/Flexible-docking/data/esmfold_time_split/6uil/6uil_ligand.sdf\n"
     ]
    },
    {
     "name": "stderr",
     "output_type": "stream",
     "text": [
      " 23%|██▎       | 82/353 [21:17<1:17:39, 17.19s/it]"
     ]
    },
    {
     "name": "stdout",
     "output_type": "stream",
     "text": [
      "LeDock Docking finished\n",
      "Have been converted to mol2 file! /home/haotian/Molecule_Generation/Flexible-docking/data/esmfold_time_split/6g5u/6g5u_ligand.sdf\n"
     ]
    },
    {
     "name": "stderr",
     "output_type": "stream",
     "text": [
      " 24%|██▎       | 83/353 [21:24<1:03:52, 14.20s/it]"
     ]
    },
    {
     "name": "stdout",
     "output_type": "stream",
     "text": [
      "LeDock Docking finished\n",
      "Have been converted to mol2 file! /home/haotian/Molecule_Generation/Flexible-docking/data/esmfold_time_split/5zml/5zml_ligand.sdf\n"
     ]
    },
    {
     "name": "stderr",
     "output_type": "stream",
     "text": [
      " 24%|██▍       | 84/353 [22:24<2:05:15, 27.94s/it]"
     ]
    },
    {
     "name": "stdout",
     "output_type": "stream",
     "text": [
      "timeout\n",
      "Have been converted to mol2 file! /home/haotian/Molecule_Generation/Flexible-docking/data/esmfold_time_split/6gdy/6gdy_ligand.sdf\n"
     ]
    },
    {
     "name": "stderr",
     "output_type": "stream",
     "text": [
      " 24%|██▍       | 85/353 [22:29<1:34:48, 21.23s/it]"
     ]
    },
    {
     "name": "stdout",
     "output_type": "stream",
     "text": [
      "LeDock Docking finished\n",
      "Have been converted to mol2 file! /home/haotian/Molecule_Generation/Flexible-docking/data/esmfold_time_split/6miv/6miv_ligand.sdf\n"
     ]
    },
    {
     "name": "stderr",
     "output_type": "stream",
     "text": [
      " 24%|██▍       | 86/353 [23:29<2:26:13, 32.86s/it]"
     ]
    },
    {
     "name": "stdout",
     "output_type": "stream",
     "text": [
      "timeout\n",
      "Have been converted to mol2 file! /home/haotian/Molecule_Generation/Flexible-docking/data/esmfold_time_split/6n92/6n92_ligand.sdf\n"
     ]
    },
    {
     "name": "stderr",
     "output_type": "stream",
     "text": [
      " 25%|██▍       | 87/353 [24:06<2:30:23, 33.92s/it]"
     ]
    },
    {
     "name": "stdout",
     "output_type": "stream",
     "text": [
      "LeDock Docking finished\n"
     ]
    },
    {
     "name": "stderr",
     "output_type": "stream",
     "text": [
      "RDKit ERROR: Violation occurred on line 60 in file /home/conda/feedstock_root/build_artifacts/rdkit_1614687251479/work/Code/GraphMol/Conformer.cpp\n",
      "RDKit ERROR: Failed Expression: dp_mol->getNumAtoms() == d_positions.size()\n",
      "RDKit ERROR: ****\n",
      "RDKit ERROR: \n",
      "RDKit ERROR: [11:49:56] \n",
      "RDKit ERROR: \n",
      "RDKit ERROR: ****\n",
      "RDKit ERROR: Pre-condition Violation\n",
      "RDKit ERROR: \n",
      "RDKit ERROR: Violation occurred on line 60 in file /home/conda/feedstock_root/build_artifacts/rdkit_1614687251479/work/Code/GraphMol/Conformer.cpp\n",
      "RDKit ERROR: Failed Expression: dp_mol->getNumAtoms() == d_positions.size()\n",
      "RDKit ERROR: ****\n",
      "RDKit ERROR: \n",
      "RDKit ERROR: [11:50:05] \n",
      "RDKit ERROR: \n",
      "RDKit ERROR: ****\n",
      "RDKit ERROR: Pre-condition Violation\n",
      "RDKit ERROR: \n",
      "RDKit ERROR: Violation occurred on line 60 in file /home/conda/feedstock_root/build_artifacts/rdkit_1614687251479/work/Code/GraphMol/Conformer.cpp\n",
      "RDKit ERROR: Failed Expression: dp_mol->getNumAtoms() == d_positions.size()\n",
      "RDKit ERROR: ****\n",
      "RDKit ERROR: \n",
      "RDKit ERROR: [11:50:05] \n",
      "RDKit ERROR: \n",
      "RDKit ERROR: ****\n",
      "RDKit ERROR: Pre-condition Violation\n",
      "RDKit ERROR: \n",
      "RDKit ERROR: Violation occurred on line 60 in file /home/conda/feedstock_root/build_artifacts/rdkit_1614687251479/work/Code/GraphMol/Conformer.cpp\n",
      "RDKit ERROR: Failed Expression: dp_mol->getNumAtoms() == d_positions.size()\n",
      "RDKit ERROR: ****\n",
      "RDKit ERROR: \n",
      "RDKit ERROR: [11:50:05] \n",
      "RDKit ERROR: \n",
      "RDKit ERROR: ****\n",
      "RDKit ERROR: Pre-condition Violation\n",
      "RDKit ERROR: \n",
      "RDKit ERROR: Violation occurred on line 60 in file /home/conda/feedstock_root/build_artifacts/rdkit_1614687251479/work/Code/GraphMol/Conformer.cpp\n",
      "RDKit ERROR: Failed Expression: dp_mol->getNumAtoms() == d_positions.size()\n",
      "RDKit ERROR: ****\n",
      "RDKit ERROR: \n",
      "RDKit ERROR: [11:50:05] \n",
      "RDKit ERROR: \n",
      "RDKit ERROR: ****\n",
      "RDKit ERROR: Pre-condition Violation\n",
      "RDKit ERROR: \n",
      "RDKit ERROR: Violation occurred on line 60 in file /home/conda/feedstock_root/build_artifacts/rdkit_1614687251479/work/Code/GraphMol/Conformer.cpp\n",
      "RDKit ERROR: Failed Expression: dp_mol->getNumAtoms() == d_positions.size()\n",
      "RDKit ERROR: ****\n",
      "RDKit ERROR: \n",
      "RDKit ERROR: [11:50:05] \n",
      "RDKit ERROR: \n",
      "RDKit ERROR: ****\n",
      "RDKit ERROR: Pre-condition Violation\n",
      "RDKit ERROR: \n",
      "RDKit ERROR: Violation occurred on line 60 in file /home/conda/feedstock_root/build_artifacts/rdkit_1614687251479/work/Code/GraphMol/Conformer.cpp\n",
      "RDKit ERROR: Failed Expression: dp_mol->getNumAtoms() == d_positions.size()\n",
      "RDKit ERROR: ****\n",
      "RDKit ERROR: \n",
      "RDKit ERROR: [11:50:05] \n",
      "RDKit ERROR: \n",
      "RDKit ERROR: ****\n",
      "RDKit ERROR: Pre-condition Violation\n",
      "RDKit ERROR: \n",
      "RDKit ERROR: Violation occurred on line 60 in file /home/conda/feedstock_root/build_artifacts/rdkit_1614687251479/work/Code/GraphMol/Conformer.cpp\n",
      "RDKit ERROR: Failed Expression: dp_mol->getNumAtoms() == d_positions.size()\n",
      "RDKit ERROR: ****\n",
      "RDKit ERROR: \n",
      "RDKit ERROR: [11:50:32] \n",
      "RDKit ERROR: \n",
      "RDKit ERROR: ****\n",
      "RDKit ERROR: Pre-condition Violation\n",
      "RDKit ERROR: \n",
      "RDKit ERROR: Violation occurred on line 60 in file /home/conda/feedstock_root/build_artifacts/rdkit_1614687251479/work/Code/GraphMol/Conformer.cpp\n",
      "RDKit ERROR: Failed Expression: dp_mol->getNumAtoms() == d_positions.size()\n",
      "RDKit ERROR: ****\n",
      "RDKit ERROR: \n",
      "RDKit ERROR: [11:50:32] \n",
      "RDKit ERROR: \n",
      "RDKit ERROR: ****\n",
      "RDKit ERROR: Pre-condition Violation\n",
      "RDKit ERROR: \n",
      "RDKit ERROR: Violation occurred on line 60 in file /home/conda/feedstock_root/build_artifacts/rdkit_1614687251479/work/Code/GraphMol/Conformer.cpp\n",
      "RDKit ERROR: Failed Expression: dp_mol->getNumAtoms() == d_positions.size()\n",
      "RDKit ERROR: ****\n",
      "RDKit ERROR: \n",
      "RDKit ERROR: [11:50:32] \n",
      "RDKit ERROR: \n",
      "RDKit ERROR: ****\n",
      "RDKit ERROR: Pre-condition Violation\n",
      "RDKit ERROR: \n",
      "RDKit ERROR: Violation occurred on line 60 in file /home/conda/feedstock_root/build_artifacts/rdkit_1614687251479/work/Code/GraphMol/Conformer.cpp\n",
      "RDKit ERROR: Failed Expression: dp_mol->getNumAtoms() == d_positions.size()\n",
      "RDKit ERROR: ****\n",
      "RDKit ERROR: \n",
      "RDKit ERROR: [11:50:32] \n",
      "RDKit ERROR: \n",
      "RDKit ERROR: ****\n",
      "RDKit ERROR: Pre-condition Violation\n",
      "RDKit ERROR: \n",
      "RDKit ERROR: Violation occurred on line 60 in file /home/conda/feedstock_root/build_artifacts/rdkit_1614687251479/work/Code/GraphMol/Conformer.cpp\n",
      "RDKit ERROR: Failed Expression: dp_mol->getNumAtoms() == d_positions.size()\n",
      "RDKit ERROR: ****\n",
      "RDKit ERROR: \n",
      "RDKit ERROR: [11:50:32] \n",
      "RDKit ERROR: \n",
      "RDKit ERROR: ****\n",
      "RDKit ERROR: Pre-condition Violation\n",
      "RDKit ERROR: \n",
      "RDKit ERROR: Violation occurred on line 60 in file /home/conda/feedstock_root/build_artifacts/rdkit_1614687251479/work/Code/GraphMol/Conformer.cpp\n",
      "RDKit ERROR: Failed Expression: dp_mol->getNumAtoms() == d_positions.size()\n",
      "RDKit ERROR: ****\n",
      "RDKit ERROR: \n",
      "RDKit ERROR: [11:57:22] \n",
      "RDKit ERROR: \n",
      "RDKit ERROR: ****\n",
      "RDKit ERROR: Pre-condition Violation\n",
      "RDKit ERROR: \n",
      "RDKit ERROR: Violation occurred on line 60 in file /home/conda/feedstock_root/build_artifacts/rdkit_1614687251479/work/Code/GraphMol/Conformer.cpp\n",
      "RDKit ERROR: Failed Expression: dp_mol->getNumAtoms() == d_positions.size()\n",
      "RDKit ERROR: ****\n",
      "RDKit ERROR: \n",
      "RDKit ERROR: [11:57:22] \n",
      "RDKit ERROR: \n",
      "RDKit ERROR: ****\n",
      "RDKit ERROR: Pre-condition Violation\n",
      "RDKit ERROR: \n",
      "RDKit ERROR: Violation occurred on line 60 in file /home/conda/feedstock_root/build_artifacts/rdkit_1614687251479/work/Code/GraphMol/Conformer.cpp\n",
      "RDKit ERROR: Failed Expression: dp_mol->getNumAtoms() == d_positions.size()\n",
      "RDKit ERROR: ****\n",
      "RDKit ERROR: \n",
      "RDKit ERROR: [11:57:22] \n",
      "RDKit ERROR: \n",
      "RDKit ERROR: ****\n",
      "RDKit ERROR: Pre-condition Violation\n",
      "RDKit ERROR: \n",
      "RDKit ERROR: Violation occurred on line 60 in file /home/conda/feedstock_root/build_artifacts/rdkit_1614687251479/work/Code/GraphMol/Conformer.cpp\n",
      "RDKit ERROR: Failed Expression: dp_mol->getNumAtoms() == d_positions.size()\n",
      "RDKit ERROR: ****\n",
      "RDKit ERROR: \n",
      "RDKit ERROR: [11:57:22] \n",
      "RDKit ERROR: \n",
      "RDKit ERROR: ****\n",
      "RDKit ERROR: Pre-condition Violation\n",
      "RDKit ERROR: \n",
      "RDKit ERROR: Violation occurred on line 60 in file /home/conda/feedstock_root/build_artifacts/rdkit_1614687251479/work/Code/GraphMol/Conformer.cpp\n",
      "file /home/conda/feedstock_root/build_artifacts/rdkit_1614687251479/work/Code/GraphMol/Conformer.cpp\n",
      "Failed Expression: dp_mol->getNumAtoms() == d_positions.size()\n",
      "****\n",
      "\n",
      "[11:49:56] \n",
      "\n",
      "****\n",
      "Pre-condition Violation\n",
      "\n",
      "Violation occurred on line 60 in file /home/conda/feedstock_root/build_artifacts/rdkit_1614687251479/work/Code/GraphMol/Conformer.cpp\n",
      "Failed Expression: dp_mol->getNumAtoms() == d_positions.size()\n",
      "****\n",
      "\n",
      "[11:50:05] \n",
      "\n",
      "****\n",
      "Pre-condition Violation\n",
      "\n",
      "Violation occurred on line 60 in file /home/conda/feedstock_root/build_artifacts/rdkit_1614687251479/work/Code/GraphMol/Conformer.cpp\n",
      "Failed Expression: dp_mol->getNumAtoms() == d_positions.size()\n",
      "****\n",
      "\n",
      "[11:50:05] \n",
      "\n",
      "****\n",
      "Pre-condition Violation\n",
      "\n",
      "Violation occurred on line 60 in file /home/conda/feedstock_root/build_artifacts/rdkit_1614687251479/work/Code/GraphMol/Conformer.cpp\n",
      "Failed Expression: dp_mol->getNumAtoms() == d_positions.size()\n",
      "****\n",
      "\n",
      "[11:50:05] \n",
      "\n",
      "****\n",
      "Pre-condition Violation\n",
      "\n",
      "Violation occurred on line 60 in file /home/conda/feedstock_root/build_artifacts/rdkit_1614687251479/work/Code/GraphMol/Conformer.cpp\n",
      "Failed Expression: dp_mol->getNumAtoms() == d_positions.size()\n",
      "****\n",
      "\n",
      "[11:50:05] \n",
      "\n",
      "****\n",
      "Pre-condition Violation\n",
      "\n",
      "Violation occurred on line 60 in file /home/conda/feedstock_root/build_artifacts/rdkit_1614687251479/work/Code/GraphMol/Conformer.cpp\n",
      "Failed Expression: dp_mol->getNumAtoms() == d_positions.size()\n",
      "****\n",
      "\n",
      "[11:50:05] \n",
      "\n",
      "****\n",
      "Pre-condition Violation\n",
      "\n",
      "Violation occurred on line 60 in file /home/conda/feedstock_root/build_artifacts/rdkit_1614687251479/work/Code/GraphMol/Conformer.cpp\n",
      "Failed Expression: dp_mol->getNumAtoms() == d_positions.size()\n",
      "****\n",
      "\n",
      "[11:50:05] \n",
      "\n",
      "****\n",
      "Pre-condition Violation\n",
      "\n",
      "Violation occurred on line 60 in file /home/conda/feedstock_root/build_artifacts/rdkit_1614687251479/work/Code/GraphMol/Conformer.cpp\n",
      "Failed Expression: dp_mol->getNumAtoms() == d_positions.size()\n",
      "****\n",
      "\n",
      "[11:50:32] \n",
      "\n",
      "****\n",
      "Pre-condition Violation\n",
      "\n",
      "Violation occurred on line 60 in file /home/conda/feedstock_root/build_artifacts/rdkit_1614687251479/work/Code/GraphMol/Conformer.cpp\n",
      "Failed Expression: dp_mol->getNumAtoms() == d_positions.size()\n",
      "****\n",
      "\n",
      "[11:50:32] \n",
      "\n",
      "****\n",
      "Pre-condition Violation\n",
      "\n",
      "Violation occurred on line 60 in file /home/conda/feedstock_root/build_artifacts/rdkit_1614687251479/work/Code/GraphMol/Conformer.cpp\n",
      "Failed Expression: dp_mol->getNumAtoms() == d_positions.size()\n",
      "****\n",
      "\n",
      "[11:50:32] \n",
      "\n",
      "****\n",
      "Pre-condition Violation\n",
      "\n",
      "Violation occurred on line 60 in file /home/conda/feedstock_root/build_artifacts/rdkit_1614687251479/work/Code/GraphMol/Conformer.cpp\n",
      "Failed Expression: dp_mol->getNumAtoms() == d_positions.size()\n",
      "****\n",
      "\n",
      "[11:50:32] \n",
      "\n",
      "****\n",
      "Pre-condition Violation\n",
      "\n",
      "Violation occurred on line 60 in file /home/conda/feedstock_root/build_artifacts/rdkit_1614687251479/work/Code/GraphMol/Conformer.cpp\n",
      "Failed Expression: dp_mol->getNumAtoms() == d_positions.size()\n",
      "****\n",
      "\n",
      "[11:50:32] \n",
      "\n",
      "****\n",
      "Pre-condition Violation\n",
      "\n",
      "Violation occurred on line 60 in file /home/conda/feedstock_root/build_artifacts/rdkit_1614687251479/work/Code/GraphMol/Conformer.cpp\n",
      "Failed Expression: dp_mol->getNumAtoms() == d_positions.size()\n",
      "****\n",
      "\n",
      "[11:57:22] \n",
      "\n",
      "****\n",
      "Pre-condition Violation\n",
      "\n",
      "Violation occurred on line 60 in file /home/conda/feedstock_root/build_artifacts/rdkit_1614687251479/work/Code/GraphMol/Conformer.cpp\n",
      "Failed Expression: dp_mol->getNumAtoms() == d_positions.size()\n",
      "****\n",
      "\n",
      "[11:57:22] \n",
      "\n",
      "****\n",
      "Pre-condition Violation\n",
      "\n",
      "Violation occurred on line 60 in file /home/conda/feedstock_root/build_artifacts/rdkit_1614687251479/work/Code/GraphMol/Conformer.cpp\n",
      "Failed Expression: dp_mol->getNumAtoms() == d_positions.size()\n",
      "****\n",
      "\n",
      "[11:57:22] \n",
      "\n",
      "****\n",
      "Pre-condition Violation\n",
      "\n",
      "Violation occurred on line 60 in file /home/conda/feedstock_root/build_artifacts/rdkit_1614687251479/work/Code/GraphMol/Conformer.cpp\n",
      "Failed Expression: dp_mol->getNumAtoms() == d_positions.size()\n",
      "****\n",
      "\n",
      "[11:57:22] \n",
      "\n",
      "****\n",
      "Pre-condition Violation\n",
      "\n",
      "Violation occurred on line 60 in file /home/conda/feedstock_root/build_artifacts/rdkit_1614687251479/work/Code/GraphMol/Conformer.cpp\n",
      " 25%|██▍       | 88/353 [24:15<1:57:20, 26.57s/it]tions.siz"
     ]
    },
    {
     "name": "stdout",
     "output_type": "stream",
     "text": [
      "LeDock Docking finished\n",
      "Have been converted to mol2 file! /home/haotian/Molecule_Generation/Flexible-docking/data/esmfold_time_split/5ze6/5ze6_ligand.sdf\n"
     ]
    },
    {
     "name": "stderr",
     "output_type": "stream",
     "text": [
      " 25%|██▌       | 89/353 [24:29<1:40:16, 22.79s/it]"
     ]
    },
    {
     "name": "stdout",
     "output_type": "stream",
     "text": [
      "LeDock Docking finished\n",
      "Have been converted to mol2 file! /home/haotian/Molecule_Generation/Flexible-docking/data/esmfold_time_split/6d40/6d40_ligand.sdf\n"
     ]
    },
    {
     "name": "stderr",
     "output_type": "stream",
     "text": [
      " 25%|██▌       | 90/353 [25:10<2:03:32, 28.19s/it]"
     ]
    },
    {
     "name": "stdout",
     "output_type": "stream",
     "text": [
      "LeDock Docking finished\n",
      "Have been converted to mol2 file! /home/haotian/Molecule_Generation/Flexible-docking/data/esmfold_time_split/6s9x/6s9x_ligand.sdf\n"
     ]
    },
    {
     "name": "stderr",
     "output_type": "stream",
     "text": [
      " 26%|██▌       | 91/353 [25:29<1:51:39, 25.57s/it]"
     ]
    },
    {
     "name": "stdout",
     "output_type": "stream",
     "text": [
      "LeDock Docking finished\n",
      "Have been converted to mol2 file! /home/haotian/Molecule_Generation/Flexible-docking/data/esmfold_time_split/6hbn/6hbn_ligand.sdf\n"
     ]
    },
    {
     "name": "stderr",
     "output_type": "stream",
     "text": [
      " 26%|██▌       | 92/353 [25:37<1:28:18, 20.30s/it]"
     ]
    },
    {
     "name": "stdout",
     "output_type": "stream",
     "text": [
      "LeDock Docking finished\n",
      "Have been converted to mol2 file! /home/haotian/Molecule_Generation/Flexible-docking/data/esmfold_time_split/6g2c/6g2c_ligand.sdf\n"
     ]
    },
    {
     "name": "stderr",
     "output_type": "stream",
     "text": [
      " 26%|██▋       | 93/353 [25:44<1:10:16, 16.22s/it]"
     ]
    },
    {
     "name": "stdout",
     "output_type": "stream",
     "text": [
      "LeDock Docking finished\n",
      "Have been converted to mol2 file! /home/haotian/Molecule_Generation/Flexible-docking/data/esmfold_time_split/6cjr/6cjr_ligand.sdf\n"
     ]
    },
    {
     "name": "stderr",
     "output_type": "stream",
     "text": [
      " 27%|██▋       | 94/353 [25:55<1:02:49, 14.56s/it]"
     ]
    },
    {
     "name": "stdout",
     "output_type": "stream",
     "text": [
      "LeDock Docking finished\n",
      "could not convert string to float: '105.337-100.519'\n",
      "Have been converted to mol2 file! /home/haotian/Molecule_Generation/Flexible-docking/data/esmfold_time_split/6hv2/6hv2_ligand.sdf\n"
     ]
    },
    {
     "name": "stderr",
     "output_type": "stream",
     "text": [
      " 27%|██▋       | 95/353 [26:17<1:12:09, 16.78s/it]"
     ]
    },
    {
     "name": "stdout",
     "output_type": "stream",
     "text": [
      "LeDock Docking finished\n",
      "Have been converted to mol2 file! /home/haotian/Molecule_Generation/Flexible-docking/data/esmfold_time_split/6o9b/6o9b_ligand.sdf\n"
     ]
    },
    {
     "name": "stderr",
     "output_type": "stream",
     "text": [
      " 27%|██▋       | 96/353 [26:54<1:38:17, 22.95s/it]"
     ]
    },
    {
     "name": "stdout",
     "output_type": "stream",
     "text": [
      "LeDock Docking finished\n",
      "Have been converted to mol2 file! /home/haotian/Molecule_Generation/Flexible-docking/data/esmfold_time_split/6pnm/6pnm_ligand.sdf\n"
     ]
    },
    {
     "name": "stderr",
     "output_type": "stream",
     "text": [
      " 27%|██▋       | 97/353 [27:02<1:18:12, 18.33s/it]"
     ]
    },
    {
     "name": "stdout",
     "output_type": "stream",
     "text": [
      "LeDock Docking finished\n",
      "Have been converted to mol2 file! /home/haotian/Molecule_Generation/Flexible-docking/data/esmfold_time_split/6fcj/6fcj_ligand.sdf\n"
     ]
    },
    {
     "name": "stderr",
     "output_type": "stream",
     "text": [
      " 28%|██▊       | 98/353 [27:09<1:03:28, 14.93s/it]"
     ]
    },
    {
     "name": "stdout",
     "output_type": "stream",
     "text": [
      "LeDock Docking finished\n"
     ]
    },
    {
     "name": "stderr",
     "output_type": "stream",
     "text": [
      " 28%|██▊       | 99/353 [28:03<1:53:45, 26.87s/it]"
     ]
    },
    {
     "name": "stdout",
     "output_type": "stream",
     "text": [
      "LeDock Docking finished\n"
     ]
    },
    {
     "name": "stderr",
     "output_type": "stream",
     "text": [
      "RDKit ERROR: Failed Expression: dp_mol->getNumAtoms() == d_positions.size()\n",
      "RDKit ERROR: ****\n",
      "RDKit ERROR: \n",
      "RDKit ERROR: [11:57:22] \n",
      "RDKit ERROR: \n",
      "RDKit ERROR: ****\n",
      "RDKit ERROR: Pre-condition Violation\n",
      "RDKit ERROR: \n",
      "RDKit ERROR: Violation occurred on line 60 in file /home/conda/feedstock_root/build_artifacts/rdkit_1614687251479/work/Code/GraphMol/Conformer.cpp\n",
      "RDKit ERROR: Failed Expression: dp_mol->getNumAtoms() == d_positions.size()\n",
      "RDKit ERROR: ****\n",
      "RDKit ERROR: \n",
      "RDKit ERROR: [11:57:22] \n",
      "RDKit ERROR: \n",
      "RDKit ERROR: ****\n",
      "RDKit ERROR: Pre-condition Violation\n",
      "RDKit ERROR: \n",
      "RDKit ERROR: Violation occurred on line 60 in file /home/conda/feedstock_root/build_artifacts/rdkit_1614687251479/work/Code/GraphMol/Conformer.cpp\n",
      "RDKit ERROR: Failed Expression: dp_mol->getNumAtoms() == d_positions.size()\n",
      "RDKit ERROR: ****\n",
      "RDKit ERROR: \n",
      "RDKit ERROR: [11:57:22] \n",
      "RDKit ERROR: \n",
      "RDKit ERROR: ****\n",
      "RDKit ERROR: Pre-condition Violation\n",
      "RDKit ERROR: \n",
      "RDKit ERROR: Violation occurred on line 60 in file /home/conda/feedstock_root/build_artifacts/rdkit_1614687251479/work/Code/GraphMol/Conformer.cpp\n",
      "RDKit ERROR: Failed Expression: dp_mol->getNumAtoms() == d_positions.size()\n",
      "RDKit ERROR: ****\n",
      "RDKit ERROR: \n",
      "RDKit ERROR: [11:57:22] \n",
      "RDKit ERROR: \n",
      "RDKit ERROR: ****\n",
      "RDKit ERROR: Pre-condition Violation\n",
      "RDKit ERROR: \n",
      "RDKit ERROR: Violation occurred on line 60 in file /home/conda/feedstock_root/build_artifacts/rdkit_1614687251479/work/Code/GraphMol/Conformer.cpp\n",
      "RDKit ERROR: Failed Expression: dp_mol->getNumAtoms() == d_positions.size()\n",
      "RDKit ERROR: ****\n",
      "RDKit ERROR: \n",
      "RDKit ERROR: [12:01:11] \n",
      "RDKit ERROR: \n",
      "RDKit ERROR: ****\n",
      "RDKit ERROR: Pre-condition Violation\n",
      "RDKit ERROR: \n",
      "RDKit ERROR: Violation occurred on line 60 in file /home/conda/feedstock_root/build_artifacts/rdkit_1614687251479/work/Code/GraphMol/Conformer.cpp\n",
      "RDKit ERROR: Failed Expression: dp_mol->getNumAtoms() == d_positions.size()\n",
      "RDKit ERROR: ****\n",
      "RDKit ERROR: \n",
      "RDKit ERROR: [12:01:11] \n",
      "RDKit ERROR: \n",
      "RDKit ERROR: ****\n",
      "RDKit ERROR: Pre-condition Violation\n",
      "RDKit ERROR: \n",
      "RDKit ERROR: Violation occurred on line 60 in file /home/conda/feedstock_root/build_artifacts/rdkit_1614687251479/work/Code/GraphMol/Conformer.cpp\n",
      "RDKit ERROR: Failed Expression: dp_mol->getNumAtoms() == d_positions.size()\n",
      "RDKit ERROR: ****\n",
      "RDKit ERROR: \n",
      "RDKit ERROR: [12:01:11] \n",
      "RDKit ERROR: \n",
      "RDKit ERROR: ****\n",
      "RDKit ERROR: Pre-condition Violation\n",
      "RDKit ERROR: \n",
      "RDKit ERROR: Violation occurred on line 60 in file /home/conda/feedstock_root/build_artifacts/rdkit_1614687251479/work/Code/GraphMol/Conformer.cpp\n",
      "RDKit ERROR: Failed Expression: dp_mol->getNumAtoms() == d_positions.size()\n",
      "RDKit ERROR: ****\n",
      "RDKit ERROR: \n",
      "RDKit ERROR: [12:01:11] \n",
      "RDKit ERROR: \n",
      "RDKit ERROR: ****\n",
      "RDKit ERROR: Pre-condition Violation\n",
      "RDKit ERROR: \n",
      "RDKit ERROR: Violation occurred on line 60 in file /home/conda/feedstock_root/build_artifacts/rdkit_1614687251479/work/Code/GraphMol/Conformer.cpp\n",
      "RDKit ERROR: Failed Expression: dp_mol->getNumAtoms() == d_positions.size()\n",
      "RDKit ERROR: ****\n",
      "RDKit ERROR: \n",
      "RDKit ERROR: [12:01:11] \n",
      "RDKit ERROR: \n",
      "RDKit ERROR: ****\n",
      "RDKit ERROR: Pre-condition Violation\n",
      "RDKit ERROR: \n",
      "RDKit ERROR: Violation occurred on line 60 in file /home/conda/feedstock_root/build_artifacts/rdkit_1614687251479/work/Code/GraphMol/Conformer.cpp\n",
      "RDKit ERROR: Failed Expression: dp_mol->getNumAtoms() == d_positions.size()\n",
      "RDKit ERROR: ****\n",
      "RDKit ERROR: \n",
      "RDKit ERROR: [12:01:11] \n",
      "RDKit ERROR: \n",
      "RDKit ERROR: ****\n",
      "RDKit ERROR: Pre-condition Violation\n",
      "RDKit ERROR: \n",
      "RDKit ERROR: Violation occurred on line 60 in file /home/conda/feedstock_root/build_artifacts/rdkit_1614687251479/work/Code/GraphMol/Conformer.cpp\n",
      "RDKit ERROR: Failed Expression: dp_mol->getNumAtoms() == d_positions.size()\n",
      "RDKit ERROR: ****\n",
      "RDKit ERROR: \n",
      "RDKit ERROR: [12:01:11] \n",
      "RDKit ERROR: \n",
      "RDKit ERROR: ****\n",
      "RDKit ERROR: Pre-condition Violation\n",
      "RDKit ERROR: \n",
      "RDKit ERROR: Violation occurred on line 60 in file /home/conda/feedstock_root/build_artifacts/rdkit_1614687251479/work/Code/GraphMol/Conformer.cpp\n",
      "RDKit ERROR: Failed Expression: dp_mol->getNumAtoms() == d_positions.size()\n",
      "RDKit ERROR: ****\n",
      "RDKit ERROR: \n",
      "RDKit ERROR: [12:01:11] \n",
      "RDKit ERROR: \n",
      "RDKit ERROR: ****\n",
      "RDKit ERROR: Pre-condition Violation\n",
      "RDKit ERROR: \n",
      "RDKit ERROR: Violation occurred on line 60 in file /home/conda/feedstock_root/build_artifacts/rdkit_1614687251479/work/Code/GraphMol/Conformer.cpp\n",
      "RDKit ERROR: Failed Expression: dp_mol->getNumAtoms() == d_positions.size()\n",
      "RDKit ERROR: ****\n",
      "RDKit ERROR: \n",
      "RDKit ERROR: [12:01:11] \n",
      "RDKit ERROR: \n",
      "RDKit ERROR: ****\n",
      "RDKit ERROR: Pre-condition Violation\n",
      "RDKit ERROR: \n",
      "RDKit ERROR: Violation occurred on line 60 in file /home/conda/feedstock_root/build_artifacts/rdkit_1614687251479/work/Code/GraphMol/Conformer.cpp\n",
      "RDKit ERROR: Failed Expression: dp_mol->getNumAtoms() == d_positions.size()\n",
      "RDKit ERROR: ****\n",
      "RDKit ERROR: \n",
      "RDKit ERROR: [12:01:11] \n",
      "RDKit ERROR: \n",
      "RDKit ERROR: ****\n",
      "RDKit ERROR: Pre-condition Violation\n",
      "RDKit ERROR: \n",
      "RDKit ERROR: Violation occurred on line 60 in file /home/conda/feedstock_root/build_artifacts/rdkit_1614687251479/work/Code/GraphMol/Conformer.cpp\n",
      "RDKit ERROR: Failed Expression: dp_mol->getNumAtoms() == d_positions.size()\n",
      "RDKit ERROR: ****\n",
      "RDKit ERROR: \n",
      "RDKit ERROR: [12:01:23] \n",
      "RDKit ERROR: \n",
      "RDKit ERROR: ****\n",
      "RDKit ERROR: Pre-condition Violation\n",
      "RDKit ERROR: \n",
      "RDKit ERROR: Violation occurred on line 60 in file /home/conda/feedstock_root/build_artifacts/rdkit_1614687251479/work/Code/GraphMol/Conformer.cpp\n",
      "RDKit ERROR: Failed Expression: dp_mol->getNumAtoms() == d_positions.size()\n",
      "RDKit ERROR: ****\n",
      "RDKit ERROR: \n",
      "RDKit ERROR: [12:01:23] \n",
      "RDKit ERROR: \n",
      "RDKit ERROR: ****\n",
      "RDKit ERROR: Pre-condition Violation\n",
      "RDKit ERROR: \n",
      "RDKit ERROR: Violation occurred on line 60 in file /home/conda/feedstock_root/build_artifacts/rdkit_1614687251479/work/Code/GraphMol/Conformer.cpp\n",
      "RDKit ERROR: Failed Expression: dp_mol->getNumAtoms() == d_positions.size()\n",
      "RDKit ERROR: ****\n",
      "RDKit ERROR: \n",
      "RDKit ERROR: [12:01:23] \n",
      "RDKit ERROR: \n",
      "RDKit ERROR: ****\n",
      "RDKit ERROR: Pre-condition Violation\n",
      "RDKit ERROR: \n",
      "e()\n",
      "****\n",
      "\n",
      "[11:57:22] \n",
      "\n",
      "****\n",
      "Pre-condition Violation\n",
      "\n",
      "Violation occurred on line 60 in file /home/conda/feedstock_root/build_artifacts/rdkit_1614687251479/work/Code/GraphMol/Conformer.cpp\n",
      "Failed Expression: dp_mol->getNumAtoms() == d_positions.size()\n",
      "****\n",
      "\n",
      "[11:57:22] \n",
      "\n",
      "****\n",
      "Pre-condition Violation\n",
      "\n",
      "Violation occurred on line 60 in file /home/conda/feedstock_root/build_artifacts/rdkit_1614687251479/work/Code/GraphMol/Conformer.cpp\n",
      "Failed Expression: dp_mol->getNumAtoms() == d_positions.size()\n",
      "****\n",
      "\n",
      "[11:57:22] \n",
      "\n",
      "****\n",
      "Pre-condition Violation\n",
      "\n",
      "Violation occurred on line 60 in file /home/conda/feedstock_root/build_artifacts/rdkit_1614687251479/work/Code/GraphMol/Conformer.cpp\n",
      "Failed Expression: dp_mol->getNumAtoms() == d_positions.size()\n",
      "****\n",
      "\n",
      "[11:57:22] \n",
      "\n",
      "****\n",
      "Pre-condition Violation\n",
      "\n",
      "Violation occurred on line 60 in file /home/conda/feedstock_root/build_artifacts/rdkit_1614687251479/work/Code/GraphMol/Conformer.cpp\n",
      "Failed Expression: dp_mol->getNumAtoms() == d_positions.size()\n",
      "****\n",
      "\n",
      "[12:01:11] \n",
      "\n",
      "****\n",
      "Pre-condition Violation\n",
      "\n",
      "Violation occurred on line 60 in file /home/conda/feedstock_root/build_artifacts/rdkit_1614687251479/work/Code/GraphMol/Conformer.cpp\n",
      "Failed Expression: dp_mol->getNumAtoms() == d_positions.size()\n",
      "****\n",
      "\n",
      "[12:01:11] \n",
      "\n",
      "****\n",
      "Pre-condition Violation\n",
      "\n",
      "Violation occurred on line 60 in file /home/conda/feedstock_root/build_artifacts/rdkit_1614687251479/work/Code/GraphMol/Conformer.cpp\n",
      "Failed Expression: dp_mol->getNumAtoms() == d_positions.size()\n",
      "****\n",
      "\n",
      "[12:01:11] \n",
      "\n",
      "****\n",
      "Pre-condition Violation\n",
      "\n",
      "Violation occurred on line 60 in file /home/conda/feedstock_root/build_artifacts/rdkit_1614687251479/work/Code/GraphMol/Conformer.cpp\n",
      "Failed Expression: dp_mol->getNumAtoms() == d_positions.size()\n",
      "****\n",
      "\n",
      "[12:01:11] \n",
      "\n",
      "****\n",
      "Pre-condition Violation\n",
      "\n",
      "Violation occurred on line 60 in file /home/conda/feedstock_root/build_artifacts/rdkit_1614687251479/work/Code/GraphMol/Conformer.cpp\n",
      "Failed Expression: dp_mol->getNumAtoms() == d_positions.size()\n",
      "****\n",
      "\n",
      "[12:01:11] \n",
      "\n",
      "****\n",
      "Pre-condition Violation\n",
      "\n",
      "Violation occurred on line 60 in file /home/conda/feedstock_root/build_artifacts/rdkit_1614687251479/work/Code/GraphMol/Conformer.cpp\n",
      "Failed Expression: dp_mol->getNumAtoms() == d_positions.size()\n",
      "****\n",
      "\n",
      "[12:01:11] \n",
      "\n",
      "****\n",
      "Pre-condition Violation\n",
      "\n",
      "Violation occurred on line 60 in file /home/conda/feedstock_root/build_artifacts/rdkit_1614687251479/work/Code/GraphMol/Conformer.cpp\n",
      "Failed Expression: dp_mol->getNumAtoms() == d_positions.size()\n",
      "****\n",
      "\n",
      "[12:01:11] \n",
      "\n",
      "****\n",
      "Pre-condition Violation\n",
      "\n",
      "Violation occurred on line 60 in file /home/conda/feedstock_root/build_artifacts/rdkit_1614687251479/work/Code/GraphMol/Conformer.cpp\n",
      "Failed Expression: dp_mol->getNumAtoms() == d_positions.size()\n",
      "****\n",
      "\n",
      "[12:01:11] \n",
      "\n",
      "****\n",
      "Pre-condition Violation\n",
      "\n",
      "Violation occurred on line 60 in file /home/conda/feedstock_root/build_artifacts/rdkit_1614687251479/work/Code/GraphMol/Conformer.cpp\n",
      "Failed Expression: dp_mol->getNumAtoms() == d_positions.size()\n",
      "****\n",
      "\n",
      "[12:01:11] \n",
      "\n",
      "****\n",
      "Pre-condition Violation\n",
      "\n",
      "Violation occurred on line 60 in file /home/conda/feedstock_root/build_artifacts/rdkit_1614687251479/work/Code/GraphMol/Conformer.cpp\n",
      "Failed Expression: dp_mol->getNumAtoms() == d_positions.size()\n",
      "****\n",
      "\n",
      "[12:01:11] \n",
      "\n",
      "****\n",
      "Pre-condition Violation\n",
      "\n",
      "Violation occurred on line 60 in file /home/conda/feedstock_root/build_artifacts/rdkit_1614687251479/work/Code/GraphMol/Conformer.cpp\n",
      "Failed Expression: dp_mol->getNumAtoms() == d_positions.size()\n",
      "****\n",
      "\n",
      "[12:01:23] \n",
      "\n",
      "****\n",
      "Pre-condition Violation\n",
      "\n",
      "Violation occurred on line 60 in file /home/conda/feedstock_root/build_artifacts/rdkit_1614687251479/work/Code/GraphMol/Conformer.cpp\n",
      "Failed Expression: dp_mol->getNumAtoms() == d_positions.size()\n",
      "****\n",
      "\n",
      "[12:01:23] \n",
      "\n",
      "****\n",
      "Pre-condition Violation\n",
      "\n",
      "Violation occurred on line 60 in file /home/conda/feedstock_root/build_artifacts/rdkit_1614687251479/work/Code/GraphMol/Conformer.cpp\n",
      "Failed Expression: dp_mol->getNumAtoms() == d_positions.size()\n",
      "****\n",
      "\n",
      "[12:01:23] \n",
      "\n",
      "****\n",
      "Pre-condition Violation\n",
      "\n",
      " 28%|██▊       | 100/353 [28:16<1:35:26, 22.64s/it]eedstock_root/build_artifacts/rdkit_1614687251479/work/C"
     ]
    },
    {
     "name": "stdout",
     "output_type": "stream",
     "text": [
      "LeDock Docking finished\n",
      "Have been converted to mol2 file! /home/haotian/Molecule_Generation/Flexible-docking/data/esmfold_time_split/5zlf/5zlf_ligand.sdf\n"
     ]
    },
    {
     "name": "stderr",
     "output_type": "stream",
     "text": [
      " 29%|██▊       | 101/353 [28:27<1:20:01, 19.05s/it]"
     ]
    },
    {
     "name": "stdout",
     "output_type": "stream",
     "text": [
      "LeDock Docking finished\n"
     ]
    },
    {
     "name": "stderr",
     "output_type": "stream",
     "text": [
      " 29%|██▉       | 102/353 [28:36<1:06:53, 15.99s/it]"
     ]
    },
    {
     "name": "stdout",
     "output_type": "stream",
     "text": [
      "LeDock Docking finished\n",
      "Have been converted to mol2 file! /home/haotian/Molecule_Generation/Flexible-docking/data/esmfold_time_split/6e3m/6e3m_ligand.sdf\n"
     ]
    },
    {
     "name": "stderr",
     "output_type": "stream",
     "text": [
      " 29%|██▉       | 103/353 [28:44<56:25, 13.54s/it]  "
     ]
    },
    {
     "name": "stdout",
     "output_type": "stream",
     "text": [
      "LeDock Docking finished\n",
      "Have been converted to mol2 file! /home/haotian/Molecule_Generation/Flexible-docking/data/esmfold_time_split/6cyg/6cyg_ligand.sdf\n"
     ]
    },
    {
     "name": "stderr",
     "output_type": "stream",
     "text": [
      " 29%|██▉       | 104/353 [28:52<49:42, 11.98s/it]"
     ]
    },
    {
     "name": "stdout",
     "output_type": "stream",
     "text": [
      "LeDock Docking finished\n"
     ]
    },
    {
     "name": "stderr",
     "output_type": "stream",
     "text": [
      "RDKit ERROR: Violation occurred on line 60 in file /home/conda/feedstock_root/build_artifacts/rdkit_1614687251479/work/Code/GraphMol/Conformer.cpp\n",
      "RDKit ERROR: Failed Expression: dp_mol->getNumAtoms() == d_positions.size()\n",
      "RDKit ERROR: ****\n",
      "RDKit ERROR: \n",
      "RDKit ERROR: [12:01:23] \n",
      "RDKit ERROR: \n",
      "RDKit ERROR: ****\n",
      "RDKit ERROR: Pre-condition Violation\n",
      "RDKit ERROR: \n",
      "RDKit ERROR: Violation occurred on line 60 in file /home/conda/feedstock_root/build_artifacts/rdkit_1614687251479/work/Code/GraphMol/Conformer.cpp\n",
      "RDKit ERROR: Failed Expression: dp_mol->getNumAtoms() == d_positions.size()\n",
      "RDKit ERROR: ****\n",
      "RDKit ERROR: \n",
      "RDKit ERROR: [12:01:23] \n",
      "RDKit ERROR: \n",
      "RDKit ERROR: ****\n",
      "RDKit ERROR: Pre-condition Violation\n",
      "RDKit ERROR: \n",
      "RDKit ERROR: Violation occurred on line 60 in file /home/conda/feedstock_root/build_artifacts/rdkit_1614687251479/work/Code/GraphMol/Conformer.cpp\n",
      "RDKit ERROR: Failed Expression: dp_mol->getNumAtoms() == d_positions.size()\n",
      "RDKit ERROR: ****\n",
      "RDKit ERROR: \n",
      "RDKit ERROR: [12:01:23] \n",
      "RDKit ERROR: \n",
      "RDKit ERROR: ****\n",
      "RDKit ERROR: Pre-condition Violation\n",
      "RDKit ERROR: \n",
      "RDKit ERROR: Violation occurred on line 60 in file /home/conda/feedstock_root/build_artifacts/rdkit_1614687251479/work/Code/GraphMol/Conformer.cpp\n",
      "RDKit ERROR: Failed Expression: dp_mol->getNumAtoms() == d_positions.size()\n",
      "RDKit ERROR: ****\n",
      "RDKit ERROR: \n",
      "RDKit ERROR: [12:01:23] \n",
      "RDKit ERROR: \n",
      "RDKit ERROR: ****\n",
      "RDKit ERROR: Pre-condition Violation\n",
      "RDKit ERROR: \n",
      "RDKit ERROR: Violation occurred on line 60 in file /home/conda/feedstock_root/build_artifacts/rdkit_1614687251479/work/Code/GraphMol/Conformer.cpp\n",
      "RDKit ERROR: Failed Expression: dp_mol->getNumAtoms() == d_positions.size()\n",
      "RDKit ERROR: ****\n",
      "RDKit ERROR: \n",
      "RDKit ERROR: [12:01:23] \n",
      "RDKit ERROR: \n",
      "RDKit ERROR: ****\n",
      "RDKit ERROR: Pre-condition Violation\n",
      "RDKit ERROR: \n",
      "RDKit ERROR: Violation occurred on line 60 in file /home/conda/feedstock_root/build_artifacts/rdkit_1614687251479/work/Code/GraphMol/Conformer.cpp\n",
      "RDKit ERROR: Failed Expression: dp_mol->getNumAtoms() == d_positions.size()\n",
      "RDKit ERROR: ****\n",
      "RDKit ERROR: \n",
      "RDKit ERROR: [12:01:23] \n",
      "RDKit ERROR: \n",
      "RDKit ERROR: ****\n",
      "RDKit ERROR: Pre-condition Violation\n",
      "RDKit ERROR: \n",
      "RDKit ERROR: Violation occurred on line 60 in file /home/conda/feedstock_root/build_artifacts/rdkit_1614687251479/work/Code/GraphMol/Conformer.cpp\n",
      "RDKit ERROR: Failed Expression: dp_mol->getNumAtoms() == d_positions.size()\n",
      "RDKit ERROR: ****\n",
      "RDKit ERROR: \n",
      "RDKit ERROR: [12:01:43] \n",
      "RDKit ERROR: \n",
      "RDKit ERROR: ****\n",
      "RDKit ERROR: Pre-condition Violation\n",
      "RDKit ERROR: \n",
      "RDKit ERROR: Violation occurred on line 60 in file /home/conda/feedstock_root/build_artifacts/rdkit_1614687251479/work/Code/GraphMol/Conformer.cpp\n",
      "RDKit ERROR: Failed Expression: dp_mol->getNumAtoms() == d_positions.size()\n",
      "RDKit ERROR: ****\n",
      "RDKit ERROR: \n",
      "RDKit ERROR: [12:01:43] \n",
      "RDKit ERROR: \n",
      "RDKit ERROR: ****\n",
      "RDKit ERROR: Pre-condition Violation\n",
      "RDKit ERROR: \n",
      "RDKit ERROR: Violation occurred on line 60 in file /home/conda/feedstock_root/build_artifacts/rdkit_1614687251479/work/Code/GraphMol/Conformer.cpp\n",
      "RDKit ERROR: Failed Expression: dp_mol->getNumAtoms() == d_positions.size()\n",
      "RDKit ERROR: ****\n",
      "RDKit ERROR: \n",
      "RDKit ERROR: [12:01:43] \n",
      "RDKit ERROR: \n",
      "RDKit ERROR: ****\n",
      "RDKit ERROR: Pre-condition Violation\n",
      "RDKit ERROR: \n",
      "RDKit ERROR: Violation occurred on line 60 in file /home/conda/feedstock_root/build_artifacts/rdkit_1614687251479/work/Code/GraphMol/Conformer.cpp\n",
      "RDKit ERROR: Failed Expression: dp_mol->getNumAtoms() == d_positions.size()\n",
      "RDKit ERROR: ****\n",
      "RDKit ERROR: \n",
      "RDKit ERROR: [12:01:43] \n",
      "RDKit ERROR: \n",
      "RDKit ERROR: ****\n",
      "RDKit ERROR: Pre-condition Violation\n",
      "RDKit ERROR: \n",
      "RDKit ERROR: Violation occurred on line 60 in file /home/conda/feedstock_root/build_artifacts/rdkit_1614687251479/work/Code/GraphMol/Conformer.cpp\n",
      "RDKit ERROR: Failed Expression: dp_mol->getNumAtoms() == d_positions.size()\n",
      "RDKit ERROR: ****\n",
      "RDKit ERROR: \n",
      "RDKit ERROR: [12:01:43] \n",
      "RDKit ERROR: \n",
      "RDKit ERROR: ****\n",
      "RDKit ERROR: Pre-condition Violation\n",
      "RDKit ERROR: \n",
      "RDKit ERROR: Violation occurred on line 60 in file /home/conda/feedstock_root/build_artifacts/rdkit_1614687251479/work/Code/GraphMol/Conformer.cpp\n",
      "RDKit ERROR: Failed Expression: dp_mol->getNumAtoms() == d_positions.size()\n",
      "RDKit ERROR: ****\n",
      "RDKit ERROR: \n",
      "RDKit ERROR: [12:01:43] \n",
      "RDKit ERROR: \n",
      "RDKit ERROR: ****\n",
      "RDKit ERROR: Pre-condition Violation\n",
      "RDKit ERROR: \n",
      "RDKit ERROR: Violation occurred on line 60 in file /home/conda/feedstock_root/build_artifacts/rdkit_1614687251479/work/Code/GraphMol/Conformer.cpp\n",
      "RDKit ERROR: Failed Expression: dp_mol->getNumAtoms() == d_positions.size()\n",
      "RDKit ERROR: ****\n",
      "RDKit ERROR: \n",
      "RDKit ERROR: [12:01:43] \n",
      "RDKit ERROR: \n",
      "RDKit ERROR: ****\n",
      "RDKit ERROR: Pre-condition Violation\n",
      "RDKit ERROR: \n",
      "RDKit ERROR: Violation occurred on line 60 in file /home/conda/feedstock_root/build_artifacts/rdkit_1614687251479/work/Code/GraphMol/Conformer.cpp\n",
      "RDKit ERROR: Failed Expression: dp_mol->getNumAtoms() == d_positions.size()\n",
      "RDKit ERROR: ****\n",
      "RDKit ERROR: \n",
      "RDKit ERROR: [12:02:05] \n",
      "RDKit ERROR: \n",
      "RDKit ERROR: ****\n",
      "RDKit ERROR: Pre-condition Violation\n",
      "RDKit ERROR: \n",
      "RDKit ERROR: Violation occurred on line 60 in file /home/conda/feedstock_root/build_artifacts/rdkit_1614687251479/work/Code/GraphMol/Conformer.cpp\n",
      "RDKit ERROR: Failed Expression: dp_mol->getNumAtoms() == d_positions.size()\n",
      "RDKit ERROR: ****\n",
      "RDKit ERROR: \n",
      "RDKit ERROR: [12:02:05] \n",
      "RDKit ERROR: \n",
      "RDKit ERROR: ****\n",
      "RDKit ERROR: Pre-condition Violation\n",
      "RDKit ERROR: \n",
      "RDKit ERROR: Violation occurred on line 60 in file /home/conda/feedstock_root/build_artifacts/rdkit_1614687251479/work/Code/GraphMol/Conformer.cpp\n",
      "RDKit ERROR: Failed Expression: dp_mol->getNumAtoms() == d_positions.size()\n",
      "RDKit ERROR: ****\n",
      "RDKit ERROR: \n",
      "RDKit ERROR: [12:02:05] \n",
      "RDKit ERROR: \n",
      "RDKit ERROR: ****\n",
      "RDKit ERROR: Pre-condition Violation\n",
      "RDKit ERROR: \n",
      "RDKit ERROR: Violation occurred on line 60 in file /home/conda/feedstock_root/build_artifacts/rdkit_1614687251479/work/Code/GraphMol/Conformer.cpp\n",
      "RDKit ERROR: Failed Expression: dp_mol->getNumAtoms() == d_positions.size()\n",
      "RDKit ERROR: ****\n",
      "RDKit ERROR: \n",
      "RDKit ERROR: [12:02:05] \n",
      "RDKit ERROR: \n",
      "RDKit ERROR: ****\n",
      "RDKit ERROR: Pre-condition Violation\n",
      "RDKit ERROR: \n",
      " 30%|██▉       | 105/353 [28:58<42:15, 10.22s/it]ode/GraphMol/Conformer.cpp\n",
      "Failed Expression: dp_mol->getNumAtoms() == d_positions.size()\n",
      "****\n",
      "\n",
      "[12:01:23] \n",
      "\n",
      "****\n",
      "Pre-condition Violation\n",
      "\n",
      "Violation occurred on line 60 in file /home/conda/feedstock_root/build_artifacts/rdkit_1614687251479/work/Code/GraphMol/Conformer.cpp\n",
      "Failed Expression: dp_mol->getNumAtoms() == d_positions.size()\n",
      "****\n",
      "\n",
      "[12:01:23] \n",
      "\n",
      "****\n",
      "Pre-condition Violation\n",
      "\n",
      "Violation occurred on line 60 in file /home/conda/feedstock_root/build_artifacts/rdkit_1614687251479/work/Code/GraphMol/Conformer.cpp\n",
      "Failed Expression: dp_mol->getNumAtoms() == d_positions.size()\n",
      "****\n",
      "\n",
      "[12:01:23] \n",
      "\n",
      "****\n",
      "Pre-condition Violation\n",
      "\n",
      "Violation occurred on line 60 in file /home/conda/feedstock_root/build_artifacts/rdkit_1614687251479/work/Code/GraphMol/Conformer.cpp\n",
      "Failed Expression: dp_mol->getNumAtoms() == d_positions.size()\n",
      "****\n",
      "\n",
      "[12:01:23] \n",
      "\n",
      "****\n",
      "Pre-condition Violation\n",
      "\n",
      "Violation occurred on line 60 in file /home/conda/feedstock_root/build_artifacts/rdkit_1614687251479/work/Code/GraphMol/Con"
     ]
    },
    {
     "name": "stdout",
     "output_type": "stream",
     "text": [
      "LeDock Docking finished\n",
      "Have been converted to mol2 file! /home/haotian/Molecule_Generation/Flexible-docking/data/esmfold_time_split/6ggf/6ggf_ligand.sdf\n"
     ]
    },
    {
     "name": "stderr",
     "output_type": "stream",
     "text": [
      "former.cpp\n",
      "Failed Expression: dp_mol->getNumAtoms() == d_positions.size()\n",
      "****\n",
      "\n",
      "[12:01:23] \n",
      "\n",
      "****\n",
      "Pre-condition Violation\n",
      "\n",
      "Violation occurred on line 60 in file /home/conda/feedstock_root/build_artifacts/rdkit_1614687251479/work/Code/GraphMol/Conformer.cpp\n",
      "Failed Expression: dp_mol->getNumAtoms() == d_positions.size()\n",
      "****\n",
      "\n",
      "[12:01:23] \n",
      "\n",
      "****\n",
      "Pre-condition Violation\n",
      "\n",
      "Violation occurred on line 60 in file /home/conda/feedstock_root/build_artifacts/rdkit_1614687251479/work/Code/GraphMol/Conformer.cpp\n",
      "Failed Expression: dp_mol->getNumAtoms() == d_positions.size()\n",
      "****\n",
      "\n",
      "[12:01:43] \n",
      "\n",
      "****\n",
      "Pre-condition Violation\n",
      "\n",
      "Violation occurred on line 60 in file /home/conda/feedstock_root/build_artifacts/rdkit_1614687251479/work/Code/GraphMol/Conformer.cpp\n",
      "Failed Expression: dp_mol->getNumAtoms() == d_positions.size()\n",
      "****\n",
      "\n",
      "[12:01:43] \n",
      "\n",
      "****\n",
      "Pre-condition Violation\n",
      "\n",
      "Violation occurred on line 60 in file /home/conda/feedstock_root/build_artifacts/rdkit_1614687251479/work/Code/GraphMol/Conformer.cpp\n",
      "Failed Expression: dp_mol->getNumAtoms() == d_positions.size()\n",
      "****\n",
      "\n",
      "[12:01:43] \n",
      "\n",
      "****\n",
      "Pre-condition Violation\n",
      "\n",
      "Violation occurred on line 60 in file /home/conda/feedstock_root/build_artifacts/rdkit_1614687251479/work/Code/GraphMol/Conformer.cpp\n",
      "Failed Expression: dp_mol->getNumAtoms() == d_positions.size()\n",
      "****\n",
      "\n",
      "[12:01:43] \n",
      "\n",
      "****\n",
      "Pre-condition Violation\n",
      "\n",
      "Violation occurred on line 60 in file /home/conda/feedstock_root/build_artifacts/rdkit_1614687251479/work/Code/GraphMol/Conformer.cpp\n",
      "Failed Expression: dp_mol->getNumAtoms() == d_positions.size()\n",
      "****\n",
      "\n",
      "[12:01:43] \n",
      "\n",
      "****\n",
      "Pre-condition Violation\n",
      "\n",
      "Violation occurred on line 60 in file /home/conda/feedstock_root/build_artifacts/rdkit_1614687251479/work/Code/GraphMol/Conformer.cpp\n",
      "Failed Expression: dp_mol->getNumAtoms() == d_positions.size()\n",
      "****\n",
      "\n",
      "[12:01:43] \n",
      "\n",
      "****\n",
      "Pre-condition Violation\n",
      "\n",
      "Violation occurred on line 60 in file /home/conda/feedstock_root/build_artifacts/rdkit_1614687251479/work/Code/GraphMol/Conformer.cpp\n",
      "Failed Expression: dp_mol->getNumAtoms() == d_positions.size()\n",
      "****\n",
      "\n",
      "[12:01:43] \n",
      "\n",
      "****\n",
      "Pre-condition Violation\n",
      "\n",
      "Violation occurred on line 60 in file /home/conda/feedstock_root/build_artifacts/rdkit_1614687251479/work/Code/GraphMol/Conformer.cpp\n",
      "Failed Expression: dp_mol->getNumAtoms() == d_positions.size()\n",
      "****\n",
      "\n",
      "[12:02:05] \n",
      "\n",
      "****\n",
      "Pre-condition Violation\n",
      "\n",
      "Violation occurred on line 60 in file /home/conda/feedstock_root/build_artifacts/rdkit_1614687251479/work/Code/GraphMol/Conformer.cpp\n",
      "Failed Expression: dp_mol->getNumAtoms() == d_positions.size()\n",
      "****\n",
      "\n",
      "[12:02:05] \n",
      "\n",
      "****\n",
      "Pre-condition Violation\n",
      "\n",
      "Violation occurred on line 60 in file /home/conda/feedstock_root/build_artifacts/rdkit_1614687251479/work/Code/GraphMol/Conformer.cpp\n",
      "Failed Expression: dp_mol->getNumAtoms() == d_positions.size()\n",
      "****\n",
      "\n",
      "[12:02:05] \n",
      "\n",
      "****\n",
      "Pre-condition Violation\n",
      "\n",
      "Violation occurred on line 60 in file /home/conda/feedstock_root/build_artifacts/rdkit_1614687251479/work/Code/GraphMol/Conformer.cpp\n",
      "Failed Expression: dp_mol->getNumAtoms() == d_positions.size()\n",
      "****\n",
      "\n",
      "[12:02:05] \n",
      "\n",
      "****\n",
      "Pre-condition Violation\n",
      "\n",
      " 30%|███       | 106/353 [29:05<37:59,  9.23s/it]"
     ]
    },
    {
     "name": "stdout",
     "output_type": "stream",
     "text": [
      "LeDock Docking finished\n",
      "Have been converted to mol2 file! /home/haotian/Molecule_Generation/Flexible-docking/data/esmfold_time_split/6hoq/6hoq_ligand.sdf\n"
     ]
    },
    {
     "name": "stderr",
     "output_type": "stream",
     "text": [
      " 30%|███       | 107/353 [29:11<33:47,  8.24s/it]"
     ]
    },
    {
     "name": "stdout",
     "output_type": "stream",
     "text": [
      "LeDock Docking finished\n",
      "Have been converted to mol2 file! /home/haotian/Molecule_Generation/Flexible-docking/data/esmfold_time_split/6oir/6oir_ligand.sdf\n"
     ]
    },
    {
     "name": "stderr",
     "output_type": "stream",
     "text": [
      " 31%|███       | 108/353 [29:21<35:32,  8.70s/it]"
     ]
    },
    {
     "name": "stdout",
     "output_type": "stream",
     "text": [
      "LeDock Docking finished\n",
      "Have been converted to mol2 file! /home/haotian/Molecule_Generation/Flexible-docking/data/esmfold_time_split/6hor/6hor_ligand.sdf\n"
     ]
    },
    {
     "name": "stderr",
     "output_type": "stream",
     "text": [
      " 31%|███       | 109/353 [29:27<32:00,  7.87s/it]"
     ]
    },
    {
     "name": "stdout",
     "output_type": "stream",
     "text": [
      "LeDock Docking finished\n",
      "Have been converted to mol2 file! /home/haotian/Molecule_Generation/Flexible-docking/data/esmfold_time_split/6p8y/6p8y_ligand.sdf\n"
     ]
    },
    {
     "name": "stderr",
     "output_type": "stream",
     "text": [
      " 31%|███       | 110/353 [29:38<36:15,  8.95s/it]"
     ]
    },
    {
     "name": "stdout",
     "output_type": "stream",
     "text": [
      "LeDock Docking finished\n",
      "Have been converted to mol2 file! /home/haotian/Molecule_Generation/Flexible-docking/data/esmfold_time_split/6oxz/6oxz_ligand.sdf\n"
     ]
    },
    {
     "name": "stderr",
     "output_type": "stream",
     "text": [
      " 31%|███▏      | 111/353 [29:58<49:10, 12.19s/it]"
     ]
    },
    {
     "name": "stdout",
     "output_type": "stream",
     "text": [
      "LeDock Docking finished\n"
     ]
    },
    {
     "name": "stderr",
     "output_type": "stream",
     "text": [
      " 32%|███▏      | 112/353 [30:09<47:45, 11.89s/it]"
     ]
    },
    {
     "name": "stdout",
     "output_type": "stream",
     "text": [
      "LeDock Docking finished\n",
      "Have been converted to mol2 file! /home/haotian/Molecule_Generation/Flexible-docking/data/esmfold_time_split/6qxd/6qxd_ligand.sdf\n"
     ]
    },
    {
     "name": "stderr",
     "output_type": "stream",
     "text": [
      " 32%|███▏      | 113/353 [30:19<45:10, 11.29s/it]"
     ]
    },
    {
     "name": "stdout",
     "output_type": "stream",
     "text": [
      "LeDock Docking finished\n",
      "Have been converted to mol2 file! /home/haotian/Molecule_Generation/Flexible-docking/data/esmfold_time_split/5zk9/5zk9_ligand.sdf\n"
     ]
    },
    {
     "name": "stderr",
     "output_type": "stream",
     "text": [
      " 32%|███▏      | 114/353 [31:19<1:43:11, 25.90s/it]"
     ]
    },
    {
     "name": "stdout",
     "output_type": "stream",
     "text": [
      "timeout\n",
      "Have been converted to mol2 file! /home/haotian/Molecule_Generation/Flexible-docking/data/esmfold_time_split/6k3l/6k3l_ligand.sdf\n"
     ]
    },
    {
     "name": "stderr",
     "output_type": "stream",
     "text": [
      " 33%|███▎      | 115/353 [31:27<1:21:45, 20.61s/it]"
     ]
    },
    {
     "name": "stdout",
     "output_type": "stream",
     "text": [
      "LeDock Docking finished\n",
      "Have been converted to mol2 file! /home/haotian/Molecule_Generation/Flexible-docking/data/esmfold_time_split/6cjs/6cjs_ligand.sdf\n"
     ]
    },
    {
     "name": "stderr",
     "output_type": "stream",
     "text": [
      " 33%|███▎      | 116/353 [31:40<1:11:44, 18.16s/it]"
     ]
    },
    {
     "name": "stdout",
     "output_type": "stream",
     "text": [
      "LeDock Docking finished\n",
      "Have been converted to mol2 file! /home/haotian/Molecule_Generation/Flexible-docking/data/esmfold_time_split/6hzd/6hzd_ligand.sdf\n"
     ]
    },
    {
     "name": "stderr",
     "output_type": "stream",
     "text": [
      " 33%|███▎      | 117/353 [32:15<1:32:04, 23.41s/it]"
     ]
    },
    {
     "name": "stdout",
     "output_type": "stream",
     "text": [
      "LeDock Docking finished\n",
      "Have been converted to mol2 file! /home/haotian/Molecule_Generation/Flexible-docking/data/esmfold_time_split/6pnn/6pnn_ligand.sdf\n"
     ]
    },
    {
     "name": "stderr",
     "output_type": "stream",
     "text": [
      " 33%|███▎      | 118/353 [32:23<1:13:51, 18.86s/it]"
     ]
    },
    {
     "name": "stdout",
     "output_type": "stream",
     "text": [
      "LeDock Docking finished\n"
     ]
    },
    {
     "name": "stderr",
     "output_type": "stream",
     "text": [
      " 34%|███▎      | 119/353 [32:30<59:36, 15.28s/it]  "
     ]
    },
    {
     "name": "stdout",
     "output_type": "stream",
     "text": [
      "LeDock Docking finished\n",
      "Have been converted to mol2 file! /home/haotian/Molecule_Generation/Flexible-docking/data/esmfold_time_split/6mja/6mja_ligand.sdf\n"
     ]
    },
    {
     "name": "stderr",
     "output_type": "stream",
     "text": [
      " 34%|███▍      | 120/353 [33:27<1:48:02, 27.82s/it]"
     ]
    },
    {
     "name": "stdout",
     "output_type": "stream",
     "text": [
      "LeDock Docking finished\n"
     ]
    },
    {
     "name": "stderr",
     "output_type": "stream",
     "text": [
      "RDKit ERROR: Violation occurred on line 60 in file /home/conda/feedstock_root/build_artifacts/rdkit_1614687251479/work/Code/GraphMol/Conformer.cpp\n",
      "RDKit ERROR: Failed Expression: dp_mol->getNumAtoms() == d_positions.size()\n",
      "RDKit ERROR: ****\n",
      "RDKit ERROR: \n",
      "RDKit ERROR: [12:02:05] \n",
      "RDKit ERROR: \n",
      "RDKit ERROR: ****\n",
      "RDKit ERROR: Pre-condition Violation\n",
      "RDKit ERROR: \n",
      "RDKit ERROR: Violation occurred on line 60 in file /home/conda/feedstock_root/build_artifacts/rdkit_1614687251479/work/Code/GraphMol/Conformer.cpp\n",
      "RDKit ERROR: Failed Expression: dp_mol->getNumAtoms() == d_positions.size()\n",
      "RDKit ERROR: ****\n",
      "RDKit ERROR: \n",
      "RDKit ERROR: [12:02:05] \n",
      "RDKit ERROR: \n",
      "RDKit ERROR: ****\n",
      "RDKit ERROR: Pre-condition Violation\n",
      "RDKit ERROR: \n",
      "RDKit ERROR: Violation occurred on line 60 in file /home/conda/feedstock_root/build_artifacts/rdkit_1614687251479/work/Code/GraphMol/Conformer.cpp\n",
      "RDKit ERROR: Failed Expression: dp_mol->getNumAtoms() == d_positions.size()\n",
      "RDKit ERROR: ****\n",
      "RDKit ERROR: \n",
      "RDKit ERROR: [12:03:16] \n",
      "RDKit ERROR: \n",
      "RDKit ERROR: ****\n",
      "RDKit ERROR: Pre-condition Violation\n",
      "RDKit ERROR: \n",
      "RDKit ERROR: Violation occurred on line 60 in file /home/conda/feedstock_root/build_artifacts/rdkit_1614687251479/work/Code/GraphMol/Conformer.cpp\n",
      "RDKit ERROR: Failed Expression: dp_mol->getNumAtoms() == d_positions.size()\n",
      "RDKit ERROR: ****\n",
      "RDKit ERROR: \n",
      "RDKit ERROR: [12:03:16] \n",
      "RDKit ERROR: \n",
      "RDKit ERROR: ****\n",
      "RDKit ERROR: Pre-condition Violation\n",
      "RDKit ERROR: \n",
      "RDKit ERROR: Violation occurred on line 60 in file /home/conda/feedstock_root/build_artifacts/rdkit_1614687251479/work/Code/GraphMol/Conformer.cpp\n",
      "RDKit ERROR: Failed Expression: dp_mol->getNumAtoms() == d_positions.size()\n",
      "RDKit ERROR: ****\n",
      "RDKit ERROR: \n",
      "RDKit ERROR: [12:03:16] \n",
      "RDKit ERROR: \n",
      "RDKit ERROR: ****\n",
      "RDKit ERROR: Pre-condition Violation\n",
      "RDKit ERROR: \n",
      "RDKit ERROR: Violation occurred on line 60 in file /home/conda/feedstock_root/build_artifacts/rdkit_1614687251479/work/Code/GraphMol/Conformer.cpp\n",
      "RDKit ERROR: Failed Expression: dp_mol->getNumAtoms() == d_positions.size()\n",
      "RDKit ERROR: ****\n",
      "RDKit ERROR: \n",
      "RDKit ERROR: [12:03:16] \n",
      "RDKit ERROR: \n",
      "RDKit ERROR: ****\n",
      "RDKit ERROR: Pre-condition Violation\n",
      "RDKit ERROR: \n",
      "RDKit ERROR: Violation occurred on line 60 in file /home/conda/feedstock_root/build_artifacts/rdkit_1614687251479/work/Code/GraphMol/Conformer.cpp\n",
      "RDKit ERROR: Failed Expression: dp_mol->getNumAtoms() == d_positions.size()\n",
      "RDKit ERROR: ****\n",
      "RDKit ERROR: \n",
      "RDKit ERROR: [12:03:16] \n",
      "RDKit ERROR: \n",
      "RDKit ERROR: ****\n",
      "RDKit ERROR: Pre-condition Violation\n",
      "RDKit ERROR: \n",
      "RDKit ERROR: Violation occurred on line 60 in file /home/conda/feedstock_root/build_artifacts/rdkit_1614687251479/work/Code/GraphMol/Conformer.cpp\n",
      "RDKit ERROR: Failed Expression: dp_mol->getNumAtoms() == d_positions.size()\n",
      "RDKit ERROR: ****\n",
      "RDKit ERROR: \n",
      "RDKit ERROR: [12:03:16] \n",
      "RDKit ERROR: \n",
      "RDKit ERROR: ****\n",
      "RDKit ERROR: Pre-condition Violation\n",
      "RDKit ERROR: \n",
      "RDKit ERROR: Violation occurred on line 60 in file /home/conda/feedstock_root/build_artifacts/rdkit_1614687251479/work/Code/GraphMol/Conformer.cpp\n",
      "RDKit ERROR: Failed Expression: dp_mol->getNumAtoms() == d_positions.size()\n",
      "RDKit ERROR: ****\n",
      "RDKit ERROR: \n",
      "RDKit ERROR: [12:03:16] \n",
      "RDKit ERROR: \n",
      "RDKit ERROR: ****\n",
      "RDKit ERROR: Pre-condition Violation\n",
      "RDKit ERROR: \n",
      "RDKit ERROR: Violation occurred on line 60 in file /home/conda/feedstock_root/build_artifacts/rdkit_1614687251479/work/Code/GraphMol/Conformer.cpp\n",
      "RDKit ERROR: Failed Expression: dp_mol->getNumAtoms() == d_positions.size()\n",
      "RDKit ERROR: ****\n",
      "RDKit ERROR: \n",
      "RDKit ERROR: [12:03:16] \n",
      "RDKit ERROR: \n",
      "RDKit ERROR: ****\n",
      "RDKit ERROR: Pre-condition Violation\n",
      "RDKit ERROR: \n",
      "RDKit ERROR: Violation occurred on line 60 in file /home/conda/feedstock_root/build_artifacts/rdkit_1614687251479/work/Code/GraphMol/Conformer.cpp\n",
      "RDKit ERROR: Failed Expression: dp_mol->getNumAtoms() == d_positions.size()\n",
      "RDKit ERROR: ****\n",
      "RDKit ERROR: \n",
      "RDKit ERROR: [12:03:16] \n",
      "RDKit ERROR: \n",
      "RDKit ERROR: ****\n",
      "RDKit ERROR: Pre-condition Violation\n",
      "RDKit ERROR: \n",
      "RDKit ERROR: Violation occurred on line 60 in file /home/conda/feedstock_root/build_artifacts/rdkit_1614687251479/work/Code/GraphMol/Conformer.cpp\n",
      "RDKit ERROR: Failed Expression: dp_mol->getNumAtoms() == d_positions.size()\n",
      "RDKit ERROR: ****\n",
      "RDKit ERROR: \n",
      "RDKit ERROR: [12:05:37] \n",
      "RDKit ERROR: \n",
      "RDKit ERROR: ****\n",
      "RDKit ERROR: Pre-condition Violation\n",
      "RDKit ERROR: \n",
      "RDKit ERROR: Violation occurred on line 60 in file /home/conda/feedstock_root/build_artifacts/rdkit_1614687251479/work/Code/GraphMol/Conformer.cpp\n",
      "RDKit ERROR: Failed Expression: dp_mol->getNumAtoms() == d_positions.size()\n",
      "RDKit ERROR: ****\n",
      "RDKit ERROR: \n",
      "RDKit ERROR: [12:06:45] \n",
      "RDKit ERROR: \n",
      "RDKit ERROR: ****\n",
      "RDKit ERROR: Pre-condition Violation\n",
      "RDKit ERROR: \n",
      "RDKit ERROR: Violation occurred on line 60 in file /home/conda/feedstock_root/build_artifacts/rdkit_1614687251479/work/Code/GraphMol/Conformer.cpp\n",
      "RDKit ERROR: Failed Expression: dp_mol->getNumAtoms() == d_positions.size()\n",
      "RDKit ERROR: ****\n",
      "RDKit ERROR: \n",
      "RDKit ERROR: [12:06:45] \n",
      "RDKit ERROR: \n",
      "RDKit ERROR: ****\n",
      "RDKit ERROR: Pre-condition Violation\n",
      "RDKit ERROR: \n",
      "RDKit ERROR: Violation occurred on line 60 in file /home/conda/feedstock_root/build_artifacts/rdkit_1614687251479/work/Code/GraphMol/Conformer.cpp\n",
      "RDKit ERROR: Failed Expression: dp_mol->getNumAtoms() == d_positions.size()\n",
      "RDKit ERROR: ****\n",
      "RDKit ERROR: \n",
      "RDKit ERROR: [12:06:45] \n",
      "RDKit ERROR: \n",
      "RDKit ERROR: ****\n",
      "RDKit ERROR: Pre-condition Violation\n",
      "RDKit ERROR: \n",
      "RDKit ERROR: Violation occurred on line 60 in file /home/conda/feedstock_root/build_artifacts/rdkit_1614687251479/work/Code/GraphMol/Conformer.cpp\n",
      "RDKit ERROR: Failed Expression: dp_mol->getNumAtoms() == d_positions.size()\n",
      "RDKit ERROR: ****\n",
      "RDKit ERROR: \n",
      "RDKit ERROR: [12:06:45] \n",
      "RDKit ERROR: \n",
      "RDKit ERROR: ****\n",
      "RDKit ERROR: Pre-condition Violation\n",
      "RDKit ERROR: \n",
      "RDKit ERROR: Violation occurred on line 60 in file /home/conda/feedstock_root/build_artifacts/rdkit_1614687251479/work/Code/GraphMol/Conformer.cpp\n",
      " 34%|███▍      | 121/353 [33:38<1:27:30, 22.63s/it]"
     ]
    },
    {
     "name": "stdout",
     "output_type": "stream",
     "text": [
      "LeDock Docking finished\n"
     ]
    },
    {
     "name": "stderr",
     "output_type": "stream",
     "text": [
      " line 60 in file /home/conda/feedstock_root/build_artifacts/rdkit_1614687251479/work/Code/GraphMol/Conformer.cpp\n",
      "Failed Expression: dp_mol->getNumAtoms() == d_positions.size()\n",
      "****\n",
      "\n",
      "[12:02:05] \n",
      "\n",
      "****\n",
      "Pre-condition Violation\n",
      "\n",
      "Violation occurred on line 60 in file /home/conda/feedstock_root/build_artifacts/rdkit_1614687251479/work/Code/GraphMol/Conformer.cpp\n",
      "Failed Expression: dp_mol->getNumAtoms() == d_positions.size()\n",
      "****\n",
      "\n",
      "[12:02:05] \n",
      "\n",
      "****\n",
      "Pre-condition Violation\n",
      "\n",
      "Violation occurred on line 60 in file /home/conda/feedstock_root/build_artifacts/rdkit_1614687251479/work/Code/GraphMol/Conformer.cpp\n",
      "Failed Expression: dp_mol->getNumAtoms() == d_positions.size()\n",
      "****\n",
      "\n",
      "[12:03:16] \n",
      "\n",
      "****\n",
      "Pre-condition Violation\n",
      "\n",
      "Violation occurred on line 60 in file /home/conda/feedstock_root/build_artifacts/rdkit_1614687251479/work/Code/GraphMol/Conformer.cpp\n",
      "Failed Expression: dp_mol->getNumAtoms() == d_positions.size()\n",
      "****\n",
      "\n",
      "[12:03:16] \n",
      "\n",
      "****\n",
      "Pre-condition Violation\n",
      "\n",
      "Violation occurred on line 60 in file /home/conda/feedstock_root/build_artifacts/rdkit_1614687251479/work/Code/GraphMol/Conformer.cpp\n",
      "Failed Expression: dp_mol->getNumAtoms() == d_positions.size()\n",
      "****\n",
      "\n",
      "[12:03:16] \n",
      "\n",
      "****\n",
      "Pre-condition Violation\n",
      "\n",
      "Violation occurred on line 60 in file /home/conda/feedstock_root/build_artifacts/rdkit_1614687251479/work/Code/GraphMol/Conformer.cpp\n",
      "Failed Expression: dp_mol->getNumAtoms() == d_positions.size()\n",
      "****\n",
      "\n",
      "[12:03:16] \n",
      "\n",
      "****\n",
      "Pre-condition Violation\n",
      "\n",
      "Violation occurred on line 60 in file /home/conda/feedstock_root/build_artifacts/rdkit_1614687251479/work/Code/GraphMol/Conformer.cpp\n",
      "Failed Expression: dp_mol->getNumAtoms() == d_positions.size()\n",
      "****\n",
      "\n",
      "[12:03:16] \n",
      "\n",
      "****\n",
      "Pre-condition Violation\n",
      "\n",
      "Violation occurred on line 60 in file /home/conda/feedstock_root/build_artifacts/rdkit_1614687251479/work/Code/GraphMol/Conformer.cpp\n",
      "Failed Expression: dp_mol->getNumAtoms() == d_positions.size()\n",
      "****\n",
      "\n",
      "[12:03:16] \n",
      "\n",
      "****\n",
      "Pre-condition Violation\n",
      "\n",
      "Violation occurred on line 60 in file /home/conda/feedstock_root/build_artifacts/rdkit_1614687251479/work/Code/GraphMol/Conformer.cpp\n",
      "Failed Expression: dp_mol->getNumAtoms() == d_positions.size()\n",
      "****\n",
      "\n",
      "[12:03:16] \n",
      "\n",
      "****\n",
      "Pre-condition Violation\n",
      "\n",
      "Violation occurred on line 60 in file /home/conda/feedstock_root/build_artifacts/rdkit_1614687251479/work/Code/GraphMol/Conformer.cpp\n",
      "Failed Expression: dp_mol->getNumAtoms() == d_positions.size()\n",
      "****\n",
      "\n",
      "[12:03:16] \n",
      "\n",
      "****\n",
      "Pre-condition Violation\n",
      "\n",
      "Violation occurred on line 60 in file /home/conda/feedstock_root/build_artifacts/rdkit_1614687251479/work/Code/GraphMol/Conformer.cpp\n",
      "Failed Expression: dp_mol->getNumAtoms() == d_positions.size()\n",
      "****\n",
      "\n",
      "[12:03:16] \n",
      "\n",
      "****\n",
      "Pre-condition Violation\n",
      "\n",
      "Violation occurred on line 60 in file /home/conda/feedstock_root/build_artifacts/rdkit_1614687251479/work/Code/GraphMol/Conformer.cpp\n",
      "Failed Expression: dp_mol->getNumAtoms() == d_positions.size()\n",
      "****\n",
      "\n",
      "[12:05:37] \n",
      "\n",
      "****\n",
      "Pre-condition Violation\n",
      "\n",
      "Violation occurred on line 60 in file /home/conda/feedstock_root/build_artifacts/rdkit_1614687251479/work/Code/GraphMol/Conformer.cpp\n",
      "Failed Expression: dp_mol->getNumAtoms() == d_positions.size()\n",
      "****\n",
      "\n",
      "[12:06:45] \n",
      "\n",
      "****\n",
      "Pre-condition Violation\n",
      "\n",
      "Violation occurred on line 60 in file /home/conda/feedstock_root/build_artifacts/rdkit_1614687251479/work/Code/GraphMol/Conformer.cpp\n",
      "Failed Expression: dp_mol->getNumAtoms() == d_positions.size()\n",
      "****\n",
      "\n",
      "[12:06:45] \n",
      "\n",
      "****\n",
      "Pre-condition Violation\n",
      "\n",
      "Violation occurred on line 60 in file /home/conda/feedstock_root/build_artifacts/rdkit_1614687251479/work/Code/GraphMol/Conformer.cpp\n",
      "Failed Expression: dp_mol->getNumAtoms() == d_positions.size()\n",
      "****\n",
      "\n",
      "[12:06:45] \n",
      "\n",
      "****\n",
      "Pre-condition Violation\n",
      "\n",
      "Violation occurred on line 60 in file /home/conda/feedstock_root/build_artifacts/rdkit_1614687251479/work/Code/GraphMol/Conformer.cpp\n",
      "Failed Expression: dp_mol->getNumAtoms() == d_positions.size()\n",
      "****\n",
      "\n",
      "[12:06:45] \n",
      "\n",
      "****\n",
      "Pre-condition Violation\n",
      "\n",
      "Violation occurred on line 60 in file /home/conda/feedstock_root/build_artifacts/rdkit_1614687251479/work/Code/GraphMol/Conformer.cpp\n",
      " 35%|███▍      | 122/353 [33:47<1:11:22, 18.54s/it]"
     ]
    },
    {
     "name": "stdout",
     "output_type": "stream",
     "text": [
      "LeDock Docking finished\n",
      "Have been converted to mol2 file! /home/haotian/Molecule_Generation/Flexible-docking/data/esmfold_time_split/6jsf/6jsf_ligand.sdf\n"
     ]
    },
    {
     "name": "stderr",
     "output_type": "stream",
     "text": [
      " 35%|███▍      | 123/353 [33:58<1:02:09, 16.22s/it]"
     ]
    },
    {
     "name": "stdout",
     "output_type": "stream",
     "text": [
      "LeDock Docking finished\n",
      "Have been converted to mol2 file! /home/haotian/Molecule_Generation/Flexible-docking/data/esmfold_time_split/6od6/6od6_ligand.sdf\n"
     ]
    },
    {
     "name": "stderr",
     "output_type": "stream",
     "text": [
      " 35%|███▌      | 124/353 [34:07<54:06, 14.18s/it]  "
     ]
    },
    {
     "name": "stdout",
     "output_type": "stream",
     "text": [
      "LeDock Docking finished\n"
     ]
    },
    {
     "name": "stderr",
     "output_type": "stream",
     "text": [
      " 35%|███▌      | 125/353 [34:16<47:45, 12.57s/it]"
     ]
    },
    {
     "name": "stdout",
     "output_type": "stream",
     "text": [
      "LeDock Docking finished\n",
      "Have been converted to mol2 file! /home/haotian/Molecule_Generation/Flexible-docking/data/esmfold_time_split/6h9v/6h9v_ligand.sdf\n"
     ]
    },
    {
     "name": "stderr",
     "output_type": "stream",
     "text": [
      " 36%|███▌      | 126/353 [34:23<41:03, 10.85s/it]"
     ]
    },
    {
     "name": "stdout",
     "output_type": "stream",
     "text": [
      "LeDock Docking finished\n",
      "Have been converted to mol2 file! /home/haotian/Molecule_Generation/Flexible-docking/data/esmfold_time_split/6jag/6jag_ligand.sdf\n"
     ]
    },
    {
     "name": "stderr",
     "output_type": "stream",
     "text": [
      " 36%|███▌      | 127/353 [34:31<37:51, 10.05s/it]"
     ]
    },
    {
     "name": "stdout",
     "output_type": "stream",
     "text": [
      "LeDock Docking finished\n",
      "Have been converted to mol2 file! /home/haotian/Molecule_Generation/Flexible-docking/data/esmfold_time_split/6hhh/6hhh_ligand.sdf\n"
     ]
    },
    {
     "name": "stderr",
     "output_type": "stream",
     "text": [
      " 36%|███▋      | 128/353 [34:46<42:56, 11.45s/it]"
     ]
    },
    {
     "name": "stdout",
     "output_type": "stream",
     "text": [
      "LeDock Docking finished\n",
      "Have been converted to mol2 file! /home/haotian/Molecule_Generation/Flexible-docking/data/esmfold_time_split/6hld/6hld_ligand.sdf\n"
     ]
    },
    {
     "name": "stderr",
     "output_type": "stream",
     "text": [
      " 37%|███▋      | 129/353 [35:42<1:32:35, 24.80s/it]"
     ]
    },
    {
     "name": "stdout",
     "output_type": "stream",
     "text": [
      "LeDock Docking finished\n",
      "Have been converted to mol2 file! /home/haotian/Molecule_Generation/Flexible-docking/data/esmfold_time_split/6gbw/6gbw_ligand.sdf\n"
     ]
    },
    {
     "name": "stderr",
     "output_type": "stream",
     "text": [
      " 37%|███▋      | 130/353 [36:00<1:24:54, 22.84s/it]"
     ]
    },
    {
     "name": "stdout",
     "output_type": "stream",
     "text": [
      "LeDock Docking finished\n",
      "Have been converted to mol2 file! /home/haotian/Molecule_Generation/Flexible-docking/data/esmfold_time_split/6qln/6qln_ligand.sdf\n"
     ]
    },
    {
     "name": "stderr",
     "output_type": "stream",
     "text": [
      " 37%|███▋      | 131/353 [36:10<1:10:34, 19.07s/it]"
     ]
    },
    {
     "name": "stdout",
     "output_type": "stream",
     "text": [
      "LeDock Docking finished\n",
      "Have been converted to mol2 file! /home/haotian/Molecule_Generation/Flexible-docking/data/esmfold_time_split/6m7h/6m7h_ligand.sdf\n"
     ]
    },
    {
     "name": "stderr",
     "output_type": "stream",
     "text": [
      " 37%|███▋      | 132/353 [36:26<1:06:31, 18.06s/it]"
     ]
    },
    {
     "name": "stdout",
     "output_type": "stream",
     "text": [
      "LeDock Docking finished\n",
      "Have been converted to mol2 file! /home/haotian/Molecule_Generation/Flexible-docking/data/esmfold_time_split/6g2b/6g2b_ligand.sdf\n"
     ]
    },
    {
     "name": "stderr",
     "output_type": "stream",
     "text": [
      " 38%|███▊      | 133/353 [36:32<53:33, 14.61s/it]  "
     ]
    },
    {
     "name": "stdout",
     "output_type": "stream",
     "text": [
      "LeDock Docking finished\n",
      "Have been converted to mol2 file! /home/haotian/Molecule_Generation/Flexible-docking/data/esmfold_time_split/6mjj/6mjj_ligand.sdf\n"
     ]
    },
    {
     "name": "stderr",
     "output_type": "stream",
     "text": [
      " 38%|███▊      | 134/353 [37:31<1:41:35, 27.83s/it]"
     ]
    },
    {
     "name": "stdout",
     "output_type": "stream",
     "text": [
      "LeDock Docking finished\n",
      "Have been converted to mol2 file! /home/haotian/Molecule_Generation/Flexible-docking/data/esmfold_time_split/6qlu/6qlu_ligand.sdf\n"
     ]
    },
    {
     "name": "stderr",
     "output_type": "stream",
     "text": [
      " 38%|███▊      | 135/353 [37:42<1:22:21, 22.67s/it]"
     ]
    },
    {
     "name": "stdout",
     "output_type": "stream",
     "text": [
      "LeDock Docking finished\n",
      "Have been converted to mol2 file! /home/haotian/Molecule_Generation/Flexible-docking/data/esmfold_time_split/6qlr/6qlr_ligand.sdf\n"
     ]
    },
    {
     "name": "stderr",
     "output_type": "stream",
     "text": [
      " 39%|███▊      | 136/353 [37:52<1:08:52, 19.04s/it]"
     ]
    },
    {
     "name": "stdout",
     "output_type": "stream",
     "text": [
      "LeDock Docking finished\n",
      "Have been converted to mol2 file! /home/haotian/Molecule_Generation/Flexible-docking/data/esmfold_time_split/6qmt/6qmt_ligand.sdf\n"
     ]
    },
    {
     "name": "stderr",
     "output_type": "stream",
     "text": [
      " 39%|███▉      | 137/353 [38:03<59:35, 16.55s/it]  "
     ]
    },
    {
     "name": "stdout",
     "output_type": "stream",
     "text": [
      "LeDock Docking finished\n",
      "Have been converted to mol2 file! /home/haotian/Molecule_Generation/Flexible-docking/data/esmfold_time_split/6k04/6k04_ligand.sdf\n"
     ]
    },
    {
     "name": "stderr",
     "output_type": "stream",
     "text": [
      " 39%|███▉      | 138/353 [38:11<50:09, 14.00s/it]"
     ]
    },
    {
     "name": "stdout",
     "output_type": "stream",
     "text": [
      "LeDock Docking finished\n",
      "Have been converted to mol2 file! /home/haotian/Molecule_Generation/Flexible-docking/data/esmfold_time_split/6st3/6st3_ligand.sdf\n"
     ]
    },
    {
     "name": "stderr",
     "output_type": "stream",
     "text": [
      " 39%|███▉      | 139/353 [38:22<47:03, 13.20s/it]"
     ]
    },
    {
     "name": "stdout",
     "output_type": "stream",
     "text": [
      "LeDock Docking finished\n",
      "Have been converted to mol2 file! /home/haotian/Molecule_Generation/Flexible-docking/data/esmfold_time_split/6e4c/6e4c_ligand.sdf\n"
     ]
    },
    {
     "name": "stderr",
     "output_type": "stream",
     "text": [
      " 40%|███▉      | 140/353 [38:30<41:16, 11.63s/it]"
     ]
    },
    {
     "name": "stdout",
     "output_type": "stream",
     "text": [
      "LeDock Docking finished\n",
      "Have been converted to mol2 file! /home/haotian/Molecule_Generation/Flexible-docking/data/esmfold_time_split/6kqi/6kqi_ligand.sdf\n"
     ]
    },
    {
     "name": "stderr",
     "output_type": "stream",
     "text": [
      " 40%|███▉      | 141/353 [38:41<39:59, 11.32s/it]"
     ]
    },
    {
     "name": "stdout",
     "output_type": "stream",
     "text": [
      "LeDock Docking finished\n",
      "Have been converted to mol2 file! /home/haotian/Molecule_Generation/Flexible-docking/data/esmfold_time_split/6i78/6i78_ligand.sdf\n"
     ]
    },
    {
     "name": "stderr",
     "output_type": "stream",
     "text": [
      " 40%|████      | 142/353 [38:53<40:39, 11.56s/it]"
     ]
    },
    {
     "name": "stdout",
     "output_type": "stream",
     "text": [
      "LeDock Docking finished\n",
      "Have been converted to mol2 file! /home/haotian/Molecule_Generation/Flexible-docking/data/esmfold_time_split/6k05/6k05_ligand.sdf\n"
     ]
    },
    {
     "name": "stderr",
     "output_type": "stream",
     "text": [
      " 41%|████      | 143/353 [39:01<36:35, 10.46s/it]"
     ]
    },
    {
     "name": "stdout",
     "output_type": "stream",
     "text": [
      "LeDock Docking finished\n",
      "Have been converted to mol2 file! /home/haotian/Molecule_Generation/Flexible-docking/data/esmfold_time_split/6mo7/6mo7_ligand.sdf\n"
     ]
    },
    {
     "name": "stderr",
     "output_type": "stream",
     "text": [
      " 41%|████      | 144/353 [39:10<34:41,  9.96s/it]"
     ]
    },
    {
     "name": "stdout",
     "output_type": "stream",
     "text": [
      "LeDock Docking finished\n",
      "Have been converted to mol2 file! /home/haotian/Molecule_Generation/Flexible-docking/data/esmfold_time_split/6hzc/6hzc_ligand.sdf\n"
     ]
    },
    {
     "name": "stderr",
     "output_type": "stream",
     "text": [
      " 41%|████      | 145/353 [39:38<53:46, 15.51s/it]"
     ]
    },
    {
     "name": "stdout",
     "output_type": "stream",
     "text": [
      "LeDock Docking finished\n"
     ]
    },
    {
     "name": "stderr",
     "output_type": "stream",
     "text": [
      "RDKit ERROR: Failed Expression: dp_mol->getNumAtoms() == d_positions.size()\n",
      "RDKit ERROR: ****\n",
      "RDKit ERROR: \n",
      "RDKit ERROR: [12:06:45] \n",
      "RDKit ERROR: \n",
      "RDKit ERROR: ****\n",
      "RDKit ERROR: Pre-condition Violation\n",
      "RDKit ERROR: \n",
      "RDKit ERROR: Violation occurred on line 60 in file /home/conda/feedstock_root/build_artifacts/rdkit_1614687251479/work/Code/GraphMol/Conformer.cpp\n",
      "RDKit ERROR: Failed Expression: dp_mol->getNumAtoms() == d_positions.size()\n",
      "RDKit ERROR: ****\n",
      "RDKit ERROR: \n",
      "RDKit ERROR: [12:06:45] \n",
      "RDKit ERROR: \n",
      "RDKit ERROR: ****\n",
      "RDKit ERROR: Pre-condition Violation\n",
      "RDKit ERROR: \n",
      "RDKit ERROR: Violation occurred on line 60 in file /home/conda/feedstock_root/build_artifacts/rdkit_1614687251479/work/Code/GraphMol/Conformer.cpp\n",
      "RDKit ERROR: Failed Expression: dp_mol->getNumAtoms() == d_positions.size()\n",
      "RDKit ERROR: ****\n",
      "RDKit ERROR: \n",
      "RDKit ERROR: [12:06:45] \n",
      "RDKit ERROR: \n",
      "RDKit ERROR: ****\n",
      "RDKit ERROR: Pre-condition Violation\n",
      "RDKit ERROR: \n",
      "RDKit ERROR: Violation occurred on line 60 in file /home/conda/feedstock_root/build_artifacts/rdkit_1614687251479/work/Code/GraphMol/Conformer.cpp\n",
      "RDKit ERROR: Failed Expression: dp_mol->getNumAtoms() == d_positions.size()\n",
      "RDKit ERROR: ****\n",
      "RDKit ERROR: \n",
      "RDKit ERROR: [12:06:45] \n",
      "RDKit ERROR: \n",
      "RDKit ERROR: ****\n",
      "RDKit ERROR: Pre-condition Violation\n",
      "RDKit ERROR: \n",
      "RDKit ERROR: Violation occurred on line 60 in file /home/conda/feedstock_root/build_artifacts/rdkit_1614687251479/work/Code/GraphMol/Conformer.cpp\n",
      "RDKit ERROR: Failed Expression: dp_mol->getNumAtoms() == d_positions.size()\n",
      "RDKit ERROR: ****\n",
      "RDKit ERROR: \n",
      "RDKit ERROR: [12:06:54] \n",
      "RDKit ERROR: \n",
      "RDKit ERROR: ****\n",
      "RDKit ERROR: Pre-condition Violation\n",
      "RDKit ERROR: \n",
      "RDKit ERROR: Violation occurred on line 60 in file /home/conda/feedstock_root/build_artifacts/rdkit_1614687251479/work/Code/GraphMol/Conformer.cpp\n",
      "RDKit ERROR: Failed Expression: dp_mol->getNumAtoms() == d_positions.size()\n",
      "RDKit ERROR: ****\n",
      "RDKit ERROR: \n",
      "RDKit ERROR: [12:06:54] \n",
      "RDKit ERROR: \n",
      "RDKit ERROR: ****\n",
      "RDKit ERROR: Pre-condition Violation\n",
      "RDKit ERROR: \n",
      "RDKit ERROR: Violation occurred on line 60 in file /home/conda/feedstock_root/build_artifacts/rdkit_1614687251479/work/Code/GraphMol/Conformer.cpp\n",
      "RDKit ERROR: Failed Expression: dp_mol->getNumAtoms() == d_positions.size()\n",
      "RDKit ERROR: ****\n",
      "RDKit ERROR: \n",
      "RDKit ERROR: [12:07:23] \n",
      "RDKit ERROR: \n",
      "RDKit ERROR: ****\n",
      "RDKit ERROR: Pre-condition Violation\n",
      "RDKit ERROR: \n",
      "RDKit ERROR: Violation occurred on line 60 in file /home/conda/feedstock_root/build_artifacts/rdkit_1614687251479/work/Code/GraphMol/Conformer.cpp\n",
      "RDKit ERROR: Failed Expression: dp_mol->getNumAtoms() == d_positions.size()\n",
      "RDKit ERROR: ****\n",
      "RDKit ERROR: \n",
      "RDKit ERROR: [12:07:23] \n",
      "RDKit ERROR: \n",
      "RDKit ERROR: ****\n",
      "RDKit ERROR: Pre-condition Violation\n",
      "RDKit ERROR: \n",
      "RDKit ERROR: Violation occurred on line 60 in file /home/conda/feedstock_root/build_artifacts/rdkit_1614687251479/work/Code/GraphMol/Conformer.cpp\n",
      "RDKit ERROR: Failed Expression: dp_mol->getNumAtoms() == d_positions.size()\n",
      "RDKit ERROR: ****\n",
      "RDKit ERROR: \n",
      "RDKit ERROR: [12:07:23] \n",
      "RDKit ERROR: \n",
      "RDKit ERROR: ****\n",
      "RDKit ERROR: Pre-condition Violation\n",
      "RDKit ERROR: \n",
      "RDKit ERROR: Violation occurred on line 60 in file /home/conda/feedstock_root/build_artifacts/rdkit_1614687251479/work/Code/GraphMol/Conformer.cpp\n",
      "RDKit ERROR: Failed Expression: dp_mol->getNumAtoms() == d_positions.size()\n",
      "RDKit ERROR: ****\n",
      "RDKit ERROR: \n",
      "RDKit ERROR: [12:07:23] \n",
      "RDKit ERROR: \n",
      "RDKit ERROR: ****\n",
      "RDKit ERROR: Pre-condition Violation\n",
      "RDKit ERROR: \n",
      "RDKit ERROR: Violation occurred on line 60 in file /home/conda/feedstock_root/build_artifacts/rdkit_1614687251479/work/Code/GraphMol/Conformer.cpp\n",
      "RDKit ERROR: Failed Expression: dp_mol->getNumAtoms() == d_positions.size()\n",
      "RDKit ERROR: ****\n",
      "RDKit ERROR: \n",
      "RDKit ERROR: [12:07:23] \n",
      "RDKit ERROR: \n",
      "RDKit ERROR: ****\n",
      "RDKit ERROR: Pre-condition Violation\n",
      "RDKit ERROR: \n",
      "RDKit ERROR: Violation occurred on line 60 in file /home/conda/feedstock_root/build_artifacts/rdkit_1614687251479/work/Code/GraphMol/Conformer.cpp\n",
      "RDKit ERROR: Failed Expression: dp_mol->getNumAtoms() == d_positions.size()\n",
      "RDKit ERROR: ****\n",
      "RDKit ERROR: \n",
      "RDKit ERROR: [12:07:23] \n",
      "RDKit ERROR: \n",
      "RDKit ERROR: ****\n",
      "RDKit ERROR: Pre-condition Violation\n",
      "RDKit ERROR: \n",
      "RDKit ERROR: Violation occurred on line 60 in file /home/conda/feedstock_root/build_artifacts/rdkit_1614687251479/work/Code/GraphMol/Conformer.cpp\n",
      "RDKit ERROR: Failed Expression: dp_mol->getNumAtoms() == d_positions.size()\n",
      "RDKit ERROR: ****\n",
      "RDKit ERROR: \n",
      "RDKit ERROR: [12:07:23] \n",
      "RDKit ERROR: \n",
      "RDKit ERROR: ****\n",
      "RDKit ERROR: Pre-condition Violation\n",
      "RDKit ERROR: \n",
      "RDKit ERROR: Violation occurred on line 60 in file /home/conda/feedstock_root/build_artifacts/rdkit_1614687251479/work/Code/GraphMol/Conformer.cpp\n",
      "RDKit ERROR: Failed Expression: dp_mol->getNumAtoms() == d_positions.size()\n",
      "RDKit ERROR: ****\n",
      "RDKit ERROR: \n",
      "RDKit ERROR: [12:12:51] \n",
      "RDKit ERROR: \n",
      "RDKit ERROR: ****\n",
      "RDKit ERROR: Pre-condition Violation\n",
      "RDKit ERROR: \n",
      "RDKit ERROR: Violation occurred on line 60 in file /home/conda/feedstock_root/build_artifacts/rdkit_1614687251479/work/Code/GraphMol/Conformer.cpp\n",
      "RDKit ERROR: Failed Expression: dp_mol->getNumAtoms() == d_positions.size()\n",
      "RDKit ERROR: ****\n",
      "RDKit ERROR: \n",
      "RDKit ERROR: [12:12:51] \n",
      "RDKit ERROR: \n",
      "RDKit ERROR: ****\n",
      "RDKit ERROR: Pre-condition Violation\n",
      "RDKit ERROR: \n",
      "RDKit ERROR: Violation occurred on line 60 in file /home/conda/feedstock_root/build_artifacts/rdkit_1614687251479/work/Code/GraphMol/Conformer.cpp\n",
      "RDKit ERROR: Failed Expression: dp_mol->getNumAtoms() == d_positions.size()\n",
      "RDKit ERROR: ****\n",
      "RDKit ERROR: \n",
      "RDKit ERROR: [12:12:51] \n",
      "RDKit ERROR: \n",
      "RDKit ERROR: ****\n",
      "RDKit ERROR: Pre-condition Violation\n",
      "RDKit ERROR: \n",
      "RDKit ERROR: Violation occurred on line 60 in file /home/conda/feedstock_root/build_artifacts/rdkit_1614687251479/work/Code/GraphMol/Conformer.cpp\n",
      "RDKit ERROR: Failed Expression: dp_mol->getNumAtoms() == d_positions.size()\n",
      "RDKit ERROR: ****\n",
      "RDKit ERROR: \n",
      "RDKit ERROR: [12:12:51] \n",
      "RDKit ERROR: \n",
      "RDKit ERROR: ****\n",
      "RDKit ERROR: Pre-condition Violation\n",
      "RDKit ERROR: \n",
      "ositions.size()\n",
      "****\n",
      "\n",
      "[12:06:45] \n",
      "\n",
      "****\n",
      "Pre-condition Violation\n",
      "\n",
      "Violation occurred on line 60 in file /home/conda/feedstock_root/build_artifacts/rdkit_1614687251479/work/Code/GraphMol/Conformer.cpp\n",
      "Failed Expression: dp_mol->getNumAtoms() == d_positions.size()\n",
      "****\n",
      "\n",
      "[12:06:45] \n",
      "\n",
      "****\n",
      "Pre-condition Violation\n",
      "\n",
      "Violation occurred on line 60 in file /home/conda/feedstock_root/build_artifacts/rdkit_1614687251479/work/Code/GraphMol/Conformer.cpp\n",
      "Failed Expression: dp_mol->getNumAtoms() == d_positions.size()\n",
      "****\n",
      "\n",
      "[12:06:45] \n",
      "\n",
      "****\n",
      "Pre-condition Violation\n",
      "\n",
      "Violation occurred on line 60 in file /home/conda/feedstock_root/build_artifacts/rdkit_1614687251479/work/Code/GraphMol/Conformer.cpp\n",
      "Failed Expression: dp_mol->getNumAtoms() == d_positions.size()\n",
      "****\n",
      "\n",
      "[12:06:45] \n",
      "\n",
      "****\n",
      "Pre-condition Violation\n",
      "\n",
      "Violation occurred on line 60 in file /home/conda/feedstock_root/build_artifacts/rdkit_1614687251479/work/Code/GraphMol/Conformer.cpp\n",
      "Failed Expression: dp_mol->getNumAtoms() == d_positions.size()\n",
      "****\n",
      "\n",
      "[12:06:54] \n",
      "\n",
      "****\n",
      "Pre-condition Violation\n",
      "\n",
      "Violation occurred on line 60 in file /home/conda/feedstock_root/build_artifacts/rdkit_1614687251479/work/Code/GraphMol/Conformer.cpp\n",
      "Failed Expression: dp_mol->getNumAtoms() == d_positions.size()\n",
      "****\n",
      "\n",
      "[12:06:54] \n",
      "\n",
      "****\n",
      "Pre-condition Violation\n",
      "\n",
      "Violation occurred on line 60 in file /home/conda/feedstock_root/build_artifacts/rdkit_1614687251479/work/Code/GraphMol/Conformer.cpp\n",
      "Failed Expression: dp_mol->getNumAtoms() == d_positions.size()\n",
      "****\n",
      "\n",
      "[12:07:23] \n",
      "\n",
      "****\n",
      "Pre-condition Violation\n",
      "\n",
      "Violation occurred on line 60 in file /home/conda/feedstock_root/build_artifacts/rdkit_1614687251479/work/Code/GraphMol/Conformer.cpp\n",
      "Failed Expression: dp_mol->getNumAtoms() == d_positions.size()\n",
      "****\n",
      "\n",
      "[12:07:23] \n",
      "\n",
      "****\n",
      "Pre-condition Violation\n",
      "\n",
      "Violation occurred on line 60 in file /home/conda/feedstock_root/build_artifacts/rdkit_1614687251479/work/Code/GraphMol/Conformer.cpp\n",
      "Failed Expression: dp_mol->getNumAtoms() == d_positions.size()\n",
      "****\n",
      "\n",
      "[12:07:23] \n",
      "\n",
      "****\n",
      "Pre-condition Violation\n",
      "\n",
      "Violation occurred on line 60 in file /home/conda/feedstock_root/build_artifacts/rdkit_1614687251479/work/Code/GraphMol/Conformer.cpp\n",
      "Failed Expression: dp_mol->getNumAtoms() == d_positions.size()\n",
      "****\n",
      "\n",
      "[12:07:23] \n",
      "\n",
      "****\n",
      "Pre-condition Violation\n",
      "\n",
      "Violation occurred on line 60 in file /home/conda/feedstock_root/build_artifacts/rdkit_1614687251479/work/Code/GraphMol/Conformer.cpp\n",
      "Failed Expression: dp_mol->getNumAtoms() == d_positions.size()\n",
      "****\n",
      "\n",
      "[12:07:23] \n",
      "\n",
      "****\n",
      "Pre-condition Violation\n",
      "\n",
      "Violation occurred on line 60 in file /home/conda/feedstock_root/build_artifacts/rdkit_1614687251479/work/Code/GraphMol/Conformer.cpp\n",
      "Failed Expression: dp_mol->getNumAtoms() == d_positions.size()\n",
      "****\n",
      "\n",
      "[12:07:23] \n",
      "\n",
      "****\n",
      "Pre-condition Violation\n",
      "\n",
      "Violation occurred on line 60 in file /home/conda/feedstock_root/build_artifacts/rdkit_1614687251479/work/Code/GraphMol/Conformer.cpp\n",
      "Failed Expression: dp_mol->getNumAtoms() == d_positions.size()\n",
      "****\n",
      "\n",
      "[12:07:23] \n",
      "\n",
      "****\n",
      "Pre-condition Violation\n",
      "\n",
      "Violation occurred on line 60 in file /home/conda/feedstock_root/build_artifacts/rdkit_1614687251479/work/Code/GraphMol/Conformer.cpp\n",
      "Failed Expression: dp_mol->getNumAtoms() == d_positions.size()\n",
      "****\n",
      "\n",
      "[12:12:51] \n",
      "\n",
      "****\n",
      "Pre-condition Violation\n",
      "\n",
      "Violation occurred on line 60 in file /home/conda/feedstock_root/build_artifacts/rdkit_1614687251479/work/Code/GraphMol/Conformer.cpp\n",
      "Failed Expression: dp_mol->getNumAtoms() == d_positions.size()\n",
      "****\n",
      "\n",
      "[12:12:51] \n",
      "\n",
      "****\n",
      "Pre-condition Violation\n",
      "\n",
      "Violation occurred on line 60 in file /home/conda/feedstock_root/build_artifacts/rdkit_1614687251479/work/Code/GraphMol/Conformer.cpp\n",
      "Failed Expression: dp_mol->getNumAtoms() == d_positions.size()\n",
      "****\n",
      "\n",
      "[12:12:51] \n",
      "\n",
      "****\n",
      "Pre-condition Violation\n",
      "\n",
      "Violation occurred on line 60 in file /home/conda/feedstock_root/build_artifacts/rdkit_1614687251479/work/Code/GraphMol/Conformer.cpp\n",
      "Failed Expression: dp_mol->getNumAtoms() == d_positions.size()\n",
      "****\n",
      "\n",
      "[12:12:51] \n",
      "\n",
      "****\n",
      "Pre-condition Violation\n",
      "\n",
      " 41%|████▏     | 146/353 [39:44<43:36, 12.64s/it]/feedstock_root/build_artifacts/rdkit_16146872"
     ]
    },
    {
     "name": "stdout",
     "output_type": "stream",
     "text": [
      "LeDock Docking finished\n",
      "Have been converted to mol2 file! /home/haotian/Molecule_Generation/Flexible-docking/data/esmfold_time_split/6n8x/6n8x_ligand.sdf\n"
     ]
    },
    {
     "name": "stderr",
     "output_type": "stream",
     "text": [
      " 42%|████▏     | 147/353 [39:54<40:40, 11.85s/it]"
     ]
    },
    {
     "name": "stdout",
     "output_type": "stream",
     "text": [
      "LeDock Docking finished\n",
      "Have been converted to mol2 file! /home/haotian/Molecule_Generation/Flexible-docking/data/esmfold_time_split/6np3/6np3_ligand.sdf\n"
     ]
    },
    {
     "name": "stderr",
     "output_type": "stream",
     "text": [
      " 42%|████▏     | 148/353 [40:06<40:24, 11.83s/it]"
     ]
    },
    {
     "name": "stdout",
     "output_type": "stream",
     "text": [
      "LeDock Docking finished\n",
      "Have been converted to mol2 file! /home/haotian/Molecule_Generation/Flexible-docking/data/esmfold_time_split/6uvv/6uvv_ligand.sdf\n"
     ]
    },
    {
     "name": "stderr",
     "output_type": "stream",
     "text": [
      " 42%|████▏     | 149/353 [40:14<36:18, 10.68s/it]"
     ]
    },
    {
     "name": "stdout",
     "output_type": "stream",
     "text": [
      "LeDock Docking finished\n",
      "Have been converted to mol2 file! /home/haotian/Molecule_Generation/Flexible-docking/data/esmfold_time_split/6e7m/6e7m_ligand.sdf\n"
     ]
    },
    {
     "name": "stderr",
     "output_type": "stream",
     "text": [
      " 42%|████▏     | 150/353 [40:21<32:44,  9.68s/it]"
     ]
    },
    {
     "name": "stdout",
     "output_type": "stream",
     "text": [
      "LeDock Docking finished\n"
     ]
    },
    {
     "name": "stderr",
     "output_type": "stream",
     "text": [
      " 43%|████▎     | 151/353 [40:35<36:37, 10.88s/it]"
     ]
    },
    {
     "name": "stdout",
     "output_type": "stream",
     "text": [
      "LeDock Docking finished\n",
      "Have been converted to mol2 file! /home/haotian/Molecule_Generation/Flexible-docking/data/esmfold_time_split/6oip/6oip_ligand.sdf\n"
     ]
    },
    {
     "name": "stderr",
     "output_type": "stream",
     "text": [
      " 43%|████▎     | 152/353 [40:44<34:49, 10.40s/it]"
     ]
    },
    {
     "name": "stdout",
     "output_type": "stream",
     "text": [
      "LeDock Docking finished\n",
      "Have been converted to mol2 file! /home/haotian/Molecule_Generation/Flexible-docking/data/esmfold_time_split/6ahs/6ahs_ligand.sdf\n"
     ]
    },
    {
     "name": "stderr",
     "output_type": "stream",
     "text": [
      " 43%|████▎     | 153/353 [40:53<32:48,  9.84s/it]"
     ]
    },
    {
     "name": "stdout",
     "output_type": "stream",
     "text": [
      "LeDock Docking finished\n",
      "Have been converted to mol2 file! /home/haotian/Molecule_Generation/Flexible-docking/data/esmfold_time_split/5zjy/5zjy_ligand.sdf\n"
     ]
    },
    {
     "name": "stderr",
     "output_type": "stream",
     "text": [
      " 44%|████▎     | 154/353 [41:53<1:22:32, 24.89s/it]"
     ]
    },
    {
     "name": "stdout",
     "output_type": "stream",
     "text": [
      "timeout\n",
      "Have been converted to mol2 file! /home/haotian/Molecule_Generation/Flexible-docking/data/esmfold_time_split/6qge/6qge_ligand.sdf\n"
     ]
    },
    {
     "name": "stderr",
     "output_type": "stream",
     "text": [
      " 44%|████▍     | 155/353 [42:10<1:14:27, 22.56s/it]"
     ]
    },
    {
     "name": "stdout",
     "output_type": "stream",
     "text": [
      "LeDock Docking finished\n"
     ]
    },
    {
     "name": "stderr",
     "output_type": "stream",
     "text": [
      " 44%|████▍     | 156/353 [43:10<1:50:57, 33.79s/it]"
     ]
    },
    {
     "name": "stdout",
     "output_type": "stream",
     "text": [
      "timeout\n",
      "Have been converted to mol2 file! /home/haotian/Molecule_Generation/Flexible-docking/data/esmfold_time_split/6qlo/6qlo_ligand.sdf\n"
     ]
    },
    {
     "name": "stderr",
     "output_type": "stream",
     "text": [
      " 44%|████▍     | 157/353 [43:21<1:27:54, 26.91s/it]"
     ]
    },
    {
     "name": "stdout",
     "output_type": "stream",
     "text": [
      "LeDock Docking finished\n"
     ]
    },
    {
     "name": "stderr",
     "output_type": "stream",
     "text": [
      "RDKit ERROR: Violation occurred on line 60 in file /home/conda/feedstock_root/build_artifacts/rdkit_1614687251479/work/Code/GraphMol/Conformer.cpp\n",
      "RDKit ERROR: Failed Expression: dp_mol->getNumAtoms() == d_positions.size()\n",
      "RDKit ERROR: ****\n",
      "RDKit ERROR: \n",
      "RDKit ERROR: [12:12:51] \n",
      "RDKit ERROR: \n",
      "RDKit ERROR: ****\n",
      "RDKit ERROR: Pre-condition Violation\n",
      "RDKit ERROR: \n",
      "RDKit ERROR: Violation occurred on line 60 in file /home/conda/feedstock_root/build_artifacts/rdkit_1614687251479/work/Code/GraphMol/Conformer.cpp\n",
      "RDKit ERROR: Failed Expression: dp_mol->getNumAtoms() == d_positions.size()\n",
      "RDKit ERROR: ****\n",
      "RDKit ERROR: \n",
      "RDKit ERROR: [12:12:51] \n",
      "RDKit ERROR: \n",
      "RDKit ERROR: ****\n",
      "RDKit ERROR: Pre-condition Violation\n",
      "RDKit ERROR: \n",
      "RDKit ERROR: Violation occurred on line 60 in file /home/conda/feedstock_root/build_artifacts/rdkit_1614687251479/work/Code/GraphMol/Conformer.cpp\n",
      "RDKit ERROR: Failed Expression: dp_mol->getNumAtoms() == d_positions.size()\n",
      "RDKit ERROR: ****\n",
      "RDKit ERROR: \n",
      "RDKit ERROR: [12:13:42] \n",
      "RDKit ERROR: \n",
      "RDKit ERROR: ****\n",
      "RDKit ERROR: Pre-condition Violation\n",
      "RDKit ERROR: \n",
      "RDKit ERROR: Violation occurred on line 60 in file /home/conda/feedstock_root/build_artifacts/rdkit_1614687251479/work/Code/GraphMol/Conformer.cpp\n",
      "RDKit ERROR: Failed Expression: dp_mol->getNumAtoms() == d_positions.size()\n",
      "RDKit ERROR: ****\n",
      "RDKit ERROR: \n",
      "RDKit ERROR: [12:13:42] \n",
      "RDKit ERROR: \n",
      "RDKit ERROR: ****\n",
      "RDKit ERROR: Pre-condition Violation\n",
      "RDKit ERROR: \n",
      "RDKit ERROR: Violation occurred on line 60 in file /home/conda/feedstock_root/build_artifacts/rdkit_1614687251479/work/Code/GraphMol/Conformer.cpp\n",
      "RDKit ERROR: Failed Expression: dp_mol->getNumAtoms() == d_positions.size()\n",
      "RDKit ERROR: ****\n",
      "RDKit ERROR: \n",
      "RDKit ERROR: [12:13:42] \n",
      "RDKit ERROR: \n",
      "RDKit ERROR: ****\n",
      "RDKit ERROR: Pre-condition Violation\n",
      "RDKit ERROR: \n",
      "RDKit ERROR: Violation occurred on line 60 in file /home/conda/feedstock_root/build_artifacts/rdkit_1614687251479/work/Code/GraphMol/Conformer.cpp\n",
      "RDKit ERROR: Failed Expression: dp_mol->getNumAtoms() == d_positions.size()\n",
      "RDKit ERROR: ****\n",
      "RDKit ERROR: \n",
      "RDKit ERROR: [12:13:42] \n",
      "RDKit ERROR: \n",
      "RDKit ERROR: ****\n",
      "RDKit ERROR: Pre-condition Violation\n",
      "RDKit ERROR: \n",
      "RDKit ERROR: Violation occurred on line 60 in file /home/conda/feedstock_root/build_artifacts/rdkit_1614687251479/work/Code/GraphMol/Conformer.cpp\n",
      "RDKit ERROR: Failed Expression: dp_mol->getNumAtoms() == d_positions.size()\n",
      "RDKit ERROR: ****\n",
      "RDKit ERROR: \n",
      "RDKit ERROR: [12:13:42] \n",
      "RDKit ERROR: \n",
      "RDKit ERROR: ****\n",
      "RDKit ERROR: Pre-condition Violation\n",
      "RDKit ERROR: \n",
      "RDKit ERROR: Violation occurred on line 60 in file /home/conda/feedstock_root/build_artifacts/rdkit_1614687251479/work/Code/GraphMol/Conformer.cpp\n",
      "RDKit ERROR: Failed Expression: dp_mol->getNumAtoms() == d_positions.size()\n",
      "RDKit ERROR: ****\n",
      "RDKit ERROR: \n",
      "RDKit ERROR: [12:13:42] \n",
      "RDKit ERROR: \n",
      "RDKit ERROR: ****\n",
      "RDKit ERROR: Pre-condition Violation\n",
      "RDKit ERROR: \n",
      "RDKit ERROR: Violation occurred on line 60 in file /home/conda/feedstock_root/build_artifacts/rdkit_1614687251479/work/Code/GraphMol/Conformer.cpp\n",
      "RDKit ERROR: Failed Expression: dp_mol->getNumAtoms() == d_positions.size()\n",
      "RDKit ERROR: ****\n",
      "RDKit ERROR: \n",
      "RDKit ERROR: [12:13:42] \n",
      "RDKit ERROR: \n",
      "RDKit ERROR: ****\n",
      "RDKit ERROR: Pre-condition Violation\n",
      "RDKit ERROR: \n",
      "RDKit ERROR: Violation occurred on line 60 in file /home/conda/feedstock_root/build_artifacts/rdkit_1614687251479/work/Code/GraphMol/Conformer.cpp\n",
      "RDKit ERROR: Failed Expression: dp_mol->getNumAtoms() == d_positions.size()\n",
      "RDKit ERROR: ****\n",
      "RDKit ERROR: \n",
      "RDKit ERROR: [12:13:42] \n",
      "RDKit ERROR: \n",
      "RDKit ERROR: ****\n",
      "RDKit ERROR: Pre-condition Violation\n",
      "RDKit ERROR: \n",
      "RDKit ERROR: Violation occurred on line 60 in file /home/conda/feedstock_root/build_artifacts/rdkit_1614687251479/work/Code/GraphMol/Conformer.cpp\n",
      "RDKit ERROR: Failed Expression: dp_mol->getNumAtoms() == d_positions.size()\n",
      "RDKit ERROR: ****\n",
      "RDKit ERROR: \n",
      "RDKit ERROR: [12:13:42] \n",
      "RDKit ERROR: \n",
      "RDKit ERROR: ****\n",
      "RDKit ERROR: Pre-condition Violation\n",
      "RDKit ERROR: \n",
      "RDKit ERROR: Violation occurred on line 60 in file /home/conda/feedstock_root/build_artifacts/rdkit_1614687251479/work/Code/GraphMol/Conformer.cpp\n",
      "RDKit ERROR: Failed Expression: dp_mol->getNumAtoms() == d_positions.size()\n",
      "RDKit ERROR: ****\n",
      "RDKit ERROR: \n",
      "RDKit ERROR: [12:13:42] \n",
      "RDKit ERROR: \n",
      "RDKit ERROR: ****\n",
      "RDKit ERROR: Pre-condition Violation\n",
      "RDKit ERROR: \n",
      "RDKit ERROR: Violation occurred on line 60 in file /home/conda/feedstock_root/build_artifacts/rdkit_1614687251479/work/Code/GraphMol/Conformer.cpp\n",
      "RDKit ERROR: Failed Expression: dp_mol->getNumAtoms() == d_positions.size()\n",
      "RDKit ERROR: ****\n",
      "RDKit ERROR: \n",
      "RDKit ERROR: [12:16:42] \n",
      "RDKit ERROR: \n",
      "RDKit ERROR: ****\n",
      "RDKit ERROR: Pre-condition Violation\n",
      "RDKit ERROR: \n",
      "RDKit ERROR: Violation occurred on line 60 in file /home/conda/feedstock_root/build_artifacts/rdkit_1614687251479/work/Code/GraphMol/Conformer.cpp\n",
      "RDKit ERROR: Failed Expression: dp_mol->getNumAtoms() == d_positions.size()\n",
      "RDKit ERROR: ****\n",
      "RDKit ERROR: \n",
      "RDKit ERROR: [12:16:42] \n",
      "RDKit ERROR: \n",
      "RDKit ERROR: ****\n",
      "RDKit ERROR: Pre-condition Violation\n",
      "RDKit ERROR: \n",
      "RDKit ERROR: Violation occurred on line 60 in file /home/conda/feedstock_root/build_artifacts/rdkit_1614687251479/work/Code/GraphMol/Conformer.cpp\n",
      "RDKit ERROR: Failed Expression: dp_mol->getNumAtoms() == d_positions.size()\n",
      "RDKit ERROR: ****\n",
      "RDKit ERROR: \n",
      "RDKit ERROR: [12:16:42] \n",
      "RDKit ERROR: \n",
      "RDKit ERROR: ****\n",
      "RDKit ERROR: Pre-condition Violation\n",
      "RDKit ERROR: \n",
      "RDKit ERROR: Violation occurred on line 60 in file /home/conda/feedstock_root/build_artifacts/rdkit_1614687251479/work/Code/GraphMol/Conformer.cpp\n",
      "RDKit ERROR: Failed Expression: dp_mol->getNumAtoms() == d_positions.size()\n",
      "RDKit ERROR: ****\n",
      "RDKit ERROR: \n",
      "RDKit ERROR: [12:16:42] \n",
      "RDKit ERROR: \n",
      "RDKit ERROR: ****\n",
      "RDKit ERROR: Pre-condition Violation\n",
      "RDKit ERROR: \n",
      "RDKit ERROR: Violation occurred on line 60 in file /home/conda/feedstock_root/build_artifacts/rdkit_1614687251479/work/Code/GraphMol/Conformer.cpp\n",
      "RDKit ERROR: Failed Expression: dp_mol->getNumAtoms() == d_positions.size()\n",
      "RDKit ERROR: ****\n",
      "RDKit ERROR: \n",
      "RDKit ERROR: [12:16:42] \n",
      "RDKit ERROR: \n",
      "RDKit ERROR: ****\n",
      "RDKit ERROR: Pre-condition Violation\n",
      "RDKit ERROR: \n",
      "51479/work/Code/GraphMol/Conformer.cpp\n",
      "Failed Expression: dp_mol->getNumAtoms() == d_positions.size()\n",
      "****\n",
      "\n",
      "[12:12:51] \n",
      "\n",
      "****\n",
      "Pre-condition Violation\n",
      "\n",
      "Violation occurred on line 60 in file /home/conda/feedstock_root/build_artifacts/rdkit_1614687251479/work/Code/GraphMol/Conformer.cpp\n",
      "Failed Expression: dp_mol->getNumAtoms() == d_positions.size()\n",
      "****\n",
      "\n",
      "[12:12:51] \n",
      "\n",
      "****\n",
      "Pre-condition Violation\n",
      "\n",
      "Violation occurred on line 60 in file /home/conda/feedstock_root/build_artifacts/rdkit_1614687251479/work/Code/GraphMol/Conformer.cpp\n",
      "Failed Expression: dp_mol->getNumAtoms() == d_positions.size()\n",
      "****\n",
      "\n",
      "[12:13:42] \n",
      "\n",
      "****\n",
      "Pre-condition Violation\n",
      "\n",
      "Violation occurred on line 60 in file /home/conda/feedstock_root/build_artifacts/rdkit_1614687251479/work/Code/GraphMol/Conformer.cpp\n",
      "Failed Expression: dp_mol->getNumAtoms() == d_positions.size()\n",
      "****\n",
      "\n",
      "[12:13:42] \n",
      "\n",
      "****\n",
      "Pre-condition Violation\n",
      "\n",
      "Violation occurred on line 60 in file /home/conda/feedstock_root/build_artifacts/rdkit_1614687251479/work/Code/GraphMol/Conformer.cpp\n",
      "Failed Expression: dp_mol->getNumAtoms() == d_positions.size()\n",
      "****\n",
      "\n",
      "[12:13:42] \n",
      "\n",
      "****\n",
      "Pre-condition Violation\n",
      "\n",
      "Violation occurred on line 60 in file /home/conda/feedstock_root/build_artifacts/rdkit_1614687251479/work/Code/GraphMol/Conformer.cpp\n",
      "Failed Expression: dp_mol->getNumAtoms() == d_positions.size()\n",
      "****\n",
      "\n",
      "[12:13:42] \n",
      "\n",
      "****\n",
      "Pre-condition Violation\n",
      "\n",
      "Violation occurred on line 60 in file /home/conda/feedstock_root/build_artifacts/rdkit_1614687251479/work/Code/GraphMol/Conformer.cpp\n",
      "Failed Expression: dp_mol->getNumAtoms() == d_positions.size()\n",
      "****\n",
      "\n",
      "[12:13:42] \n",
      "\n",
      "****\n",
      "Pre-condition Violation\n",
      "\n",
      "Violation occurred on line 60 in file /home/conda/feedstock_root/build_artifacts/rdkit_1614687251479/work/Code/GraphMol/Conformer.cpp\n",
      "Failed Expression: dp_mol->getNumAtoms() == d_positions.size()\n",
      "****\n",
      "\n",
      "[12:13:42] \n",
      "\n",
      "****\n",
      "Pre-condition Violation\n",
      "\n",
      "Violation occurred on line 60 in file /home/conda/feedstock_root/build_artifacts/rdkit_1614687251479/work/Code/GraphMol/Conformer.cpp\n",
      "Failed Expression: dp_mol->getNumAtoms() == d_positions.size()\n",
      "****\n",
      "\n",
      "[12:13:42] \n",
      "\n",
      "****\n",
      "Pre-condition Violation\n",
      "\n",
      "Violation occurred on line 60 in file /home/conda/feedstock_root/build_artifacts/rdkit_1614687251479/work/Code/GraphMol/Conformer.cpp\n",
      "Failed Expression: dp_mol->getNumAtoms() == d_positions.size()\n",
      "****\n",
      "\n",
      "[12:13:42] \n",
      "\n",
      "****\n",
      "Pre-condition Violation\n",
      "\n",
      "Violation occurred on line 60 in file /home/conda/feedstock_root/build_artifacts/rdkit_1614687251479/work/Code/GraphMol/Conformer.cpp\n",
      "Failed Expression: dp_mol->getNumAtoms() == d_positions.size()\n",
      "****\n",
      "\n",
      "[12:13:42] \n",
      "\n",
      "****\n",
      "Pre-condition Violation\n",
      "\n",
      "Violation occurred on line 60 in file /home/conda/feedstock_root/build_artifacts/rdkit_1614687251479/work/Code/GraphMol/Conformer.cpp\n",
      "Failed Expression: dp_mol->getNumAtoms() == d_positions.size()\n",
      "****\n",
      "\n",
      "[12:13:42] \n",
      "\n",
      "****\n",
      "Pre-condition Violation\n",
      "\n",
      "Violation occurred on line 60 in file /home/conda/feedstock_root/build_artifacts/rdkit_1614687251479/work/Code/GraphMol/Conformer.cpp\n",
      "Failed Expression: dp_mol->getNumAtoms() == d_positions.size()\n",
      "****\n",
      "\n",
      "[12:16:42] \n",
      "\n",
      "****\n",
      "Pre-condition Violation\n",
      "\n",
      "Violation occurred on line 60 in file /home/conda/feedstock_root/build_artifacts/rdkit_1614687251479/work/Code/GraphMol/Conformer.cpp\n",
      "Failed Expression: dp_mol->getNumAtoms() == d_positions.size()\n",
      "****\n",
      "\n",
      "[12:16:42] \n",
      "\n",
      "****\n",
      "Pre-condition Violation\n",
      "\n",
      "Violation occurred on line 60 in file /home/conda/feedstock_root/build_artifacts/rdkit_1614687251479/work/Code/GraphMol/Conformer.cpp\n",
      "Failed Expression: dp_mol->getNumAtoms() == d_positions.size()\n",
      "****\n",
      "\n",
      "[12:16:42] \n",
      "\n",
      "****\n",
      "Pre-condition Violation\n",
      "\n",
      "Violation occurred on line 60 in file /home/conda/feedstock_root/build_artifacts/rdkit_1614687251479/work/Code/GraphMol/Conformer.cpp\n",
      "Failed Expression: dp_mol->getNumAtoms() == d_positions.size()\n",
      "****\n",
      "\n",
      "[12:16:42] \n",
      "\n",
      "****\n",
      "Pre-condition Violation\n",
      "\n",
      "Violation occurred on line 60 in file /home/conda/feedstock_root/build_artifacts/rdkit_1614687251479/work/Code/GraphMol/Conformer.cpp\n",
      "Failed Expression: dp_mol->getNumAtoms() == d_positions.size()\n",
      "****\n",
      "\n",
      "[12:16:42] \n",
      "\n",
      "****\n",
      "Pre-condition Violation\n",
      "\n",
      " 45%|████▍     | 158/353 [43:35<1:14:57, 23.07s/it]"
     ]
    },
    {
     "name": "stdout",
     "output_type": "stream",
     "text": [
      "LeDock Docking finished\n"
     ]
    },
    {
     "name": "stderr",
     "output_type": "stream",
     "text": [
      " 45%|████▌     | 159/353 [43:53<1:09:13, 21.41s/it]"
     ]
    },
    {
     "name": "stdout",
     "output_type": "stream",
     "text": [
      "LeDock Docking finished\n",
      "Have been converted to mol2 file! /home/haotian/Molecule_Generation/Flexible-docking/data/esmfold_time_split/6a87/6a87_ligand.sdf\n"
     ]
    },
    {
     "name": "stderr",
     "output_type": "stream",
     "text": [
      " 45%|████▌     | 160/353 [44:01<56:47, 17.66s/it]  "
     ]
    },
    {
     "name": "stdout",
     "output_type": "stream",
     "text": [
      "LeDock Docking finished\n",
      "Have been converted to mol2 file! /home/haotian/Molecule_Generation/Flexible-docking/data/esmfold_time_split/6jad/6jad_ligand.sdf\n"
     ]
    },
    {
     "name": "stderr",
     "output_type": "stream",
     "text": [
      " 46%|████▌     | 161/353 [44:10<47:42, 14.91s/it]"
     ]
    },
    {
     "name": "stdout",
     "output_type": "stream",
     "text": [
      "LeDock Docking finished\n",
      "Have been converted to mol2 file! /home/haotian/Molecule_Generation/Flexible-docking/data/esmfold_time_split/6oxx/6oxx_ligand.sdf\n"
     ]
    },
    {
     "name": "stderr",
     "output_type": "stream",
     "text": [
      " 46%|████▌     | 162/353 [44:29<51:22, 16.14s/it]"
     ]
    },
    {
     "name": "stdout",
     "output_type": "stream",
     "text": [
      "LeDock Docking finished\n",
      "Have been converted to mol2 file! /home/haotian/Molecule_Generation/Flexible-docking/data/esmfold_time_split/6r7d/6r7d_ligand.sdf\n"
     ]
    },
    {
     "name": "stderr",
     "output_type": "stream",
     "text": [
      " 46%|████▌     | 163/353 [44:42<48:33, 15.33s/it]"
     ]
    },
    {
     "name": "stdout",
     "output_type": "stream",
     "text": [
      "LeDock Docking finished\n",
      "Have been converted to mol2 file! /home/haotian/Molecule_Generation/Flexible-docking/data/esmfold_time_split/6n0m/6n0m_ligand.sdf\n"
     ]
    },
    {
     "name": "stderr",
     "output_type": "stream",
     "text": [
      " 46%|████▋     | 164/353 [44:47<38:38, 12.27s/it]"
     ]
    },
    {
     "name": "stdout",
     "output_type": "stream",
     "text": [
      "LeDock Docking finished\n",
      "Have been converted to mol2 file! /home/haotian/Molecule_Generation/Flexible-docking/data/esmfold_time_split/6hhr/6hhr_ligand.sdf\n"
     ]
    },
    {
     "name": "stderr",
     "output_type": "stream",
     "text": [
      " 47%|████▋     | 165/353 [44:55<33:39, 10.74s/it]"
     ]
    },
    {
     "name": "stdout",
     "output_type": "stream",
     "text": [
      "LeDock Docking finished\n",
      "Have been converted to mol2 file! /home/haotian/Molecule_Generation/Flexible-docking/data/esmfold_time_split/6pgo/6pgo_ligand.sdf\n"
     ]
    },
    {
     "name": "stderr",
     "output_type": "stream",
     "text": [
      " 47%|████▋     | 166/353 [45:05<32:53, 10.55s/it]"
     ]
    },
    {
     "name": "stdout",
     "output_type": "stream",
     "text": [
      "LeDock Docking finished\n",
      "Have been converted to mol2 file! /home/haotian/Molecule_Generation/Flexible-docking/data/esmfold_time_split/6d3z/6d3z_ligand.sdf\n"
     ]
    },
    {
     "name": "stderr",
     "output_type": "stream",
     "text": [
      " 47%|████▋     | 167/353 [45:48<1:03:24, 20.45s/it]"
     ]
    },
    {
     "name": "stdout",
     "output_type": "stream",
     "text": [
      "LeDock Docking finished\n"
     ]
    },
    {
     "name": "stderr",
     "output_type": "stream",
     "text": [
      "RDKit ERROR: Violation occurred on line 60 in file /home/conda/feedstock_root/build_artifacts/rdkit_1614687251479/work/Code/GraphMol/Conformer.cpp\n",
      "RDKit ERROR: Failed Expression: dp_mol->getNumAtoms() == d_positions.size()\n",
      "RDKit ERROR: ****\n",
      "RDKit ERROR: \n",
      "RDKit ERROR: [12:16:42] \n",
      "RDKit ERROR: \n",
      "RDKit ERROR: ****\n",
      "RDKit ERROR: Pre-condition Violation\n",
      "RDKit ERROR: \n",
      "RDKit ERROR: Violation occurred on line 60 in file /home/conda/feedstock_root/build_artifacts/rdkit_1614687251479/work/Code/GraphMol/Conformer.cpp\n",
      "RDKit ERROR: Failed Expression: dp_mol->getNumAtoms() == d_positions.size()\n",
      "RDKit ERROR: ****\n",
      "RDKit ERROR: \n",
      "RDKit ERROR: [12:16:42] \n",
      "RDKit ERROR: \n",
      "RDKit ERROR: ****\n",
      "RDKit ERROR: Pre-condition Violation\n",
      "RDKit ERROR: \n",
      "RDKit ERROR: Violation occurred on line 60 in file /home/conda/feedstock_root/build_artifacts/rdkit_1614687251479/work/Code/GraphMol/Conformer.cpp\n",
      "RDKit ERROR: Failed Expression: dp_mol->getNumAtoms() == d_positions.size()\n",
      "RDKit ERROR: ****\n",
      "RDKit ERROR: \n",
      "RDKit ERROR: [12:16:42] \n",
      "RDKit ERROR: \n",
      "RDKit ERROR: ****\n",
      "RDKit ERROR: Pre-condition Violation\n",
      "RDKit ERROR: \n",
      "RDKit ERROR: Violation occurred on line 60 in file /home/conda/feedstock_root/build_artifacts/rdkit_1614687251479/work/Code/GraphMol/Conformer.cpp\n",
      "RDKit ERROR: Failed Expression: dp_mol->getNumAtoms() == d_positions.size()\n",
      "RDKit ERROR: ****\n",
      "RDKit ERROR: \n",
      "RDKit ERROR: [12:16:42] \n",
      "RDKit ERROR: \n",
      "RDKit ERROR: ****\n",
      "RDKit ERROR: Pre-condition Violation\n",
      "RDKit ERROR: \n",
      "RDKit ERROR: Violation occurred on line 60 in file /home/conda/feedstock_root/build_artifacts/rdkit_1614687251479/work/Code/GraphMol/Conformer.cpp\n",
      "RDKit ERROR: Failed Expression: dp_mol->getNumAtoms() == d_positions.size()\n",
      "RDKit ERROR: ****\n",
      "RDKit ERROR: \n",
      "RDKit ERROR: [12:17:00] \n",
      "RDKit ERROR: \n",
      "RDKit ERROR: ****\n",
      "RDKit ERROR: Pre-condition Violation\n",
      "RDKit ERROR: \n",
      "RDKit ERROR: Violation occurred on line 60 in file /home/conda/feedstock_root/build_artifacts/rdkit_1614687251479/work/Code/GraphMol/Conformer.cpp\n",
      "RDKit ERROR: Failed Expression: dp_mol->getNumAtoms() == d_positions.size()\n",
      "RDKit ERROR: ****\n",
      "RDKit ERROR: \n",
      "RDKit ERROR: [12:17:00] \n",
      "RDKit ERROR: \n",
      "RDKit ERROR: ****\n",
      "RDKit ERROR: Pre-condition Violation\n",
      "RDKit ERROR: \n",
      "RDKit ERROR: Violation occurred on line 60 in file /home/conda/feedstock_root/build_artifacts/rdkit_1614687251479/work/Code/GraphMol/Conformer.cpp\n",
      "RDKit ERROR: Failed Expression: dp_mol->getNumAtoms() == d_positions.size()\n",
      "RDKit ERROR: ****\n",
      "RDKit ERROR: \n",
      "RDKit ERROR: [12:17:00] \n",
      "RDKit ERROR: \n",
      "RDKit ERROR: ****\n",
      "RDKit ERROR: Pre-condition Violation\n",
      "RDKit ERROR: \n",
      "RDKit ERROR: Violation occurred on line 60 in file /home/conda/feedstock_root/build_artifacts/rdkit_1614687251479/work/Code/GraphMol/Conformer.cpp\n",
      "RDKit ERROR: Failed Expression: dp_mol->getNumAtoms() == d_positions.size()\n",
      "RDKit ERROR: ****\n",
      "RDKit ERROR: \n",
      "RDKit ERROR: [12:17:00] \n",
      "RDKit ERROR: \n",
      "RDKit ERROR: ****\n",
      "RDKit ERROR: Pre-condition Violation\n",
      "RDKit ERROR: \n",
      "RDKit ERROR: Violation occurred on line 60 in file /home/conda/feedstock_root/build_artifacts/rdkit_1614687251479/work/Code/GraphMol/Conformer.cpp\n",
      "RDKit ERROR: Failed Expression: dp_mol->getNumAtoms() == d_positions.size()\n",
      "RDKit ERROR: ****\n",
      "RDKit ERROR: \n",
      "RDKit ERROR: [12:17:00] \n",
      "RDKit ERROR: \n",
      "RDKit ERROR: ****\n",
      "RDKit ERROR: Pre-condition Violation\n",
      "RDKit ERROR: \n",
      "RDKit ERROR: Violation occurred on line 60 in file /home/conda/feedstock_root/build_artifacts/rdkit_1614687251479/work/Code/GraphMol/Conformer.cpp\n",
      "RDKit ERROR: Failed Expression: dp_mol->getNumAtoms() == d_positions.size()\n",
      "RDKit ERROR: ****\n",
      "RDKit ERROR: \n",
      "RDKit ERROR: [12:17:00] \n",
      "RDKit ERROR: \n",
      "RDKit ERROR: ****\n",
      "RDKit ERROR: Pre-condition Violation\n",
      "RDKit ERROR: \n",
      "RDKit ERROR: Violation occurred on line 60 in file /home/conda/feedstock_root/build_artifacts/rdkit_1614687251479/work/Code/GraphMol/Conformer.cpp\n",
      "RDKit ERROR: Failed Expression: dp_mol->getNumAtoms() == d_positions.size()\n",
      "RDKit ERROR: ****\n",
      "RDKit ERROR: \n",
      "RDKit ERROR: [12:17:00] \n",
      "RDKit ERROR: \n",
      "RDKit ERROR: ****\n",
      "RDKit ERROR: Pre-condition Violation\n",
      "RDKit ERROR: \n",
      "RDKit ERROR: Violation occurred on line 60 in file /home/conda/feedstock_root/build_artifacts/rdkit_1614687251479/work/Code/GraphMol/Conformer.cpp\n",
      "RDKit ERROR: Failed Expression: dp_mol->getNumAtoms() == d_positions.size()\n",
      "RDKit ERROR: ****\n",
      "RDKit ERROR: \n",
      "RDKit ERROR: [12:17:00] \n",
      "RDKit ERROR: \n",
      "RDKit ERROR: ****\n",
      "RDKit ERROR: Pre-condition Violation\n",
      "RDKit ERROR: \n",
      "RDKit ERROR: Violation occurred on line 60 in file /home/conda/feedstock_root/build_artifacts/rdkit_1614687251479/work/Code/GraphMol/Conformer.cpp\n",
      "RDKit ERROR: Failed Expression: dp_mol->getNumAtoms() == d_positions.size()\n",
      "RDKit ERROR: ****\n",
      "RDKit ERROR: \n",
      "RDKit ERROR: [12:17:00] \n",
      "RDKit ERROR: \n",
      "RDKit ERROR: ****\n",
      "RDKit ERROR: Pre-condition Violation\n",
      "RDKit ERROR: \n",
      "RDKit ERROR: Violation occurred on line 60 in file /home/conda/feedstock_root/build_artifacts/rdkit_1614687251479/work/Code/GraphMol/Conformer.cpp\n",
      "RDKit ERROR: Failed Expression: dp_mol->getNumAtoms() == d_positions.size()\n",
      "RDKit ERROR: ****\n",
      "RDKit ERROR: \n",
      "RDKit ERROR: [12:17:00] \n",
      "RDKit ERROR: \n",
      "RDKit ERROR: ****\n",
      "RDKit ERROR: Pre-condition Violation\n",
      "RDKit ERROR: \n",
      "RDKit ERROR: Violation occurred on line 60 in file /home/conda/feedstock_root/build_artifacts/rdkit_1614687251479/work/Code/GraphMol/Conformer.cpp\n",
      "RDKit ERROR: Failed Expression: dp_mol->getNumAtoms() == d_positions.size()\n",
      "RDKit ERROR: ****\n",
      "RDKit ERROR: \n",
      "RDKit ERROR: [12:19:04] \n",
      "RDKit ERROR: \n",
      "RDKit ERROR: ****\n",
      "RDKit ERROR: Pre-condition Violation\n",
      "RDKit ERROR: \n",
      "RDKit ERROR: Violation occurred on line 60 in file /home/conda/feedstock_root/build_artifacts/rdkit_1614687251479/work/Code/GraphMol/Conformer.cpp\n",
      "RDKit ERROR: Failed Expression: dp_mol->getNumAtoms() == d_positions.size()\n",
      "RDKit ERROR: ****\n",
      "RDKit ERROR: \n",
      "RDKit ERROR: [12:19:04] \n",
      "RDKit ERROR: \n",
      "RDKit ERROR: ****\n",
      "RDKit ERROR: Pre-condition Violation\n",
      "RDKit ERROR: \n",
      "RDKit ERROR: Violation occurred on line 60 in file /home/conda/feedstock_root/build_artifacts/rdkit_1614687251479/work/Code/GraphMol/Conformer.cpp\n",
      " 48%|████▊     | 168/353 [45:57<52:29, 17.02s/it]   occurred on line 60 in file /home/conda/feedstock_root/build_artifacts/rdkit_1614687251479/work/Code/GraphMol/Conformer.cpp\n",
      "Failed Expression: dp_mol->getNumAtoms() == d_positions.size()\n",
      "****\n",
      "\n",
      "[12:16:42] \n",
      "\n",
      "****\n",
      "Pre-condition Violation\n",
      "\n",
      "Violation occurred on line 60 in file /home/conda/feedstock_root/build_artifacts/rdkit_1614687251479/work/Code/GraphMol/Conformer.cpp\n",
      "Failed Expression: dp_mol->getNumAtoms() == d_positions.size()\n",
      "****\n",
      "\n",
      "[12:16:42] \n",
      "\n",
      "****\n",
      "Pre-condition Violation\n",
      "\n",
      "Violation occurred on line 60 in file /home/conda/feedstock_root/build_artifacts/rdkit_1614687251479/work/Code/GraphMol/Conformer.cpp\n",
      "Failed Expression: dp_mol->getNumAtoms() == d_positions.size()\n",
      "****\n",
      "\n",
      "[12:16:42] \n",
      "\n",
      "****\n",
      "Pre-condition Violation\n",
      "\n",
      "Violation occurred on line 60 in file /home/conda/feedstock_root/build_artifacts/rdkit_1614687251479/work/Code/GraphMol/Conformer.cpp\n",
      "Failed Expression: dp_mol->getNumAtoms() == d_positions.size()\n",
      "****\n",
      "\n",
      "[12:16:42] \n",
      "\n",
      "****\n",
      "Pre-condition Violation\n",
      "\n",
      "Violation occurred on lin"
     ]
    },
    {
     "name": "stdout",
     "output_type": "stream",
     "text": [
      "LeDock Docking finished\n"
     ]
    },
    {
     "name": "stderr",
     "output_type": "stream",
     "text": [
      "e 60 in file /home/conda/feedstock_root/build_artifacts/rdkit_1614687251479/work/Code/GraphMol/Conformer.cpp\n",
      "Failed Expression: dp_mol->getNumAtoms() == d_positions.size()\n",
      "****\n",
      "\n",
      "[12:17:00] \n",
      "\n",
      "****\n",
      "Pre-condition Violation\n",
      "\n",
      "Violation occurred on line 60 in file /home/conda/feedstock_root/build_artifacts/rdkit_1614687251479/work/Code/GraphMol/Conformer.cpp\n",
      "Failed Expression: dp_mol->getNumAtoms() == d_positions.size()\n",
      "****\n",
      "\n",
      "[12:17:00] \n",
      "\n",
      "****\n",
      "Pre-condition Violation\n",
      "\n",
      "Violation occurred on line 60 in file /home/conda/feedstock_root/build_artifacts/rdkit_1614687251479/work/Code/GraphMol/Conformer.cpp\n",
      "Failed Expression: dp_mol->getNumAtoms() == d_positions.size()\n",
      "****\n",
      "\n",
      "[12:17:00] \n",
      "\n",
      "****\n",
      "Pre-condition Violation\n",
      "\n",
      "Violation occurred on line 60 in file /home/conda/feedstock_root/build_artifacts/rdkit_1614687251479/work/Code/GraphMol/Conformer.cpp\n",
      "Failed Expression: dp_mol->getNumAtoms() == d_positions.size()\n",
      "****\n",
      "\n",
      "[12:17:00] \n",
      "\n",
      "****\n",
      "Pre-condition Violation\n",
      "\n",
      "Violation occurred on line 60 in file /home/conda/feedstock_root/build_artifacts/rdkit_1614687251479/work/Code/GraphMol/Conformer.cpp\n",
      "Failed Expression: dp_mol->getNumAtoms() == d_positions.size()\n",
      "****\n",
      "\n",
      "[12:17:00] \n",
      "\n",
      "****\n",
      "Pre-condition Violation\n",
      "\n",
      "Violation occurred on line 60 in file /home/conda/feedstock_root/build_artifacts/rdkit_1614687251479/work/Code/GraphMol/Conformer.cpp\n",
      "Failed Expression: dp_mol->getNumAtoms() == d_positions.size()\n",
      "****\n",
      "\n",
      "[12:17:00] \n",
      "\n",
      "****\n",
      "Pre-condition Violation\n",
      "\n",
      "Violation occurred on line 60 in file /home/conda/feedstock_root/build_artifacts/rdkit_1614687251479/work/Code/GraphMol/Conformer.cpp\n",
      "Failed Expression: dp_mol->getNumAtoms() == d_positions.size()\n",
      "****\n",
      "\n",
      "[12:17:00] \n",
      "\n",
      "****\n",
      "Pre-condition Violation\n",
      "\n",
      "Violation occurred on line 60 in file /home/conda/feedstock_root/build_artifacts/rdkit_1614687251479/work/Code/GraphMol/Conformer.cpp\n",
      "Failed Expression: dp_mol->getNumAtoms() == d_positions.size()\n",
      "****\n",
      "\n",
      "[12:17:00] \n",
      "\n",
      "****\n",
      "Pre-condition Violation\n",
      "\n",
      "Violation occurred on line 60 in file /home/conda/feedstock_root/build_artifacts/rdkit_1614687251479/work/Code/GraphMol/Conformer.cpp\n",
      "Failed Expression: dp_mol->getNumAtoms() == d_positions.size()\n",
      "****\n",
      "\n",
      "[12:17:00] \n",
      "\n",
      "****\n",
      "Pre-condition Violation\n",
      "\n",
      "Violation occurred on line 60 in file /home/conda/feedstock_root/build_artifacts/rdkit_1614687251479/work/Code/GraphMol/Conformer.cpp\n",
      "Failed Expression: dp_mol->getNumAtoms() == d_positions.size()\n",
      "****\n",
      "\n",
      "[12:17:00] \n",
      "\n",
      "****\n",
      "Pre-condition Violation\n",
      "\n",
      "Violation occurred on line 60 in file /home/conda/feedstock_root/build_artifacts/rdkit_1614687251479/work/Code/GraphMol/Conformer.cpp\n",
      "Failed Expression: dp_mol->getNumAtoms() == d_positions.size()\n",
      "****\n",
      "\n",
      "[12:19:04] \n",
      "\n",
      "****\n",
      "Pre-condition Violation\n",
      "\n",
      "Violation occurred on line 60 in file /home/conda/feedstock_root/build_artifacts/rdkit_1614687251479/work/Code/GraphMol/Conformer.cpp\n",
      "Failed Expression: dp_mol->getNumAtoms() == d_positions.size()\n",
      "****\n",
      "\n",
      "[12:19:04] \n",
      "\n",
      "****\n",
      "Pre-condition Violation\n",
      "\n",
      "Violation occurred on line 60 in file /home/conda/feedstock_root/build_artifacts/rdkit_1614687251479/work/Code/GraphMol/Conformer.cpp\n",
      " 48%|████▊     | 169/353 [46:06<44:30, 14.51s/it]"
     ]
    },
    {
     "name": "stdout",
     "output_type": "stream",
     "text": [
      "LeDock Docking finished\n",
      "Have been converted to mol2 file! /home/haotian/Molecule_Generation/Flexible-docking/data/esmfold_time_split/6ffg/6ffg_ligand.sdf\n"
     ]
    },
    {
     "name": "stderr",
     "output_type": "stream",
     "text": [
      " 48%|████▊     | 170/353 [46:15<39:01, 12.79s/it]"
     ]
    },
    {
     "name": "stdout",
     "output_type": "stream",
     "text": [
      "LeDock Docking finished\n",
      "Have been converted to mol2 file! /home/haotian/Molecule_Generation/Flexible-docking/data/esmfold_time_split/6jbb/6jbb_ligand.sdf\n"
     ]
    },
    {
     "name": "stderr",
     "output_type": "stream",
     "text": [
      " 48%|████▊     | 171/353 [46:23<34:42, 11.44s/it]"
     ]
    },
    {
     "name": "stdout",
     "output_type": "stream",
     "text": [
      "LeDock Docking finished\n",
      "Have been converted to mol2 file! /home/haotian/Molecule_Generation/Flexible-docking/data/esmfold_time_split/6d5w/6d5w_ligand.sdf\n"
     ]
    },
    {
     "name": "stderr",
     "output_type": "stream",
     "text": [
      " 49%|████▊     | 172/353 [46:30<30:43, 10.19s/it]"
     ]
    },
    {
     "name": "stdout",
     "output_type": "stream",
     "text": [
      "LeDock Docking finished\n",
      "Have been converted to mol2 file! /home/haotian/Molecule_Generation/Flexible-docking/data/esmfold_time_split/6hhg/6hhg_ligand.sdf\n"
     ]
    },
    {
     "name": "stderr",
     "output_type": "stream",
     "text": [
      " 49%|████▉     | 173/353 [46:48<37:24, 12.47s/it]"
     ]
    },
    {
     "name": "stdout",
     "output_type": "stream",
     "text": [
      "LeDock Docking finished\n",
      "Have been converted to mol2 file! /home/haotian/Molecule_Generation/Flexible-docking/data/esmfold_time_split/6e4v/6e4v_ligand.sdf\n"
     ]
    },
    {
     "name": "stderr",
     "output_type": "stream",
     "text": [
      " 49%|████▉     | 174/353 [47:04<40:35, 13.61s/it]"
     ]
    },
    {
     "name": "stdout",
     "output_type": "stream",
     "text": [
      "LeDock Docking finished\n",
      "Have been converted to mol2 file! /home/haotian/Molecule_Generation/Flexible-docking/data/esmfold_time_split/6d08/6d08_ligand.sdf\n"
     ]
    },
    {
     "name": "stderr",
     "output_type": "stream",
     "text": [
      " 50%|████▉     | 175/353 [47:51<1:09:53, 23.56s/it]"
     ]
    },
    {
     "name": "stdout",
     "output_type": "stream",
     "text": [
      "LeDock Docking finished\n"
     ]
    },
    {
     "name": "stderr",
     "output_type": "stream",
     "text": [
      "RDKit ERROR: Failed Expression: dp_mol->getNumAtoms() == d_positions.size()\n",
      "RDKit ERROR: ****\n",
      "RDKit ERROR: \n",
      "RDKit ERROR: [12:19:04] \n",
      "RDKit ERROR: \n",
      "RDKit ERROR: ****\n",
      "RDKit ERROR: Pre-condition Violation\n",
      "RDKit ERROR: \n",
      "RDKit ERROR: Violation occurred on line 60 in file /home/conda/feedstock_root/build_artifacts/rdkit_1614687251479/work/Code/GraphMol/Conformer.cpp\n",
      "RDKit ERROR: Failed Expression: dp_mol->getNumAtoms() == d_positions.size()\n",
      "RDKit ERROR: ****\n",
      "RDKit ERROR: \n",
      "RDKit ERROR: [12:19:04] \n",
      "RDKit ERROR: \n",
      "RDKit ERROR: ****\n",
      "RDKit ERROR: Pre-condition Violation\n",
      "RDKit ERROR: \n",
      "RDKit ERROR: Violation occurred on line 60 in file /home/conda/feedstock_root/build_artifacts/rdkit_1614687251479/work/Code/GraphMol/Conformer.cpp\n",
      "RDKit ERROR: Failed Expression: dp_mol->getNumAtoms() == d_positions.size()\n",
      "RDKit ERROR: ****\n",
      "RDKit ERROR: \n",
      "RDKit ERROR: [12:19:13] \n",
      "RDKit ERROR: \n",
      "RDKit ERROR: ****\n",
      "RDKit ERROR: Pre-condition Violation\n",
      "RDKit ERROR: \n",
      "RDKit ERROR: Violation occurred on line 60 in file /home/conda/feedstock_root/build_artifacts/rdkit_1614687251479/work/Code/GraphMol/Conformer.cpp\n",
      "RDKit ERROR: Failed Expression: dp_mol->getNumAtoms() == d_positions.size()\n",
      "RDKit ERROR: ****\n",
      "RDKit ERROR: \n",
      "RDKit ERROR: [12:19:13] \n",
      "RDKit ERROR: \n",
      "RDKit ERROR: ****\n",
      "RDKit ERROR: Pre-condition Violation\n",
      "RDKit ERROR: \n",
      "RDKit ERROR: Violation occurred on line 60 in file /home/conda/feedstock_root/build_artifacts/rdkit_1614687251479/work/Code/GraphMol/Conformer.cpp\n",
      "RDKit ERROR: Failed Expression: dp_mol->getNumAtoms() == d_positions.size()\n",
      "RDKit ERROR: ****\n",
      "RDKit ERROR: \n",
      "RDKit ERROR: [12:19:13] \n",
      "RDKit ERROR: \n",
      "RDKit ERROR: ****\n",
      "RDKit ERROR: Pre-condition Violation\n",
      "RDKit ERROR: \n",
      "RDKit ERROR: Violation occurred on line 60 in file /home/conda/feedstock_root/build_artifacts/rdkit_1614687251479/work/Code/GraphMol/Conformer.cpp\n",
      "RDKit ERROR: Failed Expression: dp_mol->getNumAtoms() == d_positions.size()\n",
      "RDKit ERROR: ****\n",
      "RDKit ERROR: \n",
      "RDKit ERROR: [12:19:13] \n",
      "RDKit ERROR: \n",
      "RDKit ERROR: ****\n",
      "RDKit ERROR: Pre-condition Violation\n",
      "RDKit ERROR: \n",
      "RDKit ERROR: Violation occurred on line 60 in file /home/conda/feedstock_root/build_artifacts/rdkit_1614687251479/work/Code/GraphMol/Conformer.cpp\n",
      "RDKit ERROR: Failed Expression: dp_mol->getNumAtoms() == d_positions.size()\n",
      "RDKit ERROR: ****\n",
      "RDKit ERROR: \n",
      "RDKit ERROR: [12:19:13] \n",
      "RDKit ERROR: \n",
      "RDKit ERROR: ****\n",
      "RDKit ERROR: Pre-condition Violation\n",
      "RDKit ERROR: \n",
      "RDKit ERROR: Violation occurred on line 60 in file /home/conda/feedstock_root/build_artifacts/rdkit_1614687251479/work/Code/GraphMol/Conformer.cpp\n",
      "RDKit ERROR: Failed Expression: dp_mol->getNumAtoms() == d_positions.size()\n",
      "RDKit ERROR: ****\n",
      "RDKit ERROR: \n",
      "RDKit ERROR: [12:19:13] \n",
      "RDKit ERROR: \n",
      "RDKit ERROR: ****\n",
      "RDKit ERROR: Pre-condition Violation\n",
      "RDKit ERROR: \n",
      "RDKit ERROR: Violation occurred on line 60 in file /home/conda/feedstock_root/build_artifacts/rdkit_1614687251479/work/Code/GraphMol/Conformer.cpp\n",
      "RDKit ERROR: Failed Expression: dp_mol->getNumAtoms() == d_positions.size()\n",
      "RDKit ERROR: ****\n",
      "RDKit ERROR: \n",
      "RDKit ERROR: [12:19:13] \n",
      "RDKit ERROR: \n",
      "RDKit ERROR: ****\n",
      "RDKit ERROR: Pre-condition Violation\n",
      "RDKit ERROR: \n",
      "RDKit ERROR: Violation occurred on line 60 in file /home/conda/feedstock_root/build_artifacts/rdkit_1614687251479/work/Code/GraphMol/Conformer.cpp\n",
      "RDKit ERROR: Failed Expression: dp_mol->getNumAtoms() == d_positions.size()\n",
      "RDKit ERROR: ****\n",
      "RDKit ERROR: \n",
      "RDKit ERROR: [12:19:13] \n",
      "RDKit ERROR: \n",
      "RDKit ERROR: ****\n",
      "RDKit ERROR: Pre-condition Violation\n",
      "RDKit ERROR: \n",
      "RDKit ERROR: Violation occurred on line 60 in file /home/conda/feedstock_root/build_artifacts/rdkit_1614687251479/work/Code/GraphMol/Conformer.cpp\n",
      "RDKit ERROR: Failed Expression: dp_mol->getNumAtoms() == d_positions.size()\n",
      "RDKit ERROR: ****\n",
      "RDKit ERROR: \n",
      "RDKit ERROR: [12:19:13] \n",
      "RDKit ERROR: \n",
      "RDKit ERROR: ****\n",
      "RDKit ERROR: Pre-condition Violation\n",
      "RDKit ERROR: \n",
      "RDKit ERROR: Violation occurred on line 60 in file /home/conda/feedstock_root/build_artifacts/rdkit_1614687251479/work/Code/GraphMol/Conformer.cpp\n",
      "RDKit ERROR: Failed Expression: dp_mol->getNumAtoms() == d_positions.size()\n",
      "RDKit ERROR: ****\n",
      "RDKit ERROR: \n",
      "RDKit ERROR: [12:21:11] \n",
      "RDKit ERROR: \n",
      "RDKit ERROR: ****\n",
      "RDKit ERROR: Pre-condition Violation\n",
      "RDKit ERROR: \n",
      "RDKit ERROR: Violation occurred on line 60 in file /home/conda/feedstock_root/build_artifacts/rdkit_1614687251479/work/Code/GraphMol/Conformer.cpp\n",
      "RDKit ERROR: Failed Expression: dp_mol->getNumAtoms() == d_positions.size()\n",
      "RDKit ERROR: ****\n",
      "RDKit ERROR: \n",
      "RDKit ERROR: [12:21:11] \n",
      "RDKit ERROR: \n",
      "RDKit ERROR: ****\n",
      "RDKit ERROR: Pre-condition Violation\n",
      "RDKit ERROR: \n",
      "RDKit ERROR: Violation occurred on line 60 in file /home/conda/feedstock_root/build_artifacts/rdkit_1614687251479/work/Code/GraphMol/Conformer.cpp\n",
      "RDKit ERROR: Failed Expression: dp_mol->getNumAtoms() == d_positions.size()\n",
      "RDKit ERROR: ****\n",
      "RDKit ERROR: \n",
      "RDKit ERROR: [12:21:11] \n",
      "RDKit ERROR: \n",
      "RDKit ERROR: ****\n",
      "RDKit ERROR: Pre-condition Violation\n",
      "RDKit ERROR: \n",
      "RDKit ERROR: Violation occurred on line 60 in file /home/conda/feedstock_root/build_artifacts/rdkit_1614687251479/work/Code/GraphMol/Conformer.cpp\n",
      "RDKit ERROR: Failed Expression: dp_mol->getNumAtoms() == d_positions.size()\n",
      "RDKit ERROR: ****\n",
      "RDKit ERROR: \n",
      "RDKit ERROR: [12:21:11] \n",
      "RDKit ERROR: \n",
      "RDKit ERROR: ****\n",
      "RDKit ERROR: Pre-condition Violation\n",
      "RDKit ERROR: \n",
      "RDKit ERROR: Violation occurred on line 60 in file /home/conda/feedstock_root/build_artifacts/rdkit_1614687251479/work/Code/GraphMol/Conformer.cpp\n",
      "RDKit ERROR: Failed Expression: dp_mol->getNumAtoms() == d_positions.size()\n",
      "RDKit ERROR: ****\n",
      "RDKit ERROR: \n",
      "RDKit ERROR: [12:21:11] \n",
      "RDKit ERROR: \n",
      "RDKit ERROR: ****\n",
      "RDKit ERROR: Pre-condition Violation\n",
      "RDKit ERROR: \n",
      "RDKit ERROR: Violation occurred on line 60 in file /home/conda/feedstock_root/build_artifacts/rdkit_1614687251479/work/Code/GraphMol/Conformer.cpp\n",
      "RDKit ERROR: Failed Expression: dp_mol->getNumAtoms() == d_positions.size()\n",
      "RDKit ERROR: ****\n",
      "RDKit ERROR: \n",
      "RDKit ERROR: [12:21:11] \n",
      "RDKit ERROR: \n",
      "RDKit ERROR: ****\n",
      "RDKit ERROR: Pre-condition Violation\n",
      "RDKit ERROR: \n",
      " 50%|████▉     | 176/353 [48:04<1:00:19, 20.45s/it]"
     ]
    },
    {
     "name": "stdout",
     "output_type": "stream",
     "text": [
      "LeDock Docking finished\n",
      "Have been converted to mol2 file! /home/haotian/Molecule_Generation/Flexible-docking/data/esmfold_time_split/6jwa/6jwa_ligand.sdf\n"
     ]
    },
    {
     "name": "stderr",
     "output_type": "stream",
     "text": [
      "oms() == d_positions.size()\n",
      "****\n",
      "\n",
      "[12:19:04] \n",
      "\n",
      "****\n",
      "Pre-condition Violation\n",
      "\n",
      "Violation occurred on line 60 in file /home/conda/feedstock_root/build_artifacts/rdkit_1614687251479/work/Code/GraphMol/Conformer.cpp\n",
      "Failed Expression: dp_mol->getNumAtoms() == d_positions.size()\n",
      "****\n",
      "\n",
      "[12:19:04] \n",
      "\n",
      "****\n",
      "Pre-condition Violation\n",
      "\n",
      "Violation occurred on line 60 in file /home/conda/feedstock_root/build_artifacts/rdkit_1614687251479/work/Code/GraphMol/Conformer.cpp\n",
      "Failed Expression: dp_mol->getNumAtoms() == d_positions.size()\n",
      "****\n",
      "\n",
      "[12:19:13] \n",
      "\n",
      "****\n",
      "Pre-condition Violation\n",
      "\n",
      "Violation occurred on line 60 in file /home/conda/feedstock_root/build_artifacts/rdkit_1614687251479/work/Code/GraphMol/Conformer.cpp\n",
      "Failed Expression: dp_mol->getNumAtoms() == d_positions.size()\n",
      "****\n",
      "\n",
      "[12:19:13] \n",
      "\n",
      "****\n",
      "Pre-condition Violation\n",
      "\n",
      "Violation occurred on line 60 in file /home/conda/feedstock_root/build_artifacts/rdkit_1614687251479/work/Code/GraphMol/Conformer.cpp\n",
      "Failed Expression: dp_mol->getNumAtoms() == d_positions.size()\n",
      "****\n",
      "\n",
      "[12:19:13] \n",
      "\n",
      "****\n",
      "Pre-condition Violation\n",
      "\n",
      "Violation occurred on line 60 in file /home/conda/feedstock_root/build_artifacts/rdkit_1614687251479/work/Code/GraphMol/Conformer.cpp\n",
      "Failed Expression: dp_mol->getNumAtoms() == d_positions.size()\n",
      "****\n",
      "\n",
      "[12:19:13] \n",
      "\n",
      "****\n",
      "Pre-condition Violation\n",
      "\n",
      "Violation occurred on line 60 in file /home/conda/feedstock_root/build_artifacts/rdkit_1614687251479/work/Code/GraphMol/Conformer.cpp\n",
      "Failed Expression: dp_mol->getNumAtoms() == d_positions.size()\n",
      "****\n",
      "\n",
      "[12:19:13] \n",
      "\n",
      "****\n",
      "Pre-condition Violation\n",
      "\n",
      "Violation occurred on line 60 in file /home/conda/feedstock_root/build_artifacts/rdkit_1614687251479/work/Code/GraphMol/Conformer.cpp\n",
      "Failed Expression: dp_mol->getNumAtoms() == d_positions.size()\n",
      "****\n",
      "\n",
      "[12:19:13] \n",
      "\n",
      "****\n",
      "Pre-condition Violation\n",
      "\n",
      "Violation occurred on line 60 in file /home/conda/feedstock_root/build_artifacts/rdkit_1614687251479/work/Code/GraphMol/Conformer.cpp\n",
      "Failed Expression: dp_mol->getNumAtoms() == d_positions.size()\n",
      "****\n",
      "\n",
      "[12:19:13] \n",
      "\n",
      "****\n",
      "Pre-condition Violation\n",
      "\n",
      "Violation occurred on line 60 in file /home/conda/feedstock_root/build_artifacts/rdkit_1614687251479/work/Code/GraphMol/Conformer.cpp\n",
      "Failed Expression: dp_mol->getNumAtoms() == d_positions.size()\n",
      "****\n",
      "\n",
      "[12:19:13] \n",
      "\n",
      "****\n",
      "Pre-condition Violation\n",
      "\n",
      "Violation occurred on line 60 in file /home/conda/feedstock_root/build_artifacts/rdkit_1614687251479/work/Code/GraphMol/Conformer.cpp\n",
      "Failed Expression: dp_mol->getNumAtoms() == d_positions.size()\n",
      "****\n",
      "\n",
      "[12:19:13] \n",
      "\n",
      "****\n",
      "Pre-condition Violation\n",
      "\n",
      "Violation occurred on line 60 in file /home/conda/feedstock_root/build_artifacts/rdkit_1614687251479/work/Code/GraphMol/Conformer.cpp\n",
      "Failed Expression: dp_mol->getNumAtoms() == d_positions.size()\n",
      "****\n",
      "\n",
      "[12:21:11] \n",
      "\n",
      "****\n",
      "Pre-condition Violation\n",
      "\n",
      "Violation occurred on line 60 in file /home/conda/feedstock_root/build_artifacts/rdkit_1614687251479/work/Code/GraphMol/Conformer.cpp\n",
      "Failed Expression: dp_mol->getNumAtoms() == d_positions.size()\n",
      "****\n",
      "\n",
      "[12:21:11] \n",
      "\n",
      "****\n",
      "Pre-condition Violation\n",
      "\n",
      "Violation occurred on line 60 in file /home/conda/feedstock_root/build_artifacts/rdkit_1614687251479/work/Code/GraphMol/Conformer.cpp\n",
      "Failed Expression: dp_mol->getNumAtoms() == d_positions.size()\n",
      "****\n",
      "\n",
      "[12:21:11] \n",
      "\n",
      "****\n",
      "Pre-condition Violation\n",
      "\n",
      "Violation occurred on line 60 in file /home/conda/feedstock_root/build_artifacts/rdkit_1614687251479/work/Code/GraphMol/Conformer.cpp\n",
      "Failed Expression: dp_mol->getNumAtoms() == d_positions.size()\n",
      "****\n",
      "\n",
      "[12:21:11] \n",
      "\n",
      "****\n",
      "Pre-condition Violation\n",
      "\n",
      "Violation occurred on line 60 in file /home/conda/feedstock_root/build_artifacts/rdkit_1614687251479/work/Code/GraphMol/Conformer.cpp\n",
      "Failed Expression: dp_mol->getNumAtoms() == d_positions.size()\n",
      "****\n",
      "\n",
      "[12:21:11] \n",
      "\n",
      "****\n",
      "Pre-condition Violation\n",
      "\n",
      "Violation occurred on line 60 in file /home/conda/feedstock_root/build_artifacts/rdkit_1614687251479/work/Code/GraphMol/Conformer.cpp\n",
      "Failed Expression: dp_mol->getNumAtoms() == d_positions.size()\n",
      "****\n",
      "\n",
      "[12:21:11] \n",
      "\n",
      "****\n",
      "Pre-condition Violation\n",
      "\n",
      " 50%|█████     | 177/353 [48:11<48:05, 16.40s/it]  eedstock_root/build_artifacts/rd"
     ]
    },
    {
     "name": "stdout",
     "output_type": "stream",
     "text": [
      "LeDock Docking finished\n",
      "Have been converted to mol2 file! /home/haotian/Molecule_Generation/Flexible-docking/data/esmfold_time_split/6n96/6n96_ligand.sdf\n"
     ]
    },
    {
     "name": "stderr",
     "output_type": "stream",
     "text": [
      " 50%|█████     | 178/353 [48:24<44:34, 15.28s/it]"
     ]
    },
    {
     "name": "stdout",
     "output_type": "stream",
     "text": [
      "LeDock Docking finished\n",
      "Have been converted to mol2 file! /home/haotian/Molecule_Generation/Flexible-docking/data/esmfold_time_split/6d3x/6d3x_ligand.sdf\n"
     ]
    },
    {
     "name": "stderr",
     "output_type": "stream",
     "text": [
      " 51%|█████     | 179/353 [49:06<1:07:34, 23.30s/it]"
     ]
    },
    {
     "name": "stdout",
     "output_type": "stream",
     "text": [
      "LeDock Docking finished\n",
      "Have been converted to mol2 file! /home/haotian/Molecule_Generation/Flexible-docking/data/esmfold_time_split/6jsz/6jsz_ligand.sdf\n"
     ]
    },
    {
     "name": "stderr",
     "output_type": "stream",
     "text": [
      " 51%|█████     | 180/353 [49:17<56:33, 19.61s/it]  "
     ]
    },
    {
     "name": "stdout",
     "output_type": "stream",
     "text": [
      "LeDock Docking finished\n",
      "Have been converted to mol2 file! /home/haotian/Molecule_Generation/Flexible-docking/data/esmfold_time_split/6om4/6om4_ligand.sdf\n"
     ]
    },
    {
     "name": "stderr",
     "output_type": "stream",
     "text": [
      " 51%|█████▏    | 181/353 [50:10<1:24:56, 29.63s/it]"
     ]
    },
    {
     "name": "stdout",
     "output_type": "stream",
     "text": [
      "LeDock Docking finished\n",
      "Have been converted to mol2 file! /home/haotian/Molecule_Generation/Flexible-docking/data/esmfold_time_split/6np2/6np2_ligand.sdf\n"
     ]
    },
    {
     "name": "stderr",
     "output_type": "stream",
     "text": [
      " 52%|█████▏    | 182/353 [50:22<1:09:26, 24.37s/it]"
     ]
    },
    {
     "name": "stdout",
     "output_type": "stream",
     "text": [
      "LeDock Docking finished\n",
      "Have been converted to mol2 file! /home/haotian/Molecule_Generation/Flexible-docking/data/esmfold_time_split/6jb0/6jb0_ligand.sdf\n"
     ]
    },
    {
     "name": "stderr",
     "output_type": "stream",
     "text": [
      " 52%|█████▏    | 183/353 [50:30<55:17, 19.52s/it]  "
     ]
    },
    {
     "name": "stdout",
     "output_type": "stream",
     "text": [
      "LeDock Docking finished\n"
     ]
    },
    {
     "name": "stderr",
     "output_type": "stream",
     "text": [
      " 52%|█████▏    | 184/353 [50:42<48:15, 17.13s/it]"
     ]
    },
    {
     "name": "stdout",
     "output_type": "stream",
     "text": [
      "LeDock Docking finished\n",
      "Have been converted to mol2 file! /home/haotian/Molecule_Generation/Flexible-docking/data/esmfold_time_split/6h7d/6h7d_ligand.sdf\n"
     ]
    },
    {
     "name": "stderr",
     "output_type": "stream",
     "text": [
      " 52%|█████▏    | 185/353 [50:46<37:07, 13.26s/it]"
     ]
    },
    {
     "name": "stdout",
     "output_type": "stream",
     "text": [
      "LeDock Docking finished\n",
      "Have been converted to mol2 file! /home/haotian/Molecule_Generation/Flexible-docking/data/esmfold_time_split/6ic0/6ic0_ligand.sdf\n"
     ]
    },
    {
     "name": "stderr",
     "output_type": "stream",
     "text": [
      " 53%|█████▎    | 186/353 [50:58<35:48, 12.87s/it]"
     ]
    },
    {
     "name": "stdout",
     "output_type": "stream",
     "text": [
      "LeDock Docking finished\n",
      "Have been converted to mol2 file! /home/haotian/Molecule_Generation/Flexible-docking/data/esmfold_time_split/6r4k/6r4k_ligand.sdf\n"
     ]
    },
    {
     "name": "stderr",
     "output_type": "stream",
     "text": [
      " 53%|█████▎    | 187/353 [51:12<36:34, 13.22s/it]"
     ]
    },
    {
     "name": "stdout",
     "output_type": "stream",
     "text": [
      "LeDock Docking finished\n",
      "Have been converted to mol2 file! /home/haotian/Molecule_Generation/Flexible-docking/data/esmfold_time_split/6jmf/6jmf_ligand.sdf\n"
     ]
    },
    {
     "name": "stderr",
     "output_type": "stream",
     "text": [
      " 53%|█████▎    | 188/353 [51:22<33:28, 12.17s/it]"
     ]
    },
    {
     "name": "stdout",
     "output_type": "stream",
     "text": [
      "LeDock Docking finished\n",
      "Have been converted to mol2 file! /home/haotian/Molecule_Generation/Flexible-docking/data/esmfold_time_split/6np5/6np5_ligand.sdf\n"
     ]
    },
    {
     "name": "stderr",
     "output_type": "stream",
     "text": [
      " 54%|█████▎    | 189/353 [51:35<33:44, 12.34s/it]"
     ]
    },
    {
     "name": "stdout",
     "output_type": "stream",
     "text": [
      "LeDock Docking finished\n",
      "Have been converted to mol2 file! /home/haotian/Molecule_Generation/Flexible-docking/data/esmfold_time_split/6rr0/6rr0_ligand.sdf\n"
     ]
    },
    {
     "name": "stderr",
     "output_type": "stream",
     "text": [
      " 54%|█████▍    | 190/353 [52:30<1:08:32, 25.23s/it]"
     ]
    },
    {
     "name": "stdout",
     "output_type": "stream",
     "text": [
      "LeDock Docking finished\n",
      "Have been converted to mol2 file! /home/haotian/Molecule_Generation/Flexible-docking/data/esmfold_time_split/6tel/6tel_ligand.sdf\n"
     ]
    },
    {
     "name": "stderr",
     "output_type": "stream",
     "text": [
      " 54%|█████▍    | 191/353 [52:46<1:00:44, 22.50s/it]"
     ]
    },
    {
     "name": "stdout",
     "output_type": "stream",
     "text": [
      "LeDock Docking finished\n",
      "Have been converted to mol2 file! /home/haotian/Molecule_Generation/Flexible-docking/data/esmfold_time_split/6e6v/6e6v_ligand.sdf\n"
     ]
    },
    {
     "name": "stderr",
     "output_type": "stream",
     "text": [
      " 54%|█████▍    | 192/353 [52:51<46:12, 17.22s/it]  "
     ]
    },
    {
     "name": "stdout",
     "output_type": "stream",
     "text": [
      "LeDock Docking finished\n",
      "Have been converted to mol2 file! /home/haotian/Molecule_Generation/Flexible-docking/data/esmfold_time_split/6oxp/6oxp_ligand.sdf\n"
     ]
    },
    {
     "name": "stderr",
     "output_type": "stream",
     "text": [
      " 55%|█████▍    | 193/353 [53:09<46:23, 17.40s/it]"
     ]
    },
    {
     "name": "stdout",
     "output_type": "stream",
     "text": [
      "LeDock Docking finished\n",
      "Have been converted to mol2 file! /home/haotian/Molecule_Generation/Flexible-docking/data/esmfold_time_split/6g3c/6g3c_ligand.sdf\n"
     ]
    },
    {
     "name": "stderr",
     "output_type": "stream",
     "text": [
      " 55%|█████▍    | 194/353 [53:18<39:47, 15.02s/it]"
     ]
    },
    {
     "name": "stdout",
     "output_type": "stream",
     "text": [
      "LeDock Docking finished\n",
      "Have been converted to mol2 file! /home/haotian/Molecule_Generation/Flexible-docking/data/esmfold_time_split/6n53/6n53_ligand.sdf\n"
     ]
    },
    {
     "name": "stderr",
     "output_type": "stream",
     "text": [
      " 55%|█████▌    | 195/353 [53:25<33:24, 12.69s/it]"
     ]
    },
    {
     "name": "stdout",
     "output_type": "stream",
     "text": [
      "LeDock Docking finished\n",
      "Have been converted to mol2 file! /home/haotian/Molecule_Generation/Flexible-docking/data/esmfold_time_split/6npp/6npp_ligand.sdf\n"
     ]
    },
    {
     "name": "stderr",
     "output_type": "stream",
     "text": [
      " 56%|█████▌    | 196/353 [53:33<28:53, 11.04s/it]"
     ]
    },
    {
     "name": "stdout",
     "output_type": "stream",
     "text": [
      "LeDock Docking finished\n",
      "Have been converted to mol2 file! /home/haotian/Molecule_Generation/Flexible-docking/data/esmfold_time_split/6i74/6i74_ligand.sdf\n"
     ]
    },
    {
     "name": "stderr",
     "output_type": "stream",
     "text": [
      " 56%|█████▌    | 197/353 [53:44<28:56, 11.13s/it]"
     ]
    },
    {
     "name": "stdout",
     "output_type": "stream",
     "text": [
      "LeDock Docking finished\n",
      "Have been converted to mol2 file! /home/haotian/Molecule_Generation/Flexible-docking/data/esmfold_time_split/6inz/6inz_ligand.sdf\n"
     ]
    },
    {
     "name": "stderr",
     "output_type": "stream",
     "text": [
      " 56%|█████▌    | 198/353 [53:54<28:13, 10.92s/it]"
     ]
    },
    {
     "name": "stdout",
     "output_type": "stream",
     "text": [
      "LeDock Docking finished\n",
      "Have been converted to mol2 file! /home/haotian/Molecule_Generation/Flexible-docking/data/esmfold_time_split/6np4/6np4_ligand.sdf\n"
     ]
    },
    {
     "name": "stderr",
     "output_type": "stream",
     "text": [
      " 56%|█████▋    | 199/353 [54:07<29:01, 11.31s/it]"
     ]
    },
    {
     "name": "stdout",
     "output_type": "stream",
     "text": [
      "LeDock Docking finished\n"
     ]
    },
    {
     "name": "stderr",
     "output_type": "stream",
     "text": [
      " 57%|█████▋    | 200/353 [54:15<26:29, 10.39s/it]"
     ]
    },
    {
     "name": "stdout",
     "output_type": "stream",
     "text": [
      "LeDock Docking finished\n"
     ]
    },
    {
     "name": "stderr",
     "output_type": "stream",
     "text": [
      "RDKit ERROR: Violation occurred on line 60 in file /home/conda/feedstock_root/build_artifacts/rdkit_1614687251479/work/Code/GraphMol/Conformer.cpp\n",
      "RDKit ERROR: Failed Expression: dp_mol->getNumAtoms() == d_positions.size()\n",
      "RDKit ERROR: ****\n",
      "RDKit ERROR: \n",
      "RDKit ERROR: [12:21:11] \n",
      "RDKit ERROR: \n",
      "RDKit ERROR: ****\n",
      "RDKit ERROR: Pre-condition Violation\n",
      "RDKit ERROR: \n",
      "RDKit ERROR: Violation occurred on line 60 in file /home/conda/feedstock_root/build_artifacts/rdkit_1614687251479/work/Code/GraphMol/Conformer.cpp\n",
      "RDKit ERROR: Failed Expression: dp_mol->getNumAtoms() == d_positions.size()\n",
      "RDKit ERROR: ****\n",
      "RDKit ERROR: \n",
      "RDKit ERROR: [12:23:49] \n",
      "RDKit ERROR: \n",
      "RDKit ERROR: ****\n",
      "RDKit ERROR: Pre-condition Violation\n",
      "RDKit ERROR: \n",
      "RDKit ERROR: Violation occurred on line 60 in file /home/conda/feedstock_root/build_artifacts/rdkit_1614687251479/work/Code/GraphMol/Conformer.cpp\n",
      "RDKit ERROR: Failed Expression: dp_mol->getNumAtoms() == d_positions.size()\n",
      "RDKit ERROR: ****\n",
      "RDKit ERROR: \n",
      "RDKit ERROR: [12:23:49] \n",
      "RDKit ERROR: \n",
      "RDKit ERROR: ****\n",
      "RDKit ERROR: Pre-condition Violation\n",
      "RDKit ERROR: \n",
      "RDKit ERROR: Violation occurred on line 60 in file /home/conda/feedstock_root/build_artifacts/rdkit_1614687251479/work/Code/GraphMol/Conformer.cpp\n",
      "RDKit ERROR: Failed Expression: dp_mol->getNumAtoms() == d_positions.size()\n",
      "RDKit ERROR: ****\n",
      "RDKit ERROR: \n",
      "RDKit ERROR: [12:23:49] \n",
      "RDKit ERROR: \n",
      "RDKit ERROR: ****\n",
      "RDKit ERROR: Pre-condition Violation\n",
      "RDKit ERROR: \n",
      "RDKit ERROR: Violation occurred on line 60 in file /home/conda/feedstock_root/build_artifacts/rdkit_1614687251479/work/Code/GraphMol/Conformer.cpp\n",
      "RDKit ERROR: Failed Expression: dp_mol->getNumAtoms() == d_positions.size()\n",
      "RDKit ERROR: ****\n",
      "RDKit ERROR: \n",
      "RDKit ERROR: [12:23:49] \n",
      "RDKit ERROR: \n",
      "RDKit ERROR: ****\n",
      "RDKit ERROR: Pre-condition Violation\n",
      "RDKit ERROR: \n",
      "RDKit ERROR: Violation occurred on line 60 in file /home/conda/feedstock_root/build_artifacts/rdkit_1614687251479/work/Code/GraphMol/Conformer.cpp\n",
      "RDKit ERROR: Failed Expression: dp_mol->getNumAtoms() == d_positions.size()\n",
      "RDKit ERROR: ****\n",
      "RDKit ERROR: \n",
      "RDKit ERROR: [12:23:49] \n",
      "RDKit ERROR: \n",
      "RDKit ERROR: ****\n",
      "RDKit ERROR: Pre-condition Violation\n",
      "RDKit ERROR: \n",
      "RDKit ERROR: Violation occurred on line 60 in file /home/conda/feedstock_root/build_artifacts/rdkit_1614687251479/work/Code/GraphMol/Conformer.cpp\n",
      "RDKit ERROR: Failed Expression: dp_mol->getNumAtoms() == d_positions.size()\n",
      "RDKit ERROR: ****\n",
      "RDKit ERROR: \n",
      "RDKit ERROR: [12:23:49] \n",
      "RDKit ERROR: \n",
      "RDKit ERROR: ****\n",
      "RDKit ERROR: Pre-condition Violation\n",
      "RDKit ERROR: \n",
      "RDKit ERROR: Violation occurred on line 60 in file /home/conda/feedstock_root/build_artifacts/rdkit_1614687251479/work/Code/GraphMol/Conformer.cpp\n",
      "RDKit ERROR: Failed Expression: dp_mol->getNumAtoms() == d_positions.size()\n",
      "RDKit ERROR: ****\n",
      "RDKit ERROR: \n",
      "RDKit ERROR: [12:23:49] \n",
      "RDKit ERROR: \n",
      "RDKit ERROR: ****\n",
      "RDKit ERROR: Pre-condition Violation\n",
      "RDKit ERROR: \n",
      "RDKit ERROR: Violation occurred on line 60 in file /home/conda/feedstock_root/build_artifacts/rdkit_1614687251479/work/Code/GraphMol/Conformer.cpp\n",
      "RDKit ERROR: Failed Expression: dp_mol->getNumAtoms() == d_positions.size()\n",
      "RDKit ERROR: ****\n",
      "RDKit ERROR: \n",
      "RDKit ERROR: [12:23:49] \n",
      "RDKit ERROR: \n",
      "RDKit ERROR: ****\n",
      "RDKit ERROR: Pre-condition Violation\n",
      "RDKit ERROR: \n",
      "RDKit ERROR: Violation occurred on line 60 in file /home/conda/feedstock_root/build_artifacts/rdkit_1614687251479/work/Code/GraphMol/Conformer.cpp\n",
      "RDKit ERROR: Failed Expression: dp_mol->getNumAtoms() == d_positions.size()\n",
      "RDKit ERROR: ****\n",
      "RDKit ERROR: \n",
      "RDKit ERROR: [12:27:22] \n",
      "RDKit ERROR: \n",
      "RDKit ERROR: ****\n",
      "RDKit ERROR: Pre-condition Violation\n",
      "RDKit ERROR: \n",
      "RDKit ERROR: Violation occurred on line 60 in file /home/conda/feedstock_root/build_artifacts/rdkit_1614687251479/work/Code/GraphMol/Conformer.cpp\n",
      "RDKit ERROR: Failed Expression: dp_mol->getNumAtoms() == d_positions.size()\n",
      "RDKit ERROR: ****\n",
      "RDKit ERROR: \n",
      "RDKit ERROR: [12:27:22] \n",
      "RDKit ERROR: \n",
      "RDKit ERROR: ****\n",
      "RDKit ERROR: Pre-condition Violation\n",
      "RDKit ERROR: \n",
      "RDKit ERROR: Violation occurred on line 60 in file /home/conda/feedstock_root/build_artifacts/rdkit_1614687251479/work/Code/GraphMol/Conformer.cpp\n",
      "RDKit ERROR: Failed Expression: dp_mol->getNumAtoms() == d_positions.size()\n",
      "RDKit ERROR: ****\n",
      "RDKit ERROR: \n",
      "RDKit ERROR: [12:27:22] \n",
      "RDKit ERROR: \n",
      "RDKit ERROR: ****\n",
      "RDKit ERROR: Pre-condition Violation\n",
      "RDKit ERROR: \n",
      "RDKit ERROR: Violation occurred on line 60 in file /home/conda/feedstock_root/build_artifacts/rdkit_1614687251479/work/Code/GraphMol/Conformer.cpp\n",
      "RDKit ERROR: Failed Expression: dp_mol->getNumAtoms() == d_positions.size()\n",
      "RDKit ERROR: ****\n",
      "RDKit ERROR: \n",
      "RDKit ERROR: [12:27:22] \n",
      "RDKit ERROR: \n",
      "RDKit ERROR: ****\n",
      "RDKit ERROR: Pre-condition Violation\n",
      "RDKit ERROR: \n",
      "RDKit ERROR: Violation occurred on line 60 in file /home/conda/feedstock_root/build_artifacts/rdkit_1614687251479/work/Code/GraphMol/Conformer.cpp\n",
      "RDKit ERROR: Failed Expression: dp_mol->getNumAtoms() == d_positions.size()\n",
      "RDKit ERROR: ****\n",
      "RDKit ERROR: \n",
      "RDKit ERROR: [12:27:22] \n",
      "RDKit ERROR: \n",
      "RDKit ERROR: ****\n",
      "RDKit ERROR: Pre-condition Violation\n",
      "RDKit ERROR: \n",
      "RDKit ERROR: Violation occurred on line 60 in file /home/conda/feedstock_root/build_artifacts/rdkit_1614687251479/work/Code/GraphMol/Conformer.cpp\n",
      "RDKit ERROR: Failed Expression: dp_mol->getNumAtoms() == d_positions.size()\n",
      "RDKit ERROR: ****\n",
      "RDKit ERROR: \n",
      "RDKit ERROR: [12:27:22] \n",
      "RDKit ERROR: \n",
      "RDKit ERROR: ****\n",
      "RDKit ERROR: Pre-condition Violation\n",
      "RDKit ERROR: \n",
      "RDKit ERROR: Violation occurred on line 60 in file /home/conda/feedstock_root/build_artifacts/rdkit_1614687251479/work/Code/GraphMol/Conformer.cpp\n",
      "RDKit ERROR: Failed Expression: dp_mol->getNumAtoms() == d_positions.size()\n",
      "RDKit ERROR: ****\n",
      "RDKit ERROR: \n",
      "RDKit ERROR: [12:27:22] \n",
      "RDKit ERROR: \n",
      "RDKit ERROR: ****\n",
      "RDKit ERROR: Pre-condition Violation\n",
      "RDKit ERROR: \n",
      "RDKit ERROR: Violation occurred on line 60 in file /home/conda/feedstock_root/build_artifacts/rdkit_1614687251479/work/Code/GraphMol/Conformer.cpp\n",
      "RDKit ERROR: Failed Expression: dp_mol->getNumAtoms() == d_positions.size()\n",
      "RDKit ERROR: ****\n",
      "RDKit ERROR: \n",
      "RDKit ERROR: [12:27:39] \n",
      "RDKit ERROR: \n",
      "RDKit ERROR: ****\n",
      " 57%|█████▋    | 201/353 [54:32<31:11, 12.32s/it]"
     ]
    },
    {
     "name": "stdout",
     "output_type": "stream",
     "text": [
      "LeDock Docking finished\n",
      "Have been converted to mol2 file! /home/haotian/Molecule_Generation/Flexible-docking/data/esmfold_time_split/6ufn/6ufn_ligand.sdf\n"
     ]
    },
    {
     "name": "stderr",
     "output_type": "stream",
     "text": [
      "kit_1614687251479/work/Code/GraphMol/Conformer.cpp\n",
      "Failed Expression: dp_mol->getNumAtoms() == d_positions.size()\n",
      "****\n",
      "\n",
      "[12:21:11] \n",
      "\n",
      "****\n",
      "Pre-condition Violation\n",
      "\n",
      "Violation occurred on line 60 in file /home/conda/feedstock_root/build_artifacts/rdkit_1614687251479/work/Code/GraphMol/Conformer.cpp\n",
      "Failed Expression: dp_mol->getNumAtoms() == d_positions.size()\n",
      "****\n",
      "\n",
      "[12:23:49] \n",
      "\n",
      "****\n",
      "Pre-condition Violation\n",
      "\n",
      "Violation occurred on line 60 in file /home/conda/feedstock_root/build_artifacts/rdkit_1614687251479/work/Code/GraphMol/Conformer.cpp\n",
      "Failed Expression: dp_mol->getNumAtoms() == d_positions.size()\n",
      "****\n",
      "\n",
      "[12:23:49] \n",
      "\n",
      "****\n",
      "Pre-condition Violation\n",
      "\n",
      "Violation occurred on line 60 in file /home/conda/feedstock_root/build_artifacts/rdkit_1614687251479/work/Code/GraphMol/Conformer.cpp\n",
      "Failed Expression: dp_mol->getNumAtoms() == d_positions.size()\n",
      "****\n",
      "\n",
      "[12:23:49] \n",
      "\n",
      "****\n",
      "Pre-condition Violation\n",
      "\n",
      "Violation occurred on line 60 in file /home/conda/feedstock_root/build_artifacts/rdkit_1614687251479/work/Code/GraphMol/Conformer.cpp\n",
      "Failed Expression: dp_mol->getNumAtoms() == d_positions.size()\n",
      "****\n",
      "\n",
      "[12:23:49] \n",
      "\n",
      "****\n",
      "Pre-condition Violation\n",
      "\n",
      "Violation occurred on line 60 in file /home/conda/feedstock_root/build_artifacts/rdkit_1614687251479/work/Code/GraphMol/Conformer.cpp\n",
      "Failed Expression: dp_mol->getNumAtoms() == d_positions.size()\n",
      "****\n",
      "\n",
      "[12:23:49] \n",
      "\n",
      "****\n",
      "Pre-condition Violation\n",
      "\n",
      "Violation occurred on line 60 in file /home/conda/feedstock_root/build_artifacts/rdkit_1614687251479/work/Code/GraphMol/Conformer.cpp\n",
      "Failed Expression: dp_mol->getNumAtoms() == d_positions.size()\n",
      "****\n",
      "\n",
      "[12:23:49] \n",
      "\n",
      "****\n",
      "Pre-condition Violation\n",
      "\n",
      "Violation occurred on line 60 in file /home/conda/feedstock_root/build_artifacts/rdkit_1614687251479/work/Code/GraphMol/Conformer.cpp\n",
      "Failed Expression: dp_mol->getNumAtoms() == d_positions.size()\n",
      "****\n",
      "\n",
      "[12:23:49] \n",
      "\n",
      "****\n",
      "Pre-condition Violation\n",
      "\n",
      "Violation occurred on line 60 in file /home/conda/feedstock_root/build_artifacts/rdkit_1614687251479/work/Code/GraphMol/Conformer.cpp\n",
      "Failed Expression: dp_mol->getNumAtoms() == d_positions.size()\n",
      "****\n",
      "\n",
      "[12:23:49] \n",
      "\n",
      "****\n",
      "Pre-condition Violation\n",
      "\n",
      "Violation occurred on line 60 in file /home/conda/feedstock_root/build_artifacts/rdkit_1614687251479/work/Code/GraphMol/Conformer.cpp\n",
      "Failed Expression: dp_mol->getNumAtoms() == d_positions.size()\n",
      "****\n",
      "\n",
      "[12:27:22] \n",
      "\n",
      "****\n",
      "Pre-condition Violation\n",
      "\n",
      "Violation occurred on line 60 in file /home/conda/feedstock_root/build_artifacts/rdkit_1614687251479/work/Code/GraphMol/Conformer.cpp\n",
      "Failed Expression: dp_mol->getNumAtoms() == d_positions.size()\n",
      "****\n",
      "\n",
      "[12:27:22] \n",
      "\n",
      "****\n",
      "Pre-condition Violation\n",
      "\n",
      "Violation occurred on line 60 in file /home/conda/feedstock_root/build_artifacts/rdkit_1614687251479/work/Code/GraphMol/Conformer.cpp\n",
      "Failed Expression: dp_mol->getNumAtoms() == d_positions.size()\n",
      "****\n",
      "\n",
      "[12:27:22] \n",
      "\n",
      "****\n",
      "Pre-condition Violation\n",
      "\n",
      "Violation occurred on line 60 in file /home/conda/feedstock_root/build_artifacts/rdkit_1614687251479/work/Code/GraphMol/Conformer.cpp\n",
      "Failed Expression: dp_mol->getNumAtoms() == d_positions.size()\n",
      "****\n",
      "\n",
      "[12:27:22] \n",
      "\n",
      "****\n",
      "Pre-condition Violation\n",
      "\n",
      "Violation occurred on line 60 in file /home/conda/feedstock_root/build_artifacts/rdkit_1614687251479/work/Code/GraphMol/Conformer.cpp\n",
      "Failed Expression: dp_mol->getNumAtoms() == d_positions.size()\n",
      "****\n",
      "\n",
      "[12:27:22] \n",
      "\n",
      "****\n",
      "Pre-condition Violation\n",
      "\n",
      "Violation occurred on line 60 in file /home/conda/feedstock_root/build_artifacts/rdkit_1614687251479/work/Code/GraphMol/Conformer.cpp\n",
      "Failed Expression: dp_mol->getNumAtoms() == d_positions.size()\n",
      "****\n",
      "\n",
      "[12:27:22] \n",
      "\n",
      "****\n",
      "Pre-condition Violation\n",
      "\n",
      "Violation occurred on line 60 in file /home/conda/feedstock_root/build_artifacts/rdkit_1614687251479/work/Code/GraphMol/Conformer.cpp\n",
      "Failed Expression: dp_mol->getNumAtoms() == d_positions.size()\n",
      "****\n",
      "\n",
      "[12:27:22] \n",
      "\n",
      "****\n",
      "Pre-condition Violation\n",
      "\n",
      "Violation occurred on line 60 in file /home/conda/feedstock_root/build_artifacts/rdkit_1614687251479/work/Code/GraphMol/Conformer.cpp\n",
      "Failed Expression: dp_mol->getNumAtoms() == d_positions.size()\n",
      "****\n",
      "\n",
      "[12:27:39] \n",
      "\n",
      "****\n",
      " 57%|█████▋    | 202/353 [54:40<28:09, 11.19s/it]"
     ]
    },
    {
     "name": "stdout",
     "output_type": "stream",
     "text": [
      "LeDock Docking finished\n",
      "Have been converted to mol2 file! /home/haotian/Molecule_Generation/Flexible-docking/data/esmfold_time_split/6e3n/6e3n_ligand.sdf\n"
     ]
    },
    {
     "name": "stderr",
     "output_type": "stream",
     "text": [
      " 58%|█████▊    | 203/353 [54:47<24:48,  9.93s/it]"
     ]
    },
    {
     "name": "stdout",
     "output_type": "stream",
     "text": [
      "LeDock Docking finished\n",
      "Have been converted to mol2 file! /home/haotian/Molecule_Generation/Flexible-docking/data/esmfold_time_split/6op9/6op9_ligand.sdf\n"
     ]
    },
    {
     "name": "stderr",
     "output_type": "stream",
     "text": [
      " 58%|█████▊    | 204/353 [55:01<27:41, 11.15s/it]"
     ]
    },
    {
     "name": "stdout",
     "output_type": "stream",
     "text": [
      "LeDock Docking finished\n",
      "Have been converted to mol2 file! /home/haotian/Molecule_Generation/Flexible-docking/data/esmfold_time_split/6o3x/6o3x_ligand.sdf\n"
     ]
    },
    {
     "name": "stderr",
     "output_type": "stream",
     "text": [
      " 58%|█████▊    | 205/353 [55:26<37:48, 15.33s/it]"
     ]
    },
    {
     "name": "stdout",
     "output_type": "stream",
     "text": [
      "LeDock Docking finished\n",
      "Have been converted to mol2 file! /home/haotian/Molecule_Generation/Flexible-docking/data/esmfold_time_split/6hhj/6hhj_ligand.sdf\n"
     ]
    },
    {
     "name": "stderr",
     "output_type": "stream",
     "text": [
      " 58%|█████▊    | 206/353 [55:42<38:10, 15.58s/it]"
     ]
    },
    {
     "name": "stdout",
     "output_type": "stream",
     "text": [
      "LeDock Docking finished\n",
      "Have been converted to mol2 file! /home/haotian/Molecule_Generation/Flexible-docking/data/esmfold_time_split/6oio/6oio_ligand.sdf\n"
     ]
    },
    {
     "name": "stderr",
     "output_type": "stream",
     "text": [
      " 59%|█████▊    | 207/353 [55:52<33:32, 13.79s/it]"
     ]
    },
    {
     "name": "stdout",
     "output_type": "stream",
     "text": [
      "LeDock Docking finished\n",
      "Have been converted to mol2 file! /home/haotian/Molecule_Generation/Flexible-docking/data/esmfold_time_split/6g29/6g29_ligand.sdf\n"
     ]
    },
    {
     "name": "stderr",
     "output_type": "stream",
     "text": [
      " 59%|█████▉    | 208/353 [55:59<28:08, 11.64s/it]"
     ]
    },
    {
     "name": "stdout",
     "output_type": "stream",
     "text": [
      "LeDock Docking finished\n",
      "Have been converted to mol2 file! /home/haotian/Molecule_Generation/Flexible-docking/data/esmfold_time_split/6k2n/6k2n_ligand.sdf\n"
     ]
    },
    {
     "name": "stderr",
     "output_type": "stream",
     "text": [
      " 59%|█████▉    | 209/353 [56:14<30:50, 12.85s/it]"
     ]
    },
    {
     "name": "stdout",
     "output_type": "stream",
     "text": [
      "LeDock Docking finished\n",
      "Have been converted to mol2 file! /home/haotian/Molecule_Generation/Flexible-docking/data/esmfold_time_split/6i76/6i76_ligand.sdf\n"
     ]
    },
    {
     "name": "stderr",
     "output_type": "stream",
     "text": [
      " 59%|█████▉    | 210/353 [56:27<30:30, 12.80s/it]"
     ]
    },
    {
     "name": "stdout",
     "output_type": "stream",
     "text": [
      "LeDock Docking finished\n",
      "Have been converted to mol2 file! /home/haotian/Molecule_Generation/Flexible-docking/data/esmfold_time_split/6jb4/6jb4_ligand.sdf\n"
     ]
    },
    {
     "name": "stderr",
     "output_type": "stream",
     "text": [
      " 60%|█████▉    | 211/353 [56:35<27:00, 11.41s/it]"
     ]
    },
    {
     "name": "stdout",
     "output_type": "stream",
     "text": [
      "LeDock Docking finished\n",
      "Have been converted to mol2 file! /home/haotian/Molecule_Generation/Flexible-docking/data/esmfold_time_split/6o9c/6o9c_ligand.sdf\n"
     ]
    },
    {
     "name": "stderr",
     "output_type": "stream",
     "text": [
      " 60%|██████    | 212/353 [57:16<47:45, 20.32s/it]"
     ]
    },
    {
     "name": "stdout",
     "output_type": "stream",
     "text": [
      "LeDock Docking finished\n",
      "Have been converted to mol2 file! /home/haotian/Molecule_Generation/Flexible-docking/data/esmfold_time_split/6i67/6i67_ligand.sdf\n"
     ]
    },
    {
     "name": "stderr",
     "output_type": "stream",
     "text": [
      " 60%|██████    | 213/353 [57:20<35:35, 15.25s/it]"
     ]
    },
    {
     "name": "stdout",
     "output_type": "stream",
     "text": [
      "LeDock Docking finished\n",
      "Have been converted to mol2 file! /home/haotian/Molecule_Generation/Flexible-docking/data/esmfold_time_split/6md6/6md6_ligand.sdf\n"
     ]
    },
    {
     "name": "stderr",
     "output_type": "stream",
     "text": [
      " 61%|██████    | 214/353 [57:30<32:07, 13.87s/it]"
     ]
    },
    {
     "name": "stdout",
     "output_type": "stream",
     "text": [
      "LeDock Docking finished\n"
     ]
    },
    {
     "name": "stderr",
     "output_type": "stream",
     "text": [
      " 61%|██████    | 215/353 [57:38<27:31, 11.97s/it]"
     ]
    },
    {
     "name": "stdout",
     "output_type": "stream",
     "text": [
      "LeDock Docking finished\n",
      "Have been converted to mol2 file! /home/haotian/Molecule_Generation/Flexible-docking/data/esmfold_time_split/6e3z/6e3z_ligand.sdf\n"
     ]
    },
    {
     "name": "stderr",
     "output_type": "stream",
     "text": [
      " 61%|██████    | 216/353 [57:48<26:17, 11.51s/it]"
     ]
    },
    {
     "name": "stdout",
     "output_type": "stream",
     "text": [
      "LeDock Docking finished\n",
      "Have been converted to mol2 file! /home/haotian/Molecule_Generation/Flexible-docking/data/esmfold_time_split/6o3y/6o3y_ligand.sdf\n"
     ]
    },
    {
     "name": "stderr",
     "output_type": "stream",
     "text": [
      " 61%|██████▏   | 217/353 [58:23<42:07, 18.59s/it]"
     ]
    },
    {
     "name": "stdout",
     "output_type": "stream",
     "text": [
      "LeDock Docking finished\n"
     ]
    },
    {
     "name": "stderr",
     "output_type": "stream",
     "text": [
      "RDKit ERROR: Pre-condition Violation\n",
      "RDKit ERROR: \n",
      "RDKit ERROR: Violation occurred on line 60 in file /home/conda/feedstock_root/build_artifacts/rdkit_1614687251479/work/Code/GraphMol/Conformer.cpp\n",
      "RDKit ERROR: Failed Expression: dp_mol->getNumAtoms() == d_positions.size()\n",
      "RDKit ERROR: ****\n",
      "RDKit ERROR: \n",
      "RDKit ERROR: [12:27:39] \n",
      "RDKit ERROR: \n",
      "RDKit ERROR: ****\n",
      "RDKit ERROR: Pre-condition Violation\n",
      "RDKit ERROR: \n",
      "RDKit ERROR: Violation occurred on line 60 in file /home/conda/feedstock_root/build_artifacts/rdkit_1614687251479/work/Code/GraphMol/Conformer.cpp\n",
      "RDKit ERROR: Failed Expression: dp_mol->getNumAtoms() == d_positions.size()\n",
      "RDKit ERROR: ****\n",
      "RDKit ERROR: \n",
      "RDKit ERROR: [12:27:39] \n",
      "RDKit ERROR: \n",
      "RDKit ERROR: ****\n",
      "RDKit ERROR: Pre-condition Violation\n",
      "RDKit ERROR: \n",
      "RDKit ERROR: Violation occurred on line 60 in file /home/conda/feedstock_root/build_artifacts/rdkit_1614687251479/work/Code/GraphMol/Conformer.cpp\n",
      "RDKit ERROR: Failed Expression: dp_mol->getNumAtoms() == d_positions.size()\n",
      "RDKit ERROR: ****\n",
      "RDKit ERROR: \n",
      "RDKit ERROR: [12:27:39] \n",
      "RDKit ERROR: \n",
      "RDKit ERROR: ****\n",
      "RDKit ERROR: Pre-condition Violation\n",
      "RDKit ERROR: \n",
      "RDKit ERROR: Violation occurred on line 60 in file /home/conda/feedstock_root/build_artifacts/rdkit_1614687251479/work/Code/GraphMol/Conformer.cpp\n",
      "RDKit ERROR: Failed Expression: dp_mol->getNumAtoms() == d_positions.size()\n",
      "RDKit ERROR: ****\n",
      "RDKit ERROR: \n",
      "RDKit ERROR: [12:27:39] \n",
      "RDKit ERROR: \n",
      "RDKit ERROR: ****\n",
      "RDKit ERROR: Pre-condition Violation\n",
      "RDKit ERROR: \n",
      "RDKit ERROR: Violation occurred on line 60 in file /home/conda/feedstock_root/build_artifacts/rdkit_1614687251479/work/Code/GraphMol/Conformer.cpp\n",
      "RDKit ERROR: Failed Expression: dp_mol->getNumAtoms() == d_positions.size()\n",
      "RDKit ERROR: ****\n",
      "RDKit ERROR: \n",
      "RDKit ERROR: [12:27:39] \n",
      "RDKit ERROR: \n",
      "RDKit ERROR: ****\n",
      "RDKit ERROR: Pre-condition Violation\n",
      "RDKit ERROR: \n",
      "RDKit ERROR: Violation occurred on line 60 in file /home/conda/feedstock_root/build_artifacts/rdkit_1614687251479/work/Code/GraphMol/Conformer.cpp\n",
      "RDKit ERROR: Failed Expression: dp_mol->getNumAtoms() == d_positions.size()\n",
      "RDKit ERROR: ****\n",
      "RDKit ERROR: \n",
      "RDKit ERROR: [12:27:39] \n",
      "RDKit ERROR: \n",
      "RDKit ERROR: ****\n",
      "RDKit ERROR: Pre-condition Violation\n",
      "RDKit ERROR: \n",
      "RDKit ERROR: Violation occurred on line 60 in file /home/conda/feedstock_root/build_artifacts/rdkit_1614687251479/work/Code/GraphMol/Conformer.cpp\n",
      "RDKit ERROR: Failed Expression: dp_mol->getNumAtoms() == d_positions.size()\n",
      "RDKit ERROR: ****\n",
      "RDKit ERROR: \n",
      "RDKit ERROR: [12:27:39] \n",
      "RDKit ERROR: \n",
      "RDKit ERROR: ****\n",
      "RDKit ERROR: Pre-condition Violation\n",
      "RDKit ERROR: \n",
      "RDKit ERROR: Violation occurred on line 60 in file /home/conda/feedstock_root/build_artifacts/rdkit_1614687251479/work/Code/GraphMol/Conformer.cpp\n",
      "RDKit ERROR: Failed Expression: dp_mol->getNumAtoms() == d_positions.size()\n",
      "RDKit ERROR: ****\n",
      "RDKit ERROR: \n",
      "RDKit ERROR: [12:27:39] \n",
      "RDKit ERROR: \n",
      "RDKit ERROR: ****\n",
      "RDKit ERROR: Pre-condition Violation\n",
      "RDKit ERROR: \n",
      "RDKit ERROR: Violation occurred on line 60 in file /home/conda/feedstock_root/build_artifacts/rdkit_1614687251479/work/Code/GraphMol/Conformer.cpp\n",
      "RDKit ERROR: Failed Expression: dp_mol->getNumAtoms() == d_positions.size()\n",
      "RDKit ERROR: ****\n",
      "RDKit ERROR: \n",
      "RDKit ERROR: [12:27:39] \n",
      "RDKit ERROR: \n",
      "RDKit ERROR: ****\n",
      "RDKit ERROR: Pre-condition Violation\n",
      "RDKit ERROR: \n",
      "RDKit ERROR: Violation occurred on line 60 in file /home/conda/feedstock_root/build_artifacts/rdkit_1614687251479/work/Code/GraphMol/Conformer.cpp\n",
      "RDKit ERROR: Failed Expression: dp_mol->getNumAtoms() == d_positions.size()\n",
      "RDKit ERROR: ****\n",
      "RDKit ERROR: \n",
      "RDKit ERROR: [12:30:45] \n",
      "RDKit ERROR: \n",
      "RDKit ERROR: ****\n",
      "RDKit ERROR: Pre-condition Violation\n",
      "RDKit ERROR: \n",
      "RDKit ERROR: Violation occurred on line 60 in file /home/conda/feedstock_root/build_artifacts/rdkit_1614687251479/work/Code/GraphMol/Conformer.cpp\n",
      "RDKit ERROR: Failed Expression: dp_mol->getNumAtoms() == d_positions.size()\n",
      "RDKit ERROR: ****\n",
      "RDKit ERROR: \n",
      "RDKit ERROR: [12:30:45] \n",
      "RDKit ERROR: \n",
      "RDKit ERROR: ****\n",
      "RDKit ERROR: Pre-condition Violation\n",
      "RDKit ERROR: \n",
      "RDKit ERROR: Violation occurred on line 60 in file /home/conda/feedstock_root/build_artifacts/rdkit_1614687251479/work/Code/GraphMol/Conformer.cpp\n",
      "RDKit ERROR: Failed Expression: dp_mol->getNumAtoms() == d_positions.size()\n",
      "RDKit ERROR: ****\n",
      "RDKit ERROR: \n",
      "RDKit ERROR: [12:30:45] \n",
      "RDKit ERROR: \n",
      "RDKit ERROR: ****\n",
      "RDKit ERROR: Pre-condition Violation\n",
      "RDKit ERROR: \n",
      "RDKit ERROR: Violation occurred on line 60 in file /home/conda/feedstock_root/build_artifacts/rdkit_1614687251479/work/Code/GraphMol/Conformer.cpp\n",
      "RDKit ERROR: Failed Expression: dp_mol->getNumAtoms() == d_positions.size()\n",
      "RDKit ERROR: ****\n",
      "RDKit ERROR: \n",
      "RDKit ERROR: [12:31:47] \n",
      "RDKit ERROR: \n",
      "RDKit ERROR: ****\n",
      "RDKit ERROR: Pre-condition Violation\n",
      "RDKit ERROR: \n",
      "RDKit ERROR: Violation occurred on line 60 in file /home/conda/feedstock_root/build_artifacts/rdkit_1614687251479/work/Code/GraphMol/Conformer.cpp\n",
      "RDKit ERROR: Failed Expression: dp_mol->getNumAtoms() == d_positions.size()\n",
      "RDKit ERROR: ****\n",
      "RDKit ERROR: \n",
      "RDKit ERROR: [12:31:47] \n",
      "RDKit ERROR: \n",
      "RDKit ERROR: ****\n",
      "RDKit ERROR: Pre-condition Violation\n",
      "RDKit ERROR: \n",
      "RDKit ERROR: Violation occurred on line 60 in file /home/conda/feedstock_root/build_artifacts/rdkit_1614687251479/work/Code/GraphMol/Conformer.cpp\n",
      "RDKit ERROR: Failed Expression: dp_mol->getNumAtoms() == d_positions.size()\n",
      "RDKit ERROR: ****\n",
      "RDKit ERROR: \n",
      "RDKit ERROR: [12:31:47] \n",
      "RDKit ERROR: \n",
      "RDKit ERROR: ****\n",
      "RDKit ERROR: Pre-condition Violation\n",
      "RDKit ERROR: \n",
      "RDKit ERROR: Violation occurred on line 60 in file /home/conda/feedstock_root/build_artifacts/rdkit_1614687251479/work/Code/GraphMol/Conformer.cpp\n",
      "RDKit ERROR: Failed Expression: dp_mol->getNumAtoms() == d_positions.size()\n",
      "RDKit ERROR: ****\n",
      "RDKit ERROR: \n",
      "RDKit ERROR: [12:31:47] \n",
      "RDKit ERROR: \n",
      "RDKit ERROR: ****\n",
      "RDKit ERROR: Pre-condition Violation\n",
      "RDKit ERROR: \n",
      "RDKit ERROR: Violation occurred on line 60 in file /home/conda/feedstock_root/build_artifacts/rdkit_1614687251479/work/Code/GraphMol/Conformer.cpp\n",
      " 62%|██████▏   | 218/353 [58:40<40:39, 18.07s/it]n\n",
      "\n",
      "Violation occurred on line 60 in file /home/conda/feedstock_root/build_artifacts/rdkit_1614687251479/work/Code/GraphMol/Conformer.cpp\n",
      "Failed Expression: dp_mol->getNumAtoms() == d_positions.size()\n",
      "****\n",
      "\n",
      "[12:27:39] \n",
      "\n",
      "****\n",
      "Pre-condition Violation\n",
      "\n",
      "Violation occurred on line 60 in file /home/conda/feedstock_root/build_artifacts/rdkit_1614687251479/work/Code/GraphMol/Conformer.cpp\n",
      "Failed Expression: dp_mol->getNumAtoms() == d_positions.size()\n",
      "****\n",
      "\n",
      "[12:27:39] \n",
      "\n",
      "****\n",
      "Pre-condition Violation\n",
      "\n",
      "Violation occurred on line 60 in file /home/conda/feedstock_root/build_artifacts/rdkit_1614687251479/work/Code/GraphMol/Conformer.cpp\n",
      "Failed Expression: dp_mol->getNumAtoms() == d_positions.size()\n",
      "****\n",
      "\n",
      "[12:27:39] \n",
      "\n",
      "****\n",
      "Pre-condition Violation\n",
      "\n",
      "Violation occurred on line 60 in file /home/conda/feedstock_root/build_artifacts/rdkit_1614687251479/work/Code/GraphMol/Conformer.cpp\n",
      "Failed Expression: dp_mol->getNumAtoms() == d_positions.size()\n",
      "****\n",
      "\n",
      "[12:27:39] \n",
      "\n",
      "****\n",
      "Pre-condition Violation\n",
      "\n",
      "Violation occurred on line 60 in file /home/conda/feedstock_root/build_artifacts/rdkit_1614687251479/work/Code/GraphMol/Conformer.cpp\n",
      "Failed Expression: dp_mol->getNumAtoms() == d_positions.size()\n",
      "****\n",
      "\n",
      "[12:27:39] \n",
      "\n",
      "****\n",
      "Pre-condition Violation\n",
      "\n",
      "Violation occurred on line 60 in file /home/conda/feedstock_root/build_artifacts/rdkit_1614687251479/work/Code/GraphMol/Conformer.cpp\n",
      "Failed Expression: dp_mol->getNumAtoms() == d_positions.size()\n",
      "****\n",
      "\n",
      "[12:27:39] \n",
      "\n",
      "****\n",
      "Pre-condition Violation\n",
      "\n",
      "Violation occurred on line 60 in file /home/conda/feedstock_root/build_artifacts/rdkit_1614687251479/work/Code/GraphMol/Conformer.cpp\n",
      "Failed Expression: dp_mol->getNumAtoms() == d_positions.size()\n",
      "****\n",
      "\n",
      "[12:27:39] \n",
      "\n",
      "****\n",
      "Pre-condition Violation\n",
      "\n",
      "Violation occurred on line 60 in file /home/conda/feedstock_root/build_artifacts/rdkit_1614687251479/work/Code/GraphMol/Conformer.cpp\n",
      "Failed Expression: dp_mol->getNumAtoms() == d_positions.size()\n",
      "****\n",
      "\n",
      "[12:27:39] \n",
      "\n",
      "****\n",
      "Pre-condition Violation\n",
      "\n",
      "Violation occurred on line 60 in file /home/conda/feedstock_root/build_artifacts/rdkit_1614687251479/work/Code/GraphMol/Conformer.cpp\n",
      "Failed Expression: dp_mol->getNumAtoms() == d_positions.size()\n",
      "****\n",
      "\n",
      "[12:27:39] \n",
      "\n",
      "****\n",
      "Pre-condition Violation\n",
      "\n",
      "Violation occurred on line 60 in file /home/conda/feedstock_root/build_artifacts/rdkit_1614687251479/work/Code/GraphMol/Conformer.cpp\n",
      "Failed Expression: dp_mol->getNumAtoms() == d_positions.size()\n",
      "****\n",
      "\n",
      "[12:30:45] \n",
      "\n",
      "****\n",
      "Pre-condition Violation\n",
      "\n",
      "Violation occurred on line 60 in file /home/conda/feedstock_root/build_artifacts/rdkit_1614687251479/work/Code/GraphMol/Conformer.cpp\n",
      "Failed Expression: dp_mol->getNumAtoms() == d_positions.size()\n",
      "****\n",
      "\n",
      "[12:30:45] \n",
      "\n",
      "****\n",
      "Pre-condition Violation\n",
      "\n",
      "Violation occurred on line 60 in file /home/conda/feedstock_root/build_artifacts/rdkit_1614687251479/work/Code/GraphMol/Conformer.cpp\n",
      "Failed Expression: dp_mol->getNumAtoms() == d_positions.size()\n",
      "****\n",
      "\n",
      "[12:30:45] \n",
      "\n",
      "****\n",
      "Pre-condition Violation\n",
      "\n",
      "Violation occurred on line 60 in file /home/conda/feedstock_root/build_artifacts/rdkit_1614687251479/work/Code/GraphMol/Conformer.cpp\n",
      "Failed Expression: dp_mol->getNumAtoms() == d_positions.size()\n",
      "****\n",
      "\n",
      "[12:31:47] \n",
      "\n",
      "****\n",
      "Pre-condition Violation\n",
      "\n",
      "Violation occurred on line 60 in file /home/conda/feedstock_root/build_artifacts/rdkit_1614687251479/work/Code/GraphMol/Conformer.cpp\n",
      "Failed Expression: dp_mol->getNumAtoms() == d_positions.size()\n",
      "****\n",
      "\n",
      "[12:31:47] \n",
      "\n",
      "****\n",
      "Pre-condition Violation\n",
      "\n",
      "Violation occurred on line 60 in file /home/conda/feedstock_root/build_artifacts/rdkit_1614687251479/work/Code/GraphMol/Conformer.cpp\n",
      "Failed Expression: dp_mol->getNumAtoms() == d_positions.size()\n",
      "****\n",
      "\n",
      "[12:31:47] \n",
      "\n",
      "****\n",
      "Pre-condition Violation\n",
      "\n",
      "Violation occurred on line 60 in file /home/conda/feedstock_root/build_artifacts/rdkit_1614687251479/work/Code/GraphMol/Conformer.cpp\n",
      "Failed Expression: dp_mol->getNumAtoms() == d_positions.size()\n",
      "****\n",
      "\n",
      "[12:31:47] \n",
      "\n",
      "****\n",
      "Pre-condition Violation\n",
      "\n",
      "Violation occurred on line 60 in file /home/conda/feedstock_root/build_artifacts/rdkit_1614687251479/work/Code/GraphMol/Conformer.cpp\n",
      "Failed Expression: dp_m"
     ]
    },
    {
     "name": "stdout",
     "output_type": "stream",
     "text": [
      "LeDock Docking finished\n",
      "Have been converted to mol2 file! /home/haotian/Molecule_Generation/Flexible-docking/data/esmfold_time_split/6qw8/6qw8_ligand.sdf\n"
     ]
    },
    {
     "name": "stderr",
     "output_type": "stream",
     "text": [
      " 62%|██████▏   | 219/353 [58:49<34:09, 15.29s/it]"
     ]
    },
    {
     "name": "stdout",
     "output_type": "stream",
     "text": [
      "LeDock Docking finished\n"
     ]
    },
    {
     "name": "stderr",
     "output_type": "stream",
     "text": [
      " 62%|██████▏   | 220/353 [58:57<28:51, 13.02s/it]"
     ]
    },
    {
     "name": "stdout",
     "output_type": "stream",
     "text": [
      "LeDock Docking finished\n",
      "Have been converted to mol2 file! /home/haotian/Molecule_Generation/Flexible-docking/data/esmfold_time_split/6g27/6g27_ligand.sdf\n"
     ]
    },
    {
     "name": "stderr",
     "output_type": "stream",
     "text": [
      " 63%|██████▎   | 221/353 [59:03<24:26, 11.11s/it]"
     ]
    },
    {
     "name": "stdout",
     "output_type": "stream",
     "text": [
      "LeDock Docking finished\n",
      "Have been converted to mol2 file! /home/haotian/Molecule_Generation/Flexible-docking/data/esmfold_time_split/6hop/6hop_ligand.sdf\n"
     ]
    },
    {
     "name": "stderr",
     "output_type": "stream",
     "text": [
      " 63%|██████▎   | 222/353 [59:09<20:48,  9.53s/it]"
     ]
    },
    {
     "name": "stdout",
     "output_type": "stream",
     "text": [
      "LeDock Docking finished\n",
      "Have been converted to mol2 file! /home/haotian/Molecule_Generation/Flexible-docking/data/esmfold_time_split/6uvy/6uvy_ligand.sdf\n"
     ]
    },
    {
     "name": "stderr",
     "output_type": "stream",
     "text": [
      " 63%|██████▎   | 223/353 [59:17<19:40,  9.08s/it]"
     ]
    },
    {
     "name": "stdout",
     "output_type": "stream",
     "text": [
      "LeDock Docking finished\n",
      "Have been converted to mol2 file! /home/haotian/Molecule_Generation/Flexible-docking/data/esmfold_time_split/6uhv/6uhv_ligand.sdf\n"
     ]
    },
    {
     "name": "stderr",
     "output_type": "stream",
     "text": [
      " 63%|██████▎   | 224/353 [59:26<19:27,  9.05s/it]"
     ]
    },
    {
     "name": "stdout",
     "output_type": "stream",
     "text": [
      "LeDock Docking finished\n",
      "Have been converted to mol2 file! /home/haotian/Molecule_Generation/Flexible-docking/data/esmfold_time_split/6ooy/6ooy_ligand.sdf\n"
     ]
    },
    {
     "name": "stderr",
     "output_type": "stream",
     "text": [
      " 64%|██████▎   | 225/353 [59:32<16:59,  7.96s/it]"
     ]
    },
    {
     "name": "stdout",
     "output_type": "stream",
     "text": [
      "LeDock Docking finished\n",
      "Have been converted to mol2 file! /home/haotian/Molecule_Generation/Flexible-docking/data/esmfold_time_split/6miy/6miy_ligand.sdf\n"
     ]
    },
    {
     "name": "stderr",
     "output_type": "stream",
     "text": [
      " 64%|██████▍   | 226/353 [1:00:25<45:50, 21.66s/it]"
     ]
    },
    {
     "name": "stdout",
     "output_type": "stream",
     "text": [
      "LeDock Docking finished\n",
      "Have been converted to mol2 file! /home/haotian/Molecule_Generation/Flexible-docking/data/esmfold_time_split/6jib/6jib_ligand.sdf\n"
     ]
    },
    {
     "name": "stderr",
     "output_type": "stream",
     "text": [
      " 64%|██████▍   | 227/353 [1:00:34<37:01, 17.63s/it]"
     ]
    },
    {
     "name": "stdout",
     "output_type": "stream",
     "text": [
      "LeDock Docking finished\n",
      "Have been converted to mol2 file! /home/haotian/Molecule_Generation/Flexible-docking/data/esmfold_time_split/6s9w/6s9w_ligand.sdf\n"
     ]
    },
    {
     "name": "stderr",
     "output_type": "stream",
     "text": [
      " 65%|██████▍   | 228/353 [1:00:49<35:19, 16.96s/it]"
     ]
    },
    {
     "name": "stdout",
     "output_type": "stream",
     "text": [
      "LeDock Docking finished\n",
      "Have been converted to mol2 file! /home/haotian/Molecule_Generation/Flexible-docking/data/esmfold_time_split/6npi/6npi_ligand.sdf\n"
     ]
    },
    {
     "name": "stderr",
     "output_type": "stream",
     "text": [
      " 65%|██████▍   | 229/353 [1:00:54<27:44, 13.43s/it]"
     ]
    },
    {
     "name": "stdout",
     "output_type": "stream",
     "text": [
      "LeDock Docking finished\n",
      "Have been converted to mol2 file! /home/haotian/Molecule_Generation/Flexible-docking/data/esmfold_time_split/6oiq/6oiq_ligand.sdf\n"
     ]
    },
    {
     "name": "stderr",
     "output_type": "stream",
     "text": [
      " 65%|██████▌   | 230/353 [1:01:04<25:17, 12.34s/it]"
     ]
    },
    {
     "name": "stdout",
     "output_type": "stream",
     "text": [
      "LeDock Docking finished\n",
      "Have been converted to mol2 file! /home/haotian/Molecule_Generation/Flexible-docking/data/esmfold_time_split/6d07/6d07_ligand.sdf\n"
     ]
    },
    {
     "name": "stderr",
     "output_type": "stream",
     "text": [
      " 65%|██████▌   | 231/353 [1:01:53<47:13, 23.22s/it]"
     ]
    },
    {
     "name": "stdout",
     "output_type": "stream",
     "text": [
      "LeDock Docking finished\n",
      "Have been converted to mol2 file! /home/haotian/Molecule_Generation/Flexible-docking/data/esmfold_time_split/6s55/6s55_ligand.sdf\n"
     ]
    },
    {
     "name": "stderr",
     "output_type": "stream",
     "text": [
      " 66%|██████▌   | 232/353 [1:02:02<38:27, 19.07s/it]"
     ]
    },
    {
     "name": "stdout",
     "output_type": "stream",
     "text": [
      "LeDock Docking finished\n",
      "Have been converted to mol2 file! /home/haotian/Molecule_Generation/Flexible-docking/data/esmfold_time_split/6mhb/6mhb_ligand.sdf\n"
     ]
    },
    {
     "name": "stderr",
     "output_type": "stream",
     "text": [
      " 66%|██████▌   | 233/353 [1:02:08<30:31, 15.26s/it]"
     ]
    },
    {
     "name": "stdout",
     "output_type": "stream",
     "text": [
      "LeDock Docking finished\n",
      "Have been converted to mol2 file! /home/haotian/Molecule_Generation/Flexible-docking/data/esmfold_time_split/6agt/6agt_ligand.sdf\n"
     ]
    },
    {
     "name": "stderr",
     "output_type": "stream",
     "text": [
      " 66%|██████▋   | 234/353 [1:02:17<26:26, 13.33s/it]"
     ]
    },
    {
     "name": "stdout",
     "output_type": "stream",
     "text": [
      "LeDock Docking finished\n",
      "Have been converted to mol2 file! /home/haotian/Molecule_Generation/Flexible-docking/data/esmfold_time_split/6hzb/6hzb_ligand.sdf\n"
     ]
    },
    {
     "name": "stderr",
     "output_type": "stream",
     "text": [
      " 67%|██████▋   | 235/353 [1:02:45<34:35, 17.59s/it]"
     ]
    },
    {
     "name": "stdout",
     "output_type": "stream",
     "text": [
      "LeDock Docking finished\n",
      "Have been converted to mol2 file! /home/haotian/Molecule_Generation/Flexible-docking/data/esmfold_time_split/5zcu/5zcu_ligand.sdf\n"
     ]
    },
    {
     "name": "stderr",
     "output_type": "stream",
     "text": [
      " 67%|██████▋   | 236/353 [1:02:54<29:16, 15.01s/it]"
     ]
    },
    {
     "name": "stdout",
     "output_type": "stream",
     "text": [
      "LeDock Docking finished\n"
     ]
    },
    {
     "name": "stderr",
     "output_type": "stream",
     "text": [
      " 67%|██████▋   | 237/353 [1:03:06<27:39, 14.31s/it]"
     ]
    },
    {
     "name": "stdout",
     "output_type": "stream",
     "text": [
      "LeDock Docking finished\n",
      "Have been converted to mol2 file! /home/haotian/Molecule_Generation/Flexible-docking/data/esmfold_time_split/6nw3/6nw3_ligand.sdf\n"
     ]
    },
    {
     "name": "stderr",
     "output_type": "stream",
     "text": [
      " 67%|██████▋   | 238/353 [1:03:23<28:45, 15.00s/it]"
     ]
    },
    {
     "name": "stdout",
     "output_type": "stream",
     "text": [
      "LeDock Docking finished\n"
     ]
    },
    {
     "name": "stderr",
     "output_type": "stream",
     "text": [
      " 68%|██████▊   | 239/353 [1:04:23<54:09, 28.50s/it]"
     ]
    },
    {
     "name": "stdout",
     "output_type": "stream",
     "text": [
      "timeout\n",
      "Have been converted to mol2 file! /home/haotian/Molecule_Generation/Flexible-docking/data/esmfold_time_split/6g2f/6g2f_ligand.sdf\n"
     ]
    },
    {
     "name": "stderr",
     "output_type": "stream",
     "text": [
      " 68%|██████▊   | 240/353 [1:04:31<41:53, 22.24s/it]"
     ]
    },
    {
     "name": "stdout",
     "output_type": "stream",
     "text": [
      "LeDock Docking finished\n",
      "Have been converted to mol2 file! /home/haotian/Molecule_Generation/Flexible-docking/data/esmfold_time_split/6ten/6ten_ligand.sdf\n"
     ]
    },
    {
     "name": "stderr",
     "output_type": "stream",
     "text": [
      " 68%|██████▊   | 241/353 [1:04:45<37:18, 19.99s/it]"
     ]
    },
    {
     "name": "stdout",
     "output_type": "stream",
     "text": [
      "LeDock Docking finished\n",
      "Have been converted to mol2 file! /home/haotian/Molecule_Generation/Flexible-docking/data/esmfold_time_split/6fe5/6fe5_ligand.sdf\n"
     ]
    },
    {
     "name": "stderr",
     "output_type": "stream",
     "text": [
      " 69%|██████▊   | 242/353 [1:04:57<32:04, 17.34s/it]"
     ]
    },
    {
     "name": "stdout",
     "output_type": "stream",
     "text": [
      "LeDock Docking finished\n",
      "Have been converted to mol2 file! /home/haotian/Molecule_Generation/Flexible-docking/data/esmfold_time_split/6gzy/6gzy_ligand.sdf\n"
     ]
    },
    {
     "name": "stderr",
     "output_type": "stream",
     "text": [
      " 69%|██████▉   | 243/353 [1:05:05<26:57, 14.71s/it]"
     ]
    },
    {
     "name": "stdout",
     "output_type": "stream",
     "text": [
      "LeDock Docking finished\n",
      "Have been converted to mol2 file! /home/haotian/Molecule_Generation/Flexible-docking/data/esmfold_time_split/6pgp/6pgp_ligand.sdf\n"
     ]
    },
    {
     "name": "stderr",
     "output_type": "stream",
     "text": [
      " 69%|██████▉   | 244/353 [1:05:16<24:33, 13.52s/it]"
     ]
    },
    {
     "name": "stdout",
     "output_type": "stream",
     "text": [
      "LeDock Docking finished\n",
      "Have been converted to mol2 file! /home/haotian/Molecule_Generation/Flexible-docking/data/esmfold_time_split/6jaq/6jaq_ligand.sdf\n"
     ]
    },
    {
     "name": "stderr",
     "output_type": "stream",
     "text": [
      " 69%|██████▉   | 245/353 [1:05:21<19:47, 11.00s/it]"
     ]
    },
    {
     "name": "stdout",
     "output_type": "stream",
     "text": [
      "LeDock Docking finished\n",
      "Have been converted to mol2 file! /home/haotian/Molecule_Generation/Flexible-docking/data/esmfold_time_split/6oxq/6oxq_ligand.sdf\n"
     ]
    },
    {
     "name": "stderr",
     "output_type": "stream",
     "text": [
      " 70%|██████▉   | 246/353 [1:05:40<23:51, 13.38s/it]"
     ]
    },
    {
     "name": "stdout",
     "output_type": "stream",
     "text": [
      "LeDock Docking finished\n"
     ]
    },
    {
     "name": "stderr",
     "output_type": "stream",
     "text": [
      "RDKit ERROR: Failed Expression: dp_mol->getNumAtoms() == d_positions.size()\n",
      "RDKit ERROR: ****\n",
      "RDKit ERROR: \n",
      "RDKit ERROR: [12:31:47] \n",
      "RDKit ERROR: \n",
      "RDKit ERROR: ****\n",
      "RDKit ERROR: Pre-condition Violation\n",
      "RDKit ERROR: \n",
      "RDKit ERROR: Violation occurred on line 60 in file /home/conda/feedstock_root/build_artifacts/rdkit_1614687251479/work/Code/GraphMol/Conformer.cpp\n",
      "RDKit ERROR: Failed Expression: dp_mol->getNumAtoms() == d_positions.size()\n",
      "RDKit ERROR: ****\n",
      "RDKit ERROR: \n",
      "RDKit ERROR: [12:31:47] \n",
      "RDKit ERROR: \n",
      "RDKit ERROR: ****\n",
      "RDKit ERROR: Pre-condition Violation\n",
      "RDKit ERROR: \n",
      "RDKit ERROR: Violation occurred on line 60 in file /home/conda/feedstock_root/build_artifacts/rdkit_1614687251479/work/Code/GraphMol/Conformer.cpp\n",
      "RDKit ERROR: Failed Expression: dp_mol->getNumAtoms() == d_positions.size()\n",
      "RDKit ERROR: ****\n",
      "RDKit ERROR: \n",
      "RDKit ERROR: [12:31:47] \n",
      "RDKit ERROR: \n",
      "RDKit ERROR: ****\n",
      "RDKit ERROR: Pre-condition Violation\n",
      "RDKit ERROR: \n",
      "RDKit ERROR: Violation occurred on line 60 in file /home/conda/feedstock_root/build_artifacts/rdkit_1614687251479/work/Code/GraphMol/Conformer.cpp\n",
      "RDKit ERROR: Failed Expression: dp_mol->getNumAtoms() == d_positions.size()\n",
      "RDKit ERROR: ****\n",
      "RDKit ERROR: \n",
      "RDKit ERROR: [12:31:47] \n",
      "RDKit ERROR: \n",
      "RDKit ERROR: ****\n",
      "RDKit ERROR: Pre-condition Violation\n",
      "RDKit ERROR: \n",
      "RDKit ERROR: Violation occurred on line 60 in file /home/conda/feedstock_root/build_artifacts/rdkit_1614687251479/work/Code/GraphMol/Conformer.cpp\n",
      "RDKit ERROR: Failed Expression: dp_mol->getNumAtoms() == d_positions.size()\n",
      "RDKit ERROR: ****\n",
      "RDKit ERROR: \n",
      "RDKit ERROR: [12:31:47] \n",
      "RDKit ERROR: \n",
      "RDKit ERROR: ****\n",
      "RDKit ERROR: Pre-condition Violation\n",
      "RDKit ERROR: \n",
      "RDKit ERROR: Violation occurred on line 60 in file /home/conda/feedstock_root/build_artifacts/rdkit_1614687251479/work/Code/GraphMol/Conformer.cpp\n",
      "RDKit ERROR: Failed Expression: dp_mol->getNumAtoms() == d_positions.size()\n",
      "RDKit ERROR: ****\n",
      "RDKit ERROR: \n",
      "RDKit ERROR: [12:31:47] \n",
      "RDKit ERROR: \n",
      "RDKit ERROR: ****\n",
      "RDKit ERROR: Pre-condition Violation\n",
      "RDKit ERROR: \n",
      "RDKit ERROR: Violation occurred on line 60 in file /home/conda/feedstock_root/build_artifacts/rdkit_1614687251479/work/Code/GraphMol/Conformer.cpp\n",
      "RDKit ERROR: Failed Expression: dp_mol->getNumAtoms() == d_positions.size()\n",
      "RDKit ERROR: ****\n",
      "RDKit ERROR: \n",
      "RDKit ERROR: [12:32:04] \n",
      "RDKit ERROR: \n",
      "RDKit ERROR: ****\n",
      "RDKit ERROR: Pre-condition Violation\n",
      "RDKit ERROR: \n",
      "RDKit ERROR: Violation occurred on line 60 in file /home/conda/feedstock_root/build_artifacts/rdkit_1614687251479/work/Code/GraphMol/Conformer.cpp\n",
      "RDKit ERROR: Failed Expression: dp_mol->getNumAtoms() == d_positions.size()\n",
      "RDKit ERROR: ****\n",
      "RDKit ERROR: \n",
      "RDKit ERROR: [12:36:13] \n",
      "RDKit ERROR: \n",
      "RDKit ERROR: ****\n",
      "RDKit ERROR: Pre-condition Violation\n",
      "RDKit ERROR: \n",
      "RDKit ERROR: Violation occurred on line 60 in file /home/conda/feedstock_root/build_artifacts/rdkit_1614687251479/work/Code/GraphMol/Conformer.cpp\n",
      "RDKit ERROR: Failed Expression: dp_mol->getNumAtoms() == d_positions.size()\n",
      "RDKit ERROR: ****\n",
      "RDKit ERROR: \n",
      "RDKit ERROR: [12:36:13] \n",
      "RDKit ERROR: \n",
      "RDKit ERROR: ****\n",
      "RDKit ERROR: Pre-condition Violation\n",
      "RDKit ERROR: \n",
      "RDKit ERROR: Violation occurred on line 60 in file /home/conda/feedstock_root/build_artifacts/rdkit_1614687251479/work/Code/GraphMol/Conformer.cpp\n",
      "RDKit ERROR: Failed Expression: dp_mol->getNumAtoms() == d_positions.size()\n",
      "RDKit ERROR: ****\n",
      "RDKit ERROR: \n",
      "RDKit ERROR: [12:36:13] \n",
      "RDKit ERROR: \n",
      "RDKit ERROR: ****\n",
      "RDKit ERROR: Pre-condition Violation\n",
      "RDKit ERROR: \n",
      "RDKit ERROR: Violation occurred on line 60 in file /home/conda/feedstock_root/build_artifacts/rdkit_1614687251479/work/Code/GraphMol/Conformer.cpp\n",
      "RDKit ERROR: Failed Expression: dp_mol->getNumAtoms() == d_positions.size()\n",
      "RDKit ERROR: ****\n",
      "RDKit ERROR: \n",
      "RDKit ERROR: [12:36:13] \n",
      "RDKit ERROR: \n",
      "RDKit ERROR: ****\n",
      "RDKit ERROR: Pre-condition Violation\n",
      "RDKit ERROR: \n",
      "RDKit ERROR: Violation occurred on line 60 in file /home/conda/feedstock_root/build_artifacts/rdkit_1614687251479/work/Code/GraphMol/Conformer.cpp\n",
      "RDKit ERROR: Failed Expression: dp_mol->getNumAtoms() == d_positions.size()\n",
      "RDKit ERROR: ****\n",
      "RDKit ERROR: \n",
      "RDKit ERROR: [12:36:13] \n",
      "RDKit ERROR: \n",
      "RDKit ERROR: ****\n",
      "RDKit ERROR: Pre-condition Violation\n",
      "RDKit ERROR: \n",
      "RDKit ERROR: Violation occurred on line 60 in file /home/conda/feedstock_root/build_artifacts/rdkit_1614687251479/work/Code/GraphMol/Conformer.cpp\n",
      "RDKit ERROR: Failed Expression: dp_mol->getNumAtoms() == d_positions.size()\n",
      "RDKit ERROR: ****\n",
      "RDKit ERROR: \n",
      "RDKit ERROR: [12:36:13] \n",
      "RDKit ERROR: \n",
      "RDKit ERROR: ****\n",
      "RDKit ERROR: Pre-condition Violation\n",
      "RDKit ERROR: \n",
      "RDKit ERROR: Violation occurred on line 60 in file /home/conda/feedstock_root/build_artifacts/rdkit_1614687251479/work/Code/GraphMol/Conformer.cpp\n",
      "RDKit ERROR: Failed Expression: dp_mol->getNumAtoms() == d_positions.size()\n",
      "RDKit ERROR: ****\n",
      "RDKit ERROR: \n",
      "RDKit ERROR: [12:36:13] \n",
      "RDKit ERROR: \n",
      "RDKit ERROR: ****\n",
      "RDKit ERROR: Pre-condition Violation\n",
      "RDKit ERROR: \n",
      "RDKit ERROR: Violation occurred on line 60 in file /home/conda/feedstock_root/build_artifacts/rdkit_1614687251479/work/Code/GraphMol/Conformer.cpp\n",
      "RDKit ERROR: Failed Expression: dp_mol->getNumAtoms() == d_positions.size()\n",
      "RDKit ERROR: ****\n",
      "RDKit ERROR: \n",
      "RDKit ERROR: [12:36:13] \n",
      "RDKit ERROR: \n",
      "RDKit ERROR: ****\n",
      "RDKit ERROR: Pre-condition Violation\n",
      "RDKit ERROR: \n",
      "RDKit ERROR: Violation occurred on line 60 in file /home/conda/feedstock_root/build_artifacts/rdkit_1614687251479/work/Code/GraphMol/Conformer.cpp\n",
      "RDKit ERROR: Failed Expression: dp_mol->getNumAtoms() == d_positions.size()\n",
      "RDKit ERROR: ****\n",
      "RDKit ERROR: \n",
      "RDKit ERROR: [12:39:02] \n",
      "RDKit ERROR: \n",
      "RDKit ERROR: ****\n",
      "RDKit ERROR: Pre-condition Violation\n",
      "RDKit ERROR: \n",
      "RDKit ERROR: Violation occurred on line 60 in file /home/conda/feedstock_root/build_artifacts/rdkit_1614687251479/work/Code/GraphMol/Conformer.cpp\n",
      "RDKit ERROR: Failed Expression: dp_mol->getNumAtoms() == d_positions.size()\n",
      "RDKit ERROR: ****\n",
      "RDKit ERROR: \n",
      "RDKit ERROR: [12:39:02] \n",
      "RDKit ERROR: \n",
      "RDKit ERROR: ****\n",
      "RDKit ERROR: Pre-condition Violation\n",
      "RDKit ERROR: \n",
      "ol->getNumAtoms() == d_positions.size()\n",
      "****\n",
      "\n",
      "[12:31:47] \n",
      "\n",
      "****\n",
      "Pre-condition Violation\n",
      "\n",
      "Violation occurred on line 60 in file /home/conda/feedstock_root/build_artifacts/rdkit_1614687251479/work/Code/GraphMol/Conformer.cpp\n",
      "Failed Expression: dp_mol->getNumAtoms() == d_positions.size()\n",
      "****\n",
      "\n",
      "[12:31:47] \n",
      "\n",
      "****\n",
      "Pre-condition Violation\n",
      "\n",
      "Violation occurred on line 60 in file /home/conda/feedstock_root/build_artifacts/rdkit_1614687251479/work/Code/GraphMol/Conformer.cpp\n",
      "Failed Expression: dp_mol->getNumAtoms() == d_positions.size()\n",
      "****\n",
      "\n",
      "[12:31:47] \n",
      "\n",
      "****\n",
      "Pre-condition Violation\n",
      "\n",
      "Violation occurred on line 60 in file /home/conda/feedstock_root/build_artifacts/rdkit_1614687251479/work/Code/GraphMol/Conformer.cpp\n",
      "Failed Expression: dp_mol->getNumAtoms() == d_positions.size()\n",
      "****\n",
      "\n",
      "[12:31:47] \n",
      "\n",
      "****\n",
      "Pre-condition Violation\n",
      "\n",
      "Violation occurred on line 60 in file /home/conda/feedstock_root/build_artifacts/rdkit_1614687251479/work/Code/GraphMol/Conformer.cpp\n",
      " 70%|██████▉   | 247/353 [1:05:54<24:15, 13.73s/it]) == d_positions.size()\n",
      "****\n",
      "\n",
      "[12:31:47] \n",
      "\n",
      "****\n",
      "Pre-condition Violation\n",
      "\n",
      "Violation occurred on line 60 in file /home/conda/feedstock_root/build_artifacts/rdkit_1614687251479/work/Code/GraphMol/Conformer.cpp\n",
      "Failed Expression: dp_mol->getNumAtoms() == d_positions.size()\n",
      "****\n",
      "\n",
      "[12:31:47] \n",
      "\n",
      "****\n",
      "Pre-condition Violation\n",
      "\n",
      "Violation occurred on line 60 in file /home/conda/feedstock_root/build_artifacts/rdkit_1614687251479/work/Code/GraphMol/Conformer.cpp\n",
      "Failed Expression: dp_mol->getNumAtoms() == d_positions.size()\n",
      "****\n",
      "\n",
      "[12:32:04] \n",
      "\n",
      "****\n",
      "Pre-condition Violation\n",
      "\n",
      "Violation occurred on line 60 in file /home/conda/feedstock_root/build_artifacts/rdkit_1614687251479/work/Code/GraphMol/Conformer.cpp\n",
      "Failed Expression: dp_mol->getNumAtoms() == d_positions.size()\n",
      "****\n",
      "\n",
      "[12:36:13] \n",
      "\n",
      "****\n",
      "Pre-condition Violation\n",
      "\n",
      "Violation occurred on line 60 in file /home/conda/feedstock_root/build_artifacts/rdkit_1614687251479/work/Code/GraphMol/Conformer.cpp\n",
      "Failed Expression: dp_mol->getNumAtoms() == d_positions"
     ]
    },
    {
     "name": "stdout",
     "output_type": "stream",
     "text": [
      "LeDock Docking finished\n",
      "Have been converted to mol2 file! /home/haotian/Molecule_Generation/Flexible-docking/data/esmfold_time_split/6j9w/6j9w_ligand.sdf\n"
     ]
    },
    {
     "name": "stderr",
     "output_type": "stream",
     "text": [
      ".size()\n",
      "****\n",
      "\n",
      "[12:36:13] \n",
      "\n",
      "****\n",
      "Pre-condition Violation\n",
      "\n",
      "Violation occurred on line 60 in file /home/conda/feedstock_root/build_artifacts/rdkit_1614687251479/work/Code/GraphMol/Conformer.cpp\n",
      "Failed Expression: dp_mol->getNumAtoms() == d_positions.size()\n",
      "****\n",
      "\n",
      "[12:36:13] \n",
      "\n",
      "****\n",
      "Pre-condition Violation\n",
      "\n",
      "Violation occurred on line 60 in file /home/conda/feedstock_root/build_artifacts/rdkit_1614687251479/work/Code/GraphMol/Conformer.cpp\n",
      "Failed Expression: dp_mol->getNumAtoms() == d_positions.size()\n",
      "****\n",
      "\n",
      "[12:36:13] \n",
      "\n",
      "****\n",
      "Pre-condition Violation\n",
      "\n",
      "Violation occurred on line 60 in file /home/conda/feedstock_root/build_artifacts/rdkit_1614687251479/work/Code/GraphMol/Conformer.cpp\n",
      "Failed Expression: dp_mol->getNumAtoms() == d_positions.size()\n",
      "****\n",
      "\n",
      "[12:36:13] \n",
      "\n",
      "****\n",
      "Pre-condition Violation\n",
      "\n",
      "Violation occurred on line 60 in file /home/conda/feedstock_root/build_artifacts/rdkit_1614687251479/work/Code/GraphMol/Conformer.cpp\n",
      "Failed Expression: dp_mol->getNumAtoms() == d_positions.size()\n",
      "****\n",
      "\n",
      "[12:36:13] \n",
      "\n",
      "****\n",
      "Pre-condition Violation\n",
      "\n",
      "Violation occurred on line 60 in file /home/conda/feedstock_root/build_artifacts/rdkit_1614687251479/work/Code/GraphMol/Conformer.cpp\n",
      "Failed Expression: dp_mol->getNumAtoms() == d_positions.size()\n",
      "****\n",
      "\n",
      "[12:36:13] \n",
      "\n",
      "****\n",
      "Pre-condition Violation\n",
      "\n",
      "Violation occurred on line 60 in file /home/conda/feedstock_root/build_artifacts/rdkit_1614687251479/work/Code/GraphMol/Conformer.cpp\n",
      "Failed Expression: dp_mol->getNumAtoms() == d_positions.size()\n",
      "****\n",
      "\n",
      "[12:36:13] \n",
      "\n",
      "****\n",
      "Pre-condition Violation\n",
      "\n",
      "Violation occurred on line 60 in file /home/conda/feedstock_root/build_artifacts/rdkit_1614687251479/work/Code/GraphMol/Conformer.cpp\n",
      "Failed Expression: dp_mol->getNumAtoms() == d_positions.size()\n",
      "****\n",
      "\n",
      "[12:39:02] \n",
      "\n",
      "****\n",
      "Pre-condition Violation\n",
      "\n",
      "Violation occurred on line 60 in file /home/conda/feedstock_root/build_artifacts/rdkit_1614687251479/work/Code/GraphMol/Conformer.cpp\n",
      "Failed Expression: dp_mol->getNumAtoms() == d_positions.size()\n",
      "****\n",
      "\n",
      "[12:39:02] \n",
      "\n",
      "****\n",
      "Pre-condition Violation\n",
      "\n",
      " 70%|███████   | 248/353 [1:06:02<20:54, 11.95s/it]eedstock_root/build_"
     ]
    },
    {
     "name": "stdout",
     "output_type": "stream",
     "text": [
      "LeDock Docking finished\n",
      "Have been converted to mol2 file! /home/haotian/Molecule_Generation/Flexible-docking/data/esmfold_time_split/6nlj/6nlj_ligand.sdf\n"
     ]
    },
    {
     "name": "stderr",
     "output_type": "stream",
     "text": [
      " 71%|███████   | 249/353 [1:06:10<18:39, 10.76s/it]"
     ]
    },
    {
     "name": "stdout",
     "output_type": "stream",
     "text": [
      "LeDock Docking finished\n",
      "Have been converted to mol2 file! /home/haotian/Molecule_Generation/Flexible-docking/data/esmfold_time_split/6n4e/6n4e_ligand.sdf\n"
     ]
    },
    {
     "name": "stderr",
     "output_type": "stream",
     "text": [
      " 71%|███████   | 250/353 [1:06:22<18:51, 10.99s/it]"
     ]
    },
    {
     "name": "stdout",
     "output_type": "stream",
     "text": [
      "LeDock Docking finished\n",
      "Have been converted to mol2 file! /home/haotian/Molecule_Generation/Flexible-docking/data/esmfold_time_split/6ggd/6ggd_ligand.sdf\n"
     ]
    },
    {
     "name": "stderr",
     "output_type": "stream",
     "text": [
      " 71%|███████   | 251/353 [1:06:29<16:34,  9.75s/it]"
     ]
    },
    {
     "name": "stdout",
     "output_type": "stream",
     "text": [
      "LeDock Docking finished\n"
     ]
    },
    {
     "name": "stderr",
     "output_type": "stream",
     "text": [
      " 71%|███████▏  | 252/353 [1:06:38<16:09,  9.60s/it]"
     ]
    },
    {
     "name": "stdout",
     "output_type": "stream",
     "text": [
      "LeDock Docking finished\n",
      "Have been converted to mol2 file! /home/haotian/Molecule_Generation/Flexible-docking/data/esmfold_time_split/6jbe/6jbe_ligand.sdf\n"
     ]
    },
    {
     "name": "stderr",
     "output_type": "stream",
     "text": [
      " 72%|███████▏  | 253/353 [1:06:43<13:47,  8.27s/it]"
     ]
    },
    {
     "name": "stdout",
     "output_type": "stream",
     "text": [
      "LeDock Docking finished\n",
      "Have been converted to mol2 file! /home/haotian/Molecule_Generation/Flexible-docking/data/esmfold_time_split/6nv9/6nv9_ligand.sdf\n"
     ]
    },
    {
     "name": "stderr",
     "output_type": "stream",
     "text": [
      " 72%|███████▏  | 254/353 [1:07:00<17:56, 10.88s/it]"
     ]
    },
    {
     "name": "stdout",
     "output_type": "stream",
     "text": [
      "LeDock Docking finished\n",
      "Have been converted to mol2 file! /home/haotian/Molecule_Generation/Flexible-docking/data/esmfold_time_split/6a1c/6a1c_ligand.sdf\n"
     ]
    },
    {
     "name": "stderr",
     "output_type": "stream",
     "text": [
      " 72%|███████▏  | 255/353 [1:07:09<16:48, 10.29s/it]"
     ]
    },
    {
     "name": "stdout",
     "output_type": "stream",
     "text": [
      "LeDock Docking finished\n"
     ]
    },
    {
     "name": "stderr",
     "output_type": "stream",
     "text": [
      "RDKit ERROR: Violation occurred on line 60 in file /home/conda/feedstock_root/build_artifacts/rdkit_1614687251479/work/Code/GraphMol/Conformer.cpp\n",
      "RDKit ERROR: Failed Expression: dp_mol->getNumAtoms() == d_positions.size()\n",
      "RDKit ERROR: ****\n",
      "RDKit ERROR: \n",
      "RDKit ERROR: [12:39:02] \n",
      "RDKit ERROR: \n",
      "RDKit ERROR: ****\n",
      "RDKit ERROR: Pre-condition Violation\n",
      "RDKit ERROR: \n",
      "RDKit ERROR: Violation occurred on line 60 in file /home/conda/feedstock_root/build_artifacts/rdkit_1614687251479/work/Code/GraphMol/Conformer.cpp\n",
      "RDKit ERROR: Failed Expression: dp_mol->getNumAtoms() == d_positions.size()\n",
      "RDKit ERROR: ****\n",
      "RDKit ERROR: \n",
      "RDKit ERROR: [12:39:02] \n",
      "RDKit ERROR: \n",
      "RDKit ERROR: ****\n",
      "RDKit ERROR: Pre-condition Violation\n",
      "RDKit ERROR: \n",
      "RDKit ERROR: Violation occurred on line 60 in file /home/conda/feedstock_root/build_artifacts/rdkit_1614687251479/work/Code/GraphMol/Conformer.cpp\n",
      "RDKit ERROR: Failed Expression: dp_mol->getNumAtoms() == d_positions.size()\n",
      "RDKit ERROR: ****\n",
      "RDKit ERROR: \n",
      "RDKit ERROR: [12:39:02] \n",
      "RDKit ERROR: \n",
      "RDKit ERROR: ****\n",
      "RDKit ERROR: Pre-condition Violation\n",
      "RDKit ERROR: \n",
      "RDKit ERROR: Violation occurred on line 60 in file /home/conda/feedstock_root/build_artifacts/rdkit_1614687251479/work/Code/GraphMol/Conformer.cpp\n",
      "RDKit ERROR: Failed Expression: dp_mol->getNumAtoms() == d_positions.size()\n",
      "RDKit ERROR: ****\n",
      "RDKit ERROR: \n",
      "RDKit ERROR: [12:39:02] \n",
      "RDKit ERROR: \n",
      "RDKit ERROR: ****\n",
      "RDKit ERROR: Pre-condition Violation\n",
      "RDKit ERROR: \n",
      "RDKit ERROR: Violation occurred on line 60 in file /home/conda/feedstock_root/build_artifacts/rdkit_1614687251479/work/Code/GraphMol/Conformer.cpp\n",
      "RDKit ERROR: Failed Expression: dp_mol->getNumAtoms() == d_positions.size()\n",
      "RDKit ERROR: ****\n",
      "RDKit ERROR: \n",
      "RDKit ERROR: [12:39:02] \n",
      "RDKit ERROR: \n",
      "RDKit ERROR: ****\n",
      "RDKit ERROR: Pre-condition Violation\n",
      "RDKit ERROR: \n",
      "RDKit ERROR: Violation occurred on line 60 in file /home/conda/feedstock_root/build_artifacts/rdkit_1614687251479/work/Code/GraphMol/Conformer.cpp\n",
      "RDKit ERROR: Failed Expression: dp_mol->getNumAtoms() == d_positions.size()\n",
      "RDKit ERROR: ****\n",
      "RDKit ERROR: \n",
      "RDKit ERROR: [12:39:02] \n",
      "RDKit ERROR: \n",
      "RDKit ERROR: ****\n",
      "RDKit ERROR: Pre-condition Violation\n",
      "RDKit ERROR: \n",
      "RDKit ERROR: Violation occurred on line 60 in file /home/conda/feedstock_root/build_artifacts/rdkit_1614687251479/work/Code/GraphMol/Conformer.cpp\n",
      "RDKit ERROR: Failed Expression: dp_mol->getNumAtoms() == d_positions.size()\n",
      "RDKit ERROR: ****\n",
      "RDKit ERROR: \n",
      "RDKit ERROR: [12:39:45] \n",
      "RDKit ERROR: \n",
      "RDKit ERROR: ****\n",
      "RDKit ERROR: Pre-condition Violation\n",
      "RDKit ERROR: \n",
      "RDKit ERROR: Violation occurred on line 60 in file /home/conda/feedstock_root/build_artifacts/rdkit_1614687251479/work/Code/GraphMol/Conformer.cpp\n",
      "RDKit ERROR: Failed Expression: dp_mol->getNumAtoms() == d_positions.size()\n",
      "RDKit ERROR: ****\n",
      "RDKit ERROR: \n",
      "RDKit ERROR: [12:39:45] \n",
      "RDKit ERROR: \n",
      "RDKit ERROR: ****\n",
      "RDKit ERROR: Pre-condition Violation\n",
      "RDKit ERROR: \n",
      "RDKit ERROR: Violation occurred on line 60 in file /home/conda/feedstock_root/build_artifacts/rdkit_1614687251479/work/Code/GraphMol/Conformer.cpp\n",
      "RDKit ERROR: Failed Expression: dp_mol->getNumAtoms() == d_positions.size()\n",
      "RDKit ERROR: ****\n",
      "RDKit ERROR: \n",
      "RDKit ERROR: [12:39:45] \n",
      "RDKit ERROR: \n",
      "RDKit ERROR: ****\n",
      "RDKit ERROR: Pre-condition Violation\n",
      "RDKit ERROR: \n",
      "RDKit ERROR: Violation occurred on line 60 in file /home/conda/feedstock_root/build_artifacts/rdkit_1614687251479/work/Code/GraphMol/Conformer.cpp\n",
      "RDKit ERROR: Failed Expression: dp_mol->getNumAtoms() == d_positions.size()\n",
      "RDKit ERROR: ****\n",
      "RDKit ERROR: \n",
      "RDKit ERROR: [12:39:45] \n",
      "RDKit ERROR: \n",
      "RDKit ERROR: ****\n",
      "RDKit ERROR: Pre-condition Violation\n",
      "RDKit ERROR: \n",
      "RDKit ERROR: Violation occurred on line 60 in file /home/conda/feedstock_root/build_artifacts/rdkit_1614687251479/work/Code/GraphMol/Conformer.cpp\n",
      "RDKit ERROR: Failed Expression: dp_mol->getNumAtoms() == d_positions.size()\n",
      "RDKit ERROR: ****\n",
      "RDKit ERROR: \n",
      "RDKit ERROR: [12:39:45] \n",
      "RDKit ERROR: \n",
      "RDKit ERROR: ****\n",
      "RDKit ERROR: Pre-condition Violation\n",
      "RDKit ERROR: \n",
      "RDKit ERROR: Violation occurred on line 60 in file /home/conda/feedstock_root/build_artifacts/rdkit_1614687251479/work/Code/GraphMol/Conformer.cpp\n",
      "RDKit ERROR: Failed Expression: dp_mol->getNumAtoms() == d_positions.size()\n",
      "RDKit ERROR: ****\n",
      "RDKit ERROR: \n",
      "RDKit ERROR: [12:39:45] \n",
      "RDKit ERROR: \n",
      "RDKit ERROR: ****\n",
      "RDKit ERROR: Pre-condition Violation\n",
      "RDKit ERROR: \n",
      "RDKit ERROR: Violation occurred on line 60 in file /home/conda/feedstock_root/build_artifacts/rdkit_1614687251479/work/Code/GraphMol/Conformer.cpp\n",
      "RDKit ERROR: Failed Expression: dp_mol->getNumAtoms() == d_positions.size()\n",
      "RDKit ERROR: ****\n",
      "RDKit ERROR: \n",
      "RDKit ERROR: [12:40:23] \n",
      "RDKit ERROR: \n",
      "RDKit ERROR: ****\n",
      "RDKit ERROR: Pre-condition Violation\n",
      "RDKit ERROR: \n",
      "RDKit ERROR: Violation occurred on line 60 in file /home/conda/feedstock_root/build_artifacts/rdkit_1614687251479/work/Code/GraphMol/Conformer.cpp\n",
      "RDKit ERROR: Failed Expression: dp_mol->getNumAtoms() == d_positions.size()\n",
      "RDKit ERROR: ****\n",
      "RDKit ERROR: \n",
      "RDKit ERROR: [12:40:23] \n",
      "RDKit ERROR: \n",
      "RDKit ERROR: ****\n",
      "RDKit ERROR: Pre-condition Violation\n",
      "RDKit ERROR: \n",
      "RDKit ERROR: Violation occurred on line 60 in file /home/conda/feedstock_root/build_artifacts/rdkit_1614687251479/work/Code/GraphMol/Conformer.cpp\n",
      "RDKit ERROR: Failed Expression: dp_mol->getNumAtoms() == d_positions.size()\n",
      "RDKit ERROR: ****\n",
      "RDKit ERROR: \n",
      "RDKit ERROR: [12:40:23] \n",
      "RDKit ERROR: \n",
      "RDKit ERROR: ****\n",
      "RDKit ERROR: Pre-condition Violation\n",
      "RDKit ERROR: \n",
      "RDKit ERROR: Violation occurred on line 60 in file /home/conda/feedstock_root/build_artifacts/rdkit_1614687251479/work/Code/GraphMol/Conformer.cpp\n",
      "RDKit ERROR: Failed Expression: dp_mol->getNumAtoms() == d_positions.size()\n",
      "RDKit ERROR: ****\n",
      "RDKit ERROR: \n",
      "RDKit ERROR: [12:40:23] \n",
      "RDKit ERROR: \n",
      "RDKit ERROR: ****\n",
      "RDKit ERROR: Pre-condition Violation\n",
      "RDKit ERROR: \n",
      "RDKit ERROR: Violation occurred on line 60 in file /home/conda/feedstock_root/build_artifacts/rdkit_1614687251479/work/Code/GraphMol/Conformer.cpp\n",
      "RDKit ERROR: Failed Expression: dp_mol->getNumAtoms() == d_positions.size()\n",
      "RDKit ERROR: ****\n",
      "RDKit ERROR: \n",
      "RDKit ERROR: [12:40:23] \n",
      "RDKit ERROR: \n",
      "RDKit ERROR: ****\n",
      "artifacts/rdkit_1614687251479/work/Code/GraphMol/Conformer.cpp\n",
      "Failed Expression: dp_mol->getNumAtoms() == d_positions.size()\n",
      "****\n",
      "\n",
      "[12:39:02] \n",
      "\n",
      "****\n",
      "Pre-condition Violation\n",
      "\n",
      "Violation occurred on line 60 in file /home/conda/feedstock_root/build_artifacts/rdkit_1614687251479/work/Code/GraphMol/Conformer.cpp\n",
      "Failed Expression: dp_mol->getNumAtoms() == d_positions.size()\n",
      "****\n",
      "\n",
      "[12:39:02] \n",
      "\n",
      "****\n",
      "Pre-condition Violation\n",
      "\n",
      "Violation occurred on line 60 in file /home/conda/feedstock_root/build_artifacts/rdkit_1614687251479/work/Code/GraphMol/Conformer.cpp\n",
      "Failed Expression: dp_mol->getNumAtoms() == d_positions.size()\n",
      "****\n",
      "\n",
      "[12:39:02] \n",
      "\n",
      "****\n",
      "Pre-condition Violation\n",
      "\n",
      "Violation occurred on line 60 in file /home/conda/feedstock_root/build_artifacts/rdkit_1614687251479/work/Code/GraphMol/Conformer.cpp\n",
      "Failed Expression: dp_mol->getNumAtoms() == d_positions.size()\n",
      "****\n",
      "\n",
      "[12:39:02] \n",
      "\n",
      "****\n",
      "Pre-condition Violation\n",
      "\n",
      " 73%|███████▎  | 256/353 [1:07:16<14:57,  9.25s/it]eedstock_root/build_artifacts/rdkit_"
     ]
    },
    {
     "name": "stdout",
     "output_type": "stream",
     "text": [
      "LeDock Docking finished\n",
      "Have been converted to mol2 file! /home/haotian/Molecule_Generation/Flexible-docking/data/esmfold_time_split/6ibx/6ibx_ligand.sdf\n"
     ]
    },
    {
     "name": "stderr",
     "output_type": "stream",
     "text": [
      "1614687251479/work/Code/GraphMol/Conformer.cpp\n",
      "Failed Expression: dp_mol->getNumAtoms() == d_positions.size()\n",
      "****\n",
      "\n",
      "[12:39:02] \n",
      "\n",
      "****\n",
      "Pre-condition Violation\n",
      "\n",
      "Violation occurred on line 60 in file /home/conda/feedstock_root/build_artifacts/rdkit_1614687251479/work/Code/GraphMol/Conformer.cpp\n",
      "Failed Expression: dp_mol->getNumAtoms() == d_positions.size()\n",
      "****\n",
      "\n",
      "[12:39:02] \n",
      "\n",
      "****\n",
      "Pre-condition Violation\n",
      "\n",
      "Violation occurred on line 60 in file /home/conda/feedstock_root/build_artifacts/rdkit_1614687251479/work/Code/GraphMol/Conformer.cpp\n",
      "Failed Expression: dp_mol->getNumAtoms() == d_positions.size()\n",
      "****\n",
      "\n",
      "[12:39:45] \n",
      "\n",
      "****\n",
      "Pre-condition Violation\n",
      "\n",
      "Violation occurred on line 60 in file /home/conda/feedstock_root/build_artifacts/rdkit_1614687251479/work/Code/GraphMol/Conformer.cpp\n",
      "Failed Expression: dp_mol->getNumAtoms() == d_positions.size()\n",
      "****\n",
      "\n",
      "[12:39:45] \n",
      "\n",
      "****\n",
      "Pre-condition Violation\n",
      "\n",
      "Violation occurred on line 60 in file /home/conda/feedstock_root/build_artifacts/rdkit_1614687251479/work/Code/GraphMol/Conformer.cpp\n",
      "Failed Expression: dp_mol->getNumAtoms() == d_positions.size()\n",
      "****\n",
      "\n",
      "[12:39:45] \n",
      "\n",
      "****\n",
      "Pre-condition Violation\n",
      "\n",
      "Violation occurred on line 60 in file /home/conda/feedstock_root/build_artifacts/rdkit_1614687251479/work/Code/GraphMol/Conformer.cpp\n",
      "Failed Expression: dp_mol->getNumAtoms() == d_positions.size()\n",
      "****\n",
      "\n",
      "[12:39:45] \n",
      "\n",
      "****\n",
      "Pre-condition Violation\n",
      "\n",
      "Violation occurred on line 60 in file /home/conda/feedstock_root/build_artifacts/rdkit_1614687251479/work/Code/GraphMol/Conformer.cpp\n",
      "Failed Expression: dp_mol->getNumAtoms() == d_positions.size()\n",
      "****\n",
      "\n",
      "[12:39:45] \n",
      "\n",
      "****\n",
      "Pre-condition Violation\n",
      "\n",
      "Violation occurred on line 60 in file /home/conda/feedstock_root/build_artifacts/rdkit_1614687251479/work/Code/GraphMol/Conformer.cpp\n",
      "Failed Expression: dp_mol->getNumAtoms() == d_positions.size()\n",
      "****\n",
      "\n",
      "[12:39:45] \n",
      "\n",
      "****\n",
      "Pre-condition Violation\n",
      "\n",
      "Violation occurred on line 60 in file /home/conda/feedstock_root/build_artifacts/rdkit_1614687251479/work/Code/GraphMol/Conformer.cpp\n",
      "Failed Expression: dp_mol->getNumAtoms() == d_positions.size()\n",
      "****\n",
      "\n",
      "[12:40:23] \n",
      "\n",
      "****\n",
      "Pre-condition Violation\n",
      "\n",
      "Violation occurred on line 60 in file /home/conda/feedstock_root/build_artifacts/rdkit_1614687251479/work/Code/GraphMol/Conformer.cpp\n",
      "Failed Expression: dp_mol->getNumAtoms() == d_positions.size()\n",
      "****\n",
      "\n",
      "[12:40:23] \n",
      "\n",
      "****\n",
      "Pre-condition Violation\n",
      "\n",
      "Violation occurred on line 60 in file /home/conda/feedstock_root/build_artifacts/rdkit_1614687251479/work/Code/GraphMol/Conformer.cpp\n",
      "Failed Expression: dp_mol->getNumAtoms() == d_positions.size()\n",
      "****\n",
      "\n",
      "[12:40:23] \n",
      "\n",
      "****\n",
      "Pre-condition Violation\n",
      "\n",
      "Violation occurred on line 60 in file /home/conda/feedstock_root/build_artifacts/rdkit_1614687251479/work/Code/GraphMol/Conformer.cpp\n",
      "Failed Expression: dp_mol->getNumAtoms() == d_positions.size()\n",
      "****\n",
      "\n",
      "[12:40:23] \n",
      "\n",
      "****\n",
      "Pre-condition Violation\n",
      "\n",
      "Violation occurred on line 60 in file /home/conda/feedstock_root/build_artifacts/rdkit_1614687251479/work/Code/GraphMol/Conformer.cpp\n",
      "Failed Expression: dp_mol->getNumAtoms() == d_positions.size()\n",
      "****\n",
      "\n",
      "[12:40:23] \n",
      "\n",
      "****\n",
      " 73%|███████▎  | 257/353 [1:07:28<16:19, 10.20s/it]"
     ]
    },
    {
     "name": "stdout",
     "output_type": "stream",
     "text": [
      "LeDock Docking finished\n",
      "Have been converted to mol2 file! /home/haotian/Molecule_Generation/Flexible-docking/data/esmfold_time_split/6s07/6s07_ligand.sdf\n"
     ]
    },
    {
     "name": "stderr",
     "output_type": "stream",
     "text": [
      " 73%|███████▎  | 258/353 [1:08:28<39:48, 25.14s/it]"
     ]
    },
    {
     "name": "stdout",
     "output_type": "stream",
     "text": [
      "timeout\n",
      "Have been converted to mol2 file! /home/haotian/Molecule_Generation/Flexible-docking/data/esmfold_time_split/6i7a/6i7a_ligand.sdf\n"
     ]
    },
    {
     "name": "stderr",
     "output_type": "stream",
     "text": [
      " 73%|███████▎  | 259/353 [1:08:53<39:26, 25.17s/it]"
     ]
    },
    {
     "name": "stdout",
     "output_type": "stream",
     "text": [
      "LeDock Docking finished\n",
      "Have been converted to mol2 file! /home/haotian/Molecule_Generation/Flexible-docking/data/esmfold_time_split/5zk5/5zk5_ligand.sdf\n"
     ]
    },
    {
     "name": "stderr",
     "output_type": "stream",
     "text": [
      " 74%|███████▎  | 260/353 [1:09:53<55:12, 35.62s/it]"
     ]
    },
    {
     "name": "stdout",
     "output_type": "stream",
     "text": [
      "timeout\n",
      "Have been converted to mol2 file! /home/haotian/Molecule_Generation/Flexible-docking/data/esmfold_time_split/6jon/6jon_ligand.sdf\n"
     ]
    },
    {
     "name": "stderr",
     "output_type": "stream",
     "text": [
      " 74%|███████▍  | 261/353 [1:10:06<44:14, 28.85s/it]"
     ]
    },
    {
     "name": "stdout",
     "output_type": "stream",
     "text": [
      "LeDock Docking finished\n"
     ]
    },
    {
     "name": "stderr",
     "output_type": "stream",
     "text": [
      " 74%|███████▍  | 262/353 [1:10:14<34:00, 22.42s/it]"
     ]
    },
    {
     "name": "stdout",
     "output_type": "stream",
     "text": [
      "LeDock Docking finished\n"
     ]
    },
    {
     "name": "stderr",
     "output_type": "stream",
     "text": [
      " 75%|███████▍  | 263/353 [1:10:29<30:10, 20.12s/it]"
     ]
    },
    {
     "name": "stdout",
     "output_type": "stream",
     "text": [
      "LeDock Docking finished\n",
      "Have been converted to mol2 file! /home/haotian/Molecule_Generation/Flexible-docking/data/esmfold_time_split/6i62/6i62_ligand.sdf\n"
     ]
    },
    {
     "name": "stderr",
     "output_type": "stream",
     "text": [
      " 75%|███████▍  | 264/353 [1:10:34<23:19, 15.72s/it]"
     ]
    },
    {
     "name": "stdout",
     "output_type": "stream",
     "text": [
      "LeDock Docking finished\n",
      "Have been converted to mol2 file! /home/haotian/Molecule_Generation/Flexible-docking/data/esmfold_time_split/6kjf/6kjf_ligand.sdf\n"
     ]
    },
    {
     "name": "stderr",
     "output_type": "stream",
     "text": [
      " 75%|███████▌  | 265/353 [1:10:48<22:26, 15.30s/it]"
     ]
    },
    {
     "name": "stdout",
     "output_type": "stream",
     "text": [
      "LeDock Docking finished\n",
      "Have been converted to mol2 file! /home/haotian/Molecule_Generation/Flexible-docking/data/esmfold_time_split/6olx/6olx_ligand.sdf\n"
     ]
    },
    {
     "name": "stderr",
     "output_type": "stream",
     "text": [
      " 75%|███████▌  | 266/353 [1:10:58<19:46, 13.64s/it]"
     ]
    },
    {
     "name": "stdout",
     "output_type": "stream",
     "text": [
      "LeDock Docking finished\n",
      "Have been converted to mol2 file! /home/haotian/Molecule_Generation/Flexible-docking/data/esmfold_time_split/6oxw/6oxw_ligand.sdf\n"
     ]
    },
    {
     "name": "stderr",
     "output_type": "stream",
     "text": [
      " 76%|███████▌  | 267/353 [1:11:18<22:06, 15.42s/it]"
     ]
    },
    {
     "name": "stdout",
     "output_type": "stream",
     "text": [
      "LeDock Docking finished\n",
      "Have been converted to mol2 file! /home/haotian/Molecule_Generation/Flexible-docking/data/esmfold_time_split/6quw/6quw_ligand.sdf\n"
     ]
    },
    {
     "name": "stderr",
     "output_type": "stream",
     "text": [
      " 76%|███████▌  | 268/353 [1:11:23<17:35, 12.42s/it]"
     ]
    },
    {
     "name": "stdout",
     "output_type": "stream",
     "text": [
      "LeDock Docking finished\n",
      "Have been converted to mol2 file! /home/haotian/Molecule_Generation/Flexible-docking/data/esmfold_time_split/6jid/6jid_ligand.sdf\n"
     ]
    },
    {
     "name": "stderr",
     "output_type": "stream",
     "text": [
      " 76%|███████▌  | 269/353 [1:11:32<16:03, 11.47s/it]"
     ]
    },
    {
     "name": "stdout",
     "output_type": "stream",
     "text": [
      "LeDock Docking finished\n",
      "Have been converted to mol2 file! /home/haotian/Molecule_Generation/Flexible-docking/data/esmfold_time_split/6hou/6hou_ligand.sdf\n"
     ]
    },
    {
     "name": "stderr",
     "output_type": "stream",
     "text": [
      " 76%|███████▋  | 270/353 [1:11:38<13:14,  9.58s/it]"
     ]
    },
    {
     "name": "stdout",
     "output_type": "stream",
     "text": [
      "LeDock Docking finished\n",
      "Have been converted to mol2 file! /home/haotian/Molecule_Generation/Flexible-docking/data/esmfold_time_split/6mjq/6mjq_ligand.sdf\n"
     ]
    },
    {
     "name": "stderr",
     "output_type": "stream",
     "text": [
      " 77%|███████▋  | 271/353 [1:12:38<33:45, 24.70s/it]"
     ]
    },
    {
     "name": "stdout",
     "output_type": "stream",
     "text": [
      "timeout\n",
      "Have been converted to mol2 file! /home/haotian/Molecule_Generation/Flexible-docking/data/esmfold_time_split/6rz6/6rz6_ligand.sdf\n"
     ]
    },
    {
     "name": "stderr",
     "output_type": "stream",
     "text": [
      " 77%|███████▋  | 272/353 [1:12:53<29:35, 21.92s/it]"
     ]
    },
    {
     "name": "stdout",
     "output_type": "stream",
     "text": [
      "LeDock Docking finished\n",
      "Have been converted to mol2 file! /home/haotian/Molecule_Generation/Flexible-docking/data/esmfold_time_split/6p8x/6p8x_ligand.sdf\n"
     ]
    },
    {
     "name": "stderr",
     "output_type": "stream",
     "text": [
      " 77%|███████▋  | 273/353 [1:13:05<25:17, 18.97s/it]"
     ]
    },
    {
     "name": "stdout",
     "output_type": "stream",
     "text": [
      "LeDock Docking finished\n",
      "Have been converted to mol2 file! /home/haotian/Molecule_Generation/Flexible-docking/data/esmfold_time_split/6rnu/6rnu_ligand.sdf\n"
     ]
    },
    {
     "name": "stderr",
     "output_type": "stream",
     "text": [
      " 78%|███████▊  | 274/353 [1:13:12<20:08, 15.30s/it]"
     ]
    },
    {
     "name": "stdout",
     "output_type": "stream",
     "text": [
      "LeDock Docking finished\n",
      "Have been converted to mol2 file! /home/haotian/Molecule_Generation/Flexible-docking/data/esmfold_time_split/6jap/6jap_ligand.sdf\n"
     ]
    },
    {
     "name": "stderr",
     "output_type": "stream",
     "text": [
      " 78%|███████▊  | 275/353 [1:13:20<17:07, 13.17s/it]"
     ]
    },
    {
     "name": "stdout",
     "output_type": "stream",
     "text": [
      "LeDock Docking finished\n",
      "Have been converted to mol2 file! /home/haotian/Molecule_Generation/Flexible-docking/data/esmfold_time_split/6p8z/6p8z_ligand.sdf\n"
     ]
    },
    {
     "name": "stderr",
     "output_type": "stream",
     "text": [
      " 78%|███████▊  | 276/353 [1:13:33<16:53, 13.16s/it]"
     ]
    },
    {
     "name": "stdout",
     "output_type": "stream",
     "text": [
      "LeDock Docking finished\n",
      "Have been converted to mol2 file! /home/haotian/Molecule_Generation/Flexible-docking/data/esmfold_time_split/6qi7/6qi7_ligand.sdf\n"
     ]
    },
    {
     "name": "stderr",
     "output_type": "stream",
     "text": [
      " 78%|███████▊  | 277/353 [1:13:44<15:52, 12.53s/it]"
     ]
    },
    {
     "name": "stdout",
     "output_type": "stream",
     "text": [
      "LeDock Docking finished\n",
      "Have been converted to mol2 file! /home/haotian/Molecule_Generation/Flexible-docking/data/esmfold_time_split/6c85/6c85_ligand.sdf\n"
     ]
    },
    {
     "name": "stderr",
     "output_type": "stream",
     "text": [
      " 79%|███████▉  | 278/353 [1:13:50<13:02, 10.44s/it]"
     ]
    },
    {
     "name": "stdout",
     "output_type": "stream",
     "text": [
      "LeDock Docking finished\n",
      "Have been converted to mol2 file! /home/haotian/Molecule_Generation/Flexible-docking/data/esmfold_time_split/6e5s/6e5s_ligand.sdf\n"
     ]
    },
    {
     "name": "stderr",
     "output_type": "stream",
     "text": [
      " 79%|███████▉  | 279/353 [1:13:58<11:57,  9.69s/it]"
     ]
    },
    {
     "name": "stdout",
     "output_type": "stream",
     "text": [
      "LeDock Docking finished\n",
      "Have been converted to mol2 file! /home/haotian/Molecule_Generation/Flexible-docking/data/esmfold_time_split/6iby/6iby_ligand.sdf\n"
     ]
    },
    {
     "name": "stderr",
     "output_type": "stream",
     "text": [
      " 79%|███████▉  | 280/353 [1:14:10<12:38, 10.39s/it]"
     ]
    },
    {
     "name": "stdout",
     "output_type": "stream",
     "text": [
      "LeDock Docking finished\n",
      "Have been converted to mol2 file! /home/haotian/Molecule_Generation/Flexible-docking/data/esmfold_time_split/6oxy/6oxy_ligand.sdf\n"
     ]
    },
    {
     "name": "stderr",
     "output_type": "stream",
     "text": [
      " 80%|███████▉  | 281/353 [1:14:29<15:31, 12.94s/it]"
     ]
    },
    {
     "name": "stdout",
     "output_type": "stream",
     "text": [
      "LeDock Docking finished\n",
      "Have been converted to mol2 file! /home/haotian/Molecule_Generation/Flexible-docking/data/esmfold_time_split/6uvp/6uvp_ligand.sdf\n"
     ]
    },
    {
     "name": "stderr",
     "output_type": "stream",
     "text": [
      " 80%|███████▉  | 282/353 [1:14:37<13:39, 11.54s/it]"
     ]
    },
    {
     "name": "stdout",
     "output_type": "stream",
     "text": [
      "LeDock Docking finished\n",
      "Have been converted to mol2 file! /home/haotian/Molecule_Generation/Flexible-docking/data/esmfold_time_split/6i77/6i77_ligand.sdf\n"
     ]
    },
    {
     "name": "stderr",
     "output_type": "stream",
     "text": [
      " 80%|████████  | 283/353 [1:14:48<13:28, 11.55s/it]"
     ]
    },
    {
     "name": "stdout",
     "output_type": "stream",
     "text": [
      "LeDock Docking finished\n",
      "Have been converted to mol2 file! /home/haotian/Molecule_Generation/Flexible-docking/data/esmfold_time_split/6oxv/6oxv_ligand.sdf\n"
     ]
    },
    {
     "name": "stderr",
     "output_type": "stream",
     "text": [
      " 80%|████████  | 284/353 [1:15:08<16:00, 13.92s/it]"
     ]
    },
    {
     "name": "stdout",
     "output_type": "stream",
     "text": [
      "LeDock Docking finished\n",
      "Have been converted to mol2 file! /home/haotian/Molecule_Generation/Flexible-docking/data/esmfold_time_split/6oy1/6oy1_ligand.sdf\n"
     ]
    },
    {
     "name": "stderr",
     "output_type": "stream",
     "text": [
      " 81%|████████  | 285/353 [1:15:28<17:58, 15.86s/it]"
     ]
    },
    {
     "name": "stdout",
     "output_type": "stream",
     "text": [
      "LeDock Docking finished\n",
      "Have been converted to mol2 file! /home/haotian/Molecule_Generation/Flexible-docking/data/esmfold_time_split/6o5u/6o5u_ligand.sdf\n"
     ]
    },
    {
     "name": "stderr",
     "output_type": "stream",
     "text": [
      " 81%|████████  | 286/353 [1:15:41<16:36, 14.87s/it]"
     ]
    },
    {
     "name": "stdout",
     "output_type": "stream",
     "text": [
      "LeDock Docking finished\n",
      "Have been converted to mol2 file! /home/haotian/Molecule_Generation/Flexible-docking/data/esmfold_time_split/6hmt/6hmt_ligand.sdf\n"
     ]
    },
    {
     "name": "stderr",
     "output_type": "stream",
     "text": [
      " 81%|████████▏ | 287/353 [1:16:02<18:24, 16.73s/it]"
     ]
    },
    {
     "name": "stdout",
     "output_type": "stream",
     "text": [
      "LeDock Docking finished\n",
      "Have been converted to mol2 file! /home/haotian/Molecule_Generation/Flexible-docking/data/esmfold_time_split/6mo9/6mo9_ligand.sdf\n"
     ]
    },
    {
     "name": "stderr",
     "output_type": "stream",
     "text": [
      " 82%|████████▏ | 288/353 [1:16:10<15:16, 14.09s/it]"
     ]
    },
    {
     "name": "stdout",
     "output_type": "stream",
     "text": [
      "LeDock Docking finished\n",
      "Have been converted to mol2 file! /home/haotian/Molecule_Generation/Flexible-docking/data/esmfold_time_split/6ckl/6ckl_ligand.sdf\n"
     ]
    },
    {
     "name": "stderr",
     "output_type": "stream",
     "text": [
      " 82%|████████▏ | 289/353 [1:16:19<13:34, 12.73s/it]"
     ]
    },
    {
     "name": "stdout",
     "output_type": "stream",
     "text": [
      "LeDock Docking finished\n",
      "Have been converted to mol2 file! /home/haotian/Molecule_Generation/Flexible-docking/data/esmfold_time_split/6qls/6qls_ligand.sdf\n"
     ]
    },
    {
     "name": "stderr",
     "output_type": "stream",
     "text": [
      " 82%|████████▏ | 290/353 [1:16:31<13:02, 12.42s/it]"
     ]
    },
    {
     "name": "stdout",
     "output_type": "stream",
     "text": [
      "LeDock Docking finished\n",
      "Have been converted to mol2 file! /home/haotian/Molecule_Generation/Flexible-docking/data/esmfold_time_split/6jsg/6jsg_ligand.sdf\n"
     ]
    },
    {
     "name": "stderr",
     "output_type": "stream",
     "text": [
      " 82%|████████▏ | 291/353 [1:16:40<11:42, 11.33s/it]"
     ]
    },
    {
     "name": "stdout",
     "output_type": "stream",
     "text": [
      "LeDock Docking finished\n",
      "Have been converted to mol2 file! /home/haotian/Molecule_Generation/Flexible-docking/data/esmfold_time_split/6efk/6efk_ligand.sdf\n"
     ]
    },
    {
     "name": "stderr",
     "output_type": "stream",
     "text": [
      " 83%|████████▎ | 292/353 [1:17:04<15:26, 15.18s/it]"
     ]
    },
    {
     "name": "stdout",
     "output_type": "stream",
     "text": [
      "LeDock Docking finished\n",
      "Have been converted to mol2 file! /home/haotian/Molecule_Generation/Flexible-docking/data/esmfold_time_split/6sfc/6sfc_ligand.sdf\n"
     ]
    },
    {
     "name": "stderr",
     "output_type": "stream",
     "text": [
      " 83%|████████▎ | 293/353 [1:17:13<13:22, 13.37s/it]"
     ]
    },
    {
     "name": "stdout",
     "output_type": "stream",
     "text": [
      "LeDock Docking finished\n",
      "Have been converted to mol2 file! /home/haotian/Molecule_Generation/Flexible-docking/data/esmfold_time_split/6jt3/6jt3_ligand.sdf\n"
     ]
    },
    {
     "name": "stderr",
     "output_type": "stream",
     "text": [
      " 83%|████████▎ | 294/353 [1:17:23<12:00, 12.21s/it]"
     ]
    },
    {
     "name": "stdout",
     "output_type": "stream",
     "text": [
      "LeDock Docking finished\n",
      "Have been converted to mol2 file! /home/haotian/Molecule_Generation/Flexible-docking/data/esmfold_time_split/6i9a/6i9a_ligand.sdf\n"
     ]
    },
    {
     "name": "stderr",
     "output_type": "stream",
     "text": [
      " 84%|████████▎ | 295/353 [1:17:48<15:31, 16.07s/it]"
     ]
    },
    {
     "name": "stdout",
     "output_type": "stream",
     "text": [
      "LeDock Docking finished\n",
      "Have been converted to mol2 file! /home/haotian/Molecule_Generation/Flexible-docking/data/esmfold_time_split/6qlp/6qlp_ligand.sdf\n"
     ]
    },
    {
     "name": "stderr",
     "output_type": "stream",
     "text": [
      " 84%|████████▍ | 296/353 [1:17:59<13:47, 14.51s/it]"
     ]
    },
    {
     "name": "stdout",
     "output_type": "stream",
     "text": [
      "LeDock Docking finished\n",
      "Have been converted to mol2 file! /home/haotian/Molecule_Generation/Flexible-docking/data/esmfold_time_split/6e13/6e13_ligand.sdf\n"
     ]
    },
    {
     "name": "stderr",
     "output_type": "stream",
     "text": [
      " 84%|████████▍ | 297/353 [1:18:09<12:28, 13.37s/it]"
     ]
    },
    {
     "name": "stdout",
     "output_type": "stream",
     "text": [
      "LeDock Docking finished\n"
     ]
    },
    {
     "name": "stderr",
     "output_type": "stream",
     "text": [
      "RDKit ERROR: Pre-condition Violation\n",
      "RDKit ERROR: \n",
      "RDKit ERROR: Violation occurred on line 60 in file /home/conda/feedstock_root/build_artifacts/rdkit_1614687251479/work/Code/GraphMol/Conformer.cpp\n",
      "RDKit ERROR: Failed Expression: dp_mol->getNumAtoms() == d_positions.size()\n",
      "RDKit ERROR: ****\n",
      "RDKit ERROR: \n",
      "RDKit ERROR: [12:40:23] \n",
      "RDKit ERROR: \n",
      "RDKit ERROR: ****\n",
      "RDKit ERROR: Pre-condition Violation\n",
      "RDKit ERROR: \n",
      "RDKit ERROR: Violation occurred on line 60 in file /home/conda/feedstock_root/build_artifacts/rdkit_1614687251479/work/Code/GraphMol/Conformer.cpp\n",
      "RDKit ERROR: Failed Expression: dp_mol->getNumAtoms() == d_positions.size()\n",
      "RDKit ERROR: ****\n",
      "RDKit ERROR: \n",
      "RDKit ERROR: [12:43:21] \n",
      "RDKit ERROR: \n",
      "RDKit ERROR: ****\n",
      "RDKit ERROR: Pre-condition Violation\n",
      "RDKit ERROR: \n",
      "RDKit ERROR: Violation occurred on line 60 in file /home/conda/feedstock_root/build_artifacts/rdkit_1614687251479/work/Code/GraphMol/Conformer.cpp\n",
      "RDKit ERROR: Failed Expression: dp_mol->getNumAtoms() == d_positions.size()\n",
      "RDKit ERROR: ****\n",
      "RDKit ERROR: \n",
      "RDKit ERROR: [12:43:21] \n",
      "RDKit ERROR: \n",
      "RDKit ERROR: ****\n",
      "RDKit ERROR: Pre-condition Violation\n",
      "RDKit ERROR: \n",
      "RDKit ERROR: Violation occurred on line 60 in file /home/conda/feedstock_root/build_artifacts/rdkit_1614687251479/work/Code/GraphMol/Conformer.cpp\n",
      "RDKit ERROR: Failed Expression: dp_mol->getNumAtoms() == d_positions.size()\n",
      "RDKit ERROR: ****\n",
      "RDKit ERROR: \n",
      "RDKit ERROR: [12:43:36] \n",
      "RDKit ERROR: \n",
      "RDKit ERROR: ****\n",
      "RDKit ERROR: Pre-condition Violation\n",
      "RDKit ERROR: \n",
      "RDKit ERROR: Violation occurred on line 60 in file /home/conda/feedstock_root/build_artifacts/rdkit_1614687251479/work/Code/GraphMol/Conformer.cpp\n",
      "RDKit ERROR: Failed Expression: dp_mol->getNumAtoms() == d_positions.size()\n",
      "RDKit ERROR: ****\n",
      "RDKit ERROR: \n",
      "RDKit ERROR: [12:43:36] \n",
      "RDKit ERROR: \n",
      "RDKit ERROR: ****\n",
      "RDKit ERROR: Pre-condition Violation\n",
      "RDKit ERROR: \n",
      "RDKit ERROR: Violation occurred on line 60 in file /home/conda/feedstock_root/build_artifacts/rdkit_1614687251479/work/Code/GraphMol/Conformer.cpp\n",
      "RDKit ERROR: Failed Expression: dp_mol->getNumAtoms() == d_positions.size()\n",
      "RDKit ERROR: ****\n",
      "RDKit ERROR: \n",
      "RDKit ERROR: [12:43:36] \n",
      "RDKit ERROR: \n",
      "RDKit ERROR: ****\n",
      "RDKit ERROR: Pre-condition Violation\n",
      "RDKit ERROR: \n",
      "RDKit ERROR: Violation occurred on line 60 in file /home/conda/feedstock_root/build_artifacts/rdkit_1614687251479/work/Code/GraphMol/Conformer.cpp\n",
      "RDKit ERROR: Failed Expression: dp_mol->getNumAtoms() == d_positions.size()\n",
      "RDKit ERROR: ****\n",
      "RDKit ERROR: \n",
      "RDKit ERROR: [12:43:36] \n",
      "RDKit ERROR: \n",
      "RDKit ERROR: ****\n",
      "RDKit ERROR: Pre-condition Violation\n",
      "RDKit ERROR: \n",
      "RDKit ERROR: Violation occurred on line 60 in file /home/conda/feedstock_root/build_artifacts/rdkit_1614687251479/work/Code/GraphMol/Conformer.cpp\n",
      "RDKit ERROR: Failed Expression: dp_mol->getNumAtoms() == d_positions.size()\n",
      "RDKit ERROR: ****\n",
      "RDKit ERROR: \n",
      "RDKit ERROR: [12:43:36] \n",
      "RDKit ERROR: \n",
      "RDKit ERROR: ****\n",
      "RDKit ERROR: Pre-condition Violation\n",
      "RDKit ERROR: \n",
      "RDKit ERROR: Violation occurred on line 60 in file /home/conda/feedstock_root/build_artifacts/rdkit_1614687251479/work/Code/GraphMol/Conformer.cpp\n",
      "RDKit ERROR: Failed Expression: dp_mol->getNumAtoms() == d_positions.size()\n",
      "RDKit ERROR: ****\n",
      "RDKit ERROR: \n",
      "RDKit ERROR: [12:43:36] \n",
      "RDKit ERROR: \n",
      "RDKit ERROR: ****\n",
      "RDKit ERROR: Pre-condition Violation\n",
      "RDKit ERROR: \n",
      "RDKit ERROR: Violation occurred on line 60 in file /home/conda/feedstock_root/build_artifacts/rdkit_1614687251479/work/Code/GraphMol/Conformer.cpp\n",
      "RDKit ERROR: Failed Expression: dp_mol->getNumAtoms() == d_positions.size()\n",
      "RDKit ERROR: ****\n",
      "RDKit ERROR: \n",
      "RDKit ERROR: [12:43:36] \n",
      "RDKit ERROR: \n",
      "RDKit ERROR: ****\n",
      "RDKit ERROR: Pre-condition Violation\n",
      "RDKit ERROR: \n",
      "RDKit ERROR: Violation occurred on line 60 in file /home/conda/feedstock_root/build_artifacts/rdkit_1614687251479/work/Code/GraphMol/Conformer.cpp\n",
      "RDKit ERROR: Failed Expression: dp_mol->getNumAtoms() == d_positions.size()\n",
      "RDKit ERROR: ****\n",
      "RDKit ERROR: \n",
      "RDKit ERROR: [12:43:36] \n",
      "RDKit ERROR: \n",
      "RDKit ERROR: ****\n",
      "RDKit ERROR: Pre-condition Violation\n",
      "RDKit ERROR: \n",
      "RDKit ERROR: Violation occurred on line 60 in file /home/conda/feedstock_root/build_artifacts/rdkit_1614687251479/work/Code/GraphMol/Conformer.cpp\n",
      "RDKit ERROR: Failed Expression: dp_mol->getNumAtoms() == d_positions.size()\n",
      "RDKit ERROR: ****\n",
      "RDKit ERROR: \n",
      "RDKit ERROR: [12:43:36] \n",
      "RDKit ERROR: \n",
      "RDKit ERROR: ****\n",
      "RDKit ERROR: Pre-condition Violation\n",
      "RDKit ERROR: \n",
      "RDKit ERROR: Violation occurred on line 60 in file /home/conda/feedstock_root/build_artifacts/rdkit_1614687251479/work/Code/GraphMol/Conformer.cpp\n",
      "RDKit ERROR: Failed Expression: dp_mol->getNumAtoms() == d_positions.size()\n",
      "RDKit ERROR: ****\n",
      "RDKit ERROR: \n",
      "RDKit ERROR: [12:43:36] \n",
      "RDKit ERROR: \n",
      "RDKit ERROR: ****\n",
      "RDKit ERROR: Pre-condition Violation\n",
      "RDKit ERROR: \n",
      "RDKit ERROR: Violation occurred on line 60 in file /home/conda/feedstock_root/build_artifacts/rdkit_1614687251479/work/Code/GraphMol/Conformer.cpp\n",
      "RDKit ERROR: Failed Expression: dp_mol->getNumAtoms() == d_positions.size()\n",
      "RDKit ERROR: ****\n",
      "RDKit ERROR: \n",
      "RDKit ERROR: [12:51:26] \n",
      "RDKit ERROR: \n",
      "RDKit ERROR: ****\n",
      "RDKit ERROR: Pre-condition Violation\n",
      "RDKit ERROR: \n",
      "RDKit ERROR: Violation occurred on line 60 in file /home/conda/feedstock_root/build_artifacts/rdkit_1614687251479/work/Code/GraphMol/Conformer.cpp\n",
      "RDKit ERROR: Failed Expression: dp_mol->getNumAtoms() == d_positions.size()\n",
      "RDKit ERROR: ****\n",
      "RDKit ERROR: \n",
      "RDKit ERROR: [12:51:26] \n",
      "RDKit ERROR: \n",
      "RDKit ERROR: ****\n",
      "RDKit ERROR: Pre-condition Violation\n",
      "RDKit ERROR: \n",
      "RDKit ERROR: Violation occurred on line 60 in file /home/conda/feedstock_root/build_artifacts/rdkit_1614687251479/work/Code/GraphMol/Conformer.cpp\n",
      "RDKit ERROR: Failed Expression: dp_mol->getNumAtoms() == d_positions.size()\n",
      "RDKit ERROR: ****\n",
      "RDKit ERROR: \n",
      "RDKit ERROR: [12:51:26] \n",
      "RDKit ERROR: \n",
      "RDKit ERROR: ****\n",
      "RDKit ERROR: Pre-condition Violation\n",
      "RDKit ERROR: \n",
      "RDKit ERROR: Violation occurred on line 60 in file /home/conda/feedstock_root/build_artifacts/rdkit_1614687251479/work/Code/GraphMol/Conformer.cpp\n",
      "ion Violation\n",
      "\n",
      "Violation occurred on line 60 in file /home/conda/feedstock_root/build_artifacts/rdkit_1614687251479/work/Code/GraphMol/Conformer.cpp\n",
      "Failed Expression: dp_mol->getNumAtoms() == d_positions.size()\n",
      "****\n",
      "\n",
      "[12:40:23] \n",
      "\n",
      "****\n",
      "Pre-condition Violation\n",
      "\n",
      "Violation occurred on line 60 in file /home/conda/feedstock_root/build_artifacts/rdkit_1614687251479/work/Code/GraphMol/Conformer.cpp\n",
      "Failed Expression: dp_mol->getNumAtoms() == d_positions.size()\n",
      "****\n",
      "\n",
      "[12:43:21] \n",
      "\n",
      "****\n",
      "Pre-condition Violation\n",
      "\n",
      "Violation occurred on line 60 in file /home/conda/feedstock_root/build_artifacts/rdkit_1614687251479/work/Code/GraphMol/Conformer.cpp\n",
      "Failed Expression: dp_mol->getNumAtoms() == d_positions.size()\n",
      "****\n",
      "\n",
      "[12:43:21] \n",
      "\n",
      "****\n",
      "Pre-condition Violation\n",
      "\n",
      "Violation occurred on line 60 in file /home/conda/feedstock_root/build_artifacts/rdkit_1614687251479/work/Code/GraphMol/Conformer.cpp\n",
      "Failed Expression: dp_mol->getNumAtoms() == d_positions.size()\n",
      "****\n",
      "\n",
      "[12:43:36] \n",
      "\n",
      "****\n",
      "Pre-condition Violation\n",
      "\n",
      " 84%|████████▍ | 298/353 [1:18:19<11:05, 12.09s/it]iolation occurred on line 60 in file /home/conda/feedstock_root/build_artifacts/rdkit_1614687251479/work/Code/GraphMol/Conformer.cpp\n",
      "Failed Expression: dp_mol->getNumAtoms() == d_positions.size()\n",
      "****\n",
      "\n",
      "[12:43:36] \n",
      "\n",
      "****\n",
      "Pre-condition Violation\n",
      "\n",
      "Violation occurred on line 60 in file /home/conda/feedstock_root/build_artifacts/rdkit_1614687251479/work/Code/GraphMol/Conformer.cpp\n",
      "Failed Expression: dp_mol->getNumAtoms() == d_positions.size()\n",
      "****\n",
      "\n",
      "[12:43:36] \n",
      "\n",
      "****\n",
      "Pre-condition Violation\n",
      "\n",
      "Violation occurred on line 60 in file /home/conda/feedstock_root/build_artifacts/rdkit_1614687251479/work/Code/GraphMol/Conformer.cpp\n",
      "Failed Expression: dp_mol->getNumAtoms() == d_positions.size()\n",
      "****\n",
      "\n",
      "[12:43:36] \n",
      "\n",
      "****\n",
      "Pre-condition Violation\n",
      "\n",
      "Violation occurred on line 60 in file /home/conda/feedstock_root/build_artifacts/rdkit_1614687251479/work/Code/GraphMol/Conformer.cpp\n",
      "Failed Expression: dp_mol->getNumAtoms() == d_positions.size()\n",
      "****\n",
      "\n",
      "[12:43:36] \n",
      "\n",
      "****\n",
      "Pre-condition Violation\n",
      "\n",
      "Violation occurre"
     ]
    },
    {
     "name": "stdout",
     "output_type": "stream",
     "text": [
      "LeDock Docking finished\n",
      "Have been converted to mol2 file! /home/haotian/Molecule_Generation/Flexible-docking/data/esmfold_time_split/6oin/6oin_ligand.sdf\n"
     ]
    },
    {
     "name": "stderr",
     "output_type": "stream",
     "text": [
      "d on line 60 in file /home/conda/feedstock_root/build_artifacts/rdkit_1614687251479/work/Code/GraphMol/Conformer.cpp\n",
      "Failed Expression: dp_mol->getNumAtoms() == d_positions.size()\n",
      "****\n",
      "\n",
      "[12:43:36] \n",
      "\n",
      "****\n",
      "Pre-condition Violation\n",
      "\n",
      "Violation occurred on line 60 in file /home/conda/feedstock_root/build_artifacts/rdkit_1614687251479/work/Code/GraphMol/Conformer.cpp\n",
      "Failed Expression: dp_mol->getNumAtoms() == d_positions.size()\n",
      "****\n",
      "\n",
      "[12:43:36] \n",
      "\n",
      "****\n",
      "Pre-condition Violation\n",
      "\n",
      "Violation occurred on line 60 in file /home/conda/feedstock_root/build_artifacts/rdkit_1614687251479/work/Code/GraphMol/Conformer.cpp\n",
      "Failed Expression: dp_mol->getNumAtoms() == d_positions.size()\n",
      "****\n",
      "\n",
      "[12:43:36] \n",
      "\n",
      "****\n",
      "Pre-condition Violation\n",
      "\n",
      "Violation occurred on line 60 in file /home/conda/feedstock_root/build_artifacts/rdkit_1614687251479/work/Code/GraphMol/Conformer.cpp\n",
      "Failed Expression: dp_mol->getNumAtoms() == d_positions.size()\n",
      "****\n",
      "\n",
      "[12:43:36] \n",
      "\n",
      "****\n",
      "Pre-condition Violation\n",
      "\n",
      "Violation occurred on line 60 in file /home/conda/feedstock_root/build_artifacts/rdkit_1614687251479/work/Code/GraphMol/Conformer.cpp\n",
      "Failed Expression: dp_mol->getNumAtoms() == d_positions.size()\n",
      "****\n",
      "\n",
      "[12:43:36] \n",
      "\n",
      "****\n",
      "Pre-condition Violation\n",
      "\n",
      "Violation occurred on line 60 in file /home/conda/feedstock_root/build_artifacts/rdkit_1614687251479/work/Code/GraphMol/Conformer.cpp\n",
      "Failed Expression: dp_mol->getNumAtoms() == d_positions.size()\n",
      "****\n",
      "\n",
      "[12:51:26] \n",
      "\n",
      "****\n",
      "Pre-condition Violation\n",
      "\n",
      "Violation occurred on line 60 in file /home/conda/feedstock_root/build_artifacts/rdkit_1614687251479/work/Code/GraphMol/Conformer.cpp\n",
      "Failed Expression: dp_mol->getNumAtoms() == d_positions.size()\n",
      "****\n",
      "\n",
      "[12:51:26] \n",
      "\n",
      "****\n",
      "Pre-condition Violation\n",
      "\n",
      "Violation occurred on line 60 in file /home/conda/feedstock_root/build_artifacts/rdkit_1614687251479/work/Code/GraphMol/Conformer.cpp\n",
      "Failed Expression: dp_mol->getNumAtoms() == d_positions.size()\n",
      "****\n",
      "\n",
      "[12:51:26] \n",
      "\n",
      "****\n",
      "Pre-condition Violation\n",
      "\n",
      "Violation occurred on line 60 in file /home/conda/feedstock_root/build_artifacts/rdkit_1614687251479/work/Code/GraphMol/Conformer.cpp\n",
      " 85%|████████▍ | 299/353 [1:18:27<10:01, 11.14s/it]"
     ]
    },
    {
     "name": "stdout",
     "output_type": "stream",
     "text": [
      "LeDock Docking finished\n",
      "Have been converted to mol2 file! /home/haotian/Molecule_Generation/Flexible-docking/data/esmfold_time_split/6ufo/6ufo_ligand.sdf\n"
     ]
    },
    {
     "name": "stderr",
     "output_type": "stream",
     "text": [
      " 85%|████████▍ | 300/353 [1:18:37<09:27, 10.71s/it]"
     ]
    },
    {
     "name": "stdout",
     "output_type": "stream",
     "text": [
      "LeDock Docking finished\n",
      "Have been converted to mol2 file! /home/haotian/Molecule_Generation/Flexible-docking/data/esmfold_time_split/6oim/6oim_ligand.sdf\n"
     ]
    },
    {
     "name": "stderr",
     "output_type": "stream",
     "text": [
      " 85%|████████▌ | 301/353 [1:18:49<09:30, 10.98s/it]"
     ]
    },
    {
     "name": "stdout",
     "output_type": "stream",
     "text": [
      "LeDock Docking finished\n",
      "Have been converted to mol2 file! /home/haotian/Molecule_Generation/Flexible-docking/data/esmfold_time_split/6cjj/6cjj_ligand.sdf\n"
     ]
    },
    {
     "name": "stderr",
     "output_type": "stream",
     "text": [
      " 86%|████████▌ | 302/353 [1:18:59<09:14, 10.87s/it]"
     ]
    },
    {
     "name": "stdout",
     "output_type": "stream",
     "text": [
      "LeDock Docking finished\n",
      "Have been converted to mol2 file! /home/haotian/Molecule_Generation/Flexible-docking/data/esmfold_time_split/6oxt/6oxt_ligand.sdf\n"
     ]
    },
    {
     "name": "stderr",
     "output_type": "stream",
     "text": [
      " 86%|████████▌ | 303/353 [1:19:18<11:02, 13.25s/it]"
     ]
    },
    {
     "name": "stdout",
     "output_type": "stream",
     "text": [
      "LeDock Docking finished\n",
      "Have been converted to mol2 file! /home/haotian/Molecule_Generation/Flexible-docking/data/esmfold_time_split/6gga/6gga_ligand.sdf\n"
     ]
    },
    {
     "name": "stderr",
     "output_type": "stream",
     "text": [
      " 86%|████████▌ | 304/353 [1:19:24<08:58, 10.99s/it]"
     ]
    },
    {
     "name": "stdout",
     "output_type": "stream",
     "text": [
      "LeDock Docking finished\n",
      "Have been converted to mol2 file! /home/haotian/Molecule_Generation/Flexible-docking/data/esmfold_time_split/6cf7/6cf7_ligand.sdf\n"
     ]
    },
    {
     "name": "stderr",
     "output_type": "stream",
     "text": [
      " 86%|████████▋ | 305/353 [1:19:38<09:29, 11.87s/it]"
     ]
    },
    {
     "name": "stdout",
     "output_type": "stream",
     "text": [
      "LeDock Docking finished\n",
      "Have been converted to mol2 file! /home/haotian/Molecule_Generation/Flexible-docking/data/esmfold_time_split/6g2o/6g2o_ligand.sdf\n"
     ]
    },
    {
     "name": "stderr",
     "output_type": "stream",
     "text": [
      " 87%|████████▋ | 306/353 [1:19:46<08:29, 10.84s/it]"
     ]
    },
    {
     "name": "stdout",
     "output_type": "stream",
     "text": [
      "LeDock Docking finished\n",
      "Have been converted to mol2 file! /home/haotian/Molecule_Generation/Flexible-docking/data/esmfold_time_split/6jan/6jan_ligand.sdf\n"
     ]
    },
    {
     "name": "stderr",
     "output_type": "stream",
     "text": [
      " 87%|████████▋ | 307/353 [1:19:54<07:39,  9.99s/it]"
     ]
    },
    {
     "name": "stdout",
     "output_type": "stream",
     "text": [
      "LeDock Docking finished\n",
      "Have been converted to mol2 file! /home/haotian/Molecule_Generation/Flexible-docking/data/esmfold_time_split/6kjd/6kjd_ligand.sdf\n"
     ]
    },
    {
     "name": "stderr",
     "output_type": "stream",
     "text": [
      " 87%|████████▋ | 308/353 [1:20:08<08:24, 11.22s/it]"
     ]
    },
    {
     "name": "stdout",
     "output_type": "stream",
     "text": [
      "LeDock Docking finished\n",
      "Have been converted to mol2 file! /home/haotian/Molecule_Generation/Flexible-docking/data/esmfold_time_split/6pz4/6pz4_ligand.sdf\n"
     ]
    },
    {
     "name": "stderr",
     "output_type": "stream",
     "text": [
      " 88%|████████▊ | 309/353 [1:20:20<08:25, 11.48s/it]"
     ]
    },
    {
     "name": "stdout",
     "output_type": "stream",
     "text": [
      "LeDock Docking finished\n"
     ]
    },
    {
     "name": "stderr",
     "output_type": "stream",
     "text": [
      " 88%|████████▊ | 310/353 [1:20:34<08:38, 12.06s/it]"
     ]
    },
    {
     "name": "stdout",
     "output_type": "stream",
     "text": [
      "LeDock Docking finished\n",
      "Have been converted to mol2 file! /home/haotian/Molecule_Generation/Flexible-docking/data/esmfold_time_split/6h13/6h13_ligand.sdf\n"
     ]
    },
    {
     "name": "stderr",
     "output_type": "stream",
     "text": [
      " 88%|████████▊ | 311/353 [1:20:57<10:46, 15.40s/it]"
     ]
    },
    {
     "name": "stdout",
     "output_type": "stream",
     "text": [
      "LeDock Docking finished\n"
     ]
    },
    {
     "name": "stderr",
     "output_type": "stream",
     "text": [
      "RDKit ERROR: Failed Expression: dp_mol->getNumAtoms() == d_positions.size()\n",
      "RDKit ERROR: ****\n",
      "RDKit ERROR: \n",
      "RDKit ERROR: [12:53:41] \n",
      "RDKit ERROR: \n",
      "RDKit ERROR: ****\n",
      "RDKit ERROR: Pre-condition Violation\n",
      "RDKit ERROR: \n",
      "RDKit ERROR: Violation occurred on line 60 in file /home/conda/feedstock_root/build_artifacts/rdkit_1614687251479/work/Code/GraphMol/Conformer.cpp\n",
      "RDKit ERROR: Failed Expression: dp_mol->getNumAtoms() == d_positions.size()\n",
      "RDKit ERROR: ****\n",
      "RDKit ERROR: \n",
      "RDKit ERROR: [12:53:41] \n",
      "RDKit ERROR: \n",
      "RDKit ERROR: ****\n",
      "RDKit ERROR: Pre-condition Violation\n",
      "RDKit ERROR: \n",
      "RDKit ERROR: Violation occurred on line 60 in file /home/conda/feedstock_root/build_artifacts/rdkit_1614687251479/work/Code/GraphMol/Conformer.cpp\n",
      "RDKit ERROR: Failed Expression: dp_mol->getNumAtoms() == d_positions.size()\n",
      "RDKit ERROR: ****\n",
      "RDKit ERROR: \n",
      "RDKit ERROR: [12:53:41] \n",
      "RDKit ERROR: \n",
      "RDKit ERROR: ****\n",
      "RDKit ERROR: Pre-condition Violation\n",
      "RDKit ERROR: \n",
      "RDKit ERROR: Violation occurred on line 60 in file /home/conda/feedstock_root/build_artifacts/rdkit_1614687251479/work/Code/GraphMol/Conformer.cpp\n",
      "RDKit ERROR: Failed Expression: dp_mol->getNumAtoms() == d_positions.size()\n",
      "RDKit ERROR: ****\n",
      "RDKit ERROR: \n",
      "RDKit ERROR: [12:53:41] \n",
      "RDKit ERROR: \n",
      "RDKit ERROR: ****\n",
      "RDKit ERROR: Pre-condition Violation\n",
      "RDKit ERROR: \n",
      "RDKit ERROR: Violation occurred on line 60 in file /home/conda/feedstock_root/build_artifacts/rdkit_1614687251479/work/Code/GraphMol/Conformer.cpp\n",
      "RDKit ERROR: Failed Expression: dp_mol->getNumAtoms() == d_positions.size()\n",
      "RDKit ERROR: ****\n",
      "RDKit ERROR: \n",
      "RDKit ERROR: [12:53:41] \n",
      "RDKit ERROR: \n",
      "RDKit ERROR: ****\n",
      "RDKit ERROR: Pre-condition Violation\n",
      "RDKit ERROR: \n",
      "RDKit ERROR: Violation occurred on line 60 in file /home/conda/feedstock_root/build_artifacts/rdkit_1614687251479/work/Code/GraphMol/Conformer.cpp\n",
      "RDKit ERROR: Failed Expression: dp_mol->getNumAtoms() == d_positions.size()\n",
      "RDKit ERROR: ****\n",
      "RDKit ERROR: \n",
      "RDKit ERROR: [12:53:41] \n",
      "RDKit ERROR: \n",
      "RDKit ERROR: ****\n",
      "RDKit ERROR: Pre-condition Violation\n",
      "RDKit ERROR: \n",
      "RDKit ERROR: Violation occurred on line 60 in file /home/conda/feedstock_root/build_artifacts/rdkit_1614687251479/work/Code/GraphMol/Conformer.cpp\n",
      "RDKit ERROR: Failed Expression: dp_mol->getNumAtoms() == d_positions.size()\n",
      "RDKit ERROR: ****\n",
      "RDKit ERROR: \n",
      "RDKit ERROR: [12:53:41] \n",
      "RDKit ERROR: \n",
      "RDKit ERROR: ****\n",
      "RDKit ERROR: Pre-condition Violation\n",
      "RDKit ERROR: \n",
      "RDKit ERROR: Violation occurred on line 60 in file /home/conda/feedstock_root/build_artifacts/rdkit_1614687251479/work/Code/GraphMol/Conformer.cpp\n",
      "RDKit ERROR: Failed Expression: dp_mol->getNumAtoms() == d_positions.size()\n",
      "RDKit ERROR: ****\n",
      "RDKit ERROR: \n",
      "RDKit ERROR: [12:53:41] \n",
      "RDKit ERROR: \n",
      "RDKit ERROR: ****\n",
      "RDKit ERROR: Pre-condition Violation\n",
      "RDKit ERROR: \n",
      "RDKit ERROR: Violation occurred on line 60 in file /home/conda/feedstock_root/build_artifacts/rdkit_1614687251479/work/Code/GraphMol/Conformer.cpp\n",
      "RDKit ERROR: Failed Expression: dp_mol->getNumAtoms() == d_positions.size()\n",
      "RDKit ERROR: ****\n",
      "RDKit ERROR: \n",
      "RDKit ERROR: [12:54:33] \n",
      "RDKit ERROR: \n",
      "RDKit ERROR: ****\n",
      "RDKit ERROR: Pre-condition Violation\n",
      "RDKit ERROR: \n",
      "RDKit ERROR: Violation occurred on line 60 in file /home/conda/feedstock_root/build_artifacts/rdkit_1614687251479/work/Code/GraphMol/Conformer.cpp\n",
      "RDKit ERROR: Failed Expression: dp_mol->getNumAtoms() == d_positions.size()\n",
      "RDKit ERROR: ****\n",
      "RDKit ERROR: \n",
      "RDKit ERROR: [12:54:33] \n",
      "RDKit ERROR: \n",
      "RDKit ERROR: ****\n",
      "RDKit ERROR: Pre-condition Violation\n",
      "RDKit ERROR: \n",
      "RDKit ERROR: Violation occurred on line 60 in file /home/conda/feedstock_root/build_artifacts/rdkit_1614687251479/work/Code/GraphMol/Conformer.cpp\n",
      "RDKit ERROR: Failed Expression: dp_mol->getNumAtoms() == d_positions.size()\n",
      "RDKit ERROR: ****\n",
      "RDKit ERROR: \n",
      "RDKit ERROR: [12:54:33] \n",
      "RDKit ERROR: \n",
      "RDKit ERROR: ****\n",
      "RDKit ERROR: Pre-condition Violation\n",
      "RDKit ERROR: \n",
      "RDKit ERROR: Violation occurred on line 60 in file /home/conda/feedstock_root/build_artifacts/rdkit_1614687251479/work/Code/GraphMol/Conformer.cpp\n",
      "RDKit ERROR: Failed Expression: dp_mol->getNumAtoms() == d_positions.size()\n",
      "RDKit ERROR: ****\n",
      "RDKit ERROR: \n",
      "RDKit ERROR: [12:54:33] \n",
      "RDKit ERROR: \n",
      "RDKit ERROR: ****\n",
      "RDKit ERROR: Pre-condition Violation\n",
      "RDKit ERROR: \n",
      "RDKit ERROR: Violation occurred on line 60 in file /home/conda/feedstock_root/build_artifacts/rdkit_1614687251479/work/Code/GraphMol/Conformer.cpp\n",
      "RDKit ERROR: Failed Expression: dp_mol->getNumAtoms() == d_positions.size()\n",
      "RDKit ERROR: ****\n",
      "RDKit ERROR: \n",
      "RDKit ERROR: [12:54:33] \n",
      "RDKit ERROR: \n",
      "RDKit ERROR: ****\n",
      "RDKit ERROR: Pre-condition Violation\n",
      "RDKit ERROR: \n",
      "RDKit ERROR: Violation occurred on line 60 in file /home/conda/feedstock_root/build_artifacts/rdkit_1614687251479/work/Code/GraphMol/Conformer.cpp\n",
      "RDKit ERROR: Failed Expression: dp_mol->getNumAtoms() == d_positions.size()\n",
      "RDKit ERROR: ****\n",
      "RDKit ERROR: \n",
      "RDKit ERROR: [12:54:33] \n",
      "RDKit ERROR: \n",
      "RDKit ERROR: ****\n",
      "RDKit ERROR: Pre-condition Violation\n",
      "RDKit ERROR: \n",
      "RDKit ERROR: Violation occurred on line 60 in file /home/conda/feedstock_root/build_artifacts/rdkit_1614687251479/work/Code/GraphMol/Conformer.cpp\n",
      "RDKit ERROR: Failed Expression: dp_mol->getNumAtoms() == d_positions.size()\n",
      "RDKit ERROR: ****\n",
      "RDKit ERROR: \n",
      "RDKit ERROR: [12:54:33] \n",
      "RDKit ERROR: \n",
      "RDKit ERROR: ****\n",
      "RDKit ERROR: Pre-condition Violation\n",
      "RDKit ERROR: \n",
      "RDKit ERROR: Violation occurred on line 60 in file /home/conda/feedstock_root/build_artifacts/rdkit_1614687251479/work/Code/GraphMol/Conformer.cpp\n",
      "RDKit ERROR: Failed Expression: dp_mol->getNumAtoms() == d_positions.size()\n",
      "RDKit ERROR: ****\n",
      "RDKit ERROR: \n",
      "RDKit ERROR: [12:54:33] \n",
      "RDKit ERROR: \n",
      "RDKit ERROR: ****\n",
      "RDKit ERROR: Pre-condition Violation\n",
      "RDKit ERROR: \n",
      "RDKit ERROR: Violation occurred on line 60 in file /home/conda/feedstock_root/build_artifacts/rdkit_1614687251479/work/Code/GraphMol/Conformer.cpp\n",
      "RDKit ERROR: Failed Expression: dp_mol->getNumAtoms() == d_positions.size()\n",
      "RDKit ERROR: ****\n",
      "RDKit ERROR: \n",
      "RDKit ERROR: [12:54:33] \n",
      "RDKit ERROR: \n",
      "RDKit ERROR: ****\n",
      "RDKit ERROR: Pre-condition Violation\n",
      "RDKit ERROR: \n",
      " 88%|████████▊ | 312/353 [1:21:26<13:12, 19.34s/it]ession: dp_mol->getNumAtoms() == d_positions.size()\n",
      "****\n",
      "\n",
      "[12:53:41] \n",
      "\n",
      "****\n",
      "Pre-condition Violation\n",
      "\n",
      "Violation occurred on line 60 in file /home/conda/feedstock_root/build_artifacts/rdkit_1614687251479/work/Code/GraphMol/Conformer.cpp\n",
      "Failed Expression: dp_mol->getNumAtoms() == d_positions.size()\n",
      "****\n",
      "\n",
      "[12:53:41] \n",
      "\n",
      "****\n",
      "Pre-condition Violation\n",
      "\n",
      "Violation occurred on line 60 in file /home/conda/feedstock_root/build_artifacts/rdkit_1614687251479/work/Code/GraphMol/Conformer.cpp\n",
      "Failed Expression: dp_mol->getNumAtoms() == d_positions.size()\n",
      "****\n",
      "\n",
      "[12:53:41] \n",
      "\n",
      "****\n",
      "Pre-condition Violation\n",
      "\n",
      "Violation occurred on line 60 in file /home/conda/feedstock_root/build_artifacts/rdkit_1614687251479/work/Code/GraphMol/Conformer.cpp\n",
      "Failed Expression: dp_mol->getNumAtoms() == d_positions.size()\n",
      "****\n",
      "\n",
      "[12:53:41] \n",
      "\n",
      "****\n",
      "Pre-condition Violation\n",
      "\n",
      "Violation occurred on line 60 in file /home/conda/feedstock_root/build_artifacts/rdkit_1614687251479/work/Code/GraphMol/Conformer.cpp\n",
      "Failed Expression: dp_mol->"
     ]
    },
    {
     "name": "stdout",
     "output_type": "stream",
     "text": [
      "LeDock Docking finished\n",
      "Have been converted to mol2 file! /home/haotian/Molecule_Generation/Flexible-docking/data/esmfold_time_split/6mhc/6mhc_ligand.sdf\n"
     ]
    },
    {
     "name": "stderr",
     "output_type": "stream",
     "text": [
      "getNumAtoms() == d_positions.size()\n",
      "****\n",
      "\n",
      "[12:53:41] \n",
      "\n",
      "****\n",
      "Pre-condition Violation\n",
      "\n",
      "Violation occurred on line 60 in file /home/conda/feedstock_root/build_artifacts/rdkit_1614687251479/work/Code/GraphMol/Conformer.cpp\n",
      "Failed Expression: dp_mol->getNumAtoms() == d_positions.size()\n",
      "****\n",
      "\n",
      "[12:53:41] \n",
      "\n",
      "****\n",
      "Pre-condition Violation\n",
      "\n",
      "Violation occurred on line 60 in file /home/conda/feedstock_root/build_artifacts/rdkit_1614687251479/work/Code/GraphMol/Conformer.cpp\n",
      "Failed Expression: dp_mol->getNumAtoms() == d_positions.size()\n",
      "****\n",
      "\n",
      "[12:53:41] \n",
      "\n",
      "****\n",
      "Pre-condition Violation\n",
      "\n",
      "Violation occurred on line 60 in file /home/conda/feedstock_root/build_artifacts/rdkit_1614687251479/work/Code/GraphMol/Conformer.cpp\n",
      "Failed Expression: dp_mol->getNumAtoms() == d_positions.size()\n",
      "****\n",
      "\n",
      "[12:53:41] \n",
      "\n",
      "****\n",
      "Pre-condition Violation\n",
      "\n",
      "Violation occurred on line 60 in file /home/conda/feedstock_root/build_artifacts/rdkit_1614687251479/work/Code/GraphMol/Conformer.cpp\n",
      "Failed Expression: dp_mol->getNumAtoms() == d_positions.size()\n",
      "****\n",
      "\n",
      "[12:54:33] \n",
      "\n",
      "****\n",
      "Pre-condition Violation\n",
      "\n",
      "Violation occurred on line 60 in file /home/conda/feedstock_root/build_artifacts/rdkit_1614687251479/work/Code/GraphMol/Conformer.cpp\n",
      "Failed Expression: dp_mol->getNumAtoms() == d_positions.size()\n",
      "****\n",
      "\n",
      "[12:54:33] \n",
      "\n",
      "****\n",
      "Pre-condition Violation\n",
      "\n",
      "Violation occurred on line 60 in file /home/conda/feedstock_root/build_artifacts/rdkit_1614687251479/work/Code/GraphMol/Conformer.cpp\n",
      "Failed Expression: dp_mol->getNumAtoms() == d_positions.size()\n",
      "****\n",
      "\n",
      "[12:54:33] \n",
      "\n",
      "****\n",
      "Pre-condition Violation\n",
      "\n",
      "Violation occurred on line 60 in file /home/conda/feedstock_root/build_artifacts/rdkit_1614687251479/work/Code/GraphMol/Conformer.cpp\n",
      "Failed Expression: dp_mol->getNumAtoms() == d_positions.size()\n",
      "****\n",
      "\n",
      "[12:54:33] \n",
      "\n",
      "****\n",
      "Pre-condition Violation\n",
      "\n",
      "Violation occurred on line 60 in file /home/conda/feedstock_root/build_artifacts/rdkit_1614687251479/work/Code/GraphMol/Conformer.cpp\n",
      "Failed Expression: dp_mol->getNumAtoms() == d_positions.size()\n",
      "****\n",
      "\n",
      "[12:54:33] \n",
      "\n",
      "****\n",
      "Pre-condition Violation\n",
      "\n",
      "Violation occurred on line 60 in file /home/conda/feedstock_root/build_artifacts/rdkit_1614687251479/work/Code/GraphMol/Conformer.cpp\n",
      "Failed Expression: dp_mol->getNumAtoms() == d_positions.size()\n",
      "****\n",
      "\n",
      "[12:54:33] \n",
      "\n",
      "****\n",
      "Pre-condition Violation\n",
      "\n",
      "Violation occurred on line 60 in file /home/conda/feedstock_root/build_artifacts/rdkit_1614687251479/work/Code/GraphMol/Conformer.cpp\n",
      "Failed Expression: dp_mol->getNumAtoms() == d_positions.size()\n",
      "****\n",
      "\n",
      "[12:54:33] \n",
      "\n",
      "****\n",
      "Pre-condition Violation\n",
      "\n",
      "Violation occurred on line 60 in file /home/conda/feedstock_root/build_artifacts/rdkit_1614687251479/work/Code/GraphMol/Conformer.cpp\n",
      "Failed Expression: dp_mol->getNumAtoms() == d_positions.size()\n",
      "****\n",
      "\n",
      "[12:54:33] \n",
      "\n",
      "****\n",
      "Pre-condition Violation\n",
      "\n",
      "Violation occurred on line 60 in file /home/conda/feedstock_root/build_artifacts/rdkit_1614687251479/work/Code/GraphMol/Conformer.cpp\n",
      "Failed Expression: dp_mol->getNumAtoms() == d_positions.size()\n",
      "****\n",
      "\n",
      "[12:54:33] \n",
      "\n",
      "****\n",
      "Pre-condition Violation\n",
      "\n",
      " 89%|████████▊ | 313/353 [1:21:32<10:22, 15.57s/it]eedstock"
     ]
    },
    {
     "name": "stdout",
     "output_type": "stream",
     "text": [
      "LeDock Docking finished\n"
     ]
    },
    {
     "name": "stderr",
     "output_type": "stream",
     "text": [
      " 89%|████████▉ | 314/353 [1:21:41<08:42, 13.39s/it]"
     ]
    },
    {
     "name": "stdout",
     "output_type": "stream",
     "text": [
      "LeDock Docking finished\n"
     ]
    },
    {
     "name": "stderr",
     "output_type": "stream",
     "text": [
      " 89%|████████▉ | 315/353 [1:22:41<17:20, 27.37s/it]"
     ]
    },
    {
     "name": "stdout",
     "output_type": "stream",
     "text": [
      "timeout\n",
      "Have been converted to mol2 file! /home/haotian/Molecule_Generation/Flexible-docking/data/esmfold_time_split/6jao/6jao_ligand.sdf\n"
     ]
    },
    {
     "name": "stderr",
     "output_type": "stream",
     "text": [
      " 90%|████████▉ | 316/353 [1:22:49<13:24, 21.75s/it]"
     ]
    },
    {
     "name": "stdout",
     "output_type": "stream",
     "text": [
      "LeDock Docking finished\n",
      "Have been converted to mol2 file! /home/haotian/Molecule_Generation/Flexible-docking/data/esmfold_time_split/6gge/6gge_ligand.sdf\n"
     ]
    },
    {
     "name": "stderr",
     "output_type": "stream",
     "text": [
      " 90%|████████▉ | 317/353 [1:22:56<10:25, 17.37s/it]"
     ]
    },
    {
     "name": "stdout",
     "output_type": "stream",
     "text": [
      "LeDock Docking finished\n",
      "Have been converted to mol2 file! /home/haotian/Molecule_Generation/Flexible-docking/data/esmfold_time_split/6quv/6quv_ligand.sdf\n"
     ]
    },
    {
     "name": "stderr",
     "output_type": "stream",
     "text": [
      " 90%|█████████ | 318/353 [1:23:04<08:26, 14.47s/it]"
     ]
    },
    {
     "name": "stdout",
     "output_type": "stream",
     "text": [
      "LeDock Docking finished\n"
     ]
    },
    {
     "name": "stderr",
     "output_type": "stream",
     "text": [
      "RDKit ERROR: Violation occurred on line 60 in file /home/conda/feedstock_root/build_artifacts/rdkit_1614687251479/work/Code/GraphMol/Conformer.cpp\n",
      "RDKit ERROR: Failed Expression: dp_mol->getNumAtoms() == d_positions.size()\n",
      "RDKit ERROR: ****\n",
      "RDKit ERROR: \n",
      "RDKit ERROR: [12:54:33] \n",
      "RDKit ERROR: \n",
      "RDKit ERROR: ****\n",
      "RDKit ERROR: Pre-condition Violation\n",
      "RDKit ERROR: \n",
      "RDKit ERROR: Violation occurred on line 60 in file /home/conda/feedstock_root/build_artifacts/rdkit_1614687251479/work/Code/GraphMol/Conformer.cpp\n",
      "RDKit ERROR: Failed Expression: dp_mol->getNumAtoms() == d_positions.size()\n",
      "RDKit ERROR: ****\n",
      "RDKit ERROR: \n",
      "RDKit ERROR: [12:54:48] \n",
      "RDKit ERROR: \n",
      "RDKit ERROR: ****\n",
      "RDKit ERROR: Pre-condition Violation\n",
      "RDKit ERROR: \n",
      "RDKit ERROR: Violation occurred on line 60 in file /home/conda/feedstock_root/build_artifacts/rdkit_1614687251479/work/Code/GraphMol/Conformer.cpp\n",
      "RDKit ERROR: Failed Expression: dp_mol->getNumAtoms() == d_positions.size()\n",
      "RDKit ERROR: ****\n",
      "RDKit ERROR: \n",
      "RDKit ERROR: [12:54:48] \n",
      "RDKit ERROR: \n",
      "RDKit ERROR: ****\n",
      "RDKit ERROR: Pre-condition Violation\n",
      "RDKit ERROR: \n",
      "RDKit ERROR: Violation occurred on line 60 in file /home/conda/feedstock_root/build_artifacts/rdkit_1614687251479/work/Code/GraphMol/Conformer.cpp\n",
      "RDKit ERROR: Failed Expression: dp_mol->getNumAtoms() == d_positions.size()\n",
      "RDKit ERROR: ****\n",
      "RDKit ERROR: \n",
      "RDKit ERROR: [12:54:48] \n",
      "RDKit ERROR: \n",
      "RDKit ERROR: ****\n",
      "RDKit ERROR: Pre-condition Violation\n",
      "RDKit ERROR: \n",
      "RDKit ERROR: Violation occurred on line 60 in file /home/conda/feedstock_root/build_artifacts/rdkit_1614687251479/work/Code/GraphMol/Conformer.cpp\n",
      "RDKit ERROR: Failed Expression: dp_mol->getNumAtoms() == d_positions.size()\n",
      "RDKit ERROR: ****\n",
      "RDKit ERROR: \n",
      "RDKit ERROR: [12:54:48] \n",
      "RDKit ERROR: \n",
      "RDKit ERROR: ****\n",
      "RDKit ERROR: Pre-condition Violation\n",
      "RDKit ERROR: \n",
      "RDKit ERROR: Violation occurred on line 60 in file /home/conda/feedstock_root/build_artifacts/rdkit_1614687251479/work/Code/GraphMol/Conformer.cpp\n",
      "RDKit ERROR: Failed Expression: dp_mol->getNumAtoms() == d_positions.size()\n",
      "RDKit ERROR: ****\n",
      "RDKit ERROR: \n",
      "RDKit ERROR: [12:54:48] \n",
      "RDKit ERROR: \n",
      "RDKit ERROR: ****\n",
      "RDKit ERROR: Pre-condition Violation\n",
      "RDKit ERROR: \n",
      "RDKit ERROR: Violation occurred on line 60 in file /home/conda/feedstock_root/build_artifacts/rdkit_1614687251479/work/Code/GraphMol/Conformer.cpp\n",
      "RDKit ERROR: Failed Expression: dp_mol->getNumAtoms() == d_positions.size()\n",
      "RDKit ERROR: ****\n",
      "RDKit ERROR: \n",
      "RDKit ERROR: [12:54:48] \n",
      "RDKit ERROR: \n",
      "RDKit ERROR: ****\n",
      "RDKit ERROR: Pre-condition Violation\n",
      "RDKit ERROR: \n",
      "RDKit ERROR: Violation occurred on line 60 in file /home/conda/feedstock_root/build_artifacts/rdkit_1614687251479/work/Code/GraphMol/Conformer.cpp\n",
      "RDKit ERROR: Failed Expression: dp_mol->getNumAtoms() == d_positions.size()\n",
      "RDKit ERROR: ****\n",
      "RDKit ERROR: \n",
      "RDKit ERROR: [12:54:48] \n",
      "RDKit ERROR: \n",
      "RDKit ERROR: ****\n",
      "RDKit ERROR: Pre-condition Violation\n",
      "RDKit ERROR: \n",
      "RDKit ERROR: Violation occurred on line 60 in file /home/conda/feedstock_root/build_artifacts/rdkit_1614687251479/work/Code/GraphMol/Conformer.cpp\n",
      "RDKit ERROR: Failed Expression: dp_mol->getNumAtoms() == d_positions.size()\n",
      "RDKit ERROR: ****\n",
      "RDKit ERROR: \n",
      "RDKit ERROR: [12:54:48] \n",
      "RDKit ERROR: \n",
      "RDKit ERROR: ****\n",
      "RDKit ERROR: Pre-condition Violation\n",
      "RDKit ERROR: \n",
      "RDKit ERROR: Violation occurred on line 60 in file /home/conda/feedstock_root/build_artifacts/rdkit_1614687251479/work/Code/GraphMol/Conformer.cpp\n",
      "RDKit ERROR: Failed Expression: dp_mol->getNumAtoms() == d_positions.size()\n",
      "RDKit ERROR: ****\n",
      "RDKit ERROR: \n",
      "RDKit ERROR: [12:54:48] \n",
      "RDKit ERROR: \n",
      "RDKit ERROR: ****\n",
      "RDKit ERROR: Pre-condition Violation\n",
      "RDKit ERROR: \n",
      "RDKit ERROR: Violation occurred on line 60 in file /home/conda/feedstock_root/build_artifacts/rdkit_1614687251479/work/Code/GraphMol/Conformer.cpp\n",
      "RDKit ERROR: Failed Expression: dp_mol->getNumAtoms() == d_positions.size()\n",
      "RDKit ERROR: ****\n",
      "RDKit ERROR: \n",
      "RDKit ERROR: [12:56:27] \n",
      "RDKit ERROR: \n",
      "RDKit ERROR: ****\n",
      "RDKit ERROR: Pre-condition Violation\n",
      "RDKit ERROR: \n",
      "RDKit ERROR: Violation occurred on line 60 in file /home/conda/feedstock_root/build_artifacts/rdkit_1614687251479/work/Code/GraphMol/Conformer.cpp\n",
      "RDKit ERROR: Failed Expression: dp_mol->getNumAtoms() == d_positions.size()\n",
      "RDKit ERROR: ****\n",
      "RDKit ERROR: \n",
      "RDKit ERROR: [12:56:27] \n",
      "RDKit ERROR: \n",
      "RDKit ERROR: ****\n",
      "RDKit ERROR: Pre-condition Violation\n",
      "RDKit ERROR: \n",
      "RDKit ERROR: Violation occurred on line 60 in file /home/conda/feedstock_root/build_artifacts/rdkit_1614687251479/work/Code/GraphMol/Conformer.cpp\n",
      "RDKit ERROR: Failed Expression: dp_mol->getNumAtoms() == d_positions.size()\n",
      "RDKit ERROR: ****\n",
      "RDKit ERROR: \n",
      "RDKit ERROR: [12:56:27] \n",
      "RDKit ERROR: \n",
      "RDKit ERROR: ****\n",
      "RDKit ERROR: Pre-condition Violation\n",
      "RDKit ERROR: \n",
      "RDKit ERROR: Violation occurred on line 60 in file /home/conda/feedstock_root/build_artifacts/rdkit_1614687251479/work/Code/GraphMol/Conformer.cpp\n",
      "RDKit ERROR: Failed Expression: dp_mol->getNumAtoms() == d_positions.size()\n",
      "RDKit ERROR: ****\n",
      "RDKit ERROR: \n",
      "RDKit ERROR: [12:56:27] \n",
      "RDKit ERROR: \n",
      "RDKit ERROR: ****\n",
      "RDKit ERROR: Pre-condition Violation\n",
      "RDKit ERROR: \n",
      "RDKit ERROR: Violation occurred on line 60 in file /home/conda/feedstock_root/build_artifacts/rdkit_1614687251479/work/Code/GraphMol/Conformer.cpp\n",
      "RDKit ERROR: Failed Expression: dp_mol->getNumAtoms() == d_positions.size()\n",
      "RDKit ERROR: ****\n",
      "RDKit ERROR: \n",
      "RDKit ERROR: [12:56:27] \n",
      "RDKit ERROR: \n",
      "RDKit ERROR: ****\n",
      "RDKit ERROR: Pre-condition Violation\n",
      "RDKit ERROR: \n",
      "RDKit ERROR: Violation occurred on line 60 in file /home/conda/feedstock_root/build_artifacts/rdkit_1614687251479/work/Code/GraphMol/Conformer.cpp\n",
      "RDKit ERROR: Failed Expression: dp_mol->getNumAtoms() == d_positions.size()\n",
      "RDKit ERROR: ****\n",
      "RDKit ERROR: \n",
      "RDKit ERROR: [12:56:27] \n",
      "RDKit ERROR: \n",
      "RDKit ERROR: ****\n",
      "RDKit ERROR: Pre-condition Violation\n",
      "RDKit ERROR: \n",
      "RDKit ERROR: Violation occurred on line 60 in file /home/conda/feedstock_root/build_artifacts/rdkit_1614687251479/work/Code/GraphMol/Conformer.cpp\n",
      "RDKit ERROR: Failed Expression: dp_mol->getNumAtoms() == d_positions.size()\n",
      "RDKit ERROR: ****\n",
      "RDKit ERROR: \n",
      "RDKit ERROR: [12:56:27] \n",
      "RDKit ERROR: \n",
      " 90%|█████████ | 319/353 [1:23:20<08:28, 14.96s/it]"
     ]
    },
    {
     "name": "stdout",
     "output_type": "stream",
     "text": [
      "LeDock Docking finished\n",
      "Have been converted to mol2 file! /home/haotian/Molecule_Generation/Flexible-docking/data/esmfold_time_split/6nv7/6nv7_ligand.sdf\n"
     ]
    },
    {
     "name": "stderr",
     "output_type": "stream",
     "text": [
      "_root/build_artifacts/rdkit_1614687251479/work/Code/GraphMol/Conformer.cpp\n",
      "Failed Expression: dp_mol->getNumAtoms() == d_positions.size()\n",
      "****\n",
      "\n",
      "[12:54:33] \n",
      "\n",
      "****\n",
      "Pre-condition Violation\n",
      "\n",
      "Violation occurred on line 60 in file /home/conda/feedstock_root/build_artifacts/rdkit_1614687251479/work/Code/GraphMol/Conformer.cpp\n",
      "Failed Expression: dp_mol->getNumAtoms() == d_positions.size()\n",
      "****\n",
      "\n",
      "[12:54:48] \n",
      "\n",
      "****\n",
      "Pre-condition Violation\n",
      "\n",
      "Violation occurred on line 60 in file /home/conda/feedstock_root/build_artifacts/rdkit_1614687251479/work/Code/GraphMol/Conformer.cpp\n",
      "Failed Expression: dp_mol->getNumAtoms() == d_positions.size()\n",
      "****\n",
      "\n",
      "[12:54:48] \n",
      "\n",
      "****\n",
      "Pre-condition Violation\n",
      "\n",
      "Violation occurred on line 60 in file /home/conda/feedstock_root/build_artifacts/rdkit_1614687251479/work/Code/GraphMol/Conformer.cpp\n",
      "Failed Expression: dp_mol->getNumAtoms() == d_positions.size()\n",
      "****\n",
      "\n",
      "[12:54:48] \n",
      "\n",
      "****\n",
      "Pre-condition Violation\n",
      "\n",
      "Violation occurred on line 60 in file /home/conda/feedstock_root/build_artifacts/rdkit_1614687251479/work/Code/GraphMol/Conformer.cpp\n",
      "Failed Expression: dp_mol->getNumAtoms() == d_positions.size()\n",
      "****\n",
      "\n",
      "[12:54:48] \n",
      "\n",
      "****\n",
      "Pre-condition Violation\n",
      "\n",
      "Violation occurred on line 60 in file /home/conda/feedstock_root/build_artifacts/rdkit_1614687251479/work/Code/GraphMol/Conformer.cpp\n",
      "Failed Expression: dp_mol->getNumAtoms() == d_positions.size()\n",
      "****\n",
      "\n",
      "[12:54:48] \n",
      "\n",
      "****\n",
      "Pre-condition Violation\n",
      "\n",
      "Violation occurred on line 60 in file /home/conda/feedstock_root/build_artifacts/rdkit_1614687251479/work/Code/GraphMol/Conformer.cpp\n",
      "Failed Expression: dp_mol->getNumAtoms() == d_positions.size()\n",
      "****\n",
      "\n",
      "[12:54:48] \n",
      "\n",
      "****\n",
      "Pre-condition Violation\n",
      "\n",
      "Violation occurred on line 60 in file /home/conda/feedstock_root/build_artifacts/rdkit_1614687251479/work/Code/GraphMol/Conformer.cpp\n",
      "Failed Expression: dp_mol->getNumAtoms() == d_positions.size()\n",
      "****\n",
      "\n",
      "[12:54:48] \n",
      "\n",
      "****\n",
      "Pre-condition Violation\n",
      "\n",
      "Violation occurred on line 60 in file /home/conda/feedstock_root/build_artifacts/rdkit_1614687251479/work/Code/GraphMol/Conformer.cpp\n",
      "Failed Expression: dp_mol->getNumAtoms() == d_positions.size()\n",
      "****\n",
      "\n",
      "[12:54:48] \n",
      "\n",
      "****\n",
      "Pre-condition Violation\n",
      "\n",
      "Violation occurred on line 60 in file /home/conda/feedstock_root/build_artifacts/rdkit_1614687251479/work/Code/GraphMol/Conformer.cpp\n",
      "Failed Expression: dp_mol->getNumAtoms() == d_positions.size()\n",
      "****\n",
      "\n",
      "[12:54:48] \n",
      "\n",
      "****\n",
      "Pre-condition Violation\n",
      "\n",
      "Violation occurred on line 60 in file /home/conda/feedstock_root/build_artifacts/rdkit_1614687251479/work/Code/GraphMol/Conformer.cpp\n",
      "Failed Expression: dp_mol->getNumAtoms() == d_positions.size()\n",
      "****\n",
      "\n",
      "[12:56:27] \n",
      "\n",
      "****\n",
      "Pre-condition Violation\n",
      "\n",
      "Violation occurred on line 60 in file /home/conda/feedstock_root/build_artifacts/rdkit_1614687251479/work/Code/GraphMol/Conformer.cpp\n",
      "Failed Expression: dp_mol->getNumAtoms() == d_positions.size()\n",
      "****\n",
      "\n",
      "[12:56:27] \n",
      "\n",
      "****\n",
      "Pre-condition Violation\n",
      "\n",
      "Violation occurred on line 60 in file /home/conda/feedstock_root/build_artifacts/rdkit_1614687251479/work/Code/GraphMol/Conformer.cpp\n",
      "Failed Expression: dp_mol->getNumAtoms() == d_positions.size()\n",
      "****\n",
      "\n",
      "[12:56:27] \n",
      "\n",
      "****\n",
      "Pre-condition Violation\n",
      "\n",
      "Violation occurred on line 60 in file /home/conda/feedstock_root/build_artifacts/rdkit_1614687251479/work/Code/GraphMol/Conformer.cpp\n",
      "Failed Expression: dp_mol->getNumAtoms() == d_positions.size()\n",
      "****\n",
      "\n",
      "[12:56:27] \n",
      "\n",
      "****\n",
      "Pre-condition Violation\n",
      "\n",
      "Violation occurred on line 60 in file /home/conda/feedstock_root/build_artifacts/rdkit_1614687251479/work/Code/GraphMol/Conformer.cpp\n",
      "Failed Expression: dp_mol->getNumAtoms() == d_positions.size()\n",
      "****\n",
      "\n",
      "[12:56:27] \n",
      "\n",
      "****\n",
      "Pre-condition Violation\n",
      "\n",
      "Violation occurred on line 60 in file /home/conda/feedstock_root/build_artifacts/rdkit_1614687251479/work/Code/GraphMol/Conformer.cpp\n",
      "Failed Expression: dp_mol->getNumAtoms() == d_positions.size()\n",
      "****\n",
      "\n",
      "[12:56:27] \n",
      "\n",
      "****\n",
      "Pre-condition Violation\n",
      "\n",
      "Violation occurred on line 60 in file /home/conda/feedstock_root/build_artifacts/rdkit_1614687251479/work/Code/GraphMol/Conformer.cpp\n",
      "Failed Expression: dp_mol->getNumAtoms() == d_positions.size()\n",
      "****\n",
      "\n",
      "[12:56:27] \n",
      "\n",
      " 91%|█████████ | 320/353 [1:23:37<08:30, 15.46s/it]"
     ]
    },
    {
     "name": "stdout",
     "output_type": "stream",
     "text": [
      "LeDock Docking finished\n",
      "Have been converted to mol2 file! /home/haotian/Molecule_Generation/Flexible-docking/data/esmfold_time_split/6rot/6rot_ligand.sdf\n"
     ]
    },
    {
     "name": "stderr",
     "output_type": "stream",
     "text": [
      " 91%|█████████ | 321/353 [1:23:51<08:04, 15.14s/it]"
     ]
    },
    {
     "name": "stdout",
     "output_type": "stream",
     "text": [
      "LeDock Docking finished\n",
      "Have been converted to mol2 file! /home/haotian/Molecule_Generation/Flexible-docking/data/esmfold_time_split/6qwi/6qwi_ligand.sdf\n"
     ]
    },
    {
     "name": "stderr",
     "output_type": "stream",
     "text": [
      " 91%|█████████ | 322/353 [1:24:03<07:19, 14.19s/it]"
     ]
    },
    {
     "name": "stdout",
     "output_type": "stream",
     "text": [
      "LeDock Docking finished\n",
      "Have been converted to mol2 file! /home/haotian/Molecule_Generation/Flexible-docking/data/esmfold_time_split/6oie/6oie_ligand.sdf\n"
     ]
    },
    {
     "name": "stderr",
     "output_type": "stream",
     "text": [
      " 92%|█████████▏| 323/353 [1:25:03<13:57, 27.93s/it]"
     ]
    },
    {
     "name": "stdout",
     "output_type": "stream",
     "text": [
      "timeout\n",
      "Have been converted to mol2 file! /home/haotian/Molecule_Generation/Flexible-docking/data/esmfold_time_split/6h14/6h14_ligand.sdf\n"
     ]
    },
    {
     "name": "stderr",
     "output_type": "stream",
     "text": [
      " 92%|█████████▏| 324/353 [1:25:21<12:05, 25.01s/it]"
     ]
    },
    {
     "name": "stdout",
     "output_type": "stream",
     "text": [
      "LeDock Docking finished\n",
      "Have been converted to mol2 file! /home/haotian/Molecule_Generation/Flexible-docking/data/esmfold_time_split/6i68/6i68_ligand.sdf\n"
     ]
    },
    {
     "name": "stderr",
     "output_type": "stream",
     "text": [
      " 92%|█████████▏| 325/353 [1:25:50<12:10, 26.10s/it]"
     ]
    },
    {
     "name": "stdout",
     "output_type": "stream",
     "text": [
      "LeDock Docking finished\n",
      "Have been converted to mol2 file! /home/haotian/Molecule_Generation/Flexible-docking/data/esmfold_time_split/6j9y/6j9y_ligand.sdf\n"
     ]
    },
    {
     "name": "stderr",
     "output_type": "stream",
     "text": [
      " 92%|█████████▏| 326/353 [1:25:58<09:18, 20.67s/it]"
     ]
    },
    {
     "name": "stdout",
     "output_type": "stream",
     "text": [
      "LeDock Docking finished\n"
     ]
    },
    {
     "name": "stderr",
     "output_type": "stream",
     "text": [
      " 93%|█████████▎| 327/353 [1:26:07<07:23, 17.07s/it]"
     ]
    },
    {
     "name": "stdout",
     "output_type": "stream",
     "text": [
      "LeDock Docking finished\n",
      "Have been converted to mol2 file! /home/haotian/Molecule_Generation/Flexible-docking/data/esmfold_time_split/6ftf/6ftf_ligand.sdf\n"
     ]
    },
    {
     "name": "stderr",
     "output_type": "stream",
     "text": [
      " 93%|█████████▎| 328/353 [1:26:12<05:38, 13.55s/it]"
     ]
    },
    {
     "name": "stdout",
     "output_type": "stream",
     "text": [
      "LeDock Docking finished\n",
      "Have been converted to mol2 file! /home/haotian/Molecule_Generation/Flexible-docking/data/esmfold_time_split/6s57/6s57_ligand.sdf\n"
     ]
    },
    {
     "name": "stderr",
     "output_type": "stream",
     "text": [
      " 93%|█████████▎| 329/353 [1:26:22<05:00, 12.51s/it]"
     ]
    },
    {
     "name": "stdout",
     "output_type": "stream",
     "text": [
      "LeDock Docking finished\n",
      "Have been converted to mol2 file! /home/haotian/Molecule_Generation/Flexible-docking/data/esmfold_time_split/6nxz/6nxz_ligand.sdf\n"
     ]
    },
    {
     "name": "stderr",
     "output_type": "stream",
     "text": [
      " 93%|█████████▎| 330/353 [1:26:28<04:00, 10.47s/it]"
     ]
    },
    {
     "name": "stdout",
     "output_type": "stream",
     "text": [
      "LeDock Docking finished\n"
     ]
    },
    {
     "name": "stderr",
     "output_type": "stream",
     "text": [
      " 94%|█████████▍| 331/353 [1:26:38<03:45, 10.26s/it]"
     ]
    },
    {
     "name": "stdout",
     "output_type": "stream",
     "text": [
      "LeDock Docking finished\n",
      "Have been converted to mol2 file! /home/haotian/Molecule_Generation/Flexible-docking/data/esmfold_time_split/6qzh/6qzh_ligand.sdf\n"
     ]
    },
    {
     "name": "stderr",
     "output_type": "stream",
     "text": [
      " 94%|█████████▍| 332/353 [1:26:49<03:45, 10.72s/it]"
     ]
    },
    {
     "name": "stdout",
     "output_type": "stream",
     "text": [
      "LeDock Docking finished\n",
      "Have been converted to mol2 file! /home/haotian/Molecule_Generation/Flexible-docking/data/esmfold_time_split/6mo0/6mo0_ligand.sdf\n"
     ]
    },
    {
     "name": "stderr",
     "output_type": "stream",
     "text": [
      " 94%|█████████▍| 333/353 [1:27:01<03:39, 11.00s/it]"
     ]
    },
    {
     "name": "stdout",
     "output_type": "stream",
     "text": [
      "LeDock Docking finished\n"
     ]
    },
    {
     "name": "stderr",
     "output_type": "stream",
     "text": [
      " 95%|█████████▍| 334/353 [1:28:01<08:08, 25.70s/it]"
     ]
    },
    {
     "name": "stdout",
     "output_type": "stream",
     "text": [
      "timeout\n",
      "Have been converted to mol2 file! /home/haotian/Molecule_Generation/Flexible-docking/data/esmfold_time_split/6nd3/6nd3_ligand.sdf\n"
     ]
    },
    {
     "name": "stderr",
     "output_type": "stream",
     "text": [
      " 95%|█████████▍| 335/353 [1:28:06<05:52, 19.57s/it]"
     ]
    },
    {
     "name": "stdout",
     "output_type": "stream",
     "text": [
      "LeDock Docking finished\n",
      "Have been converted to mol2 file! /home/haotian/Molecule_Generation/Flexible-docking/data/esmfold_time_split/6hhp/6hhp_ligand.sdf\n"
     ]
    },
    {
     "name": "stderr",
     "output_type": "stream",
     "text": [
      " 95%|█████████▌| 336/353 [1:28:28<05:44, 20.24s/it]"
     ]
    },
    {
     "name": "stdout",
     "output_type": "stream",
     "text": [
      "LeDock Docking finished\n"
     ]
    },
    {
     "name": "stderr",
     "output_type": "stream",
     "text": [
      "RDKit ERROR: ****\n",
      "RDKit ERROR: Pre-condition Violation\n",
      "RDKit ERROR: \n",
      "RDKit ERROR: Violation occurred on line 60 in file /home/conda/feedstock_root/build_artifacts/rdkit_1614687251479/work/Code/GraphMol/Conformer.cpp\n",
      "RDKit ERROR: Failed Expression: dp_mol->getNumAtoms() == d_positions.size()\n",
      "RDKit ERROR: ****\n",
      "RDKit ERROR: \n",
      "RDKit ERROR: [12:56:27] \n",
      "RDKit ERROR: \n",
      "RDKit ERROR: ****\n",
      "RDKit ERROR: Pre-condition Violation\n",
      "RDKit ERROR: \n",
      "RDKit ERROR: Violation occurred on line 60 in file /home/conda/feedstock_root/build_artifacts/rdkit_1614687251479/work/Code/GraphMol/Conformer.cpp\n",
      "RDKit ERROR: Failed Expression: dp_mol->getNumAtoms() == d_positions.size()\n",
      "RDKit ERROR: ****\n",
      "RDKit ERROR: \n",
      "RDKit ERROR: [12:56:27] \n",
      "RDKit ERROR: \n",
      "RDKit ERROR: ****\n",
      "RDKit ERROR: Pre-condition Violation\n",
      "RDKit ERROR: \n",
      "RDKit ERROR: Violation occurred on line 60 in file /home/conda/feedstock_root/build_artifacts/rdkit_1614687251479/work/Code/GraphMol/Conformer.cpp\n",
      "RDKit ERROR: Failed Expression: dp_mol->getNumAtoms() == d_positions.size()\n",
      "RDKit ERROR: ****\n",
      "RDKit ERROR: \n",
      "RDKit ERROR: [12:56:27] \n",
      "RDKit ERROR: \n",
      "RDKit ERROR: ****\n",
      "RDKit ERROR: Pre-condition Violation\n",
      "RDKit ERROR: \n",
      "RDKit ERROR: Violation occurred on line 60 in file /home/conda/feedstock_root/build_artifacts/rdkit_1614687251479/work/Code/GraphMol/Conformer.cpp\n",
      "RDKit ERROR: Failed Expression: dp_mol->getNumAtoms() == d_positions.size()\n",
      "RDKit ERROR: ****\n",
      "RDKit ERROR: \n",
      "RDKit ERROR: [12:59:14] \n",
      "RDKit ERROR: \n",
      "RDKit ERROR: ****\n",
      "RDKit ERROR: Pre-condition Violation\n",
      "RDKit ERROR: \n",
      "RDKit ERROR: Violation occurred on line 60 in file /home/conda/feedstock_root/build_artifacts/rdkit_1614687251479/work/Code/GraphMol/Conformer.cpp\n",
      "RDKit ERROR: Failed Expression: dp_mol->getNumAtoms() == d_positions.size()\n",
      "RDKit ERROR: ****\n",
      "RDKit ERROR: \n",
      "RDKit ERROR: [12:59:45] \n",
      "RDKit ERROR: \n",
      "RDKit ERROR: ****\n",
      "RDKit ERROR: Pre-condition Violation\n",
      "RDKit ERROR: \n",
      "RDKit ERROR: Violation occurred on line 60 in file /home/conda/feedstock_root/build_artifacts/rdkit_1614687251479/work/Code/GraphMol/Conformer.cpp\n",
      "RDKit ERROR: Failed Expression: dp_mol->getNumAtoms() == d_positions.size()\n",
      "RDKit ERROR: ****\n",
      "RDKit ERROR: \n",
      "RDKit ERROR: [12:59:45] \n",
      "RDKit ERROR: \n",
      "RDKit ERROR: ****\n",
      "RDKit ERROR: Pre-condition Violation\n",
      "RDKit ERROR: \n",
      "RDKit ERROR: Violation occurred on line 60 in file /home/conda/feedstock_root/build_artifacts/rdkit_1614687251479/work/Code/GraphMol/Conformer.cpp\n",
      "RDKit ERROR: Failed Expression: dp_mol->getNumAtoms() == d_positions.size()\n",
      "RDKit ERROR: ****\n",
      "RDKit ERROR: \n",
      "RDKit ERROR: [12:59:45] \n",
      "RDKit ERROR: \n",
      "RDKit ERROR: ****\n",
      "RDKit ERROR: Pre-condition Violation\n",
      "RDKit ERROR: \n",
      "RDKit ERROR: Violation occurred on line 60 in file /home/conda/feedstock_root/build_artifacts/rdkit_1614687251479/work/Code/GraphMol/Conformer.cpp\n",
      "RDKit ERROR: Failed Expression: dp_mol->getNumAtoms() == d_positions.size()\n",
      "RDKit ERROR: ****\n",
      "RDKit ERROR: \n",
      "RDKit ERROR: [12:59:45] \n",
      "RDKit ERROR: \n",
      "RDKit ERROR: ****\n",
      "RDKit ERROR: Pre-condition Violation\n",
      "RDKit ERROR: \n",
      "RDKit ERROR: Violation occurred on line 60 in file /home/conda/feedstock_root/build_artifacts/rdkit_1614687251479/work/Code/GraphMol/Conformer.cpp\n",
      "RDKit ERROR: Failed Expression: dp_mol->getNumAtoms() == d_positions.size()\n",
      "RDKit ERROR: ****\n",
      "RDKit ERROR: \n",
      "RDKit ERROR: [12:59:45] \n",
      "RDKit ERROR: \n",
      "RDKit ERROR: ****\n",
      "RDKit ERROR: Pre-condition Violation\n",
      "RDKit ERROR: \n",
      "RDKit ERROR: Violation occurred on line 60 in file /home/conda/feedstock_root/build_artifacts/rdkit_1614687251479/work/Code/GraphMol/Conformer.cpp\n",
      "RDKit ERROR: Failed Expression: dp_mol->getNumAtoms() == d_positions.size()\n",
      "RDKit ERROR: ****\n",
      "RDKit ERROR: \n",
      "RDKit ERROR: [13:01:47] \n",
      "RDKit ERROR: \n",
      "RDKit ERROR: ****\n",
      "RDKit ERROR: Pre-condition Violation\n",
      "RDKit ERROR: \n",
      "RDKit ERROR: Violation occurred on line 60 in file /home/conda/feedstock_root/build_artifacts/rdkit_1614687251479/work/Code/GraphMol/Conformer.cpp\n",
      "RDKit ERROR: Failed Expression: dp_mol->getNumAtoms() == d_positions.size()\n",
      "RDKit ERROR: ****\n",
      "RDKit ERROR: \n",
      "RDKit ERROR: [13:01:47] \n",
      "RDKit ERROR: \n",
      "RDKit ERROR: ****\n",
      "RDKit ERROR: Pre-condition Violation\n",
      "RDKit ERROR: \n",
      "RDKit ERROR: Violation occurred on line 60 in file /home/conda/feedstock_root/build_artifacts/rdkit_1614687251479/work/Code/GraphMol/Conformer.cpp\n",
      "RDKit ERROR: Failed Expression: dp_mol->getNumAtoms() == d_positions.size()\n",
      "RDKit ERROR: ****\n",
      "RDKit ERROR: \n",
      "RDKit ERROR: [13:01:47] \n",
      "RDKit ERROR: \n",
      "RDKit ERROR: ****\n",
      "RDKit ERROR: Pre-condition Violation\n",
      "RDKit ERROR: \n",
      "RDKit ERROR: Violation occurred on line 60 in file /home/conda/feedstock_root/build_artifacts/rdkit_1614687251479/work/Code/GraphMol/Conformer.cpp\n",
      "RDKit ERROR: Failed Expression: dp_mol->getNumAtoms() == d_positions.size()\n",
      "RDKit ERROR: ****\n",
      "RDKit ERROR: \n",
      "RDKit ERROR: [13:01:47] \n",
      "RDKit ERROR: \n",
      "RDKit ERROR: ****\n",
      "RDKit ERROR: Pre-condition Violation\n",
      "RDKit ERROR: \n",
      "RDKit ERROR: Violation occurred on line 60 in file /home/conda/feedstock_root/build_artifacts/rdkit_1614687251479/work/Code/GraphMol/Conformer.cpp\n",
      "RDKit ERROR: Failed Expression: dp_mol->getNumAtoms() == d_positions.size()\n",
      "RDKit ERROR: ****\n",
      "RDKit ERROR: \n",
      "RDKit ERROR: [13:01:47] \n",
      "RDKit ERROR: \n",
      "RDKit ERROR: ****\n",
      "RDKit ERROR: Pre-condition Violation\n",
      "RDKit ERROR: \n",
      "RDKit ERROR: Violation occurred on line 60 in file /home/conda/feedstock_root/build_artifacts/rdkit_1614687251479/work/Code/GraphMol/Conformer.cpp\n",
      "RDKit ERROR: Failed Expression: dp_mol->getNumAtoms() == d_positions.size()\n",
      "RDKit ERROR: ****\n",
      "RDKit ERROR: \n",
      "RDKit ERROR: [13:01:47] \n",
      "RDKit ERROR: \n",
      "RDKit ERROR: ****\n",
      "RDKit ERROR: Pre-condition Violation\n",
      "RDKit ERROR: \n",
      "RDKit ERROR: Violation occurred on line 60 in file /home/conda/feedstock_root/build_artifacts/rdkit_1614687251479/work/Code/GraphMol/Conformer.cpp\n",
      "RDKit ERROR: Failed Expression: dp_mol->getNumAtoms() == d_positions.size()\n",
      "RDKit ERROR: ****\n",
      "RDKit ERROR: \n",
      "RDKit ERROR: [13:01:47] \n",
      "RDKit ERROR: \n",
      "RDKit ERROR: ****\n",
      "RDKit ERROR: Pre-condition Violation\n",
      "RDKit ERROR: \n",
      "*\n",
      "Pre-condition Violation\n",
      "\n",
      "Violation occurred on line 60 in file /home/conda/feedstock_root/build_artifacts/rdkit_1614687251479/work/Code/GraphMol/Conformer.cpp\n",
      "Failed Expression: dp_mol->getNumAtoms() == d_positions.size()\n",
      "****\n",
      "\n",
      "[12:56:27] \n",
      "\n",
      "****\n",
      "Pre-condition Violation\n",
      "\n",
      "Violation occurred on line 60 in file /home/conda/feedstock_root/build_artifacts/rdkit_1614687251479/work/Code/GraphMol/Conformer.cpp\n",
      "Failed Expression: dp_mol->getNumAtoms() == d_positions.size()\n",
      "****\n",
      "\n",
      "[12:56:27] \n",
      "\n",
      "****\n",
      "Pre-condition Violation\n",
      "\n",
      "Violation occurred on line 60 in file /home/conda/feedstock_root/build_artifacts/rdkit_1614687251479/work/Code/GraphMol/Conformer.cpp\n",
      "Failed Expression: dp_mol->getNumAtoms() == d_positions.size()\n",
      "****\n",
      "\n",
      "[12:56:27] \n",
      "\n",
      "****\n",
      "Pre-condition Violation\n",
      "\n",
      "Violation occurred on line 60 in file /home/conda/feedstock_root/build_artifacts/rdkit_1614687251479/work/Code/GraphMol/Conformer.cpp\n",
      "Failed Expression: dp_mol->getNumAtoms() == d_positions.size()\n",
      "****\n",
      "\n",
      "[12:59:14] \n",
      "\n",
      "****\n",
      "Pre-condition Violation\n",
      "\n",
      "Violation occurred on line 60 in file /home/conda/feedstock_root/build_artifacts/rdkit_1614687251479/work/Code/GraphMol/Conformer.cpp\n",
      "Failed Expression: dp_mol->getNumAtoms() == d_positions.size()\n",
      "****\n",
      "\n",
      "[12:59:45] \n",
      "\n",
      "****\n",
      "Pre-condition Violation\n",
      "\n",
      "Violation occurred on line 60 in file /home/conda/feedstock_root/build_artifacts/rdkit_1614687251479/work/Code/GraphMol/Conformer.cpp\n",
      "Failed Expression: dp_mol->getNumAtoms() == d_positions.size()\n",
      "****\n",
      "\n",
      "[12:59:45] \n",
      "\n",
      "****\n",
      "Pre-condition Violation\n",
      "\n",
      "Violation occurred on line 60 in file /home/conda/feedstock_root/build_artifacts/rdkit_1614687251479/work/Code/GraphMol/Conformer.cpp\n",
      "Failed Expression: dp_mol->getNumAtoms() == d_positions.size()\n",
      "****\n",
      "\n",
      "[12:59:45] \n",
      "\n",
      "****\n",
      "Pre-condition Violation\n",
      "\n",
      "Violation occurred on line 60 in file /home/conda/feedstock_root/build_artifacts/rdkit_1614687251479/work/Code/GraphMol/Conformer.cpp\n",
      "Failed Expression: dp_mol->getNumAtoms() == d_positions.size()\n",
      "****\n",
      "\n",
      "[12:59:45] \n",
      "\n",
      "****\n",
      "Pre-condition Violation\n",
      "\n",
      "Violation occurred on line 60 in file /home/conda/feedstock_root/build_artifacts/rdkit_1614687251479/work/Code/GraphMol/Conformer.cpp\n",
      "Failed Expression: dp_mol->getNumAtoms() == d_positions.size()\n",
      "****\n",
      "\n",
      "[12:59:45] \n",
      "\n",
      "****\n",
      "Pre-condition Violation\n",
      "\n",
      "Violation occurred on line 60 in file /home/conda/feedstock_root/build_artifacts/rdkit_1614687251479/work/Code/GraphMol/Conformer.cpp\n",
      "Failed Expression: dp_mol->getNumAtoms() == d_positions.size()\n",
      "****\n",
      "\n",
      "[13:01:47] \n",
      "\n",
      "****\n",
      "Pre-condition Violation\n",
      "\n",
      "Violation occurred on line 60 in file /home/conda/feedstock_root/build_artifacts/rdkit_1614687251479/work/Code/GraphMol/Conformer.cpp\n",
      "Failed Expression: dp_mol->getNumAtoms() == d_positions.size()\n",
      "****\n",
      "\n",
      "[13:01:47] \n",
      "\n",
      "****\n",
      "Pre-condition Violation\n",
      "\n",
      "Violation occurred on line 60 in file /home/conda/feedstock_root/build_artifacts/rdkit_1614687251479/work/Code/GraphMol/Conformer.cpp\n",
      "Failed Expression: dp_mol->getNumAtoms() == d_positions.size()\n",
      "****\n",
      "\n",
      "[13:01:47] \n",
      "\n",
      "****\n",
      "Pre-condition Violation\n",
      "\n",
      "Violation occurred on line 60 in file /home/conda/feedstock_root/build_artifacts/rdkit_1614687251479/work/Code/GraphMol/Conformer.cpp\n",
      "Failed Expression: dp_mol->getNumAtoms() == d_positions.size()\n",
      "****\n",
      "\n",
      "[13:01:47] \n",
      "\n",
      "****\n",
      "Pre-condition Violation\n",
      "\n",
      "Violation occurred on line 60 in file /home/conda/feedstock_root/build_artifacts/rdkit_1614687251479/work/Code/GraphMol/Conformer.cpp\n",
      "Failed Expression: dp_mol->getNumAtoms() == d_positions.size()\n",
      "****\n",
      "\n",
      "[13:01:47] \n",
      "\n",
      "****\n",
      "Pre-condition Violation\n",
      "\n",
      "Violation occurred on line 60 in file /home/conda/feedstock_root/build_artifacts/rdkit_1614687251479/work/Code/GraphMol/Conformer.cpp\n",
      "Failed Expression: dp_mol->getNumAtoms() == d_positions.size()\n",
      "****\n",
      "\n",
      "[13:01:47] \n",
      "\n",
      "****\n",
      "Pre-condition Violation\n",
      "\n",
      "Violation occurred on line 60 in file /home/conda/feedstock_root/build_artifacts/rdkit_1614687251479/work/Code/GraphMol/Conformer.cpp\n",
      "Failed Expression: dp_mol->getNumAtoms() == d_positions.size()\n",
      "****\n",
      "\n",
      "[13:01:47] \n",
      "\n",
      "****\n",
      "Pre-condition Violation\n",
      "\n",
      " 95%|█████████▌| 337/353 [1:28:39<04:40, 17.55s/it]eedstock_root/build_artifacts/rdkit_1614687251479/work/Code/GraphMol/Conformer.cpp"
     ]
    },
    {
     "name": "stdout",
     "output_type": "stream",
     "text": [
      "LeDock Docking finished\n",
      "Have been converted to mol2 file! /home/haotian/Molecule_Generation/Flexible-docking/data/esmfold_time_split/6fff/6fff_ligand.sdf\n"
     ]
    },
    {
     "name": "stderr",
     "output_type": "stream",
     "text": [
      " 96%|█████████▌| 338/353 [1:28:49<03:49, 15.30s/it]"
     ]
    },
    {
     "name": "stdout",
     "output_type": "stream",
     "text": [
      "LeDock Docking finished\n",
      "Have been converted to mol2 file! /home/haotian/Molecule_Generation/Flexible-docking/data/esmfold_time_split/6oxu/6oxu_ligand.sdf\n"
     ]
    },
    {
     "name": "stderr",
     "output_type": "stream",
     "text": [
      " 96%|█████████▌| 339/353 [1:29:08<03:48, 16.33s/it]"
     ]
    },
    {
     "name": "stdout",
     "output_type": "stream",
     "text": [
      "LeDock Docking finished\n",
      "Have been converted to mol2 file! /home/haotian/Molecule_Generation/Flexible-docking/data/esmfold_time_split/6qmr/6qmr_ligand.sdf\n"
     ]
    },
    {
     "name": "stderr",
     "output_type": "stream",
     "text": [
      " 96%|█████████▋| 340/353 [1:29:20<03:15, 15.02s/it]"
     ]
    },
    {
     "name": "stdout",
     "output_type": "stream",
     "text": [
      "LeDock Docking finished\n",
      "Have been converted to mol2 file! /home/haotian/Molecule_Generation/Flexible-docking/data/esmfold_time_split/6i65/6i65_ligand.sdf\n"
     ]
    },
    {
     "name": "stderr",
     "output_type": "stream",
     "text": [
      " 97%|█████████▋| 341/353 [1:29:24<02:19, 11.61s/it]"
     ]
    },
    {
     "name": "stdout",
     "output_type": "stream",
     "text": [
      "LeDock Docking finished\n",
      "Have been converted to mol2 file! /home/haotian/Molecule_Generation/Flexible-docking/data/esmfold_time_split/6oxr/6oxr_ligand.sdf\n"
     ]
    },
    {
     "name": "stderr",
     "output_type": "stream",
     "text": [
      " 97%|█████████▋| 342/353 [1:29:42<02:28, 13.50s/it]"
     ]
    },
    {
     "name": "stdout",
     "output_type": "stream",
     "text": [
      "LeDock Docking finished\n"
     ]
    },
    {
     "name": "stderr",
     "output_type": "stream",
     "text": [
      " 97%|█████████▋| 343/353 [1:29:51<02:02, 12.23s/it]"
     ]
    },
    {
     "name": "stdout",
     "output_type": "stream",
     "text": [
      "LeDock Docking finished\n"
     ]
    },
    {
     "name": "stderr",
     "output_type": "stream",
     "text": [
      " 97%|█████████▋| 344/353 [1:29:58<01:35, 10.63s/it]"
     ]
    },
    {
     "name": "stdout",
     "output_type": "stream",
     "text": [
      "LeDock Docking finished\n",
      "Have been converted to mol2 file! /home/haotian/Molecule_Generation/Flexible-docking/data/esmfold_time_split/6n94/6n94_ligand.sdf\n"
     ]
    },
    {
     "name": "stderr",
     "output_type": "stream",
     "text": [
      " 98%|█████████▊| 345/353 [1:30:34<02:26, 18.29s/it]"
     ]
    },
    {
     "name": "stdout",
     "output_type": "stream",
     "text": [
      "LeDock Docking finished\n",
      "Have been converted to mol2 file! /home/haotian/Molecule_Generation/Flexible-docking/data/esmfold_time_split/6mo8/6mo8_ligand.sdf\n"
     ]
    },
    {
     "name": "stderr",
     "output_type": "stream",
     "text": [
      " 98%|█████████▊| 346/353 [1:30:41<01:43, 14.79s/it]"
     ]
    },
    {
     "name": "stdout",
     "output_type": "stream",
     "text": [
      "LeDock Docking finished\n",
      "Have been converted to mol2 file! /home/haotian/Molecule_Generation/Flexible-docking/data/esmfold_time_split/5zk7/5zk7_ligand.sdf\n"
     ]
    },
    {
     "name": "stderr",
     "output_type": "stream",
     "text": [
      " 98%|█████████▊| 347/353 [1:31:05<01:45, 17.61s/it]"
     ]
    },
    {
     "name": "stdout",
     "output_type": "stream",
     "text": [
      "LeDock Docking finished\n",
      "Have been converted to mol2 file! /home/haotian/Molecule_Generation/Flexible-docking/data/esmfold_time_split/6uwv/6uwv_ligand.sdf\n"
     ]
    },
    {
     "name": "stderr",
     "output_type": "stream",
     "text": [
      " 99%|█████████▊| 348/353 [1:31:15<01:16, 15.39s/it]"
     ]
    },
    {
     "name": "stdout",
     "output_type": "stream",
     "text": [
      "LeDock Docking finished\n",
      "Have been converted to mol2 file! /home/haotian/Molecule_Generation/Flexible-docking/data/esmfold_time_split/6i5p/6i5p_ligand.sdf\n"
     ]
    },
    {
     "name": "stderr",
     "output_type": "stream",
     "text": [
      " 99%|█████████▉| 349/353 [1:31:42<01:14, 18.71s/it]"
     ]
    },
    {
     "name": "stdout",
     "output_type": "stream",
     "text": [
      "LeDock Docking finished\n",
      "Have been converted to mol2 file! /home/haotian/Molecule_Generation/Flexible-docking/data/esmfold_time_split/6i66/6i66_ligand.sdf\n"
     ]
    },
    {
     "name": "stderr",
     "output_type": "stream",
     "text": [
      " 99%|█████████▉| 350/353 [1:31:46<00:42, 14.30s/it]"
     ]
    },
    {
     "name": "stdout",
     "output_type": "stream",
     "text": [
      "LeDock Docking finished\n",
      "Have been converted to mol2 file! /home/haotian/Molecule_Generation/Flexible-docking/data/esmfold_time_split/6cyh/6cyh_ligand.sdf\n"
     ]
    },
    {
     "name": "stderr",
     "output_type": "stream",
     "text": [
      " 99%|█████████▉| 351/353 [1:31:54<00:25, 12.53s/it]"
     ]
    },
    {
     "name": "stdout",
     "output_type": "stream",
     "text": [
      "LeDock Docking finished\n",
      "Have been converted to mol2 file! /home/haotian/Molecule_Generation/Flexible-docking/data/esmfold_time_split/6cjp/6cjp_ligand.sdf\n"
     ]
    },
    {
     "name": "stderr",
     "output_type": "stream",
     "text": [
      "100%|█████████▉| 352/353 [1:32:03<00:11, 11.61s/it]"
     ]
    },
    {
     "name": "stdout",
     "output_type": "stream",
     "text": [
      "LeDock Docking finished\n",
      "Have been converted to mol2 file! /home/haotian/Molecule_Generation/Flexible-docking/data/esmfold_time_split/6nri/6nri_ligand.sdf\n"
     ]
    },
    {
     "name": "stderr",
     "output_type": "stream",
     "text": [
      "100%|██████████| 353/353 [1:32:15<00:00, 15.68s/it]"
     ]
    },
    {
     "name": "stdout",
     "output_type": "stream",
     "text": [
      "LeDock Docking finished\n"
     ]
    },
    {
     "name": "stderr",
     "output_type": "stream",
     "text": [
      "\n"
     ]
    }
   ],
   "source": [
    "for i in tqdm(range(len(dock_info))):\n",
    "    protein_path = dock_info['protein_path'][i]\n",
    "    ligand_path = dock_info['ligand_path'][i]\n",
    "    save_path = dock_info['save_path'][i]\n",
    "    try: \n",
    "        if method == 'rdock':\n",
    "            rdock_iteration(protein_path, ligand_path, save_path)\n",
    "        elif method == 'flexgnina':\n",
    "            gnina_iteration(protein_path, ligand_path, save_path)\n",
    "        elif method == 'ledock':\n",
    "            ledock_iteration(protein_path, ligand_path, save_path)\n",
    "        else:\n",
    "            raise NotImplementedError\n",
    "    except timeout_decorator.timeout_decorator.TimeoutError:\n",
    "        print('timeout')\n",
    "    except Exception as e:\n",
    "        print(e)\n",
    "        \n",
    "    "
   ]
  }
 ],
 "metadata": {
  "kernelspec": {
   "display_name": "carbon_copy",
   "language": "python",
   "name": "python3"
  },
  "language_info": {
   "codemirror_mode": {
    "name": "ipython",
    "version": 3
   },
   "file_extension": ".py",
   "mimetype": "text/x-python",
   "name": "python",
   "nbconvert_exporter": "python",
   "pygments_lexer": "ipython3",
   "version": "3.9.13"
  },
  "orig_nbformat": 4
 },
 "nbformat": 4,
 "nbformat_minor": 2
}
