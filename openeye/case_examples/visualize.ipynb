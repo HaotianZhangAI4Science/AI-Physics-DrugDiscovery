{
 "cells": [
  {
   "cell_type": "code",
   "execution_count": 39,
   "metadata": {},
   "outputs": [],
   "source": [
    "import pandas as pd\n",
    "import os.path as osp\n",
    "from glob import glob\n",
    "from rdkit import Chem\n",
    "from rdkit.Chem import Draw\n",
    "from copy import deepcopy\n",
    "from PIL import Image\n",
    "import io\n",
    "\n",
    "from rdkit import DataStructs\n",
    "import argparse\n",
    "\n",
    "\n",
    "def generalize(core):\n",
    "    query_params = Chem.AdjustQueryParameters()\n",
    "    query_params.makeBondsGeneric = True\n",
    "    query_params.aromatizeIfPossible = False\n",
    "    query_params.adjustDegree = False\n",
    "    query_params.adjustHeavyDegree = False\n",
    "    generic_core = Chem.AdjustQueryProperties(core,query_params)\n",
    "    return generic_core\n",
    "\n",
    "def read_sdf(sdf_file, sanitize=False):\n",
    "    supp = Chem.SDMolSupplier(sdf_file, sanitize=sanitize)\n",
    "    mols_list = [i for i in supp]\n",
    "    return mols_list\n",
    "\n",
    "def write_sdf(mol_list,file, voice=False):\n",
    "    writer = Chem.SDWriter(file)\n",
    "    mol_cnt = 0\n",
    "    for i in mol_list:\n",
    "        try:\n",
    "            writer.write(i)\n",
    "            mol_cnt+=1\n",
    "        except:\n",
    "            pass\n",
    "    writer.close()\n",
    "    if voice: \n",
    "        print('Write {} molecules to {}'.format(mol_cnt,file))\n",
    "        \n",
    "def find_match(target,query_mols):\n",
    "    for query_mol in query_mols:\n",
    "        query = generalize(query_mol)\n",
    "        match = target.GetSubstructMatch(query)\n",
    "        if len(match) > 0:\n",
    "            return match\n",
    "    return ()\n",
    "\n",
    "def save_img(ipy_Image, out_file):\n",
    "    img_byte_arr = io.BytesIO(ipy_Image.data)\n",
    "    img_pil = Image.open(img_byte_arr)\n",
    "    png_file = searched_file.replace('.sdf','.png')\n",
    "    img_pil.save(out_file)\n",
    "    print('saved at {}'.format(out_file))"
   ]
  },
  {
   "cell_type": "code",
   "execution_count": 8,
   "metadata": {},
   "outputs": [],
   "source": [
    "ori_mol = read_sdf('../frag2.sdf')[0]\n",
    "ori_mol.RemoveAllConformers()"
   ]
  },
  {
   "cell_type": "code",
   "execution_count": 9,
   "metadata": {},
   "outputs": [
    {
     "data": {
      "image/png": "[encoded data removed]",
      "text/plain": [
       "<rdkit.Chem.rdchem.Mol at 0x14fd7cb9eee0>"
      ]
     },
     "execution_count": 9,
     "metadata": {},
     "output_type": "execute_result"
    }
   ],
   "source": [
    "ori_mol"
   ]
  },
  {
   "cell_type": "code",
   "execution_count": 47,
   "metadata": {},
   "outputs": [],
   "source": [
    "searched_file = './sim_searched.sdf'\n",
    "searched_mols = read_sdf(searched_file)"
   ]
  },
  {
   "cell_type": "code",
   "execution_count": 50,
   "metadata": {},
   "outputs": [
    {
     "data": {
      "text/plain": [
       "'0.84'"
      ]
     },
     "execution_count": 50,
     "metadata": {},
     "output_type": "execute_result"
    }
   ],
   "source": [
    "searched_mols[0].GetProp('Similarity score')"
   ]
  },
  {
   "cell_type": "code",
   "execution_count": null,
   "metadata": {},
   "outputs": [],
   "source": [
    "\n",
    "highlight_list = [find_match(mol, [ori_mol]) for mol in searched_mols] \n",
    "group_size = 8\n",
    "show_mols_group = [searched_mols[i:i + group_size] for i in range(0, len(searched_mols), group_size)]\n",
    "highlight_list_group = [highlight_list[i:i + group_size] for i in range(0, len(highlight_list), group_size)]\n",
    "imgs = []\n",
    "for show_mols, highlights in zip(show_mols_group, highlight_list_group):\n",
    "    imgs.append(Draw.MolsToGridImage(show_mols, molsPerRow=4, subImgSize=(500,500), highlightAtomLists=highlights,maxMols=group_size))\n",
    "png_file = searched_file.replace('.sdf','.png')\n",
    "save_img(imgs[0], png_file)"
   ]
  },
  {
   "cell_type": "code",
   "execution_count": null,
   "metadata": {},
   "outputs": [],
   "source": [
    "sims = [mol.GetProp('Similarity score') for mol in searched_mols]\n",
    "ID = [mol.GetProp('IDNUMBER') for mol in searched_mols]\n",
    "highlight_list = [find_match(mol, [ori_mol]) for mol in searched_mols] \n",
    "legends = [f'Sim: {i[0]}; ID: {i[1]};' for i in zip(sims, ID)]\n",
    "group_size = 8\n",
    "show_mols_group = [searched_mols[i:i + group_size] for i in range(0, len(searched_mols), group_size)]\n",
    "highlight_list_group = [highlight_list[i:i + group_size] for i in range(0, len(highlight_list), group_size)]\n",
    "legends_group = [legends[i:i + group_size] for i in range(0, len(legends), group_size)]\n",
    "imgs = []\n",
    "for show_mols, legend, highlights in zip(show_mols_group, legends_group, highlight_list_group):\n",
    "    imgs.append(Draw.MolsToGridImage(show_mols, molsPerRow=4, subImgSize=(500,500), legends=legend, highlightAtomLists=highlights,maxMols=group_size))\n",
    "\n",
    "png_file = searched_file.replace('.sdf','.png')\n",
    "save_img(imgs[0], png_file)"
   ]
  }
 ],
 "metadata": {
  "kernelspec": {
   "display_name": "SurfGen",
   "language": "python",
   "name": "python3"
  },
  "language_info": {
   "codemirror_mode": {
    "name": "ipython",
    "version": 3
   },
   "file_extension": ".py",
   "mimetype": "text/x-python",
   "name": "python",
   "nbconvert_exporter": "python",
   "pygments_lexer": "ipython3",
   "version": "3.8.13"
  },
  "orig_nbformat": 4
 },
 "nbformat": 4,
 "nbformat_minor": 2
}
