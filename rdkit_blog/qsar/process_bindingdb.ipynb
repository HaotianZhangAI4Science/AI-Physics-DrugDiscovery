{
 "cells": [
  {
   "cell_type": "code",
   "execution_count": 108,
   "metadata": {},
   "outputs": [],
   "source": [
    "import pandas as pd\n",
    "import numpy as np\n",
    "\n",
    "def write_pic50_txt(smi_act_list, out_file):\n",
    "    with open(out_file, 'w') as file:\n",
    "        for smi_act in smi_act_list:\n",
    "            smi = smi_act[0]\n",
    "            pic50 = smi_act[1]\n",
    "            file.write(f\"{smi},{pic50:.4f}\\n\")\n"
   ]
  },
  {
   "cell_type": "code",
   "execution_count": 113,
   "metadata": {},
   "outputs": [],
   "source": [
    "binding_df = pd.read_csv('bindingdb_fgfr3.tsv', delimiter='\\t')\n",
    "# 清洗IC50数据：去除空白，转换为浮点数\n",
    "binding_df['IC50 (nM)'] = pd.to_numeric(binding_df['IC50 (nM)'].str.replace(' ', ''), errors='coerce')\n",
    "\n",
    "# 计算pIC50\n",
    "binding_df['pIC50'] = -np.log10(binding_df['IC50 (nM)'] * 1e-9)"
   ]
  },
  {
   "cell_type": "code",
   "execution_count": 114,
   "metadata": {},
   "outputs": [],
   "source": [
    "clean_df = binding_df.dropna(subset=['Ligand InChI', 'pIC50'])\n",
    "\n",
    "# Create list of tuples (SMILES, pIC50)\n",
    "smiles_pic50_pairs = list(zip(clean_df['Ligand InChI'], clean_df['pIC50']))"
   ]
  },
  {
   "cell_type": "code",
   "execution_count": 112,
   "metadata": {},
   "outputs": [
    {
     "data": {
      "text/plain": [
       "7.860693321581272"
      ]
     },
     "execution_count": 112,
     "metadata": {},
     "output_type": "execute_result"
    }
   ],
   "source": [
    "clean_df['pIC50'].mean()"
   ]
  },
  {
   "cell_type": "code",
   "execution_count": 115,
   "metadata": {},
   "outputs": [
    {
     "data": {
      "text/plain": [
       "7.5970772585257444"
      ]
     },
     "execution_count": 115,
     "metadata": {},
     "output_type": "execute_result"
    }
   ],
   "source": [
    "clean_df['pIC50'].mean()"
   ]
  },
  {
   "cell_type": "code",
   "execution_count": 97,
   "metadata": {},
   "outputs": [],
   "source": [
    "from rdkit import Chem\n",
    "for i in range(len(smiles_pic50_pairs)):\n",
    "    smi = smiles_pic50_pairs[i][0]\n",
    "    \n",
    "    can_smi = Chem.MolToSmiles(Chem.MolFromInchi(smi))\n",
    "    smiles_pic50_pairs[i] = (can_smi, smiles_pic50_pairs[i][1])"
   ]
  },
  {
   "cell_type": "code",
   "execution_count": 98,
   "metadata": {},
   "outputs": [
    {
     "data": {
      "text/plain": [
       "192"
      ]
     },
     "execution_count": 98,
     "metadata": {},
     "output_type": "execute_result"
    }
   ],
   "source": [
    "num_smiles = len(smiles_pic50_pairs)\n",
    "write_pic50_txt(smiles_pic50_pairs, f'fgfr1_ki_{num_smiles}.txt')\n",
    "num_smiles"
   ]
  },
  {
   "cell_type": "code",
   "execution_count": 101,
   "metadata": {},
   "outputs": [
    {
     "data": {
      "text/plain": [
       "0         1.6\n",
       "1         1.9\n",
       "2        7.90\n",
       "3        7.90\n",
       "4        7.92\n",
       "        ...  \n",
       "4940      NaN\n",
       "4941      NaN\n",
       "4942      NaN\n",
       "4943      NaN\n",
       "4944      NaN\n",
       "Name: Ki (nM), Length: 4945, dtype: object"
      ]
     },
     "execution_count": 101,
     "metadata": {},
     "output_type": "execute_result"
    }
   ],
   "source": [
    "binding_df['Ki (nM)']"
   ]
  },
  {
   "cell_type": "code",
   "execution_count": 104,
   "metadata": {},
   "outputs": [],
   "source": [
    "import re\n",
    "def extract_number(text):\n",
    "    text = str(text)\n",
    "    match = re.search(r'\\d+', text)\n",
    "    return float(match.group()) if match else None\n",
    "\n",
    "binding_df = pd.read_csv('bindingdb_fgfr1.tsv', delimiter='\\t')\n",
    "\n",
    "binding_df['Ki (nM)'] = binding_df['Ki (nM)'].apply(extract_number)\n",
    "binding_df['Ki (nM)'] = pd.to_numeric(binding_df['Ki (nM)'])\n",
    "\n",
    "# 计算pIC50\n",
    "binding_df['pIC50'] = -np.log10(binding_df['Ki (nM)'] * 1e-9)"
   ]
  },
  {
   "cell_type": "code",
   "execution_count": 105,
   "metadata": {},
   "outputs": [],
   "source": [
    "clean_df = binding_df.dropna(subset=['Ligand InChI', 'pIC50'])\n",
    "\n",
    "# Create list of tuples (SMILES, pIC50)\n",
    "smiles_pic50_pairs = list(zip(clean_df['Ligand InChI'], clean_df['pIC50']))"
   ]
  },
  {
   "cell_type": "code",
   "execution_count": 107,
   "metadata": {},
   "outputs": [
    {
     "data": {
      "text/plain": [
       "196"
      ]
     },
     "execution_count": 107,
     "metadata": {},
     "output_type": "execute_result"
    }
   ],
   "source": [
    "len(clean_df)"
   ]
  }
 ],
 "metadata": {
  "kernelspec": {
   "display_name": "ecloud",
   "language": "python",
   "name": "python3"
  },
  "language_info": {
   "codemirror_mode": {
    "name": "ipython",
    "version": 3
   },
   "file_extension": ".py",
   "mimetype": "text/x-python",
   "name": "python",
   "nbconvert_exporter": "python",
   "pygments_lexer": "ipython3",
   "version": "3.8.13"
  },
  "orig_nbformat": 4
 },
 "nbformat": 4,
 "nbformat_minor": 2
}
