{
 "cells": [
  {
   "cell_type": "code",
   "execution_count": 32,
   "metadata": {},
   "outputs": [],
   "source": [
    "from rdkit import Chem, Geometry\n",
    "import numpy as np\n",
    "import copy\n",
    "from rdkit.Chem import AllChem\n",
    "def read_sdf(filename):\n",
    "    \"\"\"\n",
    "    Reads an SDF file and returns a list of RDKit molecules\n",
    "    \"\"\"\n",
    "    suppl = Chem.SDMolSupplier(filename)\n",
    "    return [x for x in suppl if x is not None]\n",
    "\n",
    "def create_conformer(coords):\n",
    "    conformer = Chem.Conformer()\n",
    "    for i, (x, y, z) in enumerate(coords):\n",
    "        conformer.SetAtomPosition(i, Geometry.Point3D(x, y, z))\n",
    "    return conformer\n",
    "\n",
    "def transfer_conf(cana_mol, mol, match=None):\n",
    "    \"\"\"\n",
    "    Computes coordinates from molecule to fragment (for all matchings)\n",
    "    \"\"\"\n",
    "    if match is None:\n",
    "        match = mol.GetSubstructMatch(cana_mol)\n",
    "        if len(match) < 1:\n",
    "            raise Exception('Could not find matches')\n",
    "\n",
    "    mol_coords = mol.GetConformer().GetPositions()\n",
    "    cana_coords = mol_coords[np.array(match)]\n",
    "    new_conformer = create_conformer(cana_coords)\n",
    "    cana_mol.RemoveAllConformers()\n",
    "    cana_mol.AddConformer(new_conformer)\n",
    "    return cana_mol\n",
    "\n",
    "def canical_mol(mol):\n",
    "    smi = Chem.MolToSmiles(mol)\n",
    "    mol = Chem.MolFromSmiles(smi)\n",
    "    return mol\n",
    "\n",
    "def set_mol_position(mol, pos):\n",
    "    mol = copy.deepcopy(mol)\n",
    "    for i in range(pos.shape[0]):\n",
    "        mol.GetConformer(0).SetAtomPosition(i, pos[i].tolist())\n",
    "    return mol "
   ]
  },
  {
   "cell_type": "code",
   "execution_count": 12,
   "metadata": {},
   "outputs": [],
   "source": [
    "mol = read_sdf('5u98_D_rec_5u98_1kx_lig_tt_min_0.sdf')[0]"
   ]
  },
  {
   "cell_type": "code",
   "execution_count": 33,
   "metadata": {},
   "outputs": [],
   "source": [
    "cana_mol = canical_mol(mol)"
   ]
  },
  {
   "cell_type": "code",
   "execution_count": 34,
   "metadata": {},
   "outputs": [
    {
     "data": {
      "image/png": "[encoded data removed]",
      "text/plain": [
       "<rdkit.Chem.rdchem.Mol at 0x7fb488e49340>"
      ]
     },
     "execution_count": 34,
     "metadata": {},
     "output_type": "execute_result"
    }
   ],
   "source": [
    "transfer_conf(cana_mol, mol)"
   ]
  }
 ],
 "metadata": {
  "kernelspec": {
   "display_name": "carbon",
   "language": "python",
   "name": "python3"
  },
  "language_info": {
   "codemirror_mode": {
    "name": "ipython",
    "version": 3
   },
   "file_extension": ".py",
   "mimetype": "text/x-python",
   "name": "python",
   "nbconvert_exporter": "python",
   "pygments_lexer": "ipython3",
   "version": "3.9.15"
  },
  "orig_nbformat": 4
 },
 "nbformat": 4,
 "nbformat_minor": 2
}
