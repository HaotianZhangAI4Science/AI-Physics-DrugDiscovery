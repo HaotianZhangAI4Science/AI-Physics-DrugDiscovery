{
 "cells": [
  {
   "cell_type": "code",
   "execution_count": 1,
   "metadata": {},
   "outputs": [
    {
     "name": "stderr",
     "output_type": "stream",
     "text": [
      "2024-04-07 10:47:32,758 - rdkit - INFO - Enabling RDKit 2022.09.4 jupyter extensions\n"
     ]
    }
   ],
   "source": [
    "import pandas as pd\n",
    "import numpy as np\n",
    "from utils.grid2 import BuildGridCenters\n",
    "from rdkit import Chem\n",
    "from rdkit.Chem import AllChem\n",
    "from tqdm import tqdm\n",
    "import h5py\n",
    "from utils.xtb_density import interplot_ecloud"
   ]
  },
  {
   "cell_type": "code",
   "execution_count": 2,
   "metadata": {},
   "outputs": [],
   "source": [
    "def get_geom(mol, mmff=False):\n",
    "    mol_ = Chem.AddHs(mol)\n",
    "    AllChem.EmbedMolecule(mol_)\n",
    "    if mmff:\n",
    "        AllChem.MMFFOptimizeMolecule(mol_)\n",
    "    mol_ = Chem.RemoveHs(mol_)\n",
    "    return mol_\n",
    "\n",
    "def get_center(mol):\n",
    "    return mol.GetConformer().GetPositions().mean(axis=0)\n",
    "\n",
    "def protocol(mode=32):\n",
    "    size = mode\n",
    "    N = [size, size, size]\n",
    "    if mode == 32:\n",
    "        resolution = 0.5\n",
    "        llc = (np.zeros(3) - float(size * resolution / 2)) + resolution / 2\n",
    "        expanded_pcenters = BuildGridCenters(llc, N, resolution)\n",
    "    elif mode == 64:\n",
    "        resolution = 0.2\n",
    "        llc = (np.zeros(3) - float(size * resolution / 2)) + resolution / 2\n",
    "        expanded_pcenters = BuildGridCenters(llc, N, resolution)\n",
    "    \n",
    "    return {'expanded_pcenters':expanded_pcenters, 'N':N}\n",
    "\n",
    "def get_ligecloud(mol,calculater, protocol, add_noise=True):\n",
    "    stand_grid = protocol['expanded_pcenters']\n",
    "    N = protocol['N']\n",
    "    mol_center = mol_center = get_center(mol) \n",
    "    lig_grids = stand_grid + mol_center \n",
    "    if add_noise:\n",
    "        lig_grids += np.random.randn(3).astype(np.float32)\n",
    "    lig_ecloud = calculater.calculate(mol)\n",
    "    lig_density = interplot_ecloud(lig_ecloud, lig_grids.transpose(3, 0, 1, 2)).reshape(N)\n",
    "    return lig_density"
   ]
  },
  {
   "cell_type": "code",
   "execution_count": 4,
   "metadata": {},
   "outputs": [],
   "source": [
    "mols_data = pd.read_csv('./data/moses2.csv')"
   ]
  },
  {
   "cell_type": "code",
   "execution_count": 5,
   "metadata": {},
   "outputs": [],
   "source": [
    "smiles = mols_data.iloc[0].SMILES\n",
    "mol = Chem.MolFromSmiles(smiles)\n",
    "mol_ = Chem.AddHs(mol)\n",
    "AllChem.EmbedMolecule(mol_)\n",
    "AllChem.MMFFOptimizeMolecule(mol_)\n",
    "mol = Chem.RemoveHs(mol_)"
   ]
  },
  {
   "cell_type": "code",
   "execution_count": 7,
   "metadata": {},
   "outputs": [],
   "source": [
    "from utils.xtb_density import CDCalculator, interplot_ecloud\n",
    "calculater = CDCalculator(xtb_command='/home/haotian/Molecule_Generation/MG/ECloudGen_old/xtb-bleed/bin/xtb')"
   ]
  },
  {
   "cell_type": "code",
   "execution_count": 8,
   "metadata": {},
   "outputs": [],
   "source": [
    "lig_density = get_ligecloud(mol,calculater, protocol(32))"
   ]
  },
  {
   "cell_type": "code",
   "execution_count": 9,
   "metadata": {},
   "outputs": [
    {
     "data": {
      "text/plain": [
       "(32, 32, 32)"
      ]
     },
     "execution_count": 9,
     "metadata": {},
     "output_type": "execute_result"
    }
   ],
   "source": [
    "lig_density.shape"
   ]
  },
  {
   "cell_type": "code",
   "execution_count": 14,
   "metadata": {},
   "outputs": [
    {
     "name": "stderr",
     "output_type": "stream",
     "text": [
      "100%|██████████| 10/10 [00:01<00:00,  9.35it/s]\n"
     ]
    }
   ],
   "source": [
    "condition_list = []\n",
    "ecloud_list = []\n",
    "smiles_list = []\n",
    "\n",
    "prot = protocol(32)\n",
    "for i in tqdm(range(10)):\n",
    "    data = mols_data.iloc[i]\n",
    "    if data.SPLIT == 'train':\n",
    "        smiles = data.SMILES\n",
    "        condition = [data.qed, data.logp, data.TPSA]\n",
    "        mol = Chem.MolFromSmiles(smiles)\n",
    "        mol = get_geom(mol,mmff=False)\n",
    "        lig_density = get_ligecloud(mol,calculater, prot).astype(np.float32)\n",
    "        np.save(f'./data/ecloud/{i}.npy',lig_density)\n",
    "        ecloud_list.append(lig_density)\n",
    "        condition_list.append(condition)\n",
    "        smiles_list.append(smiles)"
   ]
  },
  {
   "cell_type": "code",
   "execution_count": 25,
   "metadata": {},
   "outputs": [],
   "source": [
    "from data.dataset import create_h5"
   ]
  },
  {
   "cell_type": "code",
   "execution_count": 26,
   "metadata": {},
   "outputs": [
    {
     "name": "stderr",
     "output_type": "stream",
     "text": [
      "100%|██████████| 854/854 [00:01<00:00, 643.33it/s]"
     ]
    },
    {
     "name": "stdout",
     "output_type": "stream",
     "text": [
      "Creation Done.\n"
     ]
    },
    {
     "name": "stderr",
     "output_type": "stream",
     "text": [
      "\n"
     ]
    }
   ],
   "source": [
    "create_h5('./mol_data/ecloud.h5', './mol_data/ecloud', './mol_data/moses2.csv')"
   ]
  },
  {
   "cell_type": "code",
   "execution_count": 108,
   "metadata": {},
   "outputs": [],
   "source": [
    "ecloud_root = './mol_data/ecloud'\n",
    "save_file = './mol_data/ecloud.h5'\n",
    "files = os.listdir(ecloud_root)\n",
    "files = sorted(files, key=lambda x: int(x.split('.')[0]))\n",
    "num_files = len(files)\n",
    "smiles = []"
   ]
  },
  {
   "cell_type": "code",
   "execution_count": null,
   "metadata": {},
   "outputs": [],
   "source": [
    "import numpy as np\n",
    "import h5py\n",
    "\n",
    "# Example data\n",
    "num_files = 10  # just for this example\n",
    "voxel_data = np.random.rand(num_files, 32, 32, 32).astype(np.float16)\n",
    "string_data = [f\"string_{i}\" for i in range(num_files)]\n",
    "\n",
    "save_file = \"data.h5\"\n",
    "\n",
    "with h5py.File(save_file, 'w') as hf:\n",
    "    # Saving voxel data\n",
    "    dset_voxel = hf.create_dataset(\n",
    "        name='voxel_data',\n",
    "        shape=(num_files, 32, 32, 32),\n",
    "        dtype=np.float16)\n",
    "    dset_voxel[:] = voxel_data\n",
    "\n",
    "    # Saving corresponding string data\n",
    "    # Convert string data to fixed-size byte strings first\n",
    "    byte_strings = [np.string_(s) for s in string_data]\n",
    "    dset_strings = hf.create_dataset(\n",
    "        name='string_data',\n",
    "        shape=(num_files,),\n",
    "        dtype=h5py.string_dtype(encoding='utf-8'))\n",
    "    dset_strings[:] = byte_strings\n"
   ]
  },
  {
   "cell_type": "code",
   "execution_count": 124,
   "metadata": {},
   "outputs": [
    {
     "name": "stderr",
     "output_type": "stream",
     "text": [
      "100%|██████████| 83/83 [00:00<00:00, 637.77it/s]\n"
     ]
    }
   ],
   "source": [
    "with h5py.File(save_file, 'w') as hf:\n",
    "\n",
    "    hf.create_dataset(\n",
    "        name='eclouds',\n",
    "        shape=(num_files, 32, 32, 32),\n",
    "        dtype=np.float16)\n",
    "\n",
    "    hf.create_dataset(\n",
    "        name='smiles',\n",
    "        shape=(num_files,),\n",
    "        dtype=h5py.string_dtype(encoding='utf-8'))\n",
    "\n",
    "    hf.create_dataset(\n",
    "        name='conditions',\n",
    "        shape=(num_files, 3),\n",
    "        dtype=np.float16)\n",
    "\n",
    "    for i in tqdm(range(num_files)):\n",
    "        file_name = os.path.join(ecloud_root, files[i])\n",
    "        mol_id = int(files[i][:-4])\n",
    "        ecloud = np.load(file_name)\n",
    "        hf['eclouds'][i] = ecloud\n",
    "        data = mols_data.iloc[mol_id]\n",
    "        smiles = data.SMILES\n",
    "        condition = [data.qed, data.logp, data.TPSA]\n",
    "        hf['smiles'][i] = smiles\n",
    "        hf['conditions'][i] = condition"
   ]
  },
  {
   "cell_type": "code",
   "execution_count": null,
   "metadata": {},
   "outputs": [],
   "source": [
    "with h5py.File(save_file, 'w') as hf:\n",
    "\n",
    "    hf.create_dataset(\n",
    "        name='eclouds',\n",
    "        shape=(num_files, 64, 64, 64),\n",
    "        dtype=np.float16)\n",
    "\n",
    "    for i in tqdm(range(num_files)):\n",
    "        file_name = os.path.join(ecloud_root, str(i) + '.npy')\n",
    "        ecloud = np.load(file_name)\n",
    "        hf['eclouds'][i] = ecloud\n",
    "    "
   ]
  },
  {
   "cell_type": "code",
   "execution_count": 104,
   "metadata": {},
   "outputs": [],
   "source": [
    "import numpy as np\n",
    "import h5py\n",
    "\n",
    "# Example data\n",
    "num_files = 10  # just for this example\n",
    "voxel_data = np.random.rand(num_files, 32, 32, 32).astype(np.float16)\n",
    "string_data = [f\"string_{i}\" for i in range(num_files)]\n",
    "\n",
    "save_file = \"data.h5\"\n",
    "\n",
    "with h5py.File(save_file, 'w') as hf:\n",
    "    # Saving voxel data\n",
    "    dset_voxel = hf.create_dataset(\n",
    "        name='voxel_data',\n",
    "        shape=(num_files, 32, 32, 32),\n",
    "        dtype=np.float16)\n",
    "    dset_voxel[:] = voxel_data\n",
    "\n",
    "    # Saving corresponding string data\n",
    "    # Convert string data to fixed-size byte strings first\n",
    "    byte_strings = [np.string_(s) for s in string_data]\n",
    "    dset_strings = hf.create_dataset(\n",
    "        name='string_data',\n",
    "        shape=(num_files,),\n",
    "        dtype=h5py.string_dtype(encoding='utf-8'))\n",
    "    dset_strings[:] = byte_strings\n"
   ]
  },
  {
   "cell_type": "code",
   "execution_count": 105,
   "metadata": {},
   "outputs": [
    {
     "name": "stdout",
     "output_type": "stream",
     "text": [
      "(10, 32, 32, 32)\n"
     ]
    }
   ],
   "source": [
    "import h5py\n",
    "\n",
    "# The file where data was saved\n",
    "save_file = \"data.h5\"\n",
    "\n",
    "with h5py.File(save_file, 'r') as hf:\n",
    "    # Load voxel data\n",
    "    voxel_data_loaded = hf['voxel_data'][:]\n",
    "    \n",
    "    # Load and decode string data\n",
    "    byte_strings_loaded = hf['string_data'][:]\n",
    "    string_data_loaded = [bs.decode('utf-8') for bs in byte_strings_loaded]\n",
    "\n",
    "print(voxel_data_loaded.shape)  # should print (num_files, 32, 32, 32\n"
   ]
  }
 ],
 "metadata": {
  "kernelspec": {
   "display_name": "Python 3.9.16 ('ecloudgen')",
   "language": "python",
   "name": "python3"
  },
  "language_info": {
   "codemirror_mode": {
    "name": "ipython",
    "version": 3
   },
   "file_extension": ".py",
   "mimetype": "text/x-python",
   "name": "python",
   "nbconvert_exporter": "python",
   "pygments_lexer": "ipython3",
   "version": "3.9.16"
  },
  "orig_nbformat": 4,
  "vscode": {
   "interpreter": {
    "hash": "9e31ffdbb73f50515c579a2fef6a8a4d932679b0c6584fdeb3b3c02b71bfacbc"
   }
  }
 },
 "nbformat": 4,
 "nbformat_minor": 2
}
