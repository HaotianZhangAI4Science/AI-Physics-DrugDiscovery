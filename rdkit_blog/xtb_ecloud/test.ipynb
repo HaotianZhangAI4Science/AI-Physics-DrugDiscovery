{
 "cells": [
  {
   "cell_type": "code",
   "execution_count": 1,
   "metadata": {},
   "outputs": [],
   "source": [
    "from xtb_density import CDCalculator"
   ]
  },
  {
   "cell_type": "code",
   "execution_count": 2,
   "metadata": {},
   "outputs": [],
   "source": [
    "claculator = CDCalculator()"
   ]
  },
  {
   "cell_type": "code",
   "execution_count": 3,
   "metadata": {},
   "outputs": [],
   "source": [
    "from rdkit import Chem"
   ]
  },
  {
   "cell_type": "code",
   "execution_count": 4,
   "metadata": {},
   "outputs": [],
   "source": [
    "mol = Chem.MolFromMolFile('./0.sdf')"
   ]
  },
  {
   "cell_type": "code",
   "execution_count": 5,
   "metadata": {},
   "outputs": [],
   "source": [
    "ecloud = claculator.calculate(mol)"
   ]
  },
  {
   "cell_type": "code",
   "execution_count": 6,
   "metadata": {},
   "outputs": [
    {
     "data": {
      "text/plain": [
       "{'org': array([-6.69103144, -4.89703166, -3.68583172]),\n",
       " 'xvec': [0.956569, 0.0, 0.0],\n",
       " 'yvec': [0.0, 0.952135, 0.0],\n",
       " 'zvec': [0.0, 0.0, 0.956453],\n",
       " 'nx': 26,\n",
       " 'ny': 19,\n",
       " 'nz': 15,\n",
       " 'len': array([13.16105835,  9.57311542,  7.59199751])}"
      ]
     },
     "execution_count": 6,
     "metadata": {},
     "output_type": "execute_result"
    }
   ],
   "source": [
    "ecloud['meta']"
   ]
  },
  {
   "cell_type": "code",
   "execution_count": 9,
   "metadata": {},
   "outputs": [
    {
     "data": {
      "text/plain": [
       "(26, 19, 15)"
      ]
     },
     "execution_count": 9,
     "metadata": {},
     "output_type": "execute_result"
    }
   ],
   "source": [
    "ecloud['density'].shape"
   ]
  },
  {
   "cell_type": "code",
   "execution_count": 10,
   "metadata": {},
   "outputs": [],
   "source": [
    "import numpy as np"
   ]
  },
  {
   "cell_type": "code",
   "execution_count": 11,
   "metadata": {},
   "outputs": [
    {
     "data": {
      "text/plain": [
       "[array([3, 4])]"
      ]
     },
     "execution_count": 11,
     "metadata": {},
     "output_type": "execute_result"
    }
   ],
   "source": [
    "np.meshgrid([3,4])"
   ]
  },
  {
   "cell_type": "code",
   "execution_count": 62,
   "metadata": {},
   "outputs": [],
   "source": [
    "import numpy as np\n",
    "\n",
    "x_len, y_len, z_len = ecloud['meta']['org']\n",
    "\n",
    "# 三个维度上cell的数量分别为 x_cell、y_cell、z_cell\n",
    "x_cell, y_cell, z_cell = ecloud['meta']['nx'], ecloud['meta']['ny'], ecloud['meta']['nz']\n",
    "\n",
    "# 使用 np.meshgrid 创建 X、Y、Z 三个网格数组\n",
    "X, Y, Z = np.meshgrid(np.arange(float(x_cell)), np.arange(float(y_cell)), np.arange(float(z_cell)))\n",
    "\n",
    "# 将每个网格点乘以网格密度，也就是每个 cell 的大小\n",
    "X *= x_len / x_cell\n",
    "Y *= y_len / float(y_cell)\n",
    "Z *= z_len / float(z_cell)\n",
    "\n",
    "# 将三个网格数组沿着最后一个轴合并成一个数组\n",
    "grid_coords = np.stack([X, Y, Z], axis=-1)"
   ]
  },
  {
   "cell_type": "code",
   "execution_count": null,
   "metadata": {},
   "outputs": [],
   "source": []
  },
  {
   "cell_type": "code",
   "execution_count": 70,
   "metadata": {},
   "outputs": [
    {
     "data": {
      "text/plain": [
       "(26, 19, 15)"
      ]
     },
     "execution_count": 70,
     "metadata": {},
     "output_type": "execute_result"
    }
   ],
   "source": [
    "ecloud['density'].shape"
   ]
  },
  {
   "cell_type": "code",
   "execution_count": 71,
   "metadata": {},
   "outputs": [
    {
     "data": {
      "text/plain": [
       "(19, 26, 15, 3)"
      ]
     },
     "execution_count": 71,
     "metadata": {},
     "output_type": "execute_result"
    }
   ],
   "source": [
    "grid_coords.shape"
   ]
  },
  {
   "cell_type": "code",
   "execution_count": 80,
   "metadata": {},
   "outputs": [
    {
     "data": {
      "text/plain": [
       "array([-0.        , -0.        , -2.45722115])"
      ]
     },
     "execution_count": 80,
     "metadata": {},
     "output_type": "execute_result"
    }
   ],
   "source": [
    "grid_coords.reshape(x_cell*y_cell*z_cell, -1)[10]"
   ]
  },
  {
   "cell_type": "code",
   "execution_count": 81,
   "metadata": {},
   "outputs": [
    {
     "data": {
      "text/plain": [
       "array([3.77821844e-11])"
      ]
     },
     "execution_count": 81,
     "metadata": {},
     "output_type": "execute_result"
    }
   ],
   "source": [
    "ecloud['density'].reshape(x_cell*y_cell*z_cell, -1)[10]"
   ]
  },
  {
   "cell_type": "code",
   "execution_count": 48,
   "metadata": {},
   "outputs": [],
   "source": [
    "import torch"
   ]
  },
  {
   "cell_type": "code",
   "execution_count": 49,
   "metadata": {},
   "outputs": [],
   "source": [
    "grid_coords = torch.tensor(grid_coords)"
   ]
  },
  {
   "cell_type": "code",
   "execution_count": 55,
   "metadata": {},
   "outputs": [
    {
     "data": {
      "text/plain": [
       "torch.Size([19, 26, 15, 3])"
      ]
     },
     "execution_count": 55,
     "metadata": {},
     "output_type": "execute_result"
    }
   ],
   "source": [
    "grid_coords.shape"
   ]
  },
  {
   "cell_type": "code",
   "execution_count": 9,
   "metadata": {},
   "outputs": [],
   "source": [
    "import numpy as np\n",
    "lig_ocup = np.load('./lig_occup.npy')\n",
    "pkt_ocup = np.load('./pkt_occup.npy')"
   ]
  },
  {
   "cell_type": "code",
   "execution_count": 11,
   "metadata": {},
   "outputs": [],
   "source": [
    "BOHR = 1.8897259886"
   ]
  },
  {
   "cell_type": "code",
   "execution_count": 13,
   "metadata": {},
   "outputs": [
    {
     "data": {
      "text/plain": [
       "{'org': array([-6.69103144, -4.89703166, -3.68583172]),\n",
       " 'xvec': [0.956569, 0.0, 0.0],\n",
       " 'yvec': [0.0, 0.952135, 0.0],\n",
       " 'zvec': [0.0, 0.0, 0.956453],\n",
       " 'nx': 26,\n",
       " 'ny': 19,\n",
       " 'nz': 15,\n",
       " 'len': array([13.16105835,  9.57311542,  7.59199751])}"
      ]
     },
     "execution_count": 13,
     "metadata": {},
     "output_type": "execute_result"
    }
   ],
   "source": [
    "ecloud['meta']"
   ]
  },
  {
   "cell_type": "code",
   "execution_count": 17,
   "metadata": {},
   "outputs": [],
   "source": [
    "from cubtools import *\n",
    "cube_parser = CubeFile('392d22118eef43b8919a03872ca44365/density.cub')"
   ]
  },
  {
   "cell_type": "code",
   "execution_count": null,
   "metadata": {},
   "outputs": [],
   "source": []
  },
  {
   "cell_type": "code",
   "execution_count": 119,
   "metadata": {},
   "outputs": [],
   "source": [
    "def _putline(*args):\n",
    "    \"\"\"\n",
    "    Generate a line to be written to a cube file where\n",
    "    the first field is an int and the remaining fields are floats.\n",
    "\n",
    "    params:\n",
    "        *args: first arg is formatted as int and remaining as floats\n",
    "\n",
    "    returns: formatted string to be written to file with trailing newline\n",
    "    \"\"\"\n",
    "    s = \"{0:^ 8d}\".format(args[0])\n",
    "    s += \"\".join(\"{0:< 12.6f}\".format(arg) for arg in args[1:])\n",
    "    return s + \"\\n\"\n",
    "\n",
    "def write_cube(fname, meta, data):\n",
    "    with open(fname, \"w\") as cube:\n",
    "        # first two lines are comments\n",
    "        cube.write(\" Cubefile created by cubetools.py\\n  source: none\\n\")\n",
    "        natm = len(meta['atoms'])\n",
    "        nx, ny, nz = data.shape\n",
    "        cube.write(_putline(natm, *meta['org'])) # 3rd line #atoms and origin\n",
    "        cube.write(_putline(nx, *meta['xvec']))\n",
    "        cube.write(_putline(ny, *meta['yvec']))\n",
    "        cube.write(_putline(nz, *meta['zvec']))\n",
    "        for atom_mass, atom_pos in meta['atoms']:\n",
    "            cube.write(_putline(atom_mass, *atom_pos)) #skip the newline\n",
    "        for i in range(nx):\n",
    "            for j in range(ny):\n",
    "                for k in range(nz):\n",
    "                    if (i or j or k) and k%6==0:\n",
    "                        cube.write(\"\\n\")\n",
    "                    cube.write(\" {0: .5E}\".format(data[i,j,k]))\n",
    "\n",
    "def write_dualcube(pkt_mol, lig_mol, pkt_data, lig_data):\n",
    "\n",
    "    lig_conf = lig_mol.GetConformer(0).GetPositions() *BOHR \n",
    "    lig_atoms = [(int(atom.GetMass()), lig_conf[atom.GetIdx()]) for atom in lig_mol.GetAtoms()]\n",
    "    \n",
    "    pkt_conf = pkt_mol.GetConformer(0).GetPositions() *BOHR\n",
    "    pkt_atoms = [(int(atom.GetMass()), pkt_conf[atom.GetIdx()]) for atom in pkt_mol.GetAtoms()]\n",
    "    pkt_center = pkt_conf.mean(axis=0)\n",
    "\n",
    "    pkt_meta = {'org':np.array([-12,-12,-12])*BOHR + pkt_center, \\\n",
    "        'xvec':[1.0*BOHR, 0.0, 0.0],'yvec':[0.0, 1.0*BOHR, 0.0],'zvec':[0.0, 0.0, 1.0*BOHR],\\\n",
    "            'nx':np.array(24),'ny':np.array(24),'nz':np.array(24),\\\n",
    "                'atoms':pkt_atoms}\n",
    "\n",
    "    lig_meta = {'org':np.array([-12,-12,-12])*BOHR + pkt_center, \\\n",
    "        'xvec':[1.0*BOHR, 0.0, 0.0],'yvec':[0.0, 1.0*BOHR, 0.0],'zvec':[0.0, 0.0, 1.0*BOHR],\\\n",
    "            'nx':np.array(24),'ny':np.array(24),'nz':np.array(24),\\\n",
    "                'atoms':lig_atoms}\n",
    "    \n",
    "    write_cube('./pkt.cub',pkt_meta,pkt_data)\n",
    "    write_cube('./lig.cub',lig_meta,lig_data)"
   ]
  },
  {
   "cell_type": "code",
   "execution_count": 120,
   "metadata": {},
   "outputs": [],
   "source": [
    "pkt_data = np.load('./pkt_occup.npy')\n",
    "lig_data = np.load('./lig_occup.npy')\n",
    "lig_mol = Chem.MolFromMolFile('./lig.sdf')\n",
    "pkt_mol = Chem.MolFromMolFile('./pkt.sdf')\n",
    "write_dualcube(pkt_mol, lig_mol, pkt_data, lig_data)"
   ]
  },
  {
   "cell_type": "code",
   "execution_count": 121,
   "metadata": {},
   "outputs": [],
   "source": [
    "Chem.MolToPDBFile(pkt_mol, './pkt.pdb')"
   ]
  },
  {
   "cell_type": "code",
   "execution_count": 113,
   "metadata": {},
   "outputs": [],
   "source": [
    "fname = 'test.cub'\n",
    "data = lig_ocup\n",
    "\n",
    "\n",
    "with open(fname, \"w\") as cube:\n",
    "    # first two lines are comments\n",
    "    cube.write(\" Cubefile created by cubetools.py\\n  source: none\\n\")\n",
    "    natm = len(meta['atoms'])\n",
    "    nx, ny, nz = data.shape\n",
    "    cube.write(_putline(natm, *meta['org'])) # 3rd line #atoms and origin\n",
    "    cube.write(_putline(nx, *meta['xvec']))\n",
    "    cube.write(_putline(ny, *meta['yvec']))\n",
    "    cube.write(_putline(nz, *meta['zvec']))\n",
    "    for atom_mass, atom_pos in meta['atoms']:\n",
    "        cube.write(_putline(atom_mass, *atom_pos)) #skip the newline\n",
    "    for i in range(nx):\n",
    "        for j in range(ny):\n",
    "            for k in range(nz):\n",
    "                if (i or j or k) and k%6==0:\n",
    "                    cube.write(\"\\n\")\n",
    "                cube.write(\" {0: .5E}\".format(data[i,j,k]))"
   ]
  }
 ],
 "metadata": {
  "kernelspec": {
   "display_name": "Python 3.8.13 ('SurfGen')",
   "language": "python",
   "name": "python3"
  },
  "language_info": {
   "codemirror_mode": {
    "name": "ipython",
    "version": 3
   },
   "file_extension": ".py",
   "mimetype": "text/x-python",
   "name": "python",
   "nbconvert_exporter": "python",
   "pygments_lexer": "ipython3",
   "version": "3.8.13"
  },
  "orig_nbformat": 4,
  "vscode": {
   "interpreter": {
    "hash": "58c8be33f25b1934ef57e2589968d87ff83eb50288ed379ce5e63e82eedc880a"
   }
  }
 },
 "nbformat": 4,
 "nbformat_minor": 2
}
