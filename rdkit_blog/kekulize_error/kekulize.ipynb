{
 "cells": [
  {
   "cell_type": "markdown",
   "metadata": {},
   "source": [
    "99% Kekulize errors are caused by aromatic nitrogen "
   ]
  },
  {
   "cell_type": "code",
   "execution_count": 16,
   "metadata": {},
   "outputs": [],
   "source": [
    "from rdkit import Chem\n",
    "from rdkit.Chem.rdchem import BondType\n",
    "import numpy as np\n",
    "from rdkit.Chem import AllChem\n",
    "from rdkit import Geometry\n",
    "BOND_TYPES = {t: i for i, t in enumerate(BondType.names.values())}\n",
    "bond_type_map = {\n",
    "    BOND_TYPES[BondType.SINGLE]:1,\n",
    "    BOND_TYPES[BondType.DOUBLE]:2,\n",
    "    BOND_TYPES[BondType.TRIPLE]:3,\n",
    "    BOND_TYPES[BondType.AROMATIC]:4,\n",
    "}\n",
    "def parse_rdmol(rdmol):\n",
    "    Chem.SanitizeMol(rdmol)\n",
    "    num_atoms = rdmol.GetNumAtoms()\n",
    "    num_bonds = rdmol.GetNumBonds()\n",
    "    ptable = Chem.GetPeriodicTable()\n",
    "\n",
    "    element, pos = [], []\n",
    "    accum_pos = np.array([0.0, 0.0, 0.0], dtype=np.float32)\n",
    "    accum_mass = 0.0\n",
    "    confs = np.array(rdmol.GetConformer().GetPositions())\n",
    "    pos = np.array(rdmol.GetConformer().GetPositions())\n",
    "    \n",
    "    for i in range(num_atoms):\n",
    "        x, y, z = map(float, confs[i])\n",
    "        symb = rdmol.GetAtomWithIdx(i).GetSymbol()\n",
    "        atomic_number = ptable.GetAtomicNumber(symb.capitalize())\n",
    "        element.append(atomic_number)\n",
    "        atomic_weight = ptable.GetAtomicWeight(atomic_number)\n",
    "        accum_pos += np.array([x, y, z]) * atomic_weight\n",
    "        accum_mass += atomic_weight\n",
    "\n",
    "\n",
    "    center_of_mass = np.array(accum_pos / accum_mass, dtype=np.float32)\n",
    "\n",
    "    element = np.array(element, dtype=np.int32)\n",
    "    pos = np.array(pos, dtype=np.float32)\n",
    "    row, col, edge_type = [], [], []\n",
    "    for i in range(num_bonds):\n",
    "        bond = rdmol.GetBondWithIdx(i)\n",
    "        u = bond.GetBeginAtomIdx()\n",
    "        v = bond.GetEndAtomIdx()\n",
    "        row += [u,v]\n",
    "        col += [v,u]\n",
    "        edge_type += 2*[bond_type_map[bond.GetBondType()]]\n",
    "\n",
    "    edge_index = np.array([row, col], dtype=np.compat.long)\n",
    "    edge_type = np.array(edge_type, dtype=np.compat.long)\n",
    "\n",
    "    perm = (edge_index[0] * num_atoms + edge_index[1]).argsort()\n",
    "    edge_index = edge_index[:, perm]\n",
    "    edge_type = edge_type[perm]\n",
    "    implicit_hydrogen = np.array([a.GetTotalNumHs() for a in rdmol.GetAtoms()], dtype=np.int32)\n",
    "    data = {\n",
    "        'element': element,\n",
    "        'pos': pos,\n",
    "        'bond_index': edge_index,\n",
    "        'bond_type': edge_type,\n",
    "        'center_of_mass': center_of_mass,\n",
    "        'implicit_hydrogen': implicit_hydrogen\n",
    "    }\n",
    "    return data"
   ]
  },
  {
   "cell_type": "markdown",
   "metadata": {},
   "source": [
    "Here is an example"
   ]
  },
  {
   "cell_type": "code",
   "execution_count": 12,
   "metadata": {},
   "outputs": [
    {
     "name": "stderr",
     "output_type": "stream",
     "text": [
      "[10:24:23] Molecule does not have explicit Hs. Consider calling AddHs()\n"
     ]
    },
    {
     "data": {
      "text/plain": [
       "0"
      ]
     },
     "execution_count": 12,
     "metadata": {},
     "output_type": "execute_result"
    }
   ],
   "source": [
    "ori_smi = 'O=c1cccc[nH]1'\n",
    "ori_mol = Chem.MolFromSmiles(ori_smi)\n",
    "AllChem.EmbedMolecule(ori_mol)"
   ]
  },
  {
   "cell_type": "code",
   "execution_count": 13,
   "metadata": {},
   "outputs": [
    {
     "data": {
      "image/png": "[encoded data removed]",
      "text/plain": [
       "<rdkit.Chem.rdchem.Mol at 0x7f6737c776a0>"
      ]
     },
     "execution_count": 13,
     "metadata": {},
     "output_type": "execute_result"
    }
   ],
   "source": [
    "ori_mol"
   ]
  },
  {
   "cell_type": "markdown",
   "metadata": {},
   "source": [
    "Then I parse the ori_mol, to get its atomic types, positions, and bonding relationships."
   ]
  },
  {
   "cell_type": "code",
   "execution_count": 21,
   "metadata": {},
   "outputs": [],
   "source": [
    "data = parse_rdmol(ori_mol)\n",
    "atom_ele = data['element'].tolist()\n",
    "atom_pos = data['pos'].tolist()\n",
    "bond_index = data['bond_index'].tolist()\n",
    "bond_type = data['bond_type'].tolist()"
   ]
  },
  {
   "cell_type": "markdown",
   "metadata": {},
   "source": [
    "Basically, yuo may think this information is enough to recover a molecule, but it will cause some problem, let me show you."
   ]
  },
  {
   "cell_type": "code",
   "execution_count": 22,
   "metadata": {},
   "outputs": [],
   "source": [
    "\n",
    "n_atoms = len(atom_ele)\n",
    "\n",
    "rd_mol = Chem.RWMol()\n",
    "rd_conf = Chem.Conformer(n_atoms)\n",
    "\n",
    "# add atoms and coordinates\n",
    "for i, atom in enumerate(atom_ele):\n",
    "    rd_atom = Chem.Atom(atom)\n",
    "    rd_mol.AddAtom(rd_atom)\n",
    "    rd_coords = Geometry.Point3D(*atom_pos[i])\n",
    "    rd_conf.SetAtomPosition(i, rd_coords)\n",
    "rd_mol.AddConformer(rd_conf)\n",
    "\n",
    "# add bonds\n",
    "for i, type_this in enumerate(bond_type):\n",
    "    node_i, node_j = bond_index[0][i], bond_index[1][i]\n",
    "    if node_i < node_j:\n",
    "        if type_this == 1:\n",
    "            rd_mol.AddBond(node_i, node_j, Chem.BondType.SINGLE)\n",
    "        elif type_this == 2:\n",
    "            rd_mol.AddBond(node_i, node_j, Chem.BondType.DOUBLE)\n",
    "        elif type_this == 3:\n",
    "            rd_mol.AddBond(node_i, node_j, Chem.BondType.TRIPLE)\n",
    "        elif type_this == 4:\n",
    "            rd_mol.AddBond(node_i, node_j, Chem.BondType.AROMATIC)\n",
    "        else:\n",
    "            raise Exception('unknown bond order {}'.format(type_this))"
   ]
  },
  {
   "cell_type": "markdown",
   "metadata": {},
   "source": [
    "The rd_mol seems correct"
   ]
  },
  {
   "cell_type": "code",
   "execution_count": 24,
   "metadata": {},
   "outputs": [
    {
     "data": {
      "image/png": "[encoded data removed]",
      "text/plain": [
       "<rdkit.Chem.rdchem.RWMol at 0x7f6737c9edb0>"
      ]
     },
     "execution_count": 24,
     "metadata": {},
     "output_type": "execute_result"
    }
   ],
   "source": [
    "rd_mol"
   ]
  },
  {
   "cell_type": "code",
   "execution_count": 25,
   "metadata": {},
   "outputs": [
    {
     "name": "stderr",
     "output_type": "stream",
     "text": [
      "[10:28:41] Can't kekulize mol.  Unkekulized atoms: 2 3 4 5 6\n"
     ]
    },
    {
     "ename": "KekulizeException",
     "evalue": "Can't kekulize mol.  Unkekulized atoms: 2 3 4 5 6",
     "output_type": "error",
     "traceback": [
      "\u001b[0;31m---------------------------------------------------------------------------\u001b[0m",
      "\u001b[0;31mKekulizeException\u001b[0m                         Traceback (most recent call last)",
      "Cell \u001b[0;32mIn[25], line 1\u001b[0m\n\u001b[0;32m----> 1\u001b[0m Chem\u001b[39m.\u001b[39;49mSanitizeMol(rd_mol)\n",
      "\u001b[0;31mKekulizeException\u001b[0m: Can't kekulize mol.  Unkekulized atoms: 2 3 4 5 6"
     ]
    }
   ],
   "source": [
    "Chem.SanitizeMol(rd_mol)"
   ]
  },
  {
   "cell_type": "markdown",
   "metadata": {},
   "source": [
    "Now you can see the problem, I think the most annoying part in rdkit is \"Can't kekulize mol.\", even you are very sure that your molecules are chemically valid."
   ]
  },
  {
   "cell_type": "markdown",
   "metadata": {},
   "source": [
    "While reconstructing a molecule from atomic and bonding data, the molecule you tried to build ended up with some atoms connected only by aromatic bonds. This caused RDKit to raise a \"Can't kekulize mol\" error when it tried to depict the molecule's structure in a clearer bond format.\n",
    "\n",
    "Ensure that atoms in aromatic rings, especially nitrogens, have the correct valence and connectivity. For instance, a nitrogen atom in a pyridine ring should have one implicit hydrogen if it's only connected to other atoms with aromatic bonds.\n",
    "\n",
    "Thus, the solution is to provide implicit hydrogens directly."
   ]
  },
  {
   "cell_type": "code",
   "execution_count": 42,
   "metadata": {},
   "outputs": [],
   "source": [
    "data = parse_rdmol(ori_mol)\n",
    "atom_ele = data['element'].tolist()\n",
    "atom_pos = data['pos'].tolist()\n",
    "bond_index = data['bond_index'].tolist()\n",
    "bond_type = data['bond_type'].tolist()\n",
    "\n",
    "n_atoms = len(atom_ele)\n",
    "\n",
    "rd_mol = Chem.RWMol()\n",
    "rd_conf = Chem.Conformer(n_atoms)\n",
    "\n",
    "# add atoms and coordinates\n",
    "for i, atom in enumerate(atom_ele):\n",
    "    rd_atom = Chem.Atom(atom)\n",
    "    # Check for aromatic nitrogen and add an explicit Hydrogen\n",
    "    if atom == 7 and all(b == 4 for b in bond_type if (bond_index[0][i] == 6 or bond_index[1][i] == 6)):\n",
    "        rd_atom.SetNumExplicitHs(1)\n",
    "    rd_mol.AddAtom(rd_atom)\n",
    "    rd_coords = Geometry.Point3D(*atom_pos[i])\n",
    "    rd_conf.SetAtomPosition(i, rd_coords)\n",
    "\n",
    "rd_mol.AddConformer(rd_conf)\n",
    "\n",
    "# add bonds\n",
    "for i, type_this in enumerate(bond_type):\n",
    "    node_i, node_j = bond_index[0][i], bond_index[1][i]\n",
    "    if node_i < node_j:\n",
    "        if type_this == 1:\n",
    "            rd_mol.AddBond(node_i, node_j, Chem.BondType.SINGLE)\n",
    "        elif type_this == 2:\n",
    "            rd_mol.AddBond(node_i, node_j, Chem.BondType.DOUBLE)\n",
    "        elif type_this == 3:\n",
    "            rd_mol.AddBond(node_i, node_j, Chem.BondType.TRIPLE)\n",
    "        elif type_this == 4:\n",
    "            rd_mol.AddBond(node_i, node_j, Chem.BondType.AROMATIC)\n",
    "        else:\n",
    "            raise Exception('unknown bond order {}'.format(type_this))\n",
    "        "
   ]
  },
  {
   "cell_type": "code",
   "execution_count": 43,
   "metadata": {},
   "outputs": [
    {
     "data": {
      "image/png": "[encoded data removed]",
      "text/plain": [
       "<rdkit.Chem.rdchem.RWMol at 0x7f673528a2c0>"
      ]
     },
     "execution_count": 43,
     "metadata": {},
     "output_type": "execute_result"
    }
   ],
   "source": [
    "rd_mol"
   ]
  },
  {
   "cell_type": "code",
   "execution_count": 39,
   "metadata": {},
   "outputs": [
    {
     "data": {
      "text/plain": [
       "rdkit.Chem.rdmolops.SanitizeFlags.SANITIZE_NONE"
      ]
     },
     "execution_count": 39,
     "metadata": {},
     "output_type": "execute_result"
    }
   ],
   "source": [
    "Chem.SanitizeMol(rd_mol)"
   ]
  },
  {
   "cell_type": "code",
   "execution_count": 40,
   "metadata": {},
   "outputs": [
    {
     "data": {
      "image/png": "[encoded data removed]",
      "text/plain": [
       "<rdkit.Chem.rdchem.RWMol at 0x7f6735265400>"
      ]
     },
     "execution_count": 40,
     "metadata": {},
     "output_type": "execute_result"
    }
   ],
   "source": [
    "rd_mol"
   ]
  },
  {
   "cell_type": "markdown",
   "metadata": {},
   "source": [
    "if atom == 7 and all(b == 4 for b in bond_type if (bond_index[0][i] == 6 or bond_index[1][i] == 6)):\n",
    "if atom == 7: This part of the condition checks if the current atom is a nitrogen atom, as atomic number 7 corresponds to nitrogen.\n",
    "\n",
    "all(b == 4 for b in bond_type if (bond_index[0][i] == 6 or bond_index[1][i] == 6)):\n",
    "\n",
    "This complex condition iterates over all the bond types (b in bond_type) associated with the nitrogen atom (with index 6, as indexed from 0).\n",
    "It checks if all these bonds are aromatic (b == 4).\n",
    "If all bonds of this nitrogen atom are aromatic, the condition becomes true.\n",
    "In simple terms, the combined condition checks if the current atom is a nitrogen atom and all of its bonds are aromatic. If these criteria are met, the nitrogen atom might have an implicit hydrogen, which can help resolve the kekulization problem. By ensuring that such nitrogens are given their due implicit hydrogen, we can prevent kekulization errors when depicting the molecule's structure.\n",
    "\n",
    "Sulfur, with an atomic number of 16, does occasionally appear in aromatic systems (e.g., thiophene). Sulfur in aromatic rings usually doesn't have the same implicit hydrogen consideration as nitrogen does. However, the representation of sulfur in aromatic systems can still lead to issues, especially if other parts of the molecule interact with the sulfur atom or if there are charges to consider. Thus, the sulfur code is:\n",
    "\n",
    "if atom == 16 and all(b == 4 for b in bond_type if (bond_index[0][i] == sulfur_index or bond_index[1][i] == sulfur_index)):\n"
   ]
  },
  {
   "cell_type": "markdown",
   "metadata": {},
   "source": [
    "But I highly recommend the most safe way, instead of automatically detect the implicit H, we can directly assign them from the original molecules. "
   ]
  },
  {
   "cell_type": "code",
   "execution_count": 44,
   "metadata": {},
   "outputs": [],
   "source": [
    "data = parse_rdmol(ori_mol)\n",
    "atom_ele = data['element'].tolist()\n",
    "atom_pos = data['pos'].tolist()\n",
    "bond_index = data['bond_index'].tolist()\n",
    "bond_type = data['bond_type'].tolist()\n",
    "implicit_hydrogen = data['implicit_hydrogen'].tolist() # record the implicit hydrogen information\n",
    "n_atoms = len(atom_ele)\n",
    "\n",
    "rd_mol = Chem.RWMol()\n",
    "rd_conf = Chem.Conformer(n_atoms)\n",
    "\n",
    "# add atoms and coordinates\n",
    "for i, atom in enumerate(atom_ele):\n",
    "    rd_atom = Chem.Atom(atom)\n",
    "\n",
    "    rd_atom.SetNumExplicitHs(implicit_hydrogen[i]) # add explicit hydrogen\n",
    "\n",
    "    rd_mol.AddAtom(rd_atom)\n",
    "    rd_coords = Geometry.Point3D(*atom_pos[i])\n",
    "    rd_conf.SetAtomPosition(i, rd_coords)\n",
    "\n",
    "rd_mol.AddConformer(rd_conf)\n",
    "\n",
    "# add bonds\n",
    "for i, type_this in enumerate(bond_type):\n",
    "    node_i, node_j = bond_index[0][i], bond_index[1][i]\n",
    "    if node_i < node_j:\n",
    "        if type_this == 1:\n",
    "            rd_mol.AddBond(node_i, node_j, Chem.BondType.SINGLE)\n",
    "        elif type_this == 2:\n",
    "            rd_mol.AddBond(node_i, node_j, Chem.BondType.DOUBLE)\n",
    "        elif type_this == 3:\n",
    "            rd_mol.AddBond(node_i, node_j, Chem.BondType.TRIPLE)\n",
    "        elif type_this == 4:\n",
    "            rd_mol.AddBond(node_i, node_j, Chem.BondType.AROMATIC)\n",
    "        else:\n",
    "            raise Exception('unknown bond order {}'.format(type_this))\n",
    "        "
   ]
  },
  {
   "cell_type": "code",
   "execution_count": 45,
   "metadata": {},
   "outputs": [
    {
     "data": {
      "image/png": "[encoded data removed]",
      "text/plain": [
       "<rdkit.Chem.rdchem.RWMol at 0x7f6735283310>"
      ]
     },
     "execution_count": 45,
     "metadata": {},
     "output_type": "execute_result"
    }
   ],
   "source": [
    "rd_mol"
   ]
  },
  {
   "cell_type": "code",
   "execution_count": 46,
   "metadata": {},
   "outputs": [
    {
     "data": {
      "text/plain": [
       "rdkit.Chem.rdmolops.SanitizeFlags.SANITIZE_NONE"
      ]
     },
     "execution_count": 46,
     "metadata": {},
     "output_type": "execute_result"
    }
   ],
   "source": [
    "Chem.SanitizeMol(rd_mol)"
   ]
  }
 ],
 "metadata": {
  "kernelspec": {
   "display_name": "carbon",
   "language": "python",
   "name": "python3"
  },
  "language_info": {
   "codemirror_mode": {
    "name": "ipython",
    "version": 3
   },
   "file_extension": ".py",
   "mimetype": "text/x-python",
   "name": "python",
   "nbconvert_exporter": "python",
   "pygments_lexer": "ipython3",
   "version": "3.9.15"
  },
  "orig_nbformat": 4
 },
 "nbformat": 4,
 "nbformat_minor": 2
}
