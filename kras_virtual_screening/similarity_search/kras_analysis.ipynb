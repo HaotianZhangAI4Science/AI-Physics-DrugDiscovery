{
 "cells": [
  {
   "cell_type": "code",
   "execution_count": null,
   "metadata": {},
   "outputs": [],
   "source": [
    "\n",
    "import os.path as osp\n",
    "import os\n",
    "from glob import glob \n",
    "from rdkit import Chem\n",
    "import pandas as pd\n",
    "from PIL import Image\n",
    "import io\n",
    "from rdkit import DataStructs\n",
    "from rdkit.Chem import Draw\n",
    "from copy import deepcopy\n",
    "from utils import compute_sims, generalize, find_match, sort_lists_by_first_list, imgs2singlePDF, read_sdf, write_sdf\n",
    "\n",
    "def read_sdf(sdf_file, sanitize=False):\n",
    "    supp = Chem.SDMolSupplier(sdf_file, sanitize=sanitize)\n",
    "    mols_list = [i for i in supp]\n",
    "    return mols_list\n",
    "\n",
    "def write_sdf(mol_list,file, voice=False):\n",
    "    writer = Chem.SDWriter(file)\n",
    "    mol_cnt = 0\n",
    "    for i in mol_list:\n",
    "        try:\n",
    "            writer.write(i)\n",
    "            mol_cnt+=1\n",
    "        except:\n",
    "            pass\n",
    "    writer.close()\n",
    "    if voice: \n",
    "        print('Write {} molecules to {}'.format(mol_cnt,file))\n",
    "def save_img(ipy_Image, out_file):\n",
    "    img_byte_arr = io.BytesIO(ipy_Image.data)\n",
    "    img_pil = Image.open(img_byte_arr)\n",
    "    png_file = searched_file.replace('.sdf','.png')\n",
    "    img_pil.save(out_file)\n",
    "    print('saved at {}'.format(out_file))"
   ]
  },
  {
   "cell_type": "code",
   "execution_count": null,
   "metadata": {},
   "outputs": [],
   "source": [
    "# seperate actives sdf to single active sdf \n",
    "kras_act = read_sdf('./KRAS_POSITIVE.sdf')\n",
    "for i, mol in enumerate(kras_act):\n",
    "    write_sdf([mol], f'./kras_active/{i}.sdf')"
   ]
  },
  {
   "cell_type": "code",
   "execution_count": null,
   "metadata": {},
   "outputs": [],
   "source": [
    "\n",
    "all_mols = []\n",
    "for i in range(8):\n",
    "    sdf = f'./kras_active_sim_search/{i}_chemdiv_sim_100.sdf'\n",
    "    mols = read_sdf(sdf)\n",
    "    all_mols.extend(mols)\n",
    "ids = [mol.GetProp('IDNUMBER') for mol in all_mols]\n",
    "smiles = [mol.GetProp('Smile') for mol in all_mols]\n",
    "\n",
    "info = pd.DataFrame({'Title': ids, 'Smiles': smiles})\n",
    "info.to_csv('kras8act_ChemDiv_Sim_Search_Odin.csv')\n",
    "write_sdf(all_mols, './kras8act_ChemDiv_Sim_Search.sdf')"
   ]
  },
  {
   "cell_type": "code",
   "execution_count": 51,
   "metadata": {},
   "outputs": [],
   "source": [
    "\n",
    "all_mols = []\n",
    "for i in range(8):\n",
    "    sdf = f'./kras_active_sim_search/{i}_specs_sim_100.sdf'\n",
    "    mols = read_sdf(sdf)\n",
    "    all_mols.extend(mols)\n",
    "ids = [mol.GetProp('IDNUMBER') for mol in all_mols]\n",
    "smiles = [Chem.MolToSmiles(mol) for mol in all_mols]\n",
    "\n",
    "info = pd.DataFrame({'Title': ids, 'Smiles': smiles})\n",
    "info.to_csv('kras8act_Specs_Sim_Search_Odin.csv')\n",
    "write_sdf(all_mols, './kras8act_Specs_Sim_Search.sdf')"
   ]
  },
  {
   "cell_type": "code",
   "execution_count": null,
   "metadata": {},
   "outputs": [],
   "source": [
    "\n",
    "for i in range(8):\n",
    "    sdf = f'./kras_active_sim_search/{i}_chemdiv_sim_100.sdf'\n",
    "    pdf = f'./kras_active_sim_search_pdf/{i}_chemdiv_sim_100.pdf'\n",
    "    mols = read_sdf(sdf)\n",
    "    \n",
    "    ids = [mol.GetProp('IDNUMBER') for mol in mols]\n",
    "    number = list(range(len(mols)))\n",
    "    legends = [f'No.{i[0]}; ID: {i[1]};' for i in zip(number, ids)]\n",
    "    group_size = 52  \n",
    "    show_mols_group = [mols[i:i + group_size] for i in range(0, len(mols), group_size)]\n",
    "    legends_group = [legends[i:i + group_size] for i in range(0, len(legends), group_size)]\n",
    "    imgs = []\n",
    "    for show_mols, legend in zip(show_mols_group, legends_group):\n",
    "        imgs.append(Draw.MolsToGridImage(show_mols, molsPerRow=4, subImgSize=(500,500), legends=legend,maxMols=group_size))\n",
    "    imgs2singlePDF(imgs, pdf)"
   ]
  },
  {
   "cell_type": "code",
   "execution_count": null,
   "metadata": {},
   "outputs": [],
   "source": [
    "ids = [mol.GetProp('IDNUMBER') for mol in all_mols]"
   ]
  },
  {
   "cell_type": "code",
   "execution_count": null,
   "metadata": {},
   "outputs": [],
   "source": [
    "all_mols = []\n",
    "for i in range(8):\n",
    "    sdf = f'./kras_active_sim_search/{i}_specs_sim_100.sdf'\n",
    "    mols = read_sdf(sdf)\n",
    "    pdf = f'./kras_active_sim_search_pdf/{i}_specs_sim_100.pdf'\n",
    "    ids = [mol.GetProp('IDNUMBER') for mol in mols]\n",
    "    number = list(range(len(mols)))\n",
    "    legends = [f'No.{i[0]}; ID: {i[1]};' for i in zip(number, ids)]\n",
    "    group_size = 52  \n",
    "    show_mols_group = [mols[i:i + group_size] for i in range(0, len(mols), group_size)]\n",
    "    legends_group = [legends[i:i + group_size] for i in range(0, len(legends), group_size)]\n",
    "    imgs = []\n",
    "    for show_mols, legend in zip(show_mols_group, legends_group):\n",
    "        imgs.append(Draw.MolsToGridImage(show_mols, molsPerRow=4, subImgSize=(500,500), legends=legend,maxMols=group_size))\n",
    "    imgs2singlePDF(imgs, pdf)"
   ]
  }
 ],
 "metadata": {
  "kernelspec": {
   "display_name": "SurfGen",
   "language": "python",
   "name": "python3"
  },
  "language_info": {
   "codemirror_mode": {
    "name": "ipython",
    "version": 3
   },
   "file_extension": ".py",
   "mimetype": "text/x-python",
   "name": "python",
   "nbconvert_exporter": "python",
   "pygments_lexer": "ipython3",
   "version": "3.8.13"
  },
  "orig_nbformat": 4
 },
 "nbformat": 4,
 "nbformat_minor": 2
}
