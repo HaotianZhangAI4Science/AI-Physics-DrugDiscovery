{
 "cells": [
  {
   "cell_type": "code",
   "execution_count": 1,
   "metadata": {},
   "outputs": [
    {
     "name": "stdout",
     "output_type": "stream",
     "text": [
      "Downloading PDB structure '4bel'...\n",
      "Downloaded PDB file to ./4bel.pdb\n"
     ]
    }
   ],
   "source": [
    "from Bio.PDB import PDBList\n",
    "import os\n",
    "from extract_ligand import pdb_lig_split\n",
    "\n",
    "def download_pdb(pdb_id, file_format='pdb', target_path='.'):\n",
    "    \"\"\"\n",
    "    Download a PDB file given a PDB ID and rename it to pdbid.pdb.\n",
    "    \n",
    "    Args:\n",
    "        pdb_id (str): The ID of the PDB entry to download.\n",
    "        file_format (str): The file format to download ('pdb', 'mmCif', etc.).\n",
    "        target_path (str): Directory where the PDB file will be saved.\n",
    "        \n",
    "    Returns:\n",
    "        str: Path to the renamed PDB file.\n",
    "    \"\"\"\n",
    "    # Create a PDBList object\n",
    "    pdbl = PDBList()\n",
    "    \n",
    "    # Download the PDB file\n",
    "    file_path = pdbl.retrieve_pdb_file(pdb_id, pdir=target_path, file_format=file_format, overwrite=True)\n",
    "    \n",
    "    # Construct the new file path with the desired file name format\n",
    "    new_file_path = os.path.join(target_path, f\"{pdb_id.lower()}.pdb\")\n",
    "    \n",
    "    # Rename the downloaded file to the new file path\n",
    "    os.rename(file_path, new_file_path)\n",
    "    \n",
    "    return new_file_path\n",
    "\n",
    "# Example usage\n",
    "pdb_id = '4bel'  # Replace '1A2B' with your PDB ID\n",
    "downloaded_file = download_pdb(pdb_id, target_path='./')\n",
    "print(f'Downloaded PDB file to {downloaded_file}')\n"
   ]
  },
  {
   "cell_type": "code",
   "execution_count": 4,
   "metadata": {},
   "outputs": [
    {
     "data": {
      "text/plain": [
       "('./extraction/4bel_protein.pdb',\n",
       " ['./extraction/4bel_A_B3P_1399.pdb', './extraction/4bel_B_B3P_1398.pdb'])"
      ]
     },
     "execution_count": 4,
     "metadata": {},
     "output_type": "execute_result"
    }
   ],
   "source": [
    "pdb_lig_split(pdb_file='./4bel.pdb', out_dir='./extraction/')"
   ]
  }
 ],
 "metadata": {
  "kernelspec": {
   "display_name": "ecloud_molopt",
   "language": "python",
   "name": "python3"
  },
  "language_info": {
   "codemirror_mode": {
    "name": "ipython",
    "version": 3
   },
   "file_extension": ".py",
   "mimetype": "text/x-python",
   "name": "python",
   "nbconvert_exporter": "python",
   "pygments_lexer": "ipython3",
   "version": "3.9.19"
  },
  "orig_nbformat": 4
 },
 "nbformat": 4,
 "nbformat_minor": 2
}
