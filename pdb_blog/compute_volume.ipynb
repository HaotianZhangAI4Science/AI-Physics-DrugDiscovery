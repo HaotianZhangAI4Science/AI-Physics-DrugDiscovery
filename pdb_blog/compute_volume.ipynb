{
 "cells": [
  {
   "cell_type": "code",
   "execution_count": 1,
   "metadata": {},
   "outputs": [],
   "source": [
    "import freesasa\n",
    "from Bio.PDB import PDBParser\n",
    "from pdb_utils import *\n"
   ]
  },
  {
   "cell_type": "code",
   "execution_count": 2,
   "metadata": {},
   "outputs": [],
   "source": [
    "cry = './4gv1_protein.pdb'\n",
    "af = './4gv1_alpha.pdb'\n",
    "ligand = './4gv1_ori.sdf'\n",
    "\n",
    "cry_residues = pocket_trunction(cry, ligand, save_name='./cry_pocket.pdb')"
   ]
  },
  {
   "cell_type": "code",
   "execution_count": 3,
   "metadata": {},
   "outputs": [
    {
     "name": "stderr",
     "output_type": "stream",
     "text": [
      "/home/haotian/software/miniconda3/envs/carbon/lib/python3.9/site-packages/Bio/PDB/PDBParser.py:395: PDBConstructionWarning: Ignoring unrecognized record 'END' at line 3921\n",
      "  warnings.warn(\n"
     ]
    }
   ],
   "source": [
    "parser = PDBParser()\n",
    "af_structure = parser.get_structure(\"af\", af)\n",
    "af_residues = extract_alphafold_pocket(cry_residues, af_structure)"
   ]
  },
  {
   "cell_type": "code",
   "execution_count": 4,
   "metadata": {},
   "outputs": [],
   "source": [
    "residues_saver(af_structure, af_residues, './af_pocket.pdb')"
   ]
  },
  {
   "cell_type": "code",
   "execution_count": 5,
   "metadata": {},
   "outputs": [
    {
     "name": "stdout",
     "output_type": "stream",
     "text": [
      "Crystall Pocket 1 volume: 5842.138363032393\n",
      "AlphaFold Pocket 2 volume: 6014.777247963261\n"
     ]
    }
   ],
   "source": [
    "\n",
    "cry_pdb_file = './cry_pocket.pdb'\n",
    "af_pdb_file = './af_pocket.pdb'\n",
    "\n",
    "crystal_volume = calculate_pocket_sasa(cry_pdb_file)\n",
    "alphafpld_volume = calculate_pocket_sasa(af_pdb_file)\n",
    "\n",
    "print(f\"Crystall Pocket 1 volume: {crystal_volume}\")\n",
    "print(f\"AlphaFold Pocket 2 volume: {alphafpld_volume}\")"
   ]
  },
  {
   "cell_type": "code",
   "execution_count": 36,
   "metadata": {},
   "outputs": [
    {
     "name": "stdout",
     "output_type": "stream",
     "text": [
      "Monte Carlo Volume:  882.1127\n",
      "Convex Hull Volumes:  351.6829\n"
     ]
    }
   ],
   "source": [
    "from glob import glob\n",
    "pkt_files = np.sort(glob('./af_pocket_out/pockets/*.pdb'))\n",
    "\n",
    "distance = np.zeros(len(pkt_files))\n",
    "pkts_info = []\n",
    "lig_center = read_ligand_coords(ligand_sdf).mean(axis=0)\n",
    "for idx,pkt_file in enumerate(pkt_files):\n",
    "    pkt_info = read_pocket_info(pkt_file)\n",
    "    pkts_info.append(pkt_info)\n",
    "    distance[idx] = np.linalg.norm(lig_center - pkt_info[0])\n",
    "real_pocket_id = np.argmin(distance)\n",
    "real_mc_volume = pkts_info[real_pocket_id][1]\n",
    "real_hull_volume = pkts_info[real_pocket_id][2]\n",
    "\n",
    "print('Monte Carlo Volume: ', real_mc_volume)\n",
    "print('Convex Hull Volumes: ', real_hull_volume)"
   ]
  },
  {
   "cell_type": "code",
   "execution_count": null,
   "metadata": {},
   "outputs": [],
   "source": [
    "import numpy as np\n",
    "import matplotlib.pyplot as plt\n",
    "from mpl_toolkits.mplot3d.art3d import Poly3DCollection\n",
    "from scipy.spatial import ConvexHull\n",
    "\n",
    "\n",
    "def compute_convex_hull_volume(coords):\n",
    "    tri = Delaunay(coords)\n",
    "    tetrahedra = coords[tri.simplices]\n",
    "\n",
    "    volume = 0.0\n",
    "    for tetrahedron in tetrahedra:\n",
    "        volume += np.abs(np.linalg.det(tetrahedron[:-1] - tetrahedron[-1])) / 6\n",
    "\n",
    "    return volume\n",
    "\n",
    "def plot_convex_hull(coords1, coords2, volume1, volume2):\n",
    "    hull1 = ConvexHull(coords1)\n",
    "    hull2 = ConvexHull(coords2)\n",
    "\n",
    "    fig = plt.figure(figsize=(12, 6))\n",
    "    ax1 = fig.add_subplot(121, projection='3d')\n",
    "    ax2 = fig.add_subplot(122, projection='3d')\n",
    "\n",
    "    for ax, hull, volume, title in zip([ax1, ax2], [hull1, hull2], [volume1, volume2], ['Pocket 1', 'Pocket 2']):\n",
    "        for simplex in hull.simplices:\n",
    "            poly = Poly3DCollection([coords1[simplex]], alpha=0.5)\n",
    "            poly.set_facecolor('blue')\n",
    "            ax.add_collection3d(poly)\n",
    "\n",
    "        ax.set_title(f'{title} - Volume: {volume:.2f}')\n",
    "        ax.set_xlabel('X')\n",
    "        ax.set_ylabel('Y')\n",
    "        ax.set_zlabel('Z')\n",
    "        ax.set_xlim([-50, 50])\n",
    "        ax.set_ylim([-50, 50])\n",
    "        ax.set_zlim([-50, 50])\n",
    "        ax.view_init(elev=20, azim=-35)\n",
    "\n",
    "    plt.show()\n",
    "\n",
    "def get_pdb_coords(pdbfile):\n",
    "    parser = PDBParser(QUIET=True)\n",
    "    structure = parser.get_structure('pocket', pdbfile)\n",
    "    coords = np.array([atom.get_coord() for atom in structure.get_atoms()])\n",
    "    return coords\n",
    "\n",
    "coords1 = np.random.rand(30, 3) * 100 - 50  # Generate random coordinates for pocket 1\n",
    "coords2 = np.random.rand(30, 3) * 100 - 50  # Generate random coordinates for pocket 2\n",
    "coords1 = get_pdb_coords(crystal)\n",
    "coords2 = get_pdb_coords(af)\n",
    "volume1 = compute_convex_hull_volume(coords1)  # Replace with your function to compute the volume\n",
    "volume2 = compute_convex_hull_volume(coords2)  # Replace with your function to compute the volume\n",
    "\n",
    "plot_convex_hull(coords1, coords2, volume1, volume2)\n"
   ]
  }
 ],
 "metadata": {
  "kernelspec": {
   "display_name": "Python 3.9.15 ('carbon')",
   "language": "python",
   "name": "python3"
  },
  "language_info": {
   "codemirror_mode": {
    "name": "ipython",
    "version": 3
   },
   "file_extension": ".py",
   "mimetype": "text/x-python",
   "name": "python",
   "nbconvert_exporter": "python",
   "pygments_lexer": "ipython3",
   "version": "3.9.15"
  },
  "orig_nbformat": 4,
  "vscode": {
   "interpreter": {
    "hash": "8cb457098628399098f8244ea6d862b61e5b409c4fe20c91d3202c562013c713"
   }
  }
 },
 "nbformat": 4,
 "nbformat_minor": 2
}
